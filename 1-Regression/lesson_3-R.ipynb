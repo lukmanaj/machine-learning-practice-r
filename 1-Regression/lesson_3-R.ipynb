{
  "cells": [
    {
      "attachments": {},
      "cell_type": "markdown",
      "metadata": {
        "id": "EgQw8osnsUV-"
      },
      "source": [
        "# Build a regression model: linear and polynomial regression models"
      ]
    },
    {
      "attachments": {},
      "cell_type": "markdown",
      "metadata": {
        "id": "WqQPS1OAsg3H"
      },
      "source": [
        "## Linear and Polynomial Regression for Pumpkin Pricing - Lesson 3\n",
        "\n",
        "#### Introduction\n",
        "\n",
        "So far you have explored what regression is with sample data gathered from the pumpkin pricing dataset that we will use throughout this lesson. You have also visualized it using `ggplot2`.💪\n",
        "\n",
        "Now you are ready to dive deeper into regression for ML. In this lesson, you will learn more about two types of regression: *basic linear regression* and *polynomial regression*, along with some of the math underlying these techniques.\n",
        "\n",
        "> Throughout this curriculum, we assume minimal knowledge of math, and seek to make it accessible for students coming from other fields, so watch for notes, 🧮 callouts, diagrams, and other learning tools to aid in comprehension.\n",
        "\n",
        "#### Preparation\n",
        "\n",
        "As a reminder, you are loading this data so as to ask questions of it.\n",
        "\n",
        "-   When is the best time to buy pumpkins?\n",
        "\n",
        "-   What price can I expect of a case of miniature pumpkins?\n",
        "\n",
        "-   Should I buy them in half-bushel baskets or by the 1 1/9 bushel box? Let's keep digging into this data.\n",
        "\n",
        "In the previous lesson, you created a `tibble` (a modern reimagining of the data frame) and populated it with part of the original dataset, standardizing the pricing by the bushel. By doing that, however, you were only able to gather about 400 data points and only for the fall months. Maybe we can get a little more detail about the nature of the data by cleaning it more? We'll see... 🕵️‍♀️\n",
        "\n",
        "For this task, we'll require the following packages:\n",
        "\n",
        "-   `tidyverse`: The [tidyverse](https://www.tidyverse.org/) is a [collection of R packages](https://www.tidyverse.org/packages) designed to makes data science faster, easier and more fun!\n",
        "\n",
        "-   `tidymodels`: The [tidymodels](https://www.tidymodels.org/) framework is a [collection of packages](https://www.tidymodels.org/packages/) for modeling and machine learning.\n",
        "\n",
        "-   `janitor`: The [janitor package](https://github.com/sfirke/janitor) provides simple little tools for examining and cleaning dirty data.\n",
        "\n",
        "-   `corrplot`: The [corrplot package](https://cran.r-project.org/web/packages/corrplot/vignettes/corrplot-intro.html) provides a visual exploratory tool on correlation matrix that supports automatic variable reordering to help detect hidden patterns among variables.\n",
        "\n",
        "You can have them installed as:\n",
        "\n",
        "`install.packages(c(\"tidyverse\", \"tidymodels\", \"janitor\", \"corrplot\"))`\n",
        "\n",
        "The script below checks whether you have the packages required to complete this module and installs them for you in case they are missing."
      ]
    },
    {
      "cell_type": "code",
      "execution_count": 1,
      "metadata": {
        "vscode": {
          "languageId": "r"
        }
      },
      "outputs": [
        {
          "name": "stderr",
          "output_type": "stream",
          "text": [
            "Installing packages into ‘/home/lukmanaliyu/R/x86_64-pc-linux-gnu-library/4.0’\n",
            "(as ‘lib’ is unspecified)\n",
            "\n",
            "also installing the dependency ‘snakecase’\n",
            "\n",
            "\n"
          ]
        }
      ],
      "source": [
        "install.packages(c(\"janitor\",\"corrplot\"))"
      ]
    },
    {
      "cell_type": "code",
      "execution_count": null,
      "metadata": {
        "colab": {
          "base_uri": "https://localhost:8080/"
        },
        "id": "tA4C2WN3skCf",
        "outputId": "c06cd805-5534-4edc-f72b-d0d1dab96ac0",
        "vscode": {
          "languageId": "r"
        }
      },
      "outputs": [],
      "source": [
        "suppressWarnings(if (!require(\"pacman\")) install.packages(\"pacman\"))\n",
        "\n",
        "pacman::p_load(tidyverse, tidymodels, janitor, corrplot)"
      ]
    },
    {
      "attachments": {},
      "cell_type": "markdown",
      "metadata": {
        "id": "cdX5FRpvsoP5"
      },
      "source": [
        "We'll later load these awesome packages and make them available in our current R session. (This is for mere illustration, `pacman::p_load()` already did that for you)\n",
        "\n",
        "## 1. A linear regression line\n",
        "\n",
        "As you learned in Lesson 1, the goal of a linear regression exercise is to be able to plot a *line* *of* *best fit* to:\n",
        "\n",
        "-   **Show variable relationships**. Show the relationship between variables\n",
        "\n",
        "-   **Make predictions**. Make accurate predictions on where a new data point would fall in relationship to that line.\n",
        "\n",
        "To draw this type of line, we use a statistical technique called **Least-Squares Regression**. The term `least-squares` means that all the data points surrounding the regression line are squared and then added up. Ideally, that final sum is as small as possible, because we want a low number of errors, or `least-squares`. As such, the line of best fit is the line that gives us the lowest value for the sum of the squared errors - hence the name *least squares regression*.\n",
        "\n",
        "We do so since we want to model a line that has the least cumulative distance from all of our data points. We also square the terms before adding them since we are concerned with its magnitude rather than its direction.\n",
        "\n",
        "> **🧮 Show me the math**\n",
        ">\n",
        "> This line, called the *line of best fit* can be expressed by [an equation](https://en.wikipedia.org/wiki/Simple_linear_regression):\n",
        ">\n",
        ">     Y = a + bX\n",
        ">\n",
        "> `X` is the '`explanatory variable` or `predictor`'. `Y` is the '`dependent variable` or `outcome`'. The slope of the line is `b` and `a` is the y-intercept, which refers to the value of `Y` when `X = 0`.\n",
        ">\n",
        "\n",
        "> ![](../images/slope.png \"slope = $y/x$\")\n",
        "    Infographic by Jen Looper\n",
        ">\n",
        "> First, calculate the slope `b`.\n",
        ">\n",
        "> In other words, and referring to our pumpkin data's original question: \"predict the price of a pumpkin per bushel by month\", `X` would refer to the price and `Y` would refer to the month of sale.\n",
        ">\n",
        "> ![](../images/calculation.png)\n",
        "    Infographic by Jen Looper\n",
        "> \n",
        "> Calculate the value of Y. If you're paying around \\$4, it must be April!\n",
        ">\n",
        "> The math that calculates the line must demonstrate the slope of the line, which is also dependent on the intercept, or where `Y` is situated when `X = 0`.\n",
        ">\n",
        "> You can observe the method of calculation for these values on the [Math is Fun](https://www.mathsisfun.com/data/least-squares-regression.html) web site. Also visit [this Least-squares calculator](https://www.mathsisfun.com/data/least-squares-calculator.html) to watch how the numbers' values impact the line.\n",
        "\n",
        "Not so scary, right? 🤓\n",
        "\n",
        "#### Correlation\n",
        "\n",
        "One more term to understand is the **Correlation Coefficient** between given X and Y variables. Using a scatterplot, you can quickly visualize this coefficient. A plot with datapoints scattered in a neat line have high correlation, but a plot with datapoints scattered everywhere between X and Y have a low correlation.\n",
        "\n",
        "A good linear regression model will be one that has a high (nearer to 1 than 0) Correlation Coefficient using the Least-Squares Regression method with a line of regression.\n",
        "\n"
      ]
    },
    {
      "attachments": {},
      "cell_type": "markdown",
      "metadata": {
        "id": "WdUKXk7Bs8-V"
      },
      "source": [
        "## **2. A dance with data: creating a data frame that will be used for modelling**\n",
        "\n"
      ]
    },
    {
      "attachments": {},
      "cell_type": "markdown",
      "metadata": {
        "id": "fMCtu2G2s-p8"
      },
      "source": [
        "Load up required libraries and dataset. Convert the data to a data frame containing a subset of the data:\n",
        "\n",
        "-   Only get pumpkins priced by the bushel\n",
        "\n",
        "-   Convert the date to a month\n",
        "\n",
        "-   Calculate the price to be an average of high and low prices\n",
        "\n",
        "-   Convert the price to reflect the pricing by bushel quantity\n",
        "\n",
        "> We covered these steps in the [previous lesson](https://github.com/microsoft/ML-For-Beginners/blob/main/2-Regression/2-Data/solution/lesson_2-R.ipynb)."
      ]
    },
    {
      "cell_type": "code",
      "execution_count": 2,
      "metadata": {
        "id": "ryMVZEEPtERn",
        "vscode": {
          "languageId": "r"
        }
      },
      "outputs": [
        {
          "name": "stderr",
          "output_type": "stream",
          "text": [
            "── \u001b[1mAttaching packages\u001b[22m ─────────────────────────────────────── tidyverse 1.3.2 ──\n",
            "\u001b[32m✔\u001b[39m \u001b[34mggplot2\u001b[39m 3.4.0     \u001b[32m✔\u001b[39m \u001b[34mpurrr  \u001b[39m 1.0.1\n",
            "\u001b[32m✔\u001b[39m \u001b[34mtibble \u001b[39m 3.2.1     \u001b[32m✔\u001b[39m \u001b[34mdplyr  \u001b[39m 1.1.2\n",
            "\u001b[32m✔\u001b[39m \u001b[34mtidyr  \u001b[39m 1.2.1     \u001b[32m✔\u001b[39m \u001b[34mstringr\u001b[39m 1.5.0\n",
            "\u001b[32m✔\u001b[39m \u001b[34mreadr  \u001b[39m 2.1.3     \u001b[32m✔\u001b[39m \u001b[34mforcats\u001b[39m 0.5.2\n",
            "── \u001b[1mConflicts\u001b[22m ────────────────────────────────────────── tidyverse_conflicts() ──\n",
            "\u001b[31m✖\u001b[39m \u001b[34mdplyr\u001b[39m::\u001b[32mfilter()\u001b[39m masks \u001b[34mstats\u001b[39m::filter()\n",
            "\u001b[31m✖\u001b[39m \u001b[34mdplyr\u001b[39m::\u001b[32mlag()\u001b[39m    masks \u001b[34mstats\u001b[39m::lag()\n",
            "Loading required package: timechange\n",
            "\n",
            "\n",
            "Attaching package: ‘lubridate’\n",
            "\n",
            "\n",
            "The following objects are masked from ‘package:base’:\n",
            "\n",
            "    date, intersect, setdiff, union\n",
            "\n",
            "\n",
            "\u001b[1m\u001b[22mNew names:\n",
            "\u001b[36m•\u001b[39m `` -> `...25`\n",
            "\u001b[36m•\u001b[39m `` -> `...26`\n",
            "\u001b[1mRows: \u001b[22m\u001b[34m1757\u001b[39m \u001b[1mColumns: \u001b[22m\u001b[34m26\u001b[39m\n",
            "\u001b[36m──\u001b[39m \u001b[1mColumn specification\u001b[22m \u001b[36m────────────────────────────────────────────────────────\u001b[39m\n",
            "\u001b[1mDelimiter:\u001b[22m \",\"\n",
            "\u001b[31mchr\u001b[39m (13): City Name, Type, Package, Variety, Sub Variety, Date, Origin, Orig...\n",
            "\u001b[32mdbl\u001b[39m  (4): Low Price, High Price, Mostly Low, Mostly High\n",
            "\u001b[33mlgl\u001b[39m  (9): Grade, Environment, Quality, Condition, Appearance, Storage, Crop,...\n",
            "\n",
            "\u001b[36mℹ\u001b[39m Use `spec()` to retrieve the full column specification for this data.\n",
            "\u001b[36mℹ\u001b[39m Specify the column types or set `show_col_types = FALSE` to quiet this message.\n"
          ]
        },
        {
          "name": "stdout",
          "output_type": "stream",
          "text": [
            "Rows: 1,757\n",
            "Columns: 26\n",
            "$ `City Name`       \u001b[3m\u001b[90m<chr>\u001b[39m\u001b[23m \"BALTIMORE\", \"BALTIMORE\", \"BALTIMORE\", \"BALTIMORE\", …\n",
            "$ Type              \u001b[3m\u001b[90m<chr>\u001b[39m\u001b[23m NA, NA, NA, NA, NA, NA, NA, NA, NA, NA, NA, NA, NA, …\n",
            "$ Package           \u001b[3m\u001b[90m<chr>\u001b[39m\u001b[23m \"24 inch bins\", \"24 inch bins\", \"24 inch bins\", \"24 …\n",
            "$ Variety           \u001b[3m\u001b[90m<chr>\u001b[39m\u001b[23m NA, NA, \"HOWDEN TYPE\", \"HOWDEN TYPE\", \"HOWDEN TYPE\",…\n",
            "$ `Sub Variety`     \u001b[3m\u001b[90m<chr>\u001b[39m\u001b[23m NA, NA, NA, NA, NA, NA, NA, NA, NA, NA, NA, NA, NA, …\n",
            "$ Grade             \u001b[3m\u001b[90m<lgl>\u001b[39m\u001b[23m NA, NA, NA, NA, NA, NA, NA, NA, NA, NA, NA, NA, NA, …\n",
            "$ Date              \u001b[3m\u001b[90m<chr>\u001b[39m\u001b[23m \"4/29/17\", \"5/6/17\", \"9/24/16\", \"9/24/16\", \"11/5/16\"…\n",
            "$ `Low Price`       \u001b[3m\u001b[90m<dbl>\u001b[39m\u001b[23m 270, 270, 160, 160, 90, 90, 160, 160, 160, 160, 160,…\n",
            "$ `High Price`      \u001b[3m\u001b[90m<dbl>\u001b[39m\u001b[23m 280, 280, 160, 160, 100, 100, 170, 160, 170, 160, 17…\n",
            "$ `Mostly Low`      \u001b[3m\u001b[90m<dbl>\u001b[39m\u001b[23m 270, 270, 160, 160, 90, 90, 160, 160, 160, 160, 160,…\n",
            "$ `Mostly High`     \u001b[3m\u001b[90m<dbl>\u001b[39m\u001b[23m 280, 280, 160, 160, 100, 100, 170, 160, 170, 160, 17…\n",
            "$ Origin            \u001b[3m\u001b[90m<chr>\u001b[39m\u001b[23m \"MARYLAND\", \"MARYLAND\", \"DELAWARE\", \"VIRGINIA\", \"MAR…\n",
            "$ `Origin District` \u001b[3m\u001b[90m<chr>\u001b[39m\u001b[23m NA, NA, NA, NA, NA, NA, NA, NA, NA, NA, NA, NA, NA, …\n",
            "$ `Item Size`       \u001b[3m\u001b[90m<chr>\u001b[39m\u001b[23m \"lge\", \"lge\", \"med\", \"med\", \"lge\", \"lge\", \"med\", \"lg…\n",
            "$ Color             \u001b[3m\u001b[90m<chr>\u001b[39m\u001b[23m NA, NA, \"ORANGE\", \"ORANGE\", \"ORANGE\", \"ORANGE\", \"ORA…\n",
            "$ Environment       \u001b[3m\u001b[90m<lgl>\u001b[39m\u001b[23m NA, NA, NA, NA, NA, NA, NA, NA, NA, NA, NA, NA, NA, …\n",
            "$ `Unit of Sale`    \u001b[3m\u001b[90m<chr>\u001b[39m\u001b[23m NA, NA, NA, NA, NA, NA, NA, NA, NA, NA, NA, NA, NA, …\n",
            "$ Quality           \u001b[3m\u001b[90m<lgl>\u001b[39m\u001b[23m NA, NA, NA, NA, NA, NA, NA, NA, NA, NA, NA, NA, NA, …\n",
            "$ Condition         \u001b[3m\u001b[90m<lgl>\u001b[39m\u001b[23m NA, NA, NA, NA, NA, NA, NA, NA, NA, NA, NA, NA, NA, …\n",
            "$ Appearance        \u001b[3m\u001b[90m<lgl>\u001b[39m\u001b[23m NA, NA, NA, NA, NA, NA, NA, NA, NA, NA, NA, NA, NA, …\n",
            "$ Storage           \u001b[3m\u001b[90m<lgl>\u001b[39m\u001b[23m NA, NA, NA, NA, NA, NA, NA, NA, NA, NA, NA, NA, NA, …\n",
            "$ Crop              \u001b[3m\u001b[90m<lgl>\u001b[39m\u001b[23m NA, NA, NA, NA, NA, NA, NA, NA, NA, NA, NA, NA, NA, …\n",
            "$ Repack            \u001b[3m\u001b[90m<chr>\u001b[39m\u001b[23m \"E\", \"E\", \"N\", \"N\", \"N\", \"N\", \"N\", \"N\", \"N\", \"N\", \"N…\n",
            "$ `Trans Mode`      \u001b[3m\u001b[90m<lgl>\u001b[39m\u001b[23m NA, NA, NA, NA, NA, NA, NA, NA, NA, NA, NA, NA, NA, …\n",
            "$ ...25             \u001b[3m\u001b[90m<lgl>\u001b[39m\u001b[23m NA, NA, NA, NA, NA, NA, NA, NA, NA, NA, NA, NA, NA, …\n",
            "$ ...26             \u001b[3m\u001b[90m<chr>\u001b[39m\u001b[23m NA, NA, NA, NA, NA, NA, NA, NA, NA, NA, NA, NA, NA, …\n"
          ]
        },
        {
          "data": {
            "text/html": [
              "<table class=\"dataframe\">\n",
              "<caption>A spec_tbl_df: 5 × 26</caption>\n",
              "<thead>\n",
              "\t<tr><th scope=col>City Name</th><th scope=col>Type</th><th scope=col>Package</th><th scope=col>Variety</th><th scope=col>Sub Variety</th><th scope=col>Grade</th><th scope=col>Date</th><th scope=col>Low Price</th><th scope=col>High Price</th><th scope=col>Mostly Low</th><th scope=col>⋯</th><th scope=col>Unit of Sale</th><th scope=col>Quality</th><th scope=col>Condition</th><th scope=col>Appearance</th><th scope=col>Storage</th><th scope=col>Crop</th><th scope=col>Repack</th><th scope=col>Trans Mode</th><th scope=col>...25</th><th scope=col>...26</th></tr>\n",
              "\t<tr><th scope=col>&lt;chr&gt;</th><th scope=col>&lt;chr&gt;</th><th scope=col>&lt;chr&gt;</th><th scope=col>&lt;chr&gt;</th><th scope=col>&lt;chr&gt;</th><th scope=col>&lt;lgl&gt;</th><th scope=col>&lt;chr&gt;</th><th scope=col>&lt;dbl&gt;</th><th scope=col>&lt;dbl&gt;</th><th scope=col>&lt;dbl&gt;</th><th scope=col>⋯</th><th scope=col>&lt;chr&gt;</th><th scope=col>&lt;lgl&gt;</th><th scope=col>&lt;lgl&gt;</th><th scope=col>&lt;lgl&gt;</th><th scope=col>&lt;lgl&gt;</th><th scope=col>&lt;lgl&gt;</th><th scope=col>&lt;chr&gt;</th><th scope=col>&lt;lgl&gt;</th><th scope=col>&lt;lgl&gt;</th><th scope=col>&lt;chr&gt;</th></tr>\n",
              "</thead>\n",
              "<tbody>\n",
              "\t<tr><td>BALTIMORE</td><td>NA</td><td>24 inch bins</td><td>NA         </td><td>NA</td><td>NA</td><td>4/29/17</td><td>270</td><td>280</td><td>270</td><td>⋯</td><td>NA</td><td>NA</td><td>NA</td><td>NA</td><td>NA</td><td>NA</td><td>E</td><td>NA</td><td>NA</td><td>NA</td></tr>\n",
              "\t<tr><td>BALTIMORE</td><td>NA</td><td>24 inch bins</td><td>NA         </td><td>NA</td><td>NA</td><td>5/6/17 </td><td>270</td><td>280</td><td>270</td><td>⋯</td><td>NA</td><td>NA</td><td>NA</td><td>NA</td><td>NA</td><td>NA</td><td>E</td><td>NA</td><td>NA</td><td>NA</td></tr>\n",
              "\t<tr><td>BALTIMORE</td><td>NA</td><td>24 inch bins</td><td>HOWDEN TYPE</td><td>NA</td><td>NA</td><td>9/24/16</td><td>160</td><td>160</td><td>160</td><td>⋯</td><td>NA</td><td>NA</td><td>NA</td><td>NA</td><td>NA</td><td>NA</td><td>N</td><td>NA</td><td>NA</td><td>NA</td></tr>\n",
              "\t<tr><td>BALTIMORE</td><td>NA</td><td>24 inch bins</td><td>HOWDEN TYPE</td><td>NA</td><td>NA</td><td>9/24/16</td><td>160</td><td>160</td><td>160</td><td>⋯</td><td>NA</td><td>NA</td><td>NA</td><td>NA</td><td>NA</td><td>NA</td><td>N</td><td>NA</td><td>NA</td><td>NA</td></tr>\n",
              "\t<tr><td>BALTIMORE</td><td>NA</td><td>24 inch bins</td><td>HOWDEN TYPE</td><td>NA</td><td>NA</td><td>11/5/16</td><td> 90</td><td>100</td><td> 90</td><td>⋯</td><td>NA</td><td>NA</td><td>NA</td><td>NA</td><td>NA</td><td>NA</td><td>N</td><td>NA</td><td>NA</td><td>NA</td></tr>\n",
              "</tbody>\n",
              "</table>\n"
            ],
            "text/latex": [
              "A spec\\_tbl\\_df: 5 × 26\n",
              "\\begin{tabular}{lllllllllllllllllllll}\n",
              " City Name & Type & Package & Variety & Sub Variety & Grade & Date & Low Price & High Price & Mostly Low & ⋯ & Unit of Sale & Quality & Condition & Appearance & Storage & Crop & Repack & Trans Mode & ...25 & ...26\\\\\n",
              " <chr> & <chr> & <chr> & <chr> & <chr> & <lgl> & <chr> & <dbl> & <dbl> & <dbl> & ⋯ & <chr> & <lgl> & <lgl> & <lgl> & <lgl> & <lgl> & <chr> & <lgl> & <lgl> & <chr>\\\\\n",
              "\\hline\n",
              "\t BALTIMORE & NA & 24 inch bins & NA          & NA & NA & 4/29/17 & 270 & 280 & 270 & ⋯ & NA & NA & NA & NA & NA & NA & E & NA & NA & NA\\\\\n",
              "\t BALTIMORE & NA & 24 inch bins & NA          & NA & NA & 5/6/17  & 270 & 280 & 270 & ⋯ & NA & NA & NA & NA & NA & NA & E & NA & NA & NA\\\\\n",
              "\t BALTIMORE & NA & 24 inch bins & HOWDEN TYPE & NA & NA & 9/24/16 & 160 & 160 & 160 & ⋯ & NA & NA & NA & NA & NA & NA & N & NA & NA & NA\\\\\n",
              "\t BALTIMORE & NA & 24 inch bins & HOWDEN TYPE & NA & NA & 9/24/16 & 160 & 160 & 160 & ⋯ & NA & NA & NA & NA & NA & NA & N & NA & NA & NA\\\\\n",
              "\t BALTIMORE & NA & 24 inch bins & HOWDEN TYPE & NA & NA & 11/5/16 &  90 & 100 &  90 & ⋯ & NA & NA & NA & NA & NA & NA & N & NA & NA & NA\\\\\n",
              "\\end{tabular}\n"
            ],
            "text/markdown": [
              "\n",
              "A spec_tbl_df: 5 × 26\n",
              "\n",
              "| City Name &lt;chr&gt; | Type &lt;chr&gt; | Package &lt;chr&gt; | Variety &lt;chr&gt; | Sub Variety &lt;chr&gt; | Grade &lt;lgl&gt; | Date &lt;chr&gt; | Low Price &lt;dbl&gt; | High Price &lt;dbl&gt; | Mostly Low &lt;dbl&gt; | ⋯ ⋯ | Unit of Sale &lt;chr&gt; | Quality &lt;lgl&gt; | Condition &lt;lgl&gt; | Appearance &lt;lgl&gt; | Storage &lt;lgl&gt; | Crop &lt;lgl&gt; | Repack &lt;chr&gt; | Trans Mode &lt;lgl&gt; | ...25 &lt;lgl&gt; | ...26 &lt;chr&gt; |\n",
              "|---|---|---|---|---|---|---|---|---|---|---|---|---|---|---|---|---|---|---|---|---|\n",
              "| BALTIMORE | NA | 24 inch bins | NA          | NA | NA | 4/29/17 | 270 | 280 | 270 | ⋯ | NA | NA | NA | NA | NA | NA | E | NA | NA | NA |\n",
              "| BALTIMORE | NA | 24 inch bins | NA          | NA | NA | 5/6/17  | 270 | 280 | 270 | ⋯ | NA | NA | NA | NA | NA | NA | E | NA | NA | NA |\n",
              "| BALTIMORE | NA | 24 inch bins | HOWDEN TYPE | NA | NA | 9/24/16 | 160 | 160 | 160 | ⋯ | NA | NA | NA | NA | NA | NA | N | NA | NA | NA |\n",
              "| BALTIMORE | NA | 24 inch bins | HOWDEN TYPE | NA | NA | 9/24/16 | 160 | 160 | 160 | ⋯ | NA | NA | NA | NA | NA | NA | N | NA | NA | NA |\n",
              "| BALTIMORE | NA | 24 inch bins | HOWDEN TYPE | NA | NA | 11/5/16 |  90 | 100 |  90 | ⋯ | NA | NA | NA | NA | NA | NA | N | NA | NA | NA |\n",
              "\n"
            ],
            "text/plain": [
              "  City Name Type Package      Variety     Sub Variety Grade Date    Low Price\n",
              "1 BALTIMORE NA   24 inch bins NA          NA          NA    4/29/17 270      \n",
              "2 BALTIMORE NA   24 inch bins NA          NA          NA    5/6/17  270      \n",
              "3 BALTIMORE NA   24 inch bins HOWDEN TYPE NA          NA    9/24/16 160      \n",
              "4 BALTIMORE NA   24 inch bins HOWDEN TYPE NA          NA    9/24/16 160      \n",
              "5 BALTIMORE NA   24 inch bins HOWDEN TYPE NA          NA    11/5/16  90      \n",
              "  High Price Mostly Low ⋯ Unit of Sale Quality Condition Appearance Storage\n",
              "1 280        270        ⋯ NA           NA      NA        NA         NA     \n",
              "2 280        270        ⋯ NA           NA      NA        NA         NA     \n",
              "3 160        160        ⋯ NA           NA      NA        NA         NA     \n",
              "4 160        160        ⋯ NA           NA      NA        NA         NA     \n",
              "5 100         90        ⋯ NA           NA      NA        NA         NA     \n",
              "  Crop Repack Trans Mode ...25 ...26\n",
              "1 NA   E      NA         NA    NA   \n",
              "2 NA   E      NA         NA    NA   \n",
              "3 NA   N      NA         NA    NA   \n",
              "4 NA   N      NA         NA    NA   \n",
              "5 NA   N      NA         NA    NA   "
            ]
          },
          "metadata": {},
          "output_type": "display_data"
        }
      ],
      "source": [
        "# Load the core Tidyverse packages\n",
        "library(tidyverse)\n",
        "library(lubridate)\n",
        "\n",
        "# Import the pumpkins data\n",
        "pumpkins <- read_csv(file = \"https://raw.githubusercontent.com/microsoft/ML-For-Beginners/main/2-Regression/data/US-pumpkins.csv\")\n",
        "\n",
        "\n",
        "# Get a glimpse and dimensions of the data\n",
        "glimpse(pumpkins)\n",
        "\n",
        "\n",
        "# Print the first 50 rows of the data set\n",
        "pumpkins %>% \n",
        "  slice_head(n = 5)"
      ]
    },
    {
      "attachments": {},
      "cell_type": "markdown",
      "metadata": {
        "id": "xcNxM70EtJjb"
      },
      "source": [
        "In the spirit of sheer adventure, let's explore the [`janitor package`](github.com/sfirke/janitor) that provides simple functions for examining and cleaning dirty data. For instance, let's take a look at the column names for our data:"
      ]
    },
    {
      "cell_type": "code",
      "execution_count": 3,
      "metadata": {
        "id": "5XtpaIigtPfW",
        "vscode": {
          "languageId": "r"
        }
      },
      "outputs": [
        {
          "data": {
            "text/html": [
              "<style>\n",
              ".list-inline {list-style: none; margin:0; padding: 0}\n",
              ".list-inline>li {display: inline-block}\n",
              ".list-inline>li:not(:last-child)::after {content: \"\\00b7\"; padding: 0 .5ex}\n",
              "</style>\n",
              "<ol class=list-inline><li>'City Name'</li><li>'Type'</li><li>'Package'</li><li>'Variety'</li><li>'Sub Variety'</li><li>'Grade'</li><li>'Date'</li><li>'Low Price'</li><li>'High Price'</li><li>'Mostly Low'</li><li>'Mostly High'</li><li>'Origin'</li><li>'Origin District'</li><li>'Item Size'</li><li>'Color'</li><li>'Environment'</li><li>'Unit of Sale'</li><li>'Quality'</li><li>'Condition'</li><li>'Appearance'</li><li>'Storage'</li><li>'Crop'</li><li>'Repack'</li><li>'Trans Mode'</li><li>'...25'</li><li>'...26'</li></ol>\n"
            ],
            "text/latex": [
              "\\begin{enumerate*}\n",
              "\\item 'City Name'\n",
              "\\item 'Type'\n",
              "\\item 'Package'\n",
              "\\item 'Variety'\n",
              "\\item 'Sub Variety'\n",
              "\\item 'Grade'\n",
              "\\item 'Date'\n",
              "\\item 'Low Price'\n",
              "\\item 'High Price'\n",
              "\\item 'Mostly Low'\n",
              "\\item 'Mostly High'\n",
              "\\item 'Origin'\n",
              "\\item 'Origin District'\n",
              "\\item 'Item Size'\n",
              "\\item 'Color'\n",
              "\\item 'Environment'\n",
              "\\item 'Unit of Sale'\n",
              "\\item 'Quality'\n",
              "\\item 'Condition'\n",
              "\\item 'Appearance'\n",
              "\\item 'Storage'\n",
              "\\item 'Crop'\n",
              "\\item 'Repack'\n",
              "\\item 'Trans Mode'\n",
              "\\item '...25'\n",
              "\\item '...26'\n",
              "\\end{enumerate*}\n"
            ],
            "text/markdown": [
              "1. 'City Name'\n",
              "2. 'Type'\n",
              "3. 'Package'\n",
              "4. 'Variety'\n",
              "5. 'Sub Variety'\n",
              "6. 'Grade'\n",
              "7. 'Date'\n",
              "8. 'Low Price'\n",
              "9. 'High Price'\n",
              "10. 'Mostly Low'\n",
              "11. 'Mostly High'\n",
              "12. 'Origin'\n",
              "13. 'Origin District'\n",
              "14. 'Item Size'\n",
              "15. 'Color'\n",
              "16. 'Environment'\n",
              "17. 'Unit of Sale'\n",
              "18. 'Quality'\n",
              "19. 'Condition'\n",
              "20. 'Appearance'\n",
              "21. 'Storage'\n",
              "22. 'Crop'\n",
              "23. 'Repack'\n",
              "24. 'Trans Mode'\n",
              "25. '...25'\n",
              "26. '...26'\n",
              "\n",
              "\n"
            ],
            "text/plain": [
              " [1] \"City Name\"       \"Type\"            \"Package\"         \"Variety\"        \n",
              " [5] \"Sub Variety\"     \"Grade\"           \"Date\"            \"Low Price\"      \n",
              " [9] \"High Price\"      \"Mostly Low\"      \"Mostly High\"     \"Origin\"         \n",
              "[13] \"Origin District\" \"Item Size\"       \"Color\"           \"Environment\"    \n",
              "[17] \"Unit of Sale\"    \"Quality\"         \"Condition\"       \"Appearance\"     \n",
              "[21] \"Storage\"         \"Crop\"            \"Repack\"          \"Trans Mode\"     \n",
              "[25] \"...25\"           \"...26\"          "
            ]
          },
          "metadata": {},
          "output_type": "display_data"
        }
      ],
      "source": [
        "# Return column names\n",
        "pumpkins %>% \n",
        "  names()"
      ]
    },
    {
      "attachments": {},
      "cell_type": "markdown",
      "metadata": {
        "id": "IbIqrMINtSHe"
      },
      "source": [
        "🤔 We can do better. Let's make these column names `friendR` by converting them to the [snake_case](https://en.wikipedia.org/wiki/Snake_case) convention using `janitor::clean_names`. To find out more about this function: `?clean_names`"
      ]
    },
    {
      "cell_type": "code",
      "execution_count": 5,
      "metadata": {
        "id": "a2uYvclYtWvX",
        "vscode": {
          "languageId": "r"
        }
      },
      "outputs": [
        {
          "name": "stderr",
          "output_type": "stream",
          "text": [
            "\n",
            "Attaching package: ‘janitor’\n",
            "\n",
            "\n",
            "The following objects are masked from ‘package:stats’:\n",
            "\n",
            "    chisq.test, fisher.test\n",
            "\n",
            "\n"
          ]
        },
        {
          "data": {
            "text/html": [
              "<style>\n",
              ".list-inline {list-style: none; margin:0; padding: 0}\n",
              ".list-inline>li {display: inline-block}\n",
              ".list-inline>li:not(:last-child)::after {content: \"\\00b7\"; padding: 0 .5ex}\n",
              "</style>\n",
              "<ol class=list-inline><li>'city_name'</li><li>'type'</li><li>'package'</li><li>'variety'</li><li>'sub_variety'</li><li>'grade'</li><li>'date'</li><li>'low_price'</li><li>'high_price'</li><li>'mostly_low'</li><li>'mostly_high'</li><li>'origin'</li><li>'origin_district'</li><li>'item_size'</li><li>'color'</li><li>'environment'</li><li>'unit_of_sale'</li><li>'quality'</li><li>'condition'</li><li>'appearance'</li><li>'storage'</li><li>'crop'</li><li>'repack'</li><li>'trans_mode'</li><li>'x25'</li><li>'x26'</li></ol>\n"
            ],
            "text/latex": [
              "\\begin{enumerate*}\n",
              "\\item 'city\\_name'\n",
              "\\item 'type'\n",
              "\\item 'package'\n",
              "\\item 'variety'\n",
              "\\item 'sub\\_variety'\n",
              "\\item 'grade'\n",
              "\\item 'date'\n",
              "\\item 'low\\_price'\n",
              "\\item 'high\\_price'\n",
              "\\item 'mostly\\_low'\n",
              "\\item 'mostly\\_high'\n",
              "\\item 'origin'\n",
              "\\item 'origin\\_district'\n",
              "\\item 'item\\_size'\n",
              "\\item 'color'\n",
              "\\item 'environment'\n",
              "\\item 'unit\\_of\\_sale'\n",
              "\\item 'quality'\n",
              "\\item 'condition'\n",
              "\\item 'appearance'\n",
              "\\item 'storage'\n",
              "\\item 'crop'\n",
              "\\item 'repack'\n",
              "\\item 'trans\\_mode'\n",
              "\\item 'x25'\n",
              "\\item 'x26'\n",
              "\\end{enumerate*}\n"
            ],
            "text/markdown": [
              "1. 'city_name'\n",
              "2. 'type'\n",
              "3. 'package'\n",
              "4. 'variety'\n",
              "5. 'sub_variety'\n",
              "6. 'grade'\n",
              "7. 'date'\n",
              "8. 'low_price'\n",
              "9. 'high_price'\n",
              "10. 'mostly_low'\n",
              "11. 'mostly_high'\n",
              "12. 'origin'\n",
              "13. 'origin_district'\n",
              "14. 'item_size'\n",
              "15. 'color'\n",
              "16. 'environment'\n",
              "17. 'unit_of_sale'\n",
              "18. 'quality'\n",
              "19. 'condition'\n",
              "20. 'appearance'\n",
              "21. 'storage'\n",
              "22. 'crop'\n",
              "23. 'repack'\n",
              "24. 'trans_mode'\n",
              "25. 'x25'\n",
              "26. 'x26'\n",
              "\n",
              "\n"
            ],
            "text/plain": [
              " [1] \"city_name\"       \"type\"            \"package\"         \"variety\"        \n",
              " [5] \"sub_variety\"     \"grade\"           \"date\"            \"low_price\"      \n",
              " [9] \"high_price\"      \"mostly_low\"      \"mostly_high\"     \"origin\"         \n",
              "[13] \"origin_district\" \"item_size\"       \"color\"           \"environment\"    \n",
              "[17] \"unit_of_sale\"    \"quality\"         \"condition\"       \"appearance\"     \n",
              "[21] \"storage\"         \"crop\"            \"repack\"          \"trans_mode\"     \n",
              "[25] \"x25\"             \"x26\"            "
            ]
          },
          "metadata": {},
          "output_type": "display_data"
        }
      ],
      "source": [
        "# load janitor library\n",
        "library(janitor)\n",
        "# Clean names to the snake_case convention\n",
        "pumpkins <- pumpkins %>% \n",
        "  clean_names(case = \"snake\")\n",
        "\n",
        "# Return column names\n",
        "pumpkins %>% \n",
        "  names()"
      ]
    },
    {
      "attachments": {},
      "cell_type": "markdown",
      "metadata": {
        "id": "HfhnuzDDtaDd"
      },
      "source": [
        "Much tidyR 🧹! Now, a dance with the data using `dplyr` as in the previous lesson! 💃\n"
      ]
    },
    {
      "cell_type": "code",
      "execution_count": 7,
      "metadata": {
        "id": "X0wU3gQvtd9f",
        "vscode": {
          "languageId": "r"
        }
      },
      "outputs": [
        {
          "data": {
            "text/html": [
              "<table class=\"dataframe\">\n",
              "<caption>A tibble: 5 × 7</caption>\n",
              "<thead>\n",
              "\t<tr><th scope=col>month</th><th scope=col>variety</th><th scope=col>city_name</th><th scope=col>package</th><th scope=col>low_price</th><th scope=col>high_price</th><th scope=col>price</th></tr>\n",
              "\t<tr><th scope=col>&lt;dbl&gt;</th><th scope=col>&lt;chr&gt;</th><th scope=col>&lt;chr&gt;</th><th scope=col>&lt;chr&gt;</th><th scope=col>&lt;dbl&gt;</th><th scope=col>&lt;dbl&gt;</th><th scope=col>&lt;dbl&gt;</th></tr>\n",
              "</thead>\n",
              "<tbody>\n",
              "\t<tr><td> 9</td><td>PIE TYPE</td><td>BALTIMORE</td><td>1 1/9 bushel cartons</td><td>15</td><td>15</td><td>13.63636</td></tr>\n",
              "\t<tr><td> 9</td><td>PIE TYPE</td><td>BALTIMORE</td><td>1 1/9 bushel cartons</td><td>18</td><td>18</td><td>16.36364</td></tr>\n",
              "\t<tr><td>10</td><td>PIE TYPE</td><td>BALTIMORE</td><td>1 1/9 bushel cartons</td><td>18</td><td>18</td><td>16.36364</td></tr>\n",
              "\t<tr><td>10</td><td>PIE TYPE</td><td>BALTIMORE</td><td>1 1/9 bushel cartons</td><td>17</td><td>17</td><td>15.45455</td></tr>\n",
              "\t<tr><td>10</td><td>PIE TYPE</td><td>BALTIMORE</td><td>1 1/9 bushel cartons</td><td>15</td><td>15</td><td>13.63636</td></tr>\n",
              "</tbody>\n",
              "</table>\n"
            ],
            "text/latex": [
              "A tibble: 5 × 7\n",
              "\\begin{tabular}{lllllll}\n",
              " month & variety & city\\_name & package & low\\_price & high\\_price & price\\\\\n",
              " <dbl> & <chr> & <chr> & <chr> & <dbl> & <dbl> & <dbl>\\\\\n",
              "\\hline\n",
              "\t  9 & PIE TYPE & BALTIMORE & 1 1/9 bushel cartons & 15 & 15 & 13.63636\\\\\n",
              "\t  9 & PIE TYPE & BALTIMORE & 1 1/9 bushel cartons & 18 & 18 & 16.36364\\\\\n",
              "\t 10 & PIE TYPE & BALTIMORE & 1 1/9 bushel cartons & 18 & 18 & 16.36364\\\\\n",
              "\t 10 & PIE TYPE & BALTIMORE & 1 1/9 bushel cartons & 17 & 17 & 15.45455\\\\\n",
              "\t 10 & PIE TYPE & BALTIMORE & 1 1/9 bushel cartons & 15 & 15 & 13.63636\\\\\n",
              "\\end{tabular}\n"
            ],
            "text/markdown": [
              "\n",
              "A tibble: 5 × 7\n",
              "\n",
              "| month &lt;dbl&gt; | variety &lt;chr&gt; | city_name &lt;chr&gt; | package &lt;chr&gt; | low_price &lt;dbl&gt; | high_price &lt;dbl&gt; | price &lt;dbl&gt; |\n",
              "|---|---|---|---|---|---|---|\n",
              "|  9 | PIE TYPE | BALTIMORE | 1 1/9 bushel cartons | 15 | 15 | 13.63636 |\n",
              "|  9 | PIE TYPE | BALTIMORE | 1 1/9 bushel cartons | 18 | 18 | 16.36364 |\n",
              "| 10 | PIE TYPE | BALTIMORE | 1 1/9 bushel cartons | 18 | 18 | 16.36364 |\n",
              "| 10 | PIE TYPE | BALTIMORE | 1 1/9 bushel cartons | 17 | 17 | 15.45455 |\n",
              "| 10 | PIE TYPE | BALTIMORE | 1 1/9 bushel cartons | 15 | 15 | 13.63636 |\n",
              "\n"
            ],
            "text/plain": [
              "  month variety  city_name package              low_price high_price price   \n",
              "1  9    PIE TYPE BALTIMORE 1 1/9 bushel cartons 15        15         13.63636\n",
              "2  9    PIE TYPE BALTIMORE 1 1/9 bushel cartons 18        18         16.36364\n",
              "3 10    PIE TYPE BALTIMORE 1 1/9 bushel cartons 18        18         16.36364\n",
              "4 10    PIE TYPE BALTIMORE 1 1/9 bushel cartons 17        17         15.45455\n",
              "5 10    PIE TYPE BALTIMORE 1 1/9 bushel cartons 15        15         13.63636"
            ]
          },
          "metadata": {},
          "output_type": "display_data"
        }
      ],
      "source": [
        "# Select desired columns\n",
        "pumpkins <- pumpkins %>% \n",
        "  select(variety, city_name, package, low_price, high_price, date)\n",
        "\n",
        "\n",
        "\n",
        "# Extract the month from the dates to a new column\n",
        "pumpkins <- pumpkins %>%\n",
        "  mutate(date = mdy(date),\n",
        "         month = month(date)) %>% \n",
        "  select(-date)\n",
        "\n",
        "\n",
        "\n",
        "# Create a new column for average Price\n",
        "pumpkins <- pumpkins %>% \n",
        "  mutate(price = (low_price + high_price)/2)\n",
        "\n",
        "\n",
        "# Retain only pumpkins with the string \"bushel\"\n",
        "new_pumpkins <- pumpkins %>% \n",
        "  filter(str_detect(string = package, pattern = \"bushel\"))\n",
        "\n",
        "\n",
        "# Normalize the pricing so that you show the pricing per bushel, not per 1 1/9 or 1/2 bushel\n",
        "new_pumpkins <- new_pumpkins %>% \n",
        "  mutate(price = case_when(\n",
        "    str_detect(package, \"1 1/9\") ~ price/(1.1),\n",
        "    str_detect(package, \"1/2\") ~ price*2,\n",
        "    TRUE ~ price))\n",
        "\n",
        "# Relocate column positions\n",
        "new_pumpkins <- new_pumpkins %>% \n",
        "  relocate(month, .before = variety)\n",
        "\n",
        "\n",
        "# Display the first 5 rows\n",
        "new_pumpkins %>% \n",
        "  slice_head(n = 5)"
      ]
    },
    {
      "attachments": {},
      "cell_type": "markdown",
      "metadata": {
        "id": "UpaIwaxqth82"
      },
      "source": [
        "Good job!👌 You now have a clean, tidy data set on which you can build your new regression model!\n",
        "\n",
        "Mind a scatter plot?\n"
      ]
    },
    {
      "cell_type": "code",
      "execution_count": 8,
      "metadata": {
        "id": "DXgU-j37tl5K",
        "vscode": {
          "languageId": "r"
        }
      },
      "outputs": [
        {
          "data": {
            "image/png": "[encoded data removed]",
            "text/plain": [
              "plot without title"
            ]
          },
          "metadata": {
            "image/png": {
              "height": 420,
              "width": 420
            }
          },
          "output_type": "display_data"
        }
      ],
      "source": [
        "# Set theme\n",
        "theme_set(theme_light())\n",
        "\n",
        "# Make a scatter plot of month and price\n",
        "new_pumpkins %>% \n",
        "  ggplot(mapping = aes(x = month, y = price)) +\n",
        "  geom_point(size = 1.6)\n"
      ]
    },
    {
      "attachments": {},
      "cell_type": "markdown",
      "metadata": {
        "id": "Ve64wVbwtobI"
      },
      "source": [
        "A scatter plot reminds us that we only have month data from August through December. We probably need more data to be able to draw conclusions in a linear fashion.\n",
        "\n",
        "Let's take a look at our modelling data again:"
      ]
    },
    {
      "cell_type": "code",
      "execution_count": 9,
      "metadata": {
        "id": "HFQX2ng1tuSJ",
        "vscode": {
          "languageId": "r"
        }
      },
      "outputs": [
        {
          "data": {
            "text/html": [
              "<table class=\"dataframe\">\n",
              "<caption>A tibble: 5 × 7</caption>\n",
              "<thead>\n",
              "\t<tr><th scope=col>month</th><th scope=col>variety</th><th scope=col>city_name</th><th scope=col>package</th><th scope=col>low_price</th><th scope=col>high_price</th><th scope=col>price</th></tr>\n",
              "\t<tr><th scope=col>&lt;dbl&gt;</th><th scope=col>&lt;chr&gt;</th><th scope=col>&lt;chr&gt;</th><th scope=col>&lt;chr&gt;</th><th scope=col>&lt;dbl&gt;</th><th scope=col>&lt;dbl&gt;</th><th scope=col>&lt;dbl&gt;</th></tr>\n",
              "</thead>\n",
              "<tbody>\n",
              "\t<tr><td> 9</td><td>PIE TYPE</td><td>BALTIMORE</td><td>1 1/9 bushel cartons</td><td>15</td><td>15</td><td>13.63636</td></tr>\n",
              "\t<tr><td> 9</td><td>PIE TYPE</td><td>BALTIMORE</td><td>1 1/9 bushel cartons</td><td>18</td><td>18</td><td>16.36364</td></tr>\n",
              "\t<tr><td>10</td><td>PIE TYPE</td><td>BALTIMORE</td><td>1 1/9 bushel cartons</td><td>18</td><td>18</td><td>16.36364</td></tr>\n",
              "\t<tr><td>10</td><td>PIE TYPE</td><td>BALTIMORE</td><td>1 1/9 bushel cartons</td><td>17</td><td>17</td><td>15.45455</td></tr>\n",
              "\t<tr><td>10</td><td>PIE TYPE</td><td>BALTIMORE</td><td>1 1/9 bushel cartons</td><td>15</td><td>15</td><td>13.63636</td></tr>\n",
              "</tbody>\n",
              "</table>\n"
            ],
            "text/latex": [
              "A tibble: 5 × 7\n",
              "\\begin{tabular}{lllllll}\n",
              " month & variety & city\\_name & package & low\\_price & high\\_price & price\\\\\n",
              " <dbl> & <chr> & <chr> & <chr> & <dbl> & <dbl> & <dbl>\\\\\n",
              "\\hline\n",
              "\t  9 & PIE TYPE & BALTIMORE & 1 1/9 bushel cartons & 15 & 15 & 13.63636\\\\\n",
              "\t  9 & PIE TYPE & BALTIMORE & 1 1/9 bushel cartons & 18 & 18 & 16.36364\\\\\n",
              "\t 10 & PIE TYPE & BALTIMORE & 1 1/9 bushel cartons & 18 & 18 & 16.36364\\\\\n",
              "\t 10 & PIE TYPE & BALTIMORE & 1 1/9 bushel cartons & 17 & 17 & 15.45455\\\\\n",
              "\t 10 & PIE TYPE & BALTIMORE & 1 1/9 bushel cartons & 15 & 15 & 13.63636\\\\\n",
              "\\end{tabular}\n"
            ],
            "text/markdown": [
              "\n",
              "A tibble: 5 × 7\n",
              "\n",
              "| month &lt;dbl&gt; | variety &lt;chr&gt; | city_name &lt;chr&gt; | package &lt;chr&gt; | low_price &lt;dbl&gt; | high_price &lt;dbl&gt; | price &lt;dbl&gt; |\n",
              "|---|---|---|---|---|---|---|\n",
              "|  9 | PIE TYPE | BALTIMORE | 1 1/9 bushel cartons | 15 | 15 | 13.63636 |\n",
              "|  9 | PIE TYPE | BALTIMORE | 1 1/9 bushel cartons | 18 | 18 | 16.36364 |\n",
              "| 10 | PIE TYPE | BALTIMORE | 1 1/9 bushel cartons | 18 | 18 | 16.36364 |\n",
              "| 10 | PIE TYPE | BALTIMORE | 1 1/9 bushel cartons | 17 | 17 | 15.45455 |\n",
              "| 10 | PIE TYPE | BALTIMORE | 1 1/9 bushel cartons | 15 | 15 | 13.63636 |\n",
              "\n"
            ],
            "text/plain": [
              "  month variety  city_name package              low_price high_price price   \n",
              "1  9    PIE TYPE BALTIMORE 1 1/9 bushel cartons 15        15         13.63636\n",
              "2  9    PIE TYPE BALTIMORE 1 1/9 bushel cartons 18        18         16.36364\n",
              "3 10    PIE TYPE BALTIMORE 1 1/9 bushel cartons 18        18         16.36364\n",
              "4 10    PIE TYPE BALTIMORE 1 1/9 bushel cartons 17        17         15.45455\n",
              "5 10    PIE TYPE BALTIMORE 1 1/9 bushel cartons 15        15         13.63636"
            ]
          },
          "metadata": {},
          "output_type": "display_data"
        }
      ],
      "source": [
        "# Display first 5 rows\n",
        "new_pumpkins %>% \n",
        "  slice_head(n = 5)"
      ]
    },
    {
      "attachments": {},
      "cell_type": "markdown",
      "metadata": {
        "id": "7hsHoxsStyjJ"
      },
      "source": [
        "What if we wanted to predict the `price` of a pumpkin based on the `city` or `package` columns which are of type character? Or even more simply, how could we find the correlation (which requires both of its inputs to be numeric) between, say, `package` and `price`? 🤷🤷\n",
        "\n",
        "Machine learning models work best with numeric features rather than text values, so you generally need to convert categorical features into numeric representations.\n",
        "\n",
        "This means that we have to find a way to reformat our predictors to make them easier for a model to use effectively, a process known as `feature engineering`."
      ]
    },
    {
      "attachments": {},
      "cell_type": "markdown",
      "metadata": {
        "id": "AD5kQbcvt3Xl"
      },
      "source": [
        "## 3. Preprocessing data for modelling with recipes 👩‍🍳👨‍🍳\n",
        "\n",
        "Activities that reformat predictor values to make them easier for a model to use effectively has been termed `feature engineering`.\n",
        "\n",
        "Different models have different preprocessing requirements. For instance, least squares requires `encoding categorical variables` such as month, variety and city_name. This simply involves `translating` a column with `categorical values` into one or more `numeric columns` that take the place of the original.\n",
        "\n",
        "For example, suppose your data includes the following categorical feature:\n",
        "\n",
        "|  city   |\n",
        "|:-------:|\n",
        "| Denver  |\n",
        "| Nairobi |\n",
        "|  Tokyo  |\n",
        "\n",
        "You can apply *ordinal encoding* to substitute a unique integer value for each category, like this:\n",
        "\n",
        "| city |\n",
        "|:----:|\n",
        "|  0   |\n",
        "|  1   |\n",
        "|  2   |\n",
        "\n",
        "And that's what we'll do to our data!\n",
        "\n",
        "In this section, we'll explore another amazing Tidymodels package: [recipes](https://tidymodels.github.io/recipes/) - which is designed to help you preprocess your data **before** training your model. At its core, a recipe is an object that defines what steps should be applied to a data set in order to get it ready for modelling.\n",
        "\n",
        "Now, let's create a recipe that prepares our data for modelling by substituting a unique integer for all the observations in the predictor columns:"
      ]
    },
    {
      "cell_type": "code",
      "execution_count": 11,
      "metadata": {
        "id": "BNaFKXfRt9TU",
        "vscode": {
          "languageId": "r"
        }
      },
      "outputs": [
        {
          "name": "stderr",
          "output_type": "stream",
          "text": [
            "── \u001b[1mAttaching packages\u001b[22m ────────────────────────────────────── tidymodels 1.0.0 ──\n",
            "\n",
            "\u001b[32m✔\u001b[39m \u001b[34mbroom       \u001b[39m 1.0.2     \u001b[32m✔\u001b[39m \u001b[34mrsample     \u001b[39m 1.1.1\n",
            "\u001b[32m✔\u001b[39m \u001b[34mdials       \u001b[39m 1.1.0     \u001b[32m✔\u001b[39m \u001b[34mtune        \u001b[39m 1.0.1\n",
            "\u001b[32m✔\u001b[39m \u001b[34minfer       \u001b[39m 1.0.4     \u001b[32m✔\u001b[39m \u001b[34mworkflows   \u001b[39m 1.1.2\n",
            "\u001b[32m✔\u001b[39m \u001b[34mmodeldata   \u001b[39m 1.0.1     \u001b[32m✔\u001b[39m \u001b[34mworkflowsets\u001b[39m 1.0.0\n",
            "\u001b[32m✔\u001b[39m \u001b[34mparsnip     \u001b[39m 1.0.3     \u001b[32m✔\u001b[39m \u001b[34myardstick   \u001b[39m 1.1.0\n",
            "\u001b[32m✔\u001b[39m \u001b[34mrecipes     \u001b[39m 1.0.4     \n",
            "\n",
            "── \u001b[1mConflicts\u001b[22m ───────────────────────────────────────── tidymodels_conflicts() ──\n",
            "\u001b[31m✖\u001b[39m \u001b[34mscales\u001b[39m::\u001b[32mdiscard()\u001b[39m masks \u001b[34mpurrr\u001b[39m::discard()\n",
            "\u001b[31m✖\u001b[39m \u001b[34mdplyr\u001b[39m::\u001b[32mfilter()\u001b[39m   masks \u001b[34mstats\u001b[39m::filter()\n",
            "\u001b[31m✖\u001b[39m \u001b[34mrecipes\u001b[39m::\u001b[32mfixed()\u001b[39m  masks \u001b[34mstringr\u001b[39m::fixed()\n",
            "\u001b[31m✖\u001b[39m \u001b[34mdplyr\u001b[39m::\u001b[32mlag()\u001b[39m      masks \u001b[34mstats\u001b[39m::lag()\n",
            "\u001b[31m✖\u001b[39m \u001b[34myardstick\u001b[39m::\u001b[32mspec()\u001b[39m masks \u001b[34mreadr\u001b[39m::spec()\n",
            "\u001b[31m✖\u001b[39m \u001b[34mrecipes\u001b[39m::\u001b[32mstep()\u001b[39m   masks \u001b[34mstats\u001b[39m::step()\n",
            "\u001b[34m•\u001b[39m Use suppressPackageStartupMessages() to eliminate package startup messages\n",
            "\n"
          ]
        },
        {
          "data": {
            "text/plain": [
              "Recipe\n",
              "\n",
              "Inputs:\n",
              "\n",
              "      role #variables\n",
              "   outcome          1\n",
              " predictor          6\n",
              "\n",
              "Operations:\n",
              "\n",
              "Integer encoding for all_predictors()"
            ]
          },
          "metadata": {},
          "output_type": "display_data"
        }
      ],
      "source": [
        "# load package\n",
        "library(tidymodels)\n",
        "# Specify a recipe\n",
        "pumpkins_recipe <- recipe(price ~ ., data = new_pumpkins) %>% \n",
        "  step_integer(all_predictors(), zero_based = TRUE)\n",
        "\n",
        "\n",
        "# Print out the recipe\n",
        "pumpkins_recipe"
      ]
    },
    {
      "attachments": {},
      "cell_type": "markdown",
      "metadata": {
        "id": "KEiO0v7kuC9O"
      },
      "source": [
        "Awesome! 👏 We just created our first recipe that specifies an outcome (price) and its corresponding predictors and that all the predictor columns should be encoded into a set of integers 🙌! Let's quickly break it down:\n",
        "\n",
        "-   The call to `recipe()` with a formula tells the recipe the *roles* of the variables using `new_pumpkins` data as the reference. For instance the `price` column has been assigned an `outcome` role while the rest of the columns have been assigned a `predictor` role.\n",
        "\n",
        "-   `step_integer(all_predictors(), zero_based = TRUE)` specifies that all the predictors should be converted into a set of integers with the numbering starting at 0.\n",
        "\n",
        "We are sure you may be having thoughts such as: \"This is so cool!! But what if I needed to confirm that the recipes are doing exactly what I expect them to do? 🤔\"\n",
        "\n",
        "That's an awesome thought! You see, once your recipe is defined, you can estimate the parameters required to actually preprocess the data, and then extract the processed data. You don't typically need to do this when you use Tidymodels (we'll see the normal convention in just a minute-\\> `workflows`) but it can come in handy when you want to do some kind of sanity check for confirming that recipes are doing what you expect.\n",
        "\n",
        "For that, you'll need two more verbs: `prep()` and `bake()` and as always, our little R friends by [`Allison Horst`](https://github.com/allisonhorst/stats-illustrations) help you in understanding this better!\n",
        "\n"
      ]
    },
    {
      "attachments": {},
      "cell_type": "markdown",
      "metadata": {
        "id": "Q1xtzebuuTCP"
      },
      "source": [
        "[`prep()`](https://recipes.tidymodels.org/reference/prep.html): estimates the required parameters from a training set that can be later applied to other data sets. For instance, for a given predictor column, what observation will be assigned integer 0 or 1 or 2 etc\n",
        "\n",
        "[`bake()`](https://recipes.tidymodels.org/reference/bake.html): takes a prepped recipe and applies the operations to any data set.\n",
        "\n",
        "That said, lets prep and bake our recipes to really confirm that under the hood, the predictor columns will be first encoded before a model is fit."
      ]
    },
    {
      "cell_type": "code",
      "execution_count": 12,
      "metadata": {
        "id": "FGBbJbP_uUUn",
        "vscode": {
          "languageId": "r"
        }
      },
      "outputs": [
        {
          "data": {
            "text/html": [
              "<table class=\"dataframe\">\n",
              "<caption>A tibble: 10 × 7</caption>\n",
              "<thead>\n",
              "\t<tr><th scope=col>month</th><th scope=col>variety</th><th scope=col>city_name</th><th scope=col>package</th><th scope=col>low_price</th><th scope=col>high_price</th><th scope=col>price</th></tr>\n",
              "\t<tr><th scope=col>&lt;int&gt;</th><th scope=col>&lt;int&gt;</th><th scope=col>&lt;int&gt;</th><th scope=col>&lt;int&gt;</th><th scope=col>&lt;int&gt;</th><th scope=col>&lt;int&gt;</th><th scope=col>&lt;dbl&gt;</th></tr>\n",
              "</thead>\n",
              "<tbody>\n",
              "\t<tr><td>1</td><td>3</td><td>1</td><td>0</td><td> 5</td><td>3</td><td>13.63636</td></tr>\n",
              "\t<tr><td>1</td><td>3</td><td>1</td><td>0</td><td>10</td><td>7</td><td>16.36364</td></tr>\n",
              "\t<tr><td>2</td><td>3</td><td>1</td><td>0</td><td>10</td><td>7</td><td>16.36364</td></tr>\n",
              "\t<tr><td>2</td><td>3</td><td>1</td><td>0</td><td> 9</td><td>6</td><td>15.45455</td></tr>\n",
              "\t<tr><td>2</td><td>3</td><td>1</td><td>0</td><td> 5</td><td>3</td><td>13.63636</td></tr>\n",
              "\t<tr><td>2</td><td>3</td><td>1</td><td>0</td><td>10</td><td>7</td><td>16.36364</td></tr>\n",
              "\t<tr><td>2</td><td>3</td><td>1</td><td>0</td><td> 9</td><td>6</td><td>15.45455</td></tr>\n",
              "\t<tr><td>2</td><td>3</td><td>1</td><td>0</td><td> 9</td><td>8</td><td>16.13636</td></tr>\n",
              "\t<tr><td>2</td><td>3</td><td>1</td><td>0</td><td> 5</td><td>3</td><td>13.63636</td></tr>\n",
              "\t<tr><td>2</td><td>3</td><td>1</td><td>0</td><td> 9</td><td>6</td><td>15.45455</td></tr>\n",
              "</tbody>\n",
              "</table>\n"
            ],
            "text/latex": [
              "A tibble: 10 × 7\n",
              "\\begin{tabular}{lllllll}\n",
              " month & variety & city\\_name & package & low\\_price & high\\_price & price\\\\\n",
              " <int> & <int> & <int> & <int> & <int> & <int> & <dbl>\\\\\n",
              "\\hline\n",
              "\t 1 & 3 & 1 & 0 &  5 & 3 & 13.63636\\\\\n",
              "\t 1 & 3 & 1 & 0 & 10 & 7 & 16.36364\\\\\n",
              "\t 2 & 3 & 1 & 0 & 10 & 7 & 16.36364\\\\\n",
              "\t 2 & 3 & 1 & 0 &  9 & 6 & 15.45455\\\\\n",
              "\t 2 & 3 & 1 & 0 &  5 & 3 & 13.63636\\\\\n",
              "\t 2 & 3 & 1 & 0 & 10 & 7 & 16.36364\\\\\n",
              "\t 2 & 3 & 1 & 0 &  9 & 6 & 15.45455\\\\\n",
              "\t 2 & 3 & 1 & 0 &  9 & 8 & 16.13636\\\\\n",
              "\t 2 & 3 & 1 & 0 &  5 & 3 & 13.63636\\\\\n",
              "\t 2 & 3 & 1 & 0 &  9 & 6 & 15.45455\\\\\n",
              "\\end{tabular}\n"
            ],
            "text/markdown": [
              "\n",
              "A tibble: 10 × 7\n",
              "\n",
              "| month &lt;int&gt; | variety &lt;int&gt; | city_name &lt;int&gt; | package &lt;int&gt; | low_price &lt;int&gt; | high_price &lt;int&gt; | price &lt;dbl&gt; |\n",
              "|---|---|---|---|---|---|---|\n",
              "| 1 | 3 | 1 | 0 |  5 | 3 | 13.63636 |\n",
              "| 1 | 3 | 1 | 0 | 10 | 7 | 16.36364 |\n",
              "| 2 | 3 | 1 | 0 | 10 | 7 | 16.36364 |\n",
              "| 2 | 3 | 1 | 0 |  9 | 6 | 15.45455 |\n",
              "| 2 | 3 | 1 | 0 |  5 | 3 | 13.63636 |\n",
              "| 2 | 3 | 1 | 0 | 10 | 7 | 16.36364 |\n",
              "| 2 | 3 | 1 | 0 |  9 | 6 | 15.45455 |\n",
              "| 2 | 3 | 1 | 0 |  9 | 8 | 16.13636 |\n",
              "| 2 | 3 | 1 | 0 |  5 | 3 | 13.63636 |\n",
              "| 2 | 3 | 1 | 0 |  9 | 6 | 15.45455 |\n",
              "\n"
            ],
            "text/plain": [
              "   month variety city_name package low_price high_price price   \n",
              "1  1     3       1         0        5        3          13.63636\n",
              "2  1     3       1         0       10        7          16.36364\n",
              "3  2     3       1         0       10        7          16.36364\n",
              "4  2     3       1         0        9        6          15.45455\n",
              "5  2     3       1         0        5        3          13.63636\n",
              "6  2     3       1         0       10        7          16.36364\n",
              "7  2     3       1         0        9        6          15.45455\n",
              "8  2     3       1         0        9        8          16.13636\n",
              "9  2     3       1         0        5        3          13.63636\n",
              "10 2     3       1         0        9        6          15.45455"
            ]
          },
          "metadata": {},
          "output_type": "display_data"
        }
      ],
      "source": [
        "# Prep the recipe\n",
        "pumpkins_prep <- prep(pumpkins_recipe)\n",
        "\n",
        "# Bake the recipe to extract a preprocessed new_pumpkins data\n",
        "baked_pumpkins <- bake(pumpkins_prep, new_data = NULL)\n",
        "\n",
        "# Print out the baked data set\n",
        "baked_pumpkins %>% \n",
        "  slice_head(n = 10)"
      ]
    },
    {
      "attachments": {},
      "cell_type": "markdown",
      "metadata": {
        "id": "1dvP0LBUueAW"
      },
      "source": [
        "Woo-hoo!🥳 The processed data `baked_pumpkins` has all it's predictors encoded confirming that indeed the preprocessing steps defined as our recipe will work as expected. This makes it harder for you to read but much more intelligible for Tidymodels! Take some time to find out what observation has been mapped to a corresponding integer.\n",
        "\n",
        "It is also worth mentioning that `baked_pumpkins` is a data frame that we can perform computations on.\n",
        "\n",
        "For instance, let's try to find a good correlation between two points of your data to potentially build a good predictive model. We'll use the function `cor()` to do this. Type `?cor()` to find out more about the function."
      ]
    },
    {
      "cell_type": "code",
      "execution_count": 13,
      "metadata": {
        "id": "3bQzXCjFuiSV",
        "vscode": {
          "languageId": "r"
        }
      },
      "outputs": [
        {
          "data": {
            "text/html": [
              "0.323639718160892"
            ],
            "text/latex": [
              "0.323639718160892"
            ],
            "text/markdown": [
              "0.323639718160892"
            ],
            "text/plain": [
              "[1] 0.3236397"
            ]
          },
          "metadata": {},
          "output_type": "display_data"
        },
        {
          "data": {
            "text/html": [
              "0.606171293722603"
            ],
            "text/latex": [
              "0.606171293722603"
            ],
            "text/markdown": [
              "0.606171293722603"
            ],
            "text/plain": [
              "[1] 0.6061713"
            ]
          },
          "metadata": {},
          "output_type": "display_data"
        }
      ],
      "source": [
        "# Find the correlation between the city_name and the price\n",
        "cor(baked_pumpkins$city_name, baked_pumpkins$price)\n",
        "\n",
        "# Find the correlation between the package and the price\n",
        "cor(baked_pumpkins$package, baked_pumpkins$price)\n"
      ]
    },
    {
      "attachments": {},
      "cell_type": "markdown",
      "metadata": {
        "id": "BToPWbgjuoZw"
      },
      "source": [
        "As it turns out, there's only weak correlation between the City and Price. However there's a bit better correlation between the Package and its Price. That makes sense, right? Normally, the bigger the produce box, the higher the price.\n",
        "\n",
        "While we are at it, let's also try and visualize a correlation matrix of all the columns using the `corrplot` package."
      ]
    },
    {
      "cell_type": "code",
      "execution_count": 14,
      "metadata": {
        "id": "ZwAL3ksmutVR",
        "vscode": {
          "languageId": "r"
        }
      },
      "outputs": [
        {
          "name": "stderr",
          "output_type": "stream",
          "text": [
            "corrplot 0.92 loaded\n",
            "\n"
          ]
        },
        {
          "data": {
            "image/png": "[encoded data removed]",
            "text/plain": [
              "Plot with title “”"
            ]
          },
          "metadata": {
            "image/png": {
              "height": 420,
              "width": 420
            }
          },
          "output_type": "display_data"
        }
      ],
      "source": [
        "# Load the corrplot package\n",
        "library(corrplot)\n",
        "\n",
        "# Obtain correlation matrix\n",
        "corr_mat <- cor(baked_pumpkins %>% \n",
        "                  # Drop columns that are not really informative\n",
        "                  select(-c(low_price, high_price)))\n",
        "\n",
        "# Make a correlation plot between the variables\n",
        "corrplot(corr_mat, method = \"shade\", shade.col = NA, tl.col = \"black\", tl.srt = 45, addCoef.col = \"black\", cl.pos = \"n\", order = \"original\")"
      ]
    },
    {
      "attachments": {},
      "cell_type": "markdown",
      "metadata": {
        "id": "YqXjLuWavNxW"
      },
      "source": [
        "🤩🤩 Much better.\n",
        "\n",
        "A good question to now ask of this data will be: '`What price can I expect of a given pumpkin package?`' Let's get right into it!\n",
        "\n",
        "> Note: When you **`bake()`** the prepped recipe **`pumpkins_prep`** with **`new_data = NULL`**, you extract the processed (i.e. encoded) training data. If you had another data set for example a test set and would want to see how a recipe would pre-process it, you would simply bake **`pumpkins_prep`** with **`new_data = test_set`**\n",
        "\n",
        "## 4. Build a linear regression model\n",
        "\n",
        "<p >\n",
        "   <img src=\"../../images/linear-polynomial.png\"\n",
        "   width=\"800\"/>\n",
        "   <figcaption>Infographic by Dasani Madipalli</figcaption>\n",
        "\n",
        "\n",
        "<!--![Infographic by Dasani Madipalli](../../images/linear-polynomial.png){width=\"800\"}-->"
      ]
    },
    {
      "attachments": {},
      "cell_type": "markdown",
      "metadata": {
        "id": "Pq0bSzCevW-h"
      },
      "source": [
        "Now that we have build a recipe, and actually confirmed that the data will be pre-processed appropriately, let's now build a regression model to answer the question: `What price can I expect of a given pumpkin package?`\n",
        "\n",
        "#### Train a linear regression model using the training set\n",
        "\n",
        "As you may have already figured out, the column *price* is the `outcome` variable while the *package* column is the `predictor` variable.\n",
        "\n",
        "To do this, we'll first split the data such that 80% goes into training and 20% into test set, then define a recipe that will encode the predictor column into a set of integers, then build a model specification. We won't prep and bake our recipe since we already know it will preprocess the data as expected."
      ]
    },
    {
      "cell_type": "code",
      "execution_count": 15,
      "metadata": {
        "id": "CyoEh_wuvcLv",
        "vscode": {
          "languageId": "r"
        }
      },
      "outputs": [],
      "source": [
        "set.seed(2056)\n",
        "# Split the data into training and test sets\n",
        "pumpkins_split <- new_pumpkins %>% \n",
        "  initial_split(prop = 0.8)\n",
        "\n",
        "\n",
        "# Extract training and test data\n",
        "pumpkins_train <- training(pumpkins_split)\n",
        "pumpkins_test <- testing(pumpkins_split)\n",
        "\n",
        "\n",
        "\n",
        "# Create a recipe for preprocessing the data\n",
        "lm_pumpkins_recipe <- recipe(price ~ package, data = pumpkins_train) %>% \n",
        "  step_integer(all_predictors(), zero_based = TRUE)\n",
        "\n",
        "\n",
        "\n",
        "# Create a linear model specification\n",
        "lm_spec <- linear_reg() %>% \n",
        "  set_engine(\"lm\") %>% \n",
        "  set_mode(\"regression\")"
      ]
    },
    {
      "attachments": {},
      "cell_type": "markdown",
      "metadata": {
        "id": "G3zF_3DqviFJ"
      },
      "source": [
        "Good job! Now that we have a recipe and a model specification, we need to find a way of bundling them together into an object that will first preprocess the data (prep+bake behind the scenes), fit the model on the preprocessed data and also allow for potential post-processing activities. How's that for your peace of mind!🤩\n",
        "\n",
        "In Tidymodels, this convenient object is called a [`workflow`](https://workflows.tidymodels.org/) and conveniently holds your modeling components! This is what we'd call *pipelines* in *Python*.\n",
        "\n",
        "So let's bundle everything up into a workflow!📦"
      ]
    },
    {
      "cell_type": "code",
      "execution_count": 16,
      "metadata": {
        "id": "T3olroU3v-WX",
        "vscode": {
          "languageId": "r"
        }
      },
      "outputs": [
        {
          "data": {
            "text/plain": [
              "══ Workflow ════════════════════════════════════════════════════════════════════\n",
              "\u001b[3mPreprocessor:\u001b[23m Recipe\n",
              "\u001b[3mModel:\u001b[23m linear_reg()\n",
              "\n",
              "── Preprocessor ────────────────────────────────────────────────────────────────\n",
              "1 Recipe Step\n",
              "\n",
              "• step_integer()\n",
              "\n",
              "── Model ───────────────────────────────────────────────────────────────────────\n",
              "Linear Regression Model Specification (regression)\n",
              "\n",
              "Computational engine: lm \n"
            ]
          },
          "metadata": {},
          "output_type": "display_data"
        }
      ],
      "source": [
        "# Hold modelling components in a workflow\n",
        "lm_wf <- workflow() %>% \n",
        "  add_recipe(lm_pumpkins_recipe) %>% \n",
        "  add_model(lm_spec)\n",
        "\n",
        "# Print out the workflow\n",
        "lm_wf"
      ]
    },
    {
      "attachments": {},
      "cell_type": "markdown",
      "metadata": {
        "id": "zd1A5tgOwEPX"
      },
      "source": [
        "\n",
        "👌 Into the bargain, a workflow can be fit/trained in much the same way a model can."
      ]
    },
    {
      "cell_type": "code",
      "execution_count": 17,
      "metadata": {
        "id": "NhJagFumwFHf",
        "vscode": {
          "languageId": "r"
        }
      },
      "outputs": [
        {
          "data": {
            "text/plain": [
              "══ Workflow [trained] ══════════════════════════════════════════════════════════\n",
              "\u001b[3mPreprocessor:\u001b[23m Recipe\n",
              "\u001b[3mModel:\u001b[23m linear_reg()\n",
              "\n",
              "── Preprocessor ────────────────────────────────────────────────────────────────\n",
              "1 Recipe Step\n",
              "\n",
              "• step_integer()\n",
              "\n",
              "── Model ───────────────────────────────────────────────────────────────────────\n",
              "\n",
              "Call:\n",
              "stats::lm(formula = ..y ~ ., data = data)\n",
              "\n",
              "Coefficients:\n",
              "(Intercept)      package  \n",
              "     19.977        4.884  \n"
            ]
          },
          "metadata": {},
          "output_type": "display_data"
        }
      ],
      "source": [
        "# Train the model\n",
        "lm_wf_fit <- lm_wf %>% \n",
        "  fit(data = pumpkins_train)\n",
        "\n",
        "# Print the model coefficients learned \n",
        "lm_wf_fit"
      ]
    },
    {
      "attachments": {},
      "cell_type": "markdown",
      "metadata": {
        "id": "_4QkGtBTwItF"
      },
      "source": [
        "From the model output, we can see the coefficients learned during training. They represent the coefficients of the line of best fit that gives us the lowest overall error between the actual and predicted variable.\n",
        "\n",
        "\n",
        "#### Evaluate model performance using the test set\n",
        "\n",
        "It's time to see how the model performed 📏! How do we do this?\n",
        "\n",
        "Now that we've trained the model, we can use it to make predictions for the test_set using `parsnip::predict()`. Then we can compare these predictions to the actual label values to evaluate how well (or not!) the model is working.\n",
        "\n",
        "Let's start with making predictions for the test set then bind the columns to the test set."
      ]
    },
    {
      "cell_type": "code",
      "execution_count": 18,
      "metadata": {
        "id": "UFZzTG0gwTs9",
        "vscode": {
          "languageId": "r"
        }
      },
      "outputs": [
        {
          "data": {
            "text/html": [
              "<table class=\"dataframe\">\n",
              "<caption>A tibble: 10 × 3</caption>\n",
              "<thead>\n",
              "\t<tr><th scope=col>package</th><th scope=col>price</th><th scope=col>.pred</th></tr>\n",
              "\t<tr><th scope=col>&lt;chr&gt;</th><th scope=col>&lt;dbl&gt;</th><th scope=col>&lt;dbl&gt;</th></tr>\n",
              "</thead>\n",
              "<tbody>\n",
              "\t<tr><td>1 1/9 bushel cartons</td><td>13.63636</td><td>19.97666</td></tr>\n",
              "\t<tr><td>1 1/9 bushel cartons</td><td>15.45455</td><td>19.97666</td></tr>\n",
              "\t<tr><td>1 1/9 bushel cartons</td><td>16.36364</td><td>19.97666</td></tr>\n",
              "\t<tr><td>1 1/9 bushel cartons</td><td>14.54545</td><td>19.97666</td></tr>\n",
              "\t<tr><td>1 1/9 bushel cartons</td><td>14.54545</td><td>19.97666</td></tr>\n",
              "\t<tr><td>1/2 bushel cartons  </td><td>34.00000</td><td>29.74469</td></tr>\n",
              "\t<tr><td>1/2 bushel cartons  </td><td>30.00000</td><td>29.74469</td></tr>\n",
              "\t<tr><td>1/2 bushel cartons  </td><td>33.00000</td><td>29.74469</td></tr>\n",
              "\t<tr><td>1/2 bushel cartons  </td><td>30.00000</td><td>29.74469</td></tr>\n",
              "\t<tr><td>1/2 bushel cartons  </td><td>33.00000</td><td>29.74469</td></tr>\n",
              "</tbody>\n",
              "</table>\n"
            ],
            "text/latex": [
              "A tibble: 10 × 3\n",
              "\\begin{tabular}{lll}\n",
              " package & price & .pred\\\\\n",
              " <chr> & <dbl> & <dbl>\\\\\n",
              "\\hline\n",
              "\t 1 1/9 bushel cartons & 13.63636 & 19.97666\\\\\n",
              "\t 1 1/9 bushel cartons & 15.45455 & 19.97666\\\\\n",
              "\t 1 1/9 bushel cartons & 16.36364 & 19.97666\\\\\n",
              "\t 1 1/9 bushel cartons & 14.54545 & 19.97666\\\\\n",
              "\t 1 1/9 bushel cartons & 14.54545 & 19.97666\\\\\n",
              "\t 1/2 bushel cartons   & 34.00000 & 29.74469\\\\\n",
              "\t 1/2 bushel cartons   & 30.00000 & 29.74469\\\\\n",
              "\t 1/2 bushel cartons   & 33.00000 & 29.74469\\\\\n",
              "\t 1/2 bushel cartons   & 30.00000 & 29.74469\\\\\n",
              "\t 1/2 bushel cartons   & 33.00000 & 29.74469\\\\\n",
              "\\end{tabular}\n"
            ],
            "text/markdown": [
              "\n",
              "A tibble: 10 × 3\n",
              "\n",
              "| package &lt;chr&gt; | price &lt;dbl&gt; | .pred &lt;dbl&gt; |\n",
              "|---|---|---|\n",
              "| 1 1/9 bushel cartons | 13.63636 | 19.97666 |\n",
              "| 1 1/9 bushel cartons | 15.45455 | 19.97666 |\n",
              "| 1 1/9 bushel cartons | 16.36364 | 19.97666 |\n",
              "| 1 1/9 bushel cartons | 14.54545 | 19.97666 |\n",
              "| 1 1/9 bushel cartons | 14.54545 | 19.97666 |\n",
              "| 1/2 bushel cartons   | 34.00000 | 29.74469 |\n",
              "| 1/2 bushel cartons   | 30.00000 | 29.74469 |\n",
              "| 1/2 bushel cartons   | 33.00000 | 29.74469 |\n",
              "| 1/2 bushel cartons   | 30.00000 | 29.74469 |\n",
              "| 1/2 bushel cartons   | 33.00000 | 29.74469 |\n",
              "\n"
            ],
            "text/plain": [
              "   package              price    .pred   \n",
              "1  1 1/9 bushel cartons 13.63636 19.97666\n",
              "2  1 1/9 bushel cartons 15.45455 19.97666\n",
              "3  1 1/9 bushel cartons 16.36364 19.97666\n",
              "4  1 1/9 bushel cartons 14.54545 19.97666\n",
              "5  1 1/9 bushel cartons 14.54545 19.97666\n",
              "6  1/2 bushel cartons   34.00000 29.74469\n",
              "7  1/2 bushel cartons   30.00000 29.74469\n",
              "8  1/2 bushel cartons   33.00000 29.74469\n",
              "9  1/2 bushel cartons   30.00000 29.74469\n",
              "10 1/2 bushel cartons   33.00000 29.74469"
            ]
          },
          "metadata": {},
          "output_type": "display_data"
        }
      ],
      "source": [
        "# Make predictions for the test set\n",
        "predictions <- lm_wf_fit %>% \n",
        "  predict(new_data = pumpkins_test)\n",
        "\n",
        "\n",
        "# Bind predictions to the test set\n",
        "lm_results <- pumpkins_test %>% \n",
        "  select(c(package, price)) %>% \n",
        "  bind_cols(predictions)\n",
        "\n",
        "\n",
        "# Print the first ten rows of the tibble\n",
        "lm_results %>% \n",
        "  slice_head(n = 10)"
      ]
    },
    {
      "attachments": {},
      "cell_type": "markdown",
      "metadata": {
        "id": "0A5MjzM7wW9M"
      },
      "source": [
        "\n",
        "Yes, you have just trained a model and used it to make predictions!🔮 Is it any good, let's evaluate the model's performance!\n",
        "\n",
        "In Tidymodels, we do this using `yardstick::metrics()`! For linear regression, let's focus on the following metrics:\n",
        "\n",
        "-   `Root Mean Square Error (RMSE)`: The square root of the [MSE](https://en.wikipedia.org/wiki/Mean_squared_error). This yields an absolute metric in the same unit as the label (in this case, the price of a pumpkin). The smaller the value, the better the model (in a simplistic sense, it represents the average price by which the predictions are wrong!)\n",
        "\n",
        "-   `Coefficient of Determination (usually known as R-squared or R2)`: A relative metric in which the higher the value, the better the fit of the model. In essence, this metric represents how much of the variance between predicted and actual label values the model is able to explain."
      ]
    },
    {
      "cell_type": "code",
      "execution_count": 19,
      "metadata": {
        "id": "reJ0UIhQwcEH",
        "vscode": {
          "languageId": "r"
        }
      },
      "outputs": [
        {
          "data": {
            "text/html": [
              "<table class=\"dataframe\">\n",
              "<caption>A tibble: 3 × 3</caption>\n",
              "<thead>\n",
              "\t<tr><th scope=col>.metric</th><th scope=col>.estimator</th><th scope=col>.estimate</th></tr>\n",
              "\t<tr><th scope=col>&lt;chr&gt;</th><th scope=col>&lt;chr&gt;</th><th scope=col>&lt;dbl&gt;</th></tr>\n",
              "</thead>\n",
              "<tbody>\n",
              "\t<tr><td>rmse</td><td>standard</td><td>7.5563254</td></tr>\n",
              "\t<tr><td>rsq </td><td>standard</td><td>0.4487845</td></tr>\n",
              "\t<tr><td>mae </td><td>standard</td><td>5.8056798</td></tr>\n",
              "</tbody>\n",
              "</table>\n"
            ],
            "text/latex": [
              "A tibble: 3 × 3\n",
              "\\begin{tabular}{lll}\n",
              " .metric & .estimator & .estimate\\\\\n",
              " <chr> & <chr> & <dbl>\\\\\n",
              "\\hline\n",
              "\t rmse & standard & 7.5563254\\\\\n",
              "\t rsq  & standard & 0.4487845\\\\\n",
              "\t mae  & standard & 5.8056798\\\\\n",
              "\\end{tabular}\n"
            ],
            "text/markdown": [
              "\n",
              "A tibble: 3 × 3\n",
              "\n",
              "| .metric &lt;chr&gt; | .estimator &lt;chr&gt; | .estimate &lt;dbl&gt; |\n",
              "|---|---|---|\n",
              "| rmse | standard | 7.5563254 |\n",
              "| rsq  | standard | 0.4487845 |\n",
              "| mae  | standard | 5.8056798 |\n",
              "\n"
            ],
            "text/plain": [
              "  .metric .estimator .estimate\n",
              "1 rmse    standard   7.5563254\n",
              "2 rsq     standard   0.4487845\n",
              "3 mae     standard   5.8056798"
            ]
          },
          "metadata": {},
          "output_type": "display_data"
        }
      ],
      "source": [
        "# Evaluate performance of linear regression\n",
        "metrics(data = lm_results,\n",
        "        truth = price,\n",
        "        estimate = .pred)"
      ]
    },
    {
      "attachments": {},
      "cell_type": "markdown",
      "metadata": {
        "id": "fdgjzjkBwfWt"
      },
      "source": [
        "There goes the model performance. Let's see if we can get a better indication by visualizing a scatter plot of the package and price then use the predictions made to overlay a line of best fit.\n",
        "\n",
        "This means we'll have to prep and bake the test set in order to encode the package column then bind this to the predictions made by our model."
      ]
    },
    {
      "cell_type": "code",
      "execution_count": 35,
      "metadata": {
        "vscode": {
          "languageId": "r"
        }
      },
      "outputs": [
        {
          "data": {
            "text/plain": [
              "$var_info\n",
              "\u001b[90m# A tibble: 2 × 4\u001b[39m\n",
              "  variable type      role      source  \n",
              "  \u001b[3m\u001b[90m<chr>\u001b[39m\u001b[23m    \u001b[3m\u001b[90m<list>\u001b[39m\u001b[23m    \u001b[3m\u001b[90m<chr>\u001b[39m\u001b[23m     \u001b[3m\u001b[90m<chr>\u001b[39m\u001b[23m   \n",
              "\u001b[90m1\u001b[39m package  \u001b[90m<chr [3]>\u001b[39m predictor original\n",
              "\u001b[90m2\u001b[39m price    \u001b[90m<chr [2]>\u001b[39m outcome   original\n",
              "\n",
              "$term_info\n",
              "\u001b[90m# A tibble: 2 × 4\u001b[39m\n",
              "  variable type      role      source  \n",
              "  \u001b[3m\u001b[90m<chr>\u001b[39m\u001b[23m    \u001b[3m\u001b[90m<list>\u001b[39m\u001b[23m    \u001b[3m\u001b[90m<chr>\u001b[39m\u001b[23m     \u001b[3m\u001b[90m<chr>\u001b[39m\u001b[23m   \n",
              "\u001b[90m1\u001b[39m package  \u001b[90m<chr [3]>\u001b[39m predictor original\n",
              "\u001b[90m2\u001b[39m price    \u001b[90m<chr [2]>\u001b[39m outcome   original\n",
              "\n",
              "$steps\n",
              "$steps[[1]]\n",
              "$terms\n",
              "<list_of<quosure>>\n",
              "\n",
              "[[1]]\n",
              "\u001b[1m<quosure>\u001b[22m\n",
              "expr: \u001b[34m^all_predictors()\u001b[39m\n",
              "env:  \u001b[34m0x5cb40f9fc160\u001b[39m\n",
              "\n",
              "\n",
              "$role\n",
              "[1] \"predictor\"\n",
              "\n",
              "$trained\n",
              "[1] FALSE\n",
              "\n",
              "$strict\n",
              "[1] TRUE\n",
              "\n",
              "$zero_based\n",
              "[1] TRUE\n",
              "\n",
              "$key\n",
              "NULL\n",
              "\n",
              "$skip\n",
              "[1] FALSE\n",
              "\n",
              "$id\n",
              "[1] \"integer_RtLqQ\"\n",
              "\n",
              "attr(,\"class\")\n",
              "[1] \"step_integer\" \"step\"        \n",
              "\n",
              "\n",
              "$template\n",
              "\u001b[90m# A tibble: 332 × 2\u001b[39m\n",
              "   package              price\n",
              "   \u001b[3m\u001b[90m<chr>\u001b[39m\u001b[23m                \u001b[3m\u001b[90m<dbl>\u001b[39m\u001b[23m\n",
              "\u001b[90m 1\u001b[39m 1 1/9 bushel cartons  15.5\n",
              "\u001b[90m 2\u001b[39m 1/2 bushel cartons    34  \n",
              "\u001b[90m 3\u001b[39m 1/2 bushel cartons    31  \n",
              "\u001b[90m 4\u001b[39m 1 1/9 bushel cartons  17.3\n",
              "\u001b[90m 5\u001b[39m 1 1/9 bushel cartons  15.5\n",
              "\u001b[90m 6\u001b[39m 1/2 bushel cartons    38  \n",
              "\u001b[90m 7\u001b[39m 1/2 bushel cartons    31  \n",
              "\u001b[90m 8\u001b[39m 1/2 bushel cartons    36  \n",
              "\u001b[90m 9\u001b[39m 1/2 bushel cartons    36  \n",
              "\u001b[90m10\u001b[39m 1/2 bushel cartons    35  \n",
              "\u001b[90m# ℹ 322 more rows\u001b[39m\n",
              "\n",
              "$levels\n",
              "NULL\n",
              "\n",
              "$retained\n",
              "[1] NA\n"
            ]
          },
          "metadata": {},
          "output_type": "display_data"
        }
      ],
      "source": [
        "head(lm_pumpkins_recipe)"
      ]
    },
    {
      "cell_type": "code",
      "execution_count": 39,
      "metadata": {
        "vscode": {
          "languageId": "r"
        }
      },
      "outputs": [],
      "source": [
        "package_encode <- lm_pumpkins_recipe %>% \n",
        "  prep() %>% \n",
        "  bake(new_data = pumpkins_test) %>% \n",
        "  select(package) %>% \n",
        "              rename(package_integer = package)\n"
      ]
    },
    {
      "cell_type": "code",
      "execution_count": 40,
      "metadata": {
        "vscode": {
          "languageId": "r"
        }
      },
      "outputs": [
        {
          "data": {
            "text/html": [
              "<table class=\"dataframe\">\n",
              "<caption>A tibble: 6 × 1</caption>\n",
              "<thead>\n",
              "\t<tr><th scope=col>package_integer</th></tr>\n",
              "\t<tr><th scope=col>&lt;int&gt;</th></tr>\n",
              "</thead>\n",
              "<tbody>\n",
              "\t<tr><td>0</td></tr>\n",
              "\t<tr><td>0</td></tr>\n",
              "\t<tr><td>0</td></tr>\n",
              "\t<tr><td>0</td></tr>\n",
              "\t<tr><td>0</td></tr>\n",
              "\t<tr><td>2</td></tr>\n",
              "</tbody>\n",
              "</table>\n"
            ],
            "text/latex": [
              "A tibble: 6 × 1\n",
              "\\begin{tabular}{l}\n",
              " package\\_integer\\\\\n",
              " <int>\\\\\n",
              "\\hline\n",
              "\t 0\\\\\n",
              "\t 0\\\\\n",
              "\t 0\\\\\n",
              "\t 0\\\\\n",
              "\t 0\\\\\n",
              "\t 2\\\\\n",
              "\\end{tabular}\n"
            ],
            "text/markdown": [
              "\n",
              "A tibble: 6 × 1\n",
              "\n",
              "| package_integer &lt;int&gt; |\n",
              "|---|\n",
              "| 0 |\n",
              "| 0 |\n",
              "| 0 |\n",
              "| 0 |\n",
              "| 0 |\n",
              "| 2 |\n",
              "\n"
            ],
            "text/plain": [
              "  package_integer\n",
              "1 0              \n",
              "2 0              \n",
              "3 0              \n",
              "4 0              \n",
              "5 0              \n",
              "6 2              "
            ]
          },
          "metadata": {},
          "output_type": "display_data"
        }
      ],
      "source": [
        "head(package_encode)"
      ]
    },
    {
      "cell_type": "code",
      "execution_count": 42,
      "metadata": {
        "vscode": {
          "languageId": "r"
        }
      },
      "outputs": [
        {
          "name": "stderr",
          "output_type": "stream",
          "text": [
            "\u001b[1m\u001b[22mNew names:\n",
            "\u001b[36m•\u001b[39m `package_integer` -> `package_integer...8`\n"
          ]
        },
        {
          "data": {
            "text/html": [
              "<table class=\"dataframe\">\n",
              "<caption>A tibble: 5 × 8</caption>\n",
              "<thead>\n",
              "\t<tr><th scope=col>package</th><th scope=col>package_integer...2</th><th scope=col>price</th><th scope=col>.pred</th><th scope=col>package_integer...5</th><th scope=col>package_integer...6</th><th scope=col>package_integer...7</th><th scope=col>package_integer...8</th></tr>\n",
              "\t<tr><th scope=col>&lt;chr&gt;</th><th scope=col>&lt;int&gt;</th><th scope=col>&lt;dbl&gt;</th><th scope=col>&lt;dbl&gt;</th><th scope=col>&lt;int&gt;</th><th scope=col>&lt;int&gt;</th><th scope=col>&lt;int&gt;</th><th scope=col>&lt;int&gt;</th></tr>\n",
              "</thead>\n",
              "<tbody>\n",
              "\t<tr><td>1 1/9 bushel cartons</td><td>0</td><td>13.63636</td><td>19.97666</td><td>0</td><td>0</td><td>0</td><td>0</td></tr>\n",
              "\t<tr><td>1 1/9 bushel cartons</td><td>0</td><td>15.45455</td><td>19.97666</td><td>0</td><td>0</td><td>0</td><td>0</td></tr>\n",
              "\t<tr><td>1 1/9 bushel cartons</td><td>0</td><td>16.36364</td><td>19.97666</td><td>0</td><td>0</td><td>0</td><td>0</td></tr>\n",
              "\t<tr><td>1 1/9 bushel cartons</td><td>0</td><td>14.54545</td><td>19.97666</td><td>0</td><td>0</td><td>0</td><td>0</td></tr>\n",
              "\t<tr><td>1 1/9 bushel cartons</td><td>0</td><td>14.54545</td><td>19.97666</td><td>0</td><td>0</td><td>0</td><td>0</td></tr>\n",
              "</tbody>\n",
              "</table>\n"
            ],
            "text/latex": [
              "A tibble: 5 × 8\n",
              "\\begin{tabular}{llllllll}\n",
              " package & package\\_integer...2 & price & .pred & package\\_integer...5 & package\\_integer...6 & package\\_integer...7 & package\\_integer...8\\\\\n",
              " <chr> & <int> & <dbl> & <dbl> & <int> & <int> & <int> & <int>\\\\\n",
              "\\hline\n",
              "\t 1 1/9 bushel cartons & 0 & 13.63636 & 19.97666 & 0 & 0 & 0 & 0\\\\\n",
              "\t 1 1/9 bushel cartons & 0 & 15.45455 & 19.97666 & 0 & 0 & 0 & 0\\\\\n",
              "\t 1 1/9 bushel cartons & 0 & 16.36364 & 19.97666 & 0 & 0 & 0 & 0\\\\\n",
              "\t 1 1/9 bushel cartons & 0 & 14.54545 & 19.97666 & 0 & 0 & 0 & 0\\\\\n",
              "\t 1 1/9 bushel cartons & 0 & 14.54545 & 19.97666 & 0 & 0 & 0 & 0\\\\\n",
              "\\end{tabular}\n"
            ],
            "text/markdown": [
              "\n",
              "A tibble: 5 × 8\n",
              "\n",
              "| package &lt;chr&gt; | package_integer...2 &lt;int&gt; | price &lt;dbl&gt; | .pred &lt;dbl&gt; | package_integer...5 &lt;int&gt; | package_integer...6 &lt;int&gt; | package_integer...7 &lt;int&gt; | package_integer...8 &lt;int&gt; |\n",
              "|---|---|---|---|---|---|---|---|\n",
              "| 1 1/9 bushel cartons | 0 | 13.63636 | 19.97666 | 0 | 0 | 0 | 0 |\n",
              "| 1 1/9 bushel cartons | 0 | 15.45455 | 19.97666 | 0 | 0 | 0 | 0 |\n",
              "| 1 1/9 bushel cartons | 0 | 16.36364 | 19.97666 | 0 | 0 | 0 | 0 |\n",
              "| 1 1/9 bushel cartons | 0 | 14.54545 | 19.97666 | 0 | 0 | 0 | 0 |\n",
              "| 1 1/9 bushel cartons | 0 | 14.54545 | 19.97666 | 0 | 0 | 0 | 0 |\n",
              "\n"
            ],
            "text/plain": [
              "  package              package_integer...2 price    .pred   \n",
              "1 1 1/9 bushel cartons 0                   13.63636 19.97666\n",
              "2 1 1/9 bushel cartons 0                   15.45455 19.97666\n",
              "3 1 1/9 bushel cartons 0                   16.36364 19.97666\n",
              "4 1 1/9 bushel cartons 0                   14.54545 19.97666\n",
              "5 1 1/9 bushel cartons 0                   14.54545 19.97666\n",
              "  package_integer...5 package_integer...6 package_integer...7\n",
              "1 0                   0                   0                  \n",
              "2 0                   0                   0                  \n",
              "3 0                   0                   0                  \n",
              "4 0                   0                   0                  \n",
              "5 0                   0                   0                  \n",
              "  package_integer...8\n",
              "1 0                  \n",
              "2 0                  \n",
              "3 0                  \n",
              "4 0                  \n",
              "5 0                  "
            ]
          },
          "metadata": {},
          "output_type": "display_data"
        }
      ],
      "source": [
        "# Bind encoded package column to the results\n",
        "lm_results <- lm_results %>% \n",
        "  bind_cols(package_encode)\n",
        "\n",
        "\n",
        "# Print new results data frame\n",
        "lm_results %>% \n",
        "  slice_head(n = 5)\n"
      ]
    },
    {
      "cell_type": "code",
      "execution_count": 49,
      "metadata": {
        "vscode": {
          "languageId": "r"
        }
      },
      "outputs": [
        {
          "name": "stdout",
          "output_type": "stream",
          "text": [
            "Rows: 83\n",
            "Columns: 8\n",
            "$ package             \u001b[3m\u001b[90m<chr>\u001b[39m\u001b[23m \"1 1/9 bushel cartons\", \"1 1/9 bushel cartons\", \"1…\n",
            "$ package_integer...2 \u001b[3m\u001b[90m<int>\u001b[39m\u001b[23m 0, 0, 0, 0, 0, 2, 2, 2, 2, 2, 2, 2, 2, 0, 1, 1, 0,…\n",
            "$ price               \u001b[3m\u001b[90m<dbl>\u001b[39m\u001b[23m 13.63636, 15.45455, 16.36364, 14.54545, 14.54545, …\n",
            "$ .pred               \u001b[3m\u001b[90m<dbl>\u001b[39m\u001b[23m 19.97666, 19.97666, 19.97666, 19.97666, 19.97666, …\n",
            "$ package_integer...5 \u001b[3m\u001b[90m<int>\u001b[39m\u001b[23m 0, 0, 0, 0, 0, 2, 2, 2, 2, 2, 2, 2, 2, 0, 1, 1, 0,…\n",
            "$ package_integer...6 \u001b[3m\u001b[90m<int>\u001b[39m\u001b[23m 0, 0, 0, 0, 0, 2, 2, 2, 2, 2, 2, 2, 2, 0, 1, 1, 0,…\n",
            "$ package_integer...7 \u001b[3m\u001b[90m<int>\u001b[39m\u001b[23m 0, 0, 0, 0, 0, 2, 2, 2, 2, 2, 2, 2, 2, 0, 1, 1, 0,…\n",
            "$ package_integer...8 \u001b[3m\u001b[90m<int>\u001b[39m\u001b[23m 0, 0, 0, 0, 0, 2, 2, 2, 2, 2, 2, 2, 2, 0, 1, 1, 0,…\n"
          ]
        },
        {
          "data": {
            "text/html": [
              "<style>\n",
              ".list-inline {list-style: none; margin:0; padding: 0}\n",
              ".list-inline>li {display: inline-block}\n",
              ".list-inline>li:not(:last-child)::after {content: \"\\00b7\"; padding: 0 .5ex}\n",
              "</style>\n",
              "<ol class=list-inline><li>'package'</li><li>'package_integer...2'</li><li>'price'</li><li>'.pred'</li><li>'package_integer...5'</li><li>'package_integer...6'</li><li>'package_integer...7'</li><li>'package_integer...8'</li></ol>\n"
            ],
            "text/latex": [
              "\\begin{enumerate*}\n",
              "\\item 'package'\n",
              "\\item 'package\\_integer...2'\n",
              "\\item 'price'\n",
              "\\item '.pred'\n",
              "\\item 'package\\_integer...5'\n",
              "\\item 'package\\_integer...6'\n",
              "\\item 'package\\_integer...7'\n",
              "\\item 'package\\_integer...8'\n",
              "\\end{enumerate*}\n"
            ],
            "text/markdown": [
              "1. 'package'\n",
              "2. 'package_integer...2'\n",
              "3. 'price'\n",
              "4. '.pred'\n",
              "5. 'package_integer...5'\n",
              "6. 'package_integer...6'\n",
              "7. 'package_integer...7'\n",
              "8. 'package_integer...8'\n",
              "\n",
              "\n"
            ],
            "text/plain": [
              "[1] \"package\"             \"package_integer...2\" \"price\"              \n",
              "[4] \".pred\"               \"package_integer...5\" \"package_integer...6\"\n",
              "[7] \"package_integer...7\" \"package_integer...8\""
            ]
          },
          "metadata": {},
          "output_type": "display_data"
        }
      ],
      "source": [
        "glimpse((lm_results))\n",
        "colnames(lm_results)\n",
        "lm_results <- lm_results %>% select(price,.pred,package,package_integer...2) %>% rename(package_integer = package_integer...2) %>% head()"
      ]
    },
    {
      "cell_type": "code",
      "execution_count": 50,
      "metadata": {
        "vscode": {
          "languageId": "r"
        }
      },
      "outputs": [
        {
          "data": {
            "text/html": [
              "<table class=\"dataframe\">\n",
              "<caption>A tibble: 6 × 4</caption>\n",
              "<thead>\n",
              "\t<tr><th scope=col>price</th><th scope=col>.pred</th><th scope=col>package</th><th scope=col>package_integer</th></tr>\n",
              "\t<tr><th scope=col>&lt;dbl&gt;</th><th scope=col>&lt;dbl&gt;</th><th scope=col>&lt;chr&gt;</th><th scope=col>&lt;int&gt;</th></tr>\n",
              "</thead>\n",
              "<tbody>\n",
              "\t<tr><td>13.63636</td><td>19.97666</td><td>1 1/9 bushel cartons</td><td>0</td></tr>\n",
              "\t<tr><td>15.45455</td><td>19.97666</td><td>1 1/9 bushel cartons</td><td>0</td></tr>\n",
              "\t<tr><td>16.36364</td><td>19.97666</td><td>1 1/9 bushel cartons</td><td>0</td></tr>\n",
              "\t<tr><td>14.54545</td><td>19.97666</td><td>1 1/9 bushel cartons</td><td>0</td></tr>\n",
              "\t<tr><td>14.54545</td><td>19.97666</td><td>1 1/9 bushel cartons</td><td>0</td></tr>\n",
              "\t<tr><td>34.00000</td><td>29.74469</td><td>1/2 bushel cartons  </td><td>2</td></tr>\n",
              "</tbody>\n",
              "</table>\n"
            ],
            "text/latex": [
              "A tibble: 6 × 4\n",
              "\\begin{tabular}{llll}\n",
              " price & .pred & package & package\\_integer\\\\\n",
              " <dbl> & <dbl> & <chr> & <int>\\\\\n",
              "\\hline\n",
              "\t 13.63636 & 19.97666 & 1 1/9 bushel cartons & 0\\\\\n",
              "\t 15.45455 & 19.97666 & 1 1/9 bushel cartons & 0\\\\\n",
              "\t 16.36364 & 19.97666 & 1 1/9 bushel cartons & 0\\\\\n",
              "\t 14.54545 & 19.97666 & 1 1/9 bushel cartons & 0\\\\\n",
              "\t 14.54545 & 19.97666 & 1 1/9 bushel cartons & 0\\\\\n",
              "\t 34.00000 & 29.74469 & 1/2 bushel cartons   & 2\\\\\n",
              "\\end{tabular}\n"
            ],
            "text/markdown": [
              "\n",
              "A tibble: 6 × 4\n",
              "\n",
              "| price &lt;dbl&gt; | .pred &lt;dbl&gt; | package &lt;chr&gt; | package_integer &lt;int&gt; |\n",
              "|---|---|---|---|\n",
              "| 13.63636 | 19.97666 | 1 1/9 bushel cartons | 0 |\n",
              "| 15.45455 | 19.97666 | 1 1/9 bushel cartons | 0 |\n",
              "| 16.36364 | 19.97666 | 1 1/9 bushel cartons | 0 |\n",
              "| 14.54545 | 19.97666 | 1 1/9 bushel cartons | 0 |\n",
              "| 14.54545 | 19.97666 | 1 1/9 bushel cartons | 0 |\n",
              "| 34.00000 | 29.74469 | 1/2 bushel cartons   | 2 |\n",
              "\n"
            ],
            "text/plain": [
              "  price    .pred    package              package_integer\n",
              "1 13.63636 19.97666 1 1/9 bushel cartons 0              \n",
              "2 15.45455 19.97666 1 1/9 bushel cartons 0              \n",
              "3 16.36364 19.97666 1 1/9 bushel cartons 0              \n",
              "4 14.54545 19.97666 1 1/9 bushel cartons 0              \n",
              "5 14.54545 19.97666 1 1/9 bushel cartons 0              \n",
              "6 34.00000 29.74469 1/2 bushel cartons   2              "
            ]
          },
          "metadata": {},
          "output_type": "display_data"
        }
      ],
      "source": [
        "lm_results"
      ]
    },
    {
      "cell_type": "code",
      "execution_count": 51,
      "metadata": {
        "vscode": {
          "languageId": "r"
        }
      },
      "outputs": [
        {
          "data": {
            "image/png": "[encoded data removed]",
            "text/plain": [
              "plot without title"
            ]
          },
          "metadata": {
            "image/png": {
              "height": 420,
              "width": 420
            }
          },
          "output_type": "display_data"
        }
      ],
      "source": [
        "# Make a scatter plot\n",
        "lm_results %>% \n",
        "  ggplot(mapping = aes(x = package_integer, y = price)) +\n",
        "  geom_point(size = 1.6) +\n",
        "  # Overlay a line of best fit\n",
        "  geom_line(aes(y = .pred), color = \"orange\", linewidth = 1.2) +\n",
        "  xlab(\"package\")\n",
        "  \n"
      ]
    },
    {
      "cell_type": "code",
      "execution_count": null,
      "metadata": {
        "id": "R0nw719lwkHE",
        "vscode": {
          "languageId": "r"
        }
      },
      "outputs": [],
      "source": [
        "# Encode package column\n",
        "\n",
        "package_encode <- lm_pumpkins_recipe %>% \n",
        "  prep() %>% \n",
        "  bake(new_data = pumpkins_test) %>% \n",
        "  select(package)\n",
        "\n",
        "\n",
        "# Bind encoded package column to the results\n",
        "lm_results <- lm_results %>% \n",
        "  bind_cols(package_encode %>% \n",
        "              rename(package_integer = package)) %>% \n",
        "  relocate(package_integer, .after = package)\n",
        "\n",
        "\n",
        "# Print new results data frame\n",
        "lm_results %>% \n",
        "  slice_head(n = 5)\n",
        "\n",
        "\n",
        "# Make a scatter plot\n",
        "lm_results %>% \n",
        "  ggplot(mapping = aes(x = package_integer, y = price)) +\n",
        "  geom_point(size = 1.6) +\n",
        "  # Overlay a line of best fit\n",
        "  geom_line(aes(y = .pred), color = \"orange\", linewidth = 1.2) +\n",
        "  xlab(\"package\")\n",
        "  \n"
      ]
    },
    {
      "attachments": {},
      "cell_type": "markdown",
      "metadata": {
        "id": "HOCqJXLTwtWI"
      },
      "source": [
        "Great! As you can see, the linear regression model does not really well generalize the relationship between a package and its corresponding price.\n",
        "\n",
        "🎃 Congratulations, you just created a model that can help predict the price of a few varieties of pumpkins. Your holiday pumpkin patch will be beautiful. But you can probably create a better model!\n",
        "\n",
        "## 5. Build a polynomial regression model\n",
        "\n",
        "<p >\n",
        "   <img src=\"../../images/linear-polynomial.png\"\n",
        "   width=\"800\"/>\n",
        "   <figcaption>Infographic by Dasani Madipalli</figcaption>\n",
        "\n",
        "\n",
        "<!--![Infographic by Dasani Madipalli](../../images/linear-polynomial.png){width=\"800\"}-->"
      ]
    },
    {
      "attachments": {},
      "cell_type": "markdown",
      "metadata": {
        "id": "VcEIpRV9wzYr"
      },
      "source": [
        "Sometimes our data may not have a linear relationship, but we still want to predict an outcome. Polynomial regression can help us make predictions for more complex non-linear relationships.\n",
        "\n",
        "Take for instance the relationship between the package and price for our pumpkins data set. While sometimes there's a linear relationship between variables - the bigger the pumpkin in volume, the higher the price - sometimes these relationships can't be plotted as a plane or straight line.\n",
        "\n",
        "> ✅ Here are [some more examples](https://online.stat.psu.edu/stat501/lesson/9/9.8) of data that could use polynomial regression\n",
        ">\n",
        "> Take another look at the relationship between Variety to Price in the previous plot. Does this scatterplot seem like it should necessarily be analyzed by a straight line? Perhaps not. In this case, you can try polynomial regression.\n",
        ">\n",
        "> ✅ Polynomials are mathematical expressions that might consist of one or more variables and coefficients\n",
        "\n",
        "#### Train a polynomial regression model using the training set\n",
        "\n",
        "Polynomial regression creates a *curved line* to better fit nonlinear data.\n",
        "\n",
        "Let's see whether a polynomial model will perform better in making predictions. We'll follow a somewhat similar procedure as we did before:\n",
        "\n",
        "-   Create a recipe that specifies the preprocessing steps that should be carried out on our data to get it ready for modelling i.e: encoding predictors and computing polynomials of degree *n*\n",
        "\n",
        "-   Build a model specification\n",
        "\n",
        "-   Bundle the recipe and model specification into a workflow\n",
        "\n",
        "-   Create a model by fitting the workflow\n",
        "\n",
        "-   Evaluate how well the model performs on the test data\n",
        "\n",
        "Let's get right into it!\n"
      ]
    },
    {
      "cell_type": "code",
      "execution_count": 30,
      "metadata": {
        "id": "63n_YyRXw3CC",
        "vscode": {
          "languageId": "r"
        }
      },
      "outputs": [
        {
          "data": {
            "text/plain": [
              "══ Workflow [trained] ══════════════════════════════════════════════════════════\n",
              "\u001b[3mPreprocessor:\u001b[23m Recipe\n",
              "\u001b[3mModel:\u001b[23m linear_reg()\n",
              "\n",
              "── Preprocessor ────────────────────────────────────────────────────────────────\n",
              "2 Recipe Steps\n",
              "\n",
              "• step_integer()\n",
              "• step_poly()\n",
              "\n",
              "── Model ───────────────────────────────────────────────────────────────────────\n",
              "\n",
              "Call:\n",
              "stats::lm(formula = ..y ~ ., data = data)\n",
              "\n",
              "Coefficients:\n",
              "   (Intercept)  package_poly_1  package_poly_2  package_poly_3  package_poly_4  \n",
              "        27.818         104.444        -113.001         -56.399           1.044  \n"
            ]
          },
          "metadata": {},
          "output_type": "display_data"
        }
      ],
      "source": [
        "# Specify a recipe\n",
        "poly_pumpkins_recipe <-\n",
        "  recipe(price ~ package, data = pumpkins_train) %>%\n",
        "  step_integer(all_predictors(), zero_based = TRUE) %>% \n",
        "  step_poly(all_predictors(), degree = 4)\n",
        "\n",
        "\n",
        "# Create a model specification\n",
        "poly_spec <- linear_reg() %>% \n",
        "  set_engine(\"lm\") %>% \n",
        "  set_mode(\"regression\")\n",
        "\n",
        "\n",
        "# Bundle recipe and model spec into a workflow\n",
        "poly_wf <- workflow() %>% \n",
        "  add_recipe(poly_pumpkins_recipe) %>% \n",
        "  add_model(poly_spec)\n",
        "\n",
        "\n",
        "# Create a model\n",
        "poly_wf_fit <- poly_wf %>% \n",
        "  fit(data = pumpkins_train)\n",
        "\n",
        "\n",
        "# Print learned model coefficients\n",
        "poly_wf_fit\n",
        "\n",
        "  "
      ]
    },
    {
      "attachments": {},
      "cell_type": "markdown",
      "metadata": {
        "id": "-LHZtztSxDP0"
      },
      "source": [
        "#### Evaluate model performance\n",
        "\n",
        "👏👏You've built a polynomial model let's make predictions on the test set!"
      ]
    },
    {
      "cell_type": "code",
      "execution_count": 31,
      "metadata": {
        "id": "YUFpQ_dKxJGx",
        "vscode": {
          "languageId": "r"
        }
      },
      "outputs": [
        {
          "data": {
            "text/html": [
              "<table class=\"dataframe\">\n",
              "<caption>A tibble: 10 × 3</caption>\n",
              "<thead>\n",
              "\t<tr><th scope=col>package</th><th scope=col>price</th><th scope=col>.pred</th></tr>\n",
              "\t<tr><th scope=col>&lt;chr&gt;</th><th scope=col>&lt;dbl&gt;</th><th scope=col>&lt;dbl&gt;</th></tr>\n",
              "</thead>\n",
              "<tbody>\n",
              "\t<tr><td>1 1/9 bushel cartons</td><td>13.63636</td><td>15.68923</td></tr>\n",
              "\t<tr><td>1 1/9 bushel cartons</td><td>15.45455</td><td>15.68923</td></tr>\n",
              "\t<tr><td>1 1/9 bushel cartons</td><td>16.36364</td><td>15.68923</td></tr>\n",
              "\t<tr><td>1 1/9 bushel cartons</td><td>14.54545</td><td>15.68923</td></tr>\n",
              "\t<tr><td>1 1/9 bushel cartons</td><td>14.54545</td><td>15.68923</td></tr>\n",
              "\t<tr><td>1/2 bushel cartons  </td><td>34.00000</td><td>34.75130</td></tr>\n",
              "\t<tr><td>1/2 bushel cartons  </td><td>30.00000</td><td>34.75130</td></tr>\n",
              "\t<tr><td>1/2 bushel cartons  </td><td>33.00000</td><td>34.75130</td></tr>\n",
              "\t<tr><td>1/2 bushel cartons  </td><td>30.00000</td><td>34.75130</td></tr>\n",
              "\t<tr><td>1/2 bushel cartons  </td><td>33.00000</td><td>34.75130</td></tr>\n",
              "</tbody>\n",
              "</table>\n"
            ],
            "text/latex": [
              "A tibble: 10 × 3\n",
              "\\begin{tabular}{lll}\n",
              " package & price & .pred\\\\\n",
              " <chr> & <dbl> & <dbl>\\\\\n",
              "\\hline\n",
              "\t 1 1/9 bushel cartons & 13.63636 & 15.68923\\\\\n",
              "\t 1 1/9 bushel cartons & 15.45455 & 15.68923\\\\\n",
              "\t 1 1/9 bushel cartons & 16.36364 & 15.68923\\\\\n",
              "\t 1 1/9 bushel cartons & 14.54545 & 15.68923\\\\\n",
              "\t 1 1/9 bushel cartons & 14.54545 & 15.68923\\\\\n",
              "\t 1/2 bushel cartons   & 34.00000 & 34.75130\\\\\n",
              "\t 1/2 bushel cartons   & 30.00000 & 34.75130\\\\\n",
              "\t 1/2 bushel cartons   & 33.00000 & 34.75130\\\\\n",
              "\t 1/2 bushel cartons   & 30.00000 & 34.75130\\\\\n",
              "\t 1/2 bushel cartons   & 33.00000 & 34.75130\\\\\n",
              "\\end{tabular}\n"
            ],
            "text/markdown": [
              "\n",
              "A tibble: 10 × 3\n",
              "\n",
              "| package &lt;chr&gt; | price &lt;dbl&gt; | .pred &lt;dbl&gt; |\n",
              "|---|---|---|\n",
              "| 1 1/9 bushel cartons | 13.63636 | 15.68923 |\n",
              "| 1 1/9 bushel cartons | 15.45455 | 15.68923 |\n",
              "| 1 1/9 bushel cartons | 16.36364 | 15.68923 |\n",
              "| 1 1/9 bushel cartons | 14.54545 | 15.68923 |\n",
              "| 1 1/9 bushel cartons | 14.54545 | 15.68923 |\n",
              "| 1/2 bushel cartons   | 34.00000 | 34.75130 |\n",
              "| 1/2 bushel cartons   | 30.00000 | 34.75130 |\n",
              "| 1/2 bushel cartons   | 33.00000 | 34.75130 |\n",
              "| 1/2 bushel cartons   | 30.00000 | 34.75130 |\n",
              "| 1/2 bushel cartons   | 33.00000 | 34.75130 |\n",
              "\n"
            ],
            "text/plain": [
              "   package              price    .pred   \n",
              "1  1 1/9 bushel cartons 13.63636 15.68923\n",
              "2  1 1/9 bushel cartons 15.45455 15.68923\n",
              "3  1 1/9 bushel cartons 16.36364 15.68923\n",
              "4  1 1/9 bushel cartons 14.54545 15.68923\n",
              "5  1 1/9 bushel cartons 14.54545 15.68923\n",
              "6  1/2 bushel cartons   34.00000 34.75130\n",
              "7  1/2 bushel cartons   30.00000 34.75130\n",
              "8  1/2 bushel cartons   33.00000 34.75130\n",
              "9  1/2 bushel cartons   30.00000 34.75130\n",
              "10 1/2 bushel cartons   33.00000 34.75130"
            ]
          },
          "metadata": {},
          "output_type": "display_data"
        }
      ],
      "source": [
        "# Make price predictions on test data\n",
        "poly_results <- poly_wf_fit %>% predict(new_data = pumpkins_test) %>% \n",
        "  bind_cols(pumpkins_test %>% select(c(package, price))) %>% \n",
        "  relocate(.pred, .after = last_col())\n",
        "\n",
        "\n",
        "# Print the results\n",
        "poly_results %>% \n",
        "  slice_head(n = 10)"
      ]
    },
    {
      "attachments": {},
      "cell_type": "markdown",
      "metadata": {
        "id": "qxdyj86bxNGZ"
      },
      "source": [
        "Woo-hoo, let's evaluate how the model performed on the test_set using `yardstick::metrics()`."
      ]
    },
    {
      "cell_type": "code",
      "execution_count": 32,
      "metadata": {
        "id": "8AW5ltkBxXDm",
        "vscode": {
          "languageId": "r"
        }
      },
      "outputs": [
        {
          "data": {
            "text/html": [
              "<table class=\"dataframe\">\n",
              "<caption>A tibble: 3 × 3</caption>\n",
              "<thead>\n",
              "\t<tr><th scope=col>.metric</th><th scope=col>.estimator</th><th scope=col>.estimate</th></tr>\n",
              "\t<tr><th scope=col>&lt;chr&gt;</th><th scope=col>&lt;chr&gt;</th><th scope=col>&lt;dbl&gt;</th></tr>\n",
              "</thead>\n",
              "<tbody>\n",
              "\t<tr><td>rmse</td><td>standard</td><td>3.5902227</td></tr>\n",
              "\t<tr><td>rsq </td><td>standard</td><td>0.8850874</td></tr>\n",
              "\t<tr><td>mae </td><td>standard</td><td>2.7714305</td></tr>\n",
              "</tbody>\n",
              "</table>\n"
            ],
            "text/latex": [
              "A tibble: 3 × 3\n",
              "\\begin{tabular}{lll}\n",
              " .metric & .estimator & .estimate\\\\\n",
              " <chr> & <chr> & <dbl>\\\\\n",
              "\\hline\n",
              "\t rmse & standard & 3.5902227\\\\\n",
              "\t rsq  & standard & 0.8850874\\\\\n",
              "\t mae  & standard & 2.7714305\\\\\n",
              "\\end{tabular}\n"
            ],
            "text/markdown": [
              "\n",
              "A tibble: 3 × 3\n",
              "\n",
              "| .metric &lt;chr&gt; | .estimator &lt;chr&gt; | .estimate &lt;dbl&gt; |\n",
              "|---|---|---|\n",
              "| rmse | standard | 3.5902227 |\n",
              "| rsq  | standard | 0.8850874 |\n",
              "| mae  | standard | 2.7714305 |\n",
              "\n"
            ],
            "text/plain": [
              "  .metric .estimator .estimate\n",
              "1 rmse    standard   3.5902227\n",
              "2 rsq     standard   0.8850874\n",
              "3 mae     standard   2.7714305"
            ]
          },
          "metadata": {},
          "output_type": "display_data"
        }
      ],
      "source": [
        "metrics(data = poly_results, truth = price, estimate = .pred)"
      ]
    },
    {
      "attachments": {},
      "cell_type": "markdown",
      "metadata": {
        "id": "6gLHNZDwxYaS"
      },
      "source": [
        "🤩🤩 Much better performance.\n",
        "\n",
        "The `rmse` decreased from about 7. to about 3. an indication that of a reduced error between the actual price and the predicted price. You can *loosely* interpret this as meaning that on average, incorrect predictions are wrong by around \\$3. The `rsq` increased from about 0.4 to 0.8.\n",
        "\n",
        "All these metrics indicate that the polynomial model performs way better than the linear model. Good job!\n",
        "\n",
        "Let's see if we can visualize this!"
      ]
    },
    {
      "cell_type": "code",
      "execution_count": 52,
      "metadata": {
        "id": "A83U16frxdF1",
        "vscode": {
          "languageId": "r"
        }
      },
      "outputs": [
        {
          "data": {
            "text/html": [
              "<table class=\"dataframe\">\n",
              "<caption>A tibble: 5 × 4</caption>\n",
              "<thead>\n",
              "\t<tr><th scope=col>package</th><th scope=col>package_integer</th><th scope=col>price</th><th scope=col>.pred</th></tr>\n",
              "\t<tr><th scope=col>&lt;chr&gt;</th><th scope=col>&lt;int&gt;</th><th scope=col>&lt;dbl&gt;</th><th scope=col>&lt;dbl&gt;</th></tr>\n",
              "</thead>\n",
              "<tbody>\n",
              "\t<tr><td>1 1/9 bushel cartons</td><td>0</td><td>13.63636</td><td>15.68923</td></tr>\n",
              "\t<tr><td>1 1/9 bushel cartons</td><td>0</td><td>15.45455</td><td>15.68923</td></tr>\n",
              "\t<tr><td>1 1/9 bushel cartons</td><td>0</td><td>16.36364</td><td>15.68923</td></tr>\n",
              "\t<tr><td>1 1/9 bushel cartons</td><td>0</td><td>14.54545</td><td>15.68923</td></tr>\n",
              "\t<tr><td>1 1/9 bushel cartons</td><td>0</td><td>14.54545</td><td>15.68923</td></tr>\n",
              "</tbody>\n",
              "</table>\n"
            ],
            "text/latex": [
              "A tibble: 5 × 4\n",
              "\\begin{tabular}{llll}\n",
              " package & package\\_integer & price & .pred\\\\\n",
              " <chr> & <int> & <dbl> & <dbl>\\\\\n",
              "\\hline\n",
              "\t 1 1/9 bushel cartons & 0 & 13.63636 & 15.68923\\\\\n",
              "\t 1 1/9 bushel cartons & 0 & 15.45455 & 15.68923\\\\\n",
              "\t 1 1/9 bushel cartons & 0 & 16.36364 & 15.68923\\\\\n",
              "\t 1 1/9 bushel cartons & 0 & 14.54545 & 15.68923\\\\\n",
              "\t 1 1/9 bushel cartons & 0 & 14.54545 & 15.68923\\\\\n",
              "\\end{tabular}\n"
            ],
            "text/markdown": [
              "\n",
              "A tibble: 5 × 4\n",
              "\n",
              "| package &lt;chr&gt; | package_integer &lt;int&gt; | price &lt;dbl&gt; | .pred &lt;dbl&gt; |\n",
              "|---|---|---|---|\n",
              "| 1 1/9 bushel cartons | 0 | 13.63636 | 15.68923 |\n",
              "| 1 1/9 bushel cartons | 0 | 15.45455 | 15.68923 |\n",
              "| 1 1/9 bushel cartons | 0 | 16.36364 | 15.68923 |\n",
              "| 1 1/9 bushel cartons | 0 | 14.54545 | 15.68923 |\n",
              "| 1 1/9 bushel cartons | 0 | 14.54545 | 15.68923 |\n",
              "\n"
            ],
            "text/plain": [
              "  package              package_integer price    .pred   \n",
              "1 1 1/9 bushel cartons 0               13.63636 15.68923\n",
              "2 1 1/9 bushel cartons 0               15.45455 15.68923\n",
              "3 1 1/9 bushel cartons 0               16.36364 15.68923\n",
              "4 1 1/9 bushel cartons 0               14.54545 15.68923\n",
              "5 1 1/9 bushel cartons 0               14.54545 15.68923"
            ]
          },
          "metadata": {},
          "output_type": "display_data"
        },
        {
          "data": {
            "image/png": "[encoded data removed]",
            "text/plain": [
              "plot without title"
            ]
          },
          "metadata": {
            "image/png": {
              "height": 420,
              "width": 420
            }
          },
          "output_type": "display_data"
        }
      ],
      "source": [
        "# Bind encoded package column to the results\n",
        "poly_results <- poly_results %>% \n",
        "  bind_cols(package_encode %>% \n",
        "              rename(package_integer = package)) %>% \n",
        "  relocate(package_integer, .after = package)\n",
        "\n",
        "\n",
        "# Print new results data frame\n",
        "poly_results %>% \n",
        "  slice_head(n = 5)\n",
        "\n",
        "\n",
        "# Make a scatter plot\n",
        "poly_results %>% \n",
        "  ggplot(mapping = aes(x = package_integer, y = price)) +\n",
        "  geom_point(size = 1.6) +\n",
        "  # Overlay a line of best fit\n",
        "  geom_line(aes(y = .pred), color = \"midnightblue\", size = 1.2) +\n",
        "  xlab(\"package\")\n"
      ]
    },
    {
      "attachments": {},
      "cell_type": "markdown",
      "metadata": {
        "id": "4U-7aHOVxlGU"
      },
      "source": [
        "You can see a curved line that fits your data better! 🤩\n",
        "\n",
        "You can make this more smoother by passing a polynomial formula to `geom_smooth` like this:"
      ]
    },
    {
      "cell_type": "code",
      "execution_count": 53,
      "metadata": {
        "id": "5vzNT0Uexm-w",
        "vscode": {
          "languageId": "r"
        }
      },
      "outputs": [
        {
          "data": {
            "image/png": "[encoded data removed]",
            "text/plain": [
              "plot without title"
            ]
          },
          "metadata": {
            "image/png": {
              "height": 420,
              "width": 420
            }
          },
          "output_type": "display_data"
        }
      ],
      "source": [
        "# Make a scatter plot\n",
        "poly_results %>% \n",
        "  ggplot(mapping = aes(x = package_integer, y = price)) +\n",
        "  geom_point(size = 1.6) +\n",
        "  # Overlay a line of best fit\n",
        "  geom_smooth(method = lm, formula = y ~ poly(x, degree = 4), color = \"midnightblue\", size = 1.2, se = FALSE) +\n",
        "  xlab(\"package\")"
      ]
    },
    {
      "attachments": {},
      "cell_type": "markdown",
      "metadata": {
        "id": "v9u-wwyLxq4G"
      },
      "source": [
        "Much like a smooth curve!🤩\n",
        "\n",
        "Here's how you would make a new prediction:"
      ]
    },
    {
      "cell_type": "code",
      "execution_count": 54,
      "metadata": {
        "id": "jRPSyfQGxuQv",
        "vscode": {
          "languageId": "r"
        }
      },
      "outputs": [
        {
          "data": {
            "text/html": [
              "<dl>\n",
              "\t<dt>$`linear model prediction`</dt>\n",
              "\t\t<dd><table class=\"dataframe\">\n",
              "<caption>A tibble: 1 × 1</caption>\n",
              "<thead>\n",
              "\t<tr><th scope=col>.pred</th></tr>\n",
              "\t<tr><th scope=col>&lt;dbl&gt;</th></tr>\n",
              "</thead>\n",
              "<tbody>\n",
              "\t<tr><td>34.62871</td></tr>\n",
              "</tbody>\n",
              "</table>\n",
              "</dd>\n",
              "\t<dt>$`polynomial model prediction`</dt>\n",
              "\t\t<dd><table class=\"dataframe\">\n",
              "<caption>A tibble: 1 × 1</caption>\n",
              "<thead>\n",
              "\t<tr><th scope=col>.pred</th></tr>\n",
              "\t<tr><th scope=col>&lt;dbl&gt;</th></tr>\n",
              "</thead>\n",
              "<tbody>\n",
              "\t<tr><td>46.625</td></tr>\n",
              "</tbody>\n",
              "</table>\n",
              "</dd>\n",
              "</dl>\n"
            ],
            "text/latex": [
              "\\begin{description}\n",
              "\\item[\\$`linear model prediction`] A tibble: 1 × 1\n",
              "\\begin{tabular}{l}\n",
              " .pred\\\\\n",
              " <dbl>\\\\\n",
              "\\hline\n",
              "\t 34.62871\\\\\n",
              "\\end{tabular}\n",
              "\n",
              "\\item[\\$`polynomial model prediction`] A tibble: 1 × 1\n",
              "\\begin{tabular}{l}\n",
              " .pred\\\\\n",
              " <dbl>\\\\\n",
              "\\hline\n",
              "\t 46.625\\\\\n",
              "\\end{tabular}\n",
              "\n",
              "\\end{description}\n"
            ],
            "text/markdown": [
              "$`linear model prediction`\n",
              ":   \n",
              "A tibble: 1 × 1\n",
              "\n",
              "| .pred &lt;dbl&gt; |\n",
              "|---|\n",
              "| 34.62871 |\n",
              "\n",
              "\n",
              "$`polynomial model prediction`\n",
              ":   \n",
              "A tibble: 1 × 1\n",
              "\n",
              "| .pred &lt;dbl&gt; |\n",
              "|---|\n",
              "| 46.625 |\n",
              "\n",
              "\n",
              "\n",
              "\n"
            ],
            "text/plain": [
              "$`linear model prediction`\n",
              "\u001b[90m# A tibble: 1 × 1\u001b[39m\n",
              "  .pred\n",
              "  \u001b[3m\u001b[90m<dbl>\u001b[39m\u001b[23m\n",
              "\u001b[90m1\u001b[39m  34.6\n",
              "\n",
              "$`polynomial model prediction`\n",
              "\u001b[90m# A tibble: 1 × 1\u001b[39m\n",
              "  .pred\n",
              "  \u001b[3m\u001b[90m<dbl>\u001b[39m\u001b[23m\n",
              "\u001b[90m1\u001b[39m  46.6\n"
            ]
          },
          "metadata": {},
          "output_type": "display_data"
        }
      ],
      "source": [
        "# Make a hypothetical data frame\n",
        "hypo_tibble <- tibble(package = \"bushel baskets\")\n",
        "\n",
        "# Make predictions using linear model\n",
        "lm_pred <- lm_wf_fit %>% predict(new_data = hypo_tibble)\n",
        "\n",
        "# Make predictions using polynomial model\n",
        "poly_pred <- poly_wf_fit %>% predict(new_data = hypo_tibble)\n",
        "\n",
        "# Return predictions in a list\n",
        "list(\"linear model prediction\" = lm_pred, \n",
        "     \"polynomial model prediction\" = poly_pred)\n"
      ]
    },
    {
      "attachments": {},
      "cell_type": "markdown",
      "metadata": {
        "id": "8zOLOWqMxzk5"
      },
      "source": [
        "The `polynomial model` prediction does make sense, given the scatter plots of `price` and `package`! And, if this is a better model than the previous one, looking at the same data, you need to budget for these more expensive pumpkins!\n",
        "\n",
        "🏆 Well done! You created two regression models in one lesson. In the final section on regression, you will learn about logistic regression to determine categories.\n",
        "\n",
        "## **🚀Challenge**\n",
        "\n",
        "Test several different variables in this notebook to see how correlation corresponds to model accuracy.\n",
        "\n",
        "## [**Post-lecture quiz**](https://gray-sand-07a10f403.1.azurestaticapps.net/quiz/14/)\n",
        "\n",
        "## **Review & Self Study**\n",
        "\n",
        "In this lesson we learned about Linear Regression. There are other important types of Regression. Read about Stepwise, Ridge, Lasso and Elasticnet techniques. A good course to study to learn more is the [Stanford Statistical Learning course](https://online.stanford.edu/courses/sohs-ystatslearning-statistical-learning)\n",
        "\n",
        "If you want to learn more about how to use the amazing Tidymodels framework, please check out the following resources:\n",
        "\n",
        "-   Tidymodels website: [Get started with Tidymodels](https://www.tidymodels.org/start/)\n",
        "\n",
        "-   Max Kuhn and Julia Silge, [*Tidy Modeling with R*](https://www.tmwr.org/)*.*\n",
        "\n",
        "###### **THANK YOU TO:**\n",
        "\n",
        "[Allison Horst](https://twitter.com/allison_horst?lang=en) for creating the amazing illustrations that make R more welcoming and engaging. Find more illustrations at her [gallery](https://www.google.com/url?q=https://github.com/allisonhorst/stats-illustrations&sa=D&source=editors&ust=1626380772530000&usg=AOvVaw3zcfyCizFQZpkSLzxiiQEM).\n"
      ]
    }
  ],
  "metadata": {
    "colab": {
      "collapsed_sections": [],
      "name": "lesson_3-R.ipynb",
      "provenance": [],
      "toc_visible": true
    },
    "kernelspec": {
      "display_name": "R",
      "language": "R",
      "name": "ir"
    },
    "language_info": {
      "codemirror_mode": "r",
      "file_extension": ".r",
      "mimetype": "text/x-r-source",
      "name": "R",
      "pygments_lexer": "r",
      "version": "4.0.4"
    }
  },
  "nbformat": 4,
  "nbformat_minor": 2
}
