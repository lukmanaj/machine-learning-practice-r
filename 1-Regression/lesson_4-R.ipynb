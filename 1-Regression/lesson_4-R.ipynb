{
  "cells": [
    {
      "attachments": {},
      "cell_type": "markdown",
      "metadata": {
        "id": "fVfEucLYkV9T"
      },
      "source": [
        "# Build a regression model: logistic regression\n",
        "<br>\n"
      ]
    },
    {
      "attachments": {},
      "cell_type": "markdown",
      "metadata": {
        "id": "QizKKpzakfx2"
      },
      "source": [
        "## Build a logistic regression model - Lesson 4\n",
        "\n",
        "<p >\n",
        "   <img src=\"../../images/logistic-linear.png\"\n",
        "   width=\"600\"/>\n",
        "   <figcaption>Infographic by Dasani Madipalli</figcaption>\n",
        "\n",
        "<!--![Infographic by Dasani Madipalli](../../images/logistic-linear.png){width=\"600\"}-->"
      ]
    },
    {
      "attachments": {},
      "cell_type": "markdown",
      "metadata": {
        "id": "KPmut75XkmXY"
      },
      "source": [
        "#### ** [Pre-lecture quiz](https://gray-sand-07a10f403.1.azurestaticapps.net/quiz/15/)**\n",
        "\n",
        "####  Introduction\n",
        "\n",
        "In this final lesson on Regression, one of the basic *classic* ML techniques, we will take a look at Logistic Regression. You would use this technique to discover patterns to predict `binary` `categories`. Is this candy chocolate or not? Is this disease contagious or not? Will this customer choose this product or not?\n",
        "\n",
        "In this lesson, you will learn:\n",
        "\n",
        "-   Techniques for logistic regression\n",
        "\n",
        "✅ Deepen your understanding of working with this type of regression in this [Learn module](https://docs.microsoft.com/learn/modules/train-evaluate-classification-models?WT.mc_id=academic-77952-leestott)\n",
        "\n",
        "#### **Prerequisite**\n",
        "\n",
        "Having worked with the pumpkin data, we are now familiar enough with it to realize that there's one binary category that we can work with: `Color`.\n",
        "\n",
        "Let's build a logistic regression model to predict that, given some variables, *what color a given pumpkin is likely to be* (orange 🎃 or white 👻).\n",
        "\n",
        "> Why are we talking about binary classification in a lesson grouping about regression? Only for linguistic convenience, as logistic regression is [really a classification method](https://scikit-learn.org/stable/modules/linear_model.html#logistic-regression), albeit a linear-based one. Learn about other ways to classify data in the next lesson group.\n",
        "\n",
        "For this lesson, we'll require the following packages:\n",
        "\n",
        "-   `tidyverse`: The [tidyverse](https://www.tidyverse.org/) is a [collection of R packages](https://www.tidyverse.org/packages) designed to makes data science faster, easier and more fun!\n",
        "\n",
        "-   `tidymodels`: The [tidymodels](https://www.tidymodels.org/) framework is a [collection of packages](https://www.tidymodels.org/packages/) for modeling and machine learning.\n",
        "\n",
        "-   `janitor`: The [janitor package](https://github.com/sfirke/janitor) provides simple little tools for examining and cleaning dirty data.\n",
        "\n",
        "-   `ggbeeswarm`: The [ggbeeswarm package](https://github.com/eclarke/ggbeeswarm) provides methods to create beeswarm-style plots using ggplot2.\n",
        "\n",
        "You can have them installed as:\n",
        "\n",
        "`install.packages(c(\"tidyverse\", \"tidymodels\", \"janitor\", \"ggbeeswarm\"))`\n",
        "\n",
        "Alternately, the script below checks whether you have the packages required to complete this module and installs them for you in case they are missing."
      ]
    },
    {
      "cell_type": "code",
      "execution_count": 1,
      "metadata": {
        "id": "dnIGNNttkx_O",
        "vscode": {
          "languageId": "r"
        }
      },
      "outputs": [
        {
          "name": "stderr",
          "output_type": "stream",
          "text": [
            "Loading required package: pacman\n",
            "\n",
            "Installing package into ‘/home/lukmanaliyu/R/x86_64-pc-linux-gnu-library/4.0’\n",
            "(as ‘lib’ is unspecified)\n",
            "\n",
            "also installing the dependencies ‘beeswarm’, ‘vipor’\n",
            "\n",
            "\n",
            "\n",
            "ggbeeswarm installed\n",
            "\n"
          ]
        }
      ],
      "source": [
        "suppressWarnings(if (!require(\"pacman\")) install.packages(\"pacman\"))\n",
        "\n",
        "pacman::p_load(tidyverse, tidymodels, janitor, ggbeeswarm)"
      ]
    },
    {
      "attachments": {},
      "cell_type": "markdown",
      "metadata": {
        "id": "ws-hP_SXk2O6"
      },
      "source": [
        "## ** Define the question**\n",
        "\n",
        "For our purposes, we will express this as a binary: 'Orange' or 'Not Orange'. There is also a 'striped' category in our dataset but there are few instances of it, so we will not use it. It disappears once we remove null values from the dataset, anyway.\n",
        "\n",
        "> 🎃 Fun fact, we sometimes call white pumpkins 'ghost' pumpkins. They aren't very easy to carve, so they aren't as popular as the orange ones but they are cool looking!\n",
        "\n",
        "## **About logistic regression**\n",
        "\n",
        "Logistic regression differs from linear regression, which you learned about previously, in a few important ways.\n",
        "\n",
        "#### **Binary classification**\n",
        "\n",
        "Logistic regression does not offer the same features as linear regression. The former offers a prediction about a `binary category` (\"orange or not orange\") whereas the latter is capable of predicting `continual values`, for example given the origin of a pumpkin and the time of harvest, *how much its price will rise*.\n",
        "\n",
        "<p >\n",
        "   <img src=\"../../images/pumpkin-classifier.png\"\n",
        "   width=\"600\"/>\n",
        "   <figcaption>Infographic by Dasani Madipalli</figcaption>\n",
        "\n",
        "<!--![Infographic by Dasani Madipalli](../../images/pumpkin-classifier.png){width=\"600\"}-->"
      ]
    },
    {
      "attachments": {},
      "cell_type": "markdown",
      "metadata": {
        "id": "LkLN-ZgDlBEc"
      },
      "source": [
        "#### **Other classifications**\n",
        "\n",
        "There are other types of logistic regression, including multinomial and ordinal:\n",
        "\n",
        "-   **Multinomial**, which involves having more than one category - \"Orange, White, and Striped\".\n",
        "\n",
        "-   **Ordinal**, which involves ordered categories, useful if we wanted to order our outcomes logically, like our pumpkins that are ordered by a finite number of sizes (mini,sm,med,lg,xl,xxl).\n",
        "\n",
        "<p >\n",
        "   <img src=\"../../images/multinomial-ordinal.png\"\n",
        "   width=\"700\"/>\n",
        "   <figcaption>Infographic by Dasani Madipalli</figcaption>\n",
        "\n",
        "<!--![Infographic by Dasani Madipalli](../../images/multinomial-ordinal.png){width=\"600\"}-->"
      ]
    },
    {
      "attachments": {},
      "cell_type": "markdown",
      "metadata": {
        "id": "D8_JoVZtlHUt"
      },
      "source": [
        "**It's still linear**\n",
        "\n",
        "Even though this type of Regression is all about 'category predictions', it still works best when there is a clear linear relationship between the dependent variable (color) and the other independent variables (the rest of the dataset, like city name and size). It's good to get an idea of whether there is any linearity dividing these variables or not.\n",
        "\n",
        "#### **Variables DO NOT have to correlate**\n",
        "\n",
        "Remember how linear regression worked better with more correlated variables? Logistic regression is the opposite - the variables don't have to align. That works for this data which has somewhat weak correlations.\n",
        "\n",
        "#### **You need a lot of clean data**\n",
        "\n",
        "Logistic regression will give more accurate results if you use more data; our small dataset is not optimal for this task, so keep that in mind.\n",
        "\n",
        "✅ Think about the types of data that would lend themselves well to logistic regression\n"
      ]
    },
    {
      "attachments": {},
      "cell_type": "markdown",
      "metadata": {
        "id": "LPj8Ib1AlIua"
      },
      "source": [
        "## 1. Tidy the data\n",
        "\n",
        "Now, the fun begins! Let's start by importing the data, cleaning the data a bit, dropping rows containing missing values and selecting only some of the columns:"
      ]
    },
    {
      "cell_type": "code",
      "execution_count": 2,
      "metadata": {
        "id": "Q8oKJ8PAlLM0",
        "vscode": {
          "languageId": "r"
        }
      },
      "outputs": [
        {
          "name": "stderr",
          "output_type": "stream",
          "text": [
            "\u001b[1m\u001b[22mNew names:\n",
            "\u001b[36m•\u001b[39m `` -> `...25`\n",
            "\u001b[36m•\u001b[39m `` -> `...26`\n",
            "\u001b[1mRows: \u001b[22m\u001b[34m1757\u001b[39m \u001b[1mColumns: \u001b[22m\u001b[34m26\u001b[39m\n",
            "\u001b[36m──\u001b[39m \u001b[1mColumn specification\u001b[22m \u001b[36m────────────────────────────────────────────────────────\u001b[39m\n",
            "\u001b[1mDelimiter:\u001b[22m \",\"\n",
            "\u001b[31mchr\u001b[39m (13): City Name, Type, Package, Variety, Sub Variety, Date, Origin, Orig...\n",
            "\u001b[32mdbl\u001b[39m  (4): Low Price, High Price, Mostly Low, Mostly High\n",
            "\u001b[33mlgl\u001b[39m  (9): Grade, Environment, Quality, Condition, Appearance, Storage, Crop,...\n",
            "\n",
            "\u001b[36mℹ\u001b[39m Use `spec()` to retrieve the full column specification for this data.\n",
            "\u001b[36mℹ\u001b[39m Specify the column types or set `show_col_types = FALSE` to quiet this message.\n"
          ]
        },
        {
          "data": {
            "text/html": [
              "<table class=\"dataframe\">\n",
              "<caption>A tibble: 5 × 6</caption>\n",
              "<thead>\n",
              "\t<tr><th scope=col>city_name</th><th scope=col>package</th><th scope=col>variety</th><th scope=col>origin</th><th scope=col>item_size</th><th scope=col>color</th></tr>\n",
              "\t<tr><th scope=col>&lt;chr&gt;</th><th scope=col>&lt;chr&gt;</th><th scope=col>&lt;chr&gt;</th><th scope=col>&lt;chr&gt;</th><th scope=col>&lt;chr&gt;</th><th scope=col>&lt;fct&gt;</th></tr>\n",
              "</thead>\n",
              "<tbody>\n",
              "\t<tr><td>BALTIMORE</td><td>24 inch bins</td><td>HOWDEN TYPE</td><td>DELAWARE</td><td>med</td><td>ORANGE</td></tr>\n",
              "\t<tr><td>BALTIMORE</td><td>24 inch bins</td><td>HOWDEN TYPE</td><td>VIRGINIA</td><td>med</td><td>ORANGE</td></tr>\n",
              "\t<tr><td>BALTIMORE</td><td>24 inch bins</td><td>HOWDEN TYPE</td><td>MARYLAND</td><td>lge</td><td>ORANGE</td></tr>\n",
              "\t<tr><td>BALTIMORE</td><td>24 inch bins</td><td>HOWDEN TYPE</td><td>MARYLAND</td><td>lge</td><td>ORANGE</td></tr>\n",
              "\t<tr><td>BALTIMORE</td><td>36 inch bins</td><td>HOWDEN TYPE</td><td>MARYLAND</td><td>med</td><td>ORANGE</td></tr>\n",
              "</tbody>\n",
              "</table>\n"
            ],
            "text/latex": [
              "A tibble: 5 × 6\n",
              "\\begin{tabular}{llllll}\n",
              " city\\_name & package & variety & origin & item\\_size & color\\\\\n",
              " <chr> & <chr> & <chr> & <chr> & <chr> & <fct>\\\\\n",
              "\\hline\n",
              "\t BALTIMORE & 24 inch bins & HOWDEN TYPE & DELAWARE & med & ORANGE\\\\\n",
              "\t BALTIMORE & 24 inch bins & HOWDEN TYPE & VIRGINIA & med & ORANGE\\\\\n",
              "\t BALTIMORE & 24 inch bins & HOWDEN TYPE & MARYLAND & lge & ORANGE\\\\\n",
              "\t BALTIMORE & 24 inch bins & HOWDEN TYPE & MARYLAND & lge & ORANGE\\\\\n",
              "\t BALTIMORE & 36 inch bins & HOWDEN TYPE & MARYLAND & med & ORANGE\\\\\n",
              "\\end{tabular}\n"
            ],
            "text/markdown": [
              "\n",
              "A tibble: 5 × 6\n",
              "\n",
              "| city_name &lt;chr&gt; | package &lt;chr&gt; | variety &lt;chr&gt; | origin &lt;chr&gt; | item_size &lt;chr&gt; | color &lt;fct&gt; |\n",
              "|---|---|---|---|---|---|\n",
              "| BALTIMORE | 24 inch bins | HOWDEN TYPE | DELAWARE | med | ORANGE |\n",
              "| BALTIMORE | 24 inch bins | HOWDEN TYPE | VIRGINIA | med | ORANGE |\n",
              "| BALTIMORE | 24 inch bins | HOWDEN TYPE | MARYLAND | lge | ORANGE |\n",
              "| BALTIMORE | 24 inch bins | HOWDEN TYPE | MARYLAND | lge | ORANGE |\n",
              "| BALTIMORE | 36 inch bins | HOWDEN TYPE | MARYLAND | med | ORANGE |\n",
              "\n"
            ],
            "text/plain": [
              "  city_name package      variety     origin   item_size color \n",
              "1 BALTIMORE 24 inch bins HOWDEN TYPE DELAWARE med       ORANGE\n",
              "2 BALTIMORE 24 inch bins HOWDEN TYPE VIRGINIA med       ORANGE\n",
              "3 BALTIMORE 24 inch bins HOWDEN TYPE MARYLAND lge       ORANGE\n",
              "4 BALTIMORE 24 inch bins HOWDEN TYPE MARYLAND lge       ORANGE\n",
              "5 BALTIMORE 36 inch bins HOWDEN TYPE MARYLAND med       ORANGE"
            ]
          },
          "metadata": {},
          "output_type": "display_data"
        }
      ],
      "source": [
        "# Load the core tidyverse packages\n",
        "library(tidyverse)\n",
        "\n",
        "# Import the data and clean column names\n",
        "pumpkins <- read_csv(file = \"https://raw.githubusercontent.com/microsoft/ML-For-Beginners/main/2-Regression/data/US-pumpkins.csv\") %>% \n",
        "  clean_names()\n",
        "\n",
        "# Select desired columns\n",
        "pumpkins_select <- pumpkins %>% \n",
        "  select(c(city_name, package, variety, origin, item_size, color)) \n",
        "\n",
        "# Drop rows containing missing values and encode color as factor (category)\n",
        "pumpkins_select <- pumpkins_select %>% \n",
        "  drop_na() %>% \n",
        "  mutate(color = factor(color))\n",
        "\n",
        "# View the first few rows\n",
        "pumpkins_select %>% \n",
        "  slice_head(n = 5)\n"
      ]
    },
    {
      "attachments": {},
      "cell_type": "markdown",
      "metadata": {
        "id": "tKY5eN8alPNn"
      },
      "source": [
        "Sometimes, we may want some little more information on our data. We can have a look at the `data`, `its structure` and the `data type` of its features by using the [*glimpse()*](https://pillar.r-lib.org/reference/glimpse.html) function as below:"
      ]
    },
    {
      "cell_type": "code",
      "execution_count": 3,
      "metadata": {
        "id": "wDpatL1WlShu",
        "vscode": {
          "languageId": "r"
        }
      },
      "outputs": [
        {
          "name": "stdout",
          "output_type": "stream",
          "text": [
            "Rows: 991\n",
            "Columns: 6\n",
            "$ city_name \u001b[3m\u001b[90m<chr>\u001b[39m\u001b[23m \"BALTIMORE\", \"BALTIMORE\", \"BALTIMORE\", \"BALTIMORE\", \"BALTIMO…\n",
            "$ package   \u001b[3m\u001b[90m<chr>\u001b[39m\u001b[23m \"24 inch bins\", \"24 inch bins\", \"24 inch bins\", \"24 inch bin…\n",
            "$ variety   \u001b[3m\u001b[90m<chr>\u001b[39m\u001b[23m \"HOWDEN TYPE\", \"HOWDEN TYPE\", \"HOWDEN TYPE\", \"HOWDEN TYPE\", …\n",
            "$ origin    \u001b[3m\u001b[90m<chr>\u001b[39m\u001b[23m \"DELAWARE\", \"VIRGINIA\", \"MARYLAND\", \"MARYLAND\", \"MARYLAND\", …\n",
            "$ item_size \u001b[3m\u001b[90m<chr>\u001b[39m\u001b[23m \"med\", \"med\", \"lge\", \"lge\", \"med\", \"lge\", \"med\", \"lge\", \"med…\n",
            "$ color     \u001b[3m\u001b[90m<fct>\u001b[39m\u001b[23m ORANGE, ORANGE, ORANGE, ORANGE, ORANGE, ORANGE, ORANGE, ORAN…\n"
          ]
        }
      ],
      "source": [
        "pumpkins_select %>% \n",
        "  glimpse()"
      ]
    },
    {
      "attachments": {},
      "cell_type": "markdown",
      "metadata": {
        "id": "QbdC2b0JlU2G"
      },
      "source": [
        "Wow! Seems that all our columns are all of type *character*, further alluding that they are all categorical.\n",
        "\n",
        "Let's confirm that we will actually be doing a binary classification problem:"
      ]
    },
    {
      "cell_type": "code",
      "execution_count": 4,
      "metadata": {
        "id": "Gys-Q18rlZpE",
        "vscode": {
          "languageId": "r"
        }
      },
      "outputs": [
        {
          "data": {
            "text/html": [
              "<table class=\"dataframe\">\n",
              "<caption>A tibble: 2 × 1</caption>\n",
              "<thead>\n",
              "\t<tr><th scope=col>color</th></tr>\n",
              "\t<tr><th scope=col>&lt;fct&gt;</th></tr>\n",
              "</thead>\n",
              "<tbody>\n",
              "\t<tr><td>ORANGE</td></tr>\n",
              "\t<tr><td>WHITE </td></tr>\n",
              "</tbody>\n",
              "</table>\n"
            ],
            "text/latex": [
              "A tibble: 2 × 1\n",
              "\\begin{tabular}{l}\n",
              " color\\\\\n",
              " <fct>\\\\\n",
              "\\hline\n",
              "\t ORANGE\\\\\n",
              "\t WHITE \\\\\n",
              "\\end{tabular}\n"
            ],
            "text/markdown": [
              "\n",
              "A tibble: 2 × 1\n",
              "\n",
              "| color &lt;fct&gt; |\n",
              "|---|\n",
              "| ORANGE |\n",
              "| WHITE  |\n",
              "\n"
            ],
            "text/plain": [
              "  color \n",
              "1 ORANGE\n",
              "2 WHITE "
            ]
          },
          "metadata": {},
          "output_type": "display_data"
        }
      ],
      "source": [
        "# Subset distinct observations in outcome column\n",
        "pumpkins_select %>% \n",
        "  distinct(color)"
      ]
    },
    {
      "attachments": {},
      "cell_type": "markdown",
      "metadata": {
        "id": "kn_20wSPldVH"
      },
      "source": [
        "🥳🥳 That went down well!\n",
        "\n",
        "## 2. Explore the data\n",
        "\n",
        "The goal of data exploration is to try to understand the `relationships` between its attributes; in particular, any apparent correlation between the *features* and the *label* your model will try to predict. One way of doing this is by using data visualization.\n",
        "\n",
        "Given our the data types of our columns, we can `encode` them and be on our way to making some visualizations. This simply involves `translating` a column with `categorical values` for example our columns of type *char*, into one or more `numeric columns` that take the place of the original. - Something we did in our [last lesson](https://github.com/microsoft/ML-For-Beginners/blob/main/2-Regression/3-Linear/solution/lesson_3-R.ipynb).\n",
        "\n",
        "Tidymodels provides yet another neat package: [recipes](https://recipes.tidymodels.org/)- a package for preprocessing data. We'll define a `recipe` that specifies that all predictor columns should be encoded into a set of integers , `prep` it to estimates the required quantities and statistics needed by any operations and finally `bake` to apply the computations to new data.\n",
        "\n",
        "> Normally, recipes is usually used as a preprocessor for modelling where it defines what steps should be applied to a data set in order to get it ready for modelling. In that case it is **highly recommend** that you use a `workflow()` instead of manually estimating a recipe using prep and bake. We'll see all this in just a moment.\n",
        ">\n",
        "> However for now, we are using recipes + prep + bake to specify what steps should be applied to a data set in order to get it ready for data analysis and then extract the preprocessed data with the steps applied."
      ]
    },
    {
      "cell_type": "code",
      "execution_count": 5,
      "metadata": {
        "id": "syaCgFQ_lijg",
        "vscode": {
          "languageId": "r"
        }
      },
      "outputs": [
        {
          "data": {
            "text/html": [
              "<table class=\"dataframe\">\n",
              "<caption>A tibble: 5 × 6</caption>\n",
              "<thead>\n",
              "\t<tr><th scope=col>city_name</th><th scope=col>package</th><th scope=col>variety</th><th scope=col>origin</th><th scope=col>item_size</th><th scope=col>color</th></tr>\n",
              "\t<tr><th scope=col>&lt;int&gt;</th><th scope=col>&lt;int&gt;</th><th scope=col>&lt;int&gt;</th><th scope=col>&lt;int&gt;</th><th scope=col>&lt;int&gt;</th><th scope=col>&lt;fct&gt;</th></tr>\n",
              "</thead>\n",
              "<tbody>\n",
              "\t<tr><td>1</td><td>3</td><td>4</td><td> 3</td><td>3</td><td>ORANGE</td></tr>\n",
              "\t<tr><td>1</td><td>3</td><td>4</td><td>17</td><td>3</td><td>ORANGE</td></tr>\n",
              "\t<tr><td>1</td><td>3</td><td>4</td><td> 5</td><td>2</td><td>ORANGE</td></tr>\n",
              "\t<tr><td>1</td><td>3</td><td>4</td><td> 5</td><td>2</td><td>ORANGE</td></tr>\n",
              "\t<tr><td>1</td><td>4</td><td>4</td><td> 5</td><td>3</td><td>ORANGE</td></tr>\n",
              "</tbody>\n",
              "</table>\n"
            ],
            "text/latex": [
              "A tibble: 5 × 6\n",
              "\\begin{tabular}{llllll}\n",
              " city\\_name & package & variety & origin & item\\_size & color\\\\\n",
              " <int> & <int> & <int> & <int> & <int> & <fct>\\\\\n",
              "\\hline\n",
              "\t 1 & 3 & 4 &  3 & 3 & ORANGE\\\\\n",
              "\t 1 & 3 & 4 & 17 & 3 & ORANGE\\\\\n",
              "\t 1 & 3 & 4 &  5 & 2 & ORANGE\\\\\n",
              "\t 1 & 3 & 4 &  5 & 2 & ORANGE\\\\\n",
              "\t 1 & 4 & 4 &  5 & 3 & ORANGE\\\\\n",
              "\\end{tabular}\n"
            ],
            "text/markdown": [
              "\n",
              "A tibble: 5 × 6\n",
              "\n",
              "| city_name &lt;int&gt; | package &lt;int&gt; | variety &lt;int&gt; | origin &lt;int&gt; | item_size &lt;int&gt; | color &lt;fct&gt; |\n",
              "|---|---|---|---|---|---|\n",
              "| 1 | 3 | 4 |  3 | 3 | ORANGE |\n",
              "| 1 | 3 | 4 | 17 | 3 | ORANGE |\n",
              "| 1 | 3 | 4 |  5 | 2 | ORANGE |\n",
              "| 1 | 3 | 4 |  5 | 2 | ORANGE |\n",
              "| 1 | 4 | 4 |  5 | 3 | ORANGE |\n",
              "\n"
            ],
            "text/plain": [
              "  city_name package variety origin item_size color \n",
              "1 1         3       4        3     3         ORANGE\n",
              "2 1         3       4       17     3         ORANGE\n",
              "3 1         3       4        5     2         ORANGE\n",
              "4 1         3       4        5     2         ORANGE\n",
              "5 1         4       4        5     3         ORANGE"
            ]
          },
          "metadata": {},
          "output_type": "display_data"
        }
      ],
      "source": [
        "# Preprocess and extract data to allow some data analysis\n",
        "baked_pumpkins <- recipe(color ~ ., data = pumpkins_select) %>% \n",
        "  # Encode all columns to a set of integers\n",
        "  step_integer(all_predictors(), zero_based = T) %>% \n",
        "  prep() %>% \n",
        "  bake(new_data = NULL)\n",
        "\n",
        "\n",
        "# Display the first few rows of preprocessed data\n",
        "baked_pumpkins %>% \n",
        "  slice_head(n = 5)"
      ]
    },
    {
      "attachments": {},
      "cell_type": "markdown",
      "metadata": {
        "id": "RlkOZ_C5lldq"
      },
      "source": [
        "Now let's compare the feature distributions for each label value using box plots. We'll begin by formatting the data to a *long* format to make it somewhat easier to make multiple `facets`."
      ]
    },
    {
      "cell_type": "code",
      "execution_count": 6,
      "metadata": {
        "id": "putq8DagltUQ",
        "vscode": {
          "languageId": "r"
        }
      },
      "outputs": [
        {
          "data": {
            "text/html": [
              "<table class=\"dataframe\">\n",
              "<caption>A tibble: 10 × 3</caption>\n",
              "<thead>\n",
              "\t<tr><th scope=col>color</th><th scope=col>features</th><th scope=col>values</th></tr>\n",
              "\t<tr><th scope=col>&lt;fct&gt;</th><th scope=col>&lt;chr&gt;</th><th scope=col>&lt;int&gt;</th></tr>\n",
              "</thead>\n",
              "<tbody>\n",
              "\t<tr><td>ORANGE</td><td>city_name</td><td> 1</td></tr>\n",
              "\t<tr><td>ORANGE</td><td>package  </td><td> 3</td></tr>\n",
              "\t<tr><td>ORANGE</td><td>variety  </td><td> 4</td></tr>\n",
              "\t<tr><td>ORANGE</td><td>origin   </td><td> 3</td></tr>\n",
              "\t<tr><td>ORANGE</td><td>item_size</td><td> 3</td></tr>\n",
              "\t<tr><td>ORANGE</td><td>city_name</td><td> 1</td></tr>\n",
              "\t<tr><td>ORANGE</td><td>package  </td><td> 3</td></tr>\n",
              "\t<tr><td>ORANGE</td><td>variety  </td><td> 4</td></tr>\n",
              "\t<tr><td>ORANGE</td><td>origin   </td><td>17</td></tr>\n",
              "\t<tr><td>ORANGE</td><td>item_size</td><td> 3</td></tr>\n",
              "</tbody>\n",
              "</table>\n"
            ],
            "text/latex": [
              "A tibble: 10 × 3\n",
              "\\begin{tabular}{lll}\n",
              " color & features & values\\\\\n",
              " <fct> & <chr> & <int>\\\\\n",
              "\\hline\n",
              "\t ORANGE & city\\_name &  1\\\\\n",
              "\t ORANGE & package   &  3\\\\\n",
              "\t ORANGE & variety   &  4\\\\\n",
              "\t ORANGE & origin    &  3\\\\\n",
              "\t ORANGE & item\\_size &  3\\\\\n",
              "\t ORANGE & city\\_name &  1\\\\\n",
              "\t ORANGE & package   &  3\\\\\n",
              "\t ORANGE & variety   &  4\\\\\n",
              "\t ORANGE & origin    & 17\\\\\n",
              "\t ORANGE & item\\_size &  3\\\\\n",
              "\\end{tabular}\n"
            ],
            "text/markdown": [
              "\n",
              "A tibble: 10 × 3\n",
              "\n",
              "| color &lt;fct&gt; | features &lt;chr&gt; | values &lt;int&gt; |\n",
              "|---|---|---|\n",
              "| ORANGE | city_name |  1 |\n",
              "| ORANGE | package   |  3 |\n",
              "| ORANGE | variety   |  4 |\n",
              "| ORANGE | origin    |  3 |\n",
              "| ORANGE | item_size |  3 |\n",
              "| ORANGE | city_name |  1 |\n",
              "| ORANGE | package   |  3 |\n",
              "| ORANGE | variety   |  4 |\n",
              "| ORANGE | origin    | 17 |\n",
              "| ORANGE | item_size |  3 |\n",
              "\n"
            ],
            "text/plain": [
              "   color  features  values\n",
              "1  ORANGE city_name  1    \n",
              "2  ORANGE package    3    \n",
              "3  ORANGE variety    4    \n",
              "4  ORANGE origin     3    \n",
              "5  ORANGE item_size  3    \n",
              "6  ORANGE city_name  1    \n",
              "7  ORANGE package    3    \n",
              "8  ORANGE variety    4    \n",
              "9  ORANGE origin    17    \n",
              "10 ORANGE item_size  3    "
            ]
          },
          "metadata": {},
          "output_type": "display_data"
        }
      ],
      "source": [
        "# Pivot data to long format\n",
        "baked_pumpkins_long <- baked_pumpkins %>% \n",
        "  pivot_longer(!color, names_to = \"features\", values_to = \"values\")\n",
        "\n",
        "\n",
        "# Print out restructured data\n",
        "baked_pumpkins_long %>% \n",
        "  slice_head(n = 10)\n"
      ]
    },
    {
      "attachments": {},
      "cell_type": "markdown",
      "metadata": {
        "id": "-RHm-12zlt-B"
      },
      "source": [
        "Now, let's make some boxplots showing the distribution of the predictors with respect to the outcome color."
      ]
    },
    {
      "cell_type": "code",
      "execution_count": 7,
      "metadata": {
        "id": "3Py4i1p1l3hP",
        "vscode": {
          "languageId": "r"
        }
      },
      "outputs": [
        {
          "data": {
            "image/png": "[encoded data removed]",
            "text/plain": [
              "plot without title"
            ]
          },
          "metadata": {
            "image/png": {
              "height": 420,
              "width": 420
            }
          },
          "output_type": "display_data"
        }
      ],
      "source": [
        "theme_set(theme_light())\n",
        "#Make a box plot for each predictor feature\n",
        "baked_pumpkins_long %>% \n",
        "  mutate(color = factor(color)) %>% \n",
        "  ggplot(mapping = aes(x = color, y = values, fill = features)) +\n",
        "  geom_boxplot() + \n",
        "  facet_wrap(~ features, scales = \"free\", ncol = 3) +\n",
        "  scale_color_viridis_d(option = \"cividis\", end = .8) +\n",
        "  theme(legend.position = \"none\")"
      ]
    },
    {
      "attachments": {},
      "cell_type": "markdown",
      "metadata": {
        "id": "2LSj6_LCl68V"
      },
      "source": [
        "Amazing🤩! For some of the features, there's a noticeable difference in the distribution for each color label. For instance, it seems the white pumpkins can be found in smaller packages and in some particular varieties of pumpkins. The *item_size* category also seems to make a difference in the color distribution. These features may help predict the color of a pumpkin.\n",
        "\n",
        "#### **Use a swarm plot**\n",
        "\n",
        "Color is a binary category (Orange or Not), it's called `categorical data`. There are other various ways of [visualizing categorical data](https://seaborn.pydata.org/tutorial/categorical.html?highlight=bar).\n",
        "\n",
        "Try a `swarm plot` to show the distribution of color with respect to the item_size.\n",
        "\n",
        "We'll use the [ggbeeswarm package](https://github.com/eclarke/ggbeeswarm) which provides methods to create beeswarm-style plots using ggplot2. Beeswarm plots are a way of plotting points that would ordinarily overlap so that they fall next to each other instead."
      ]
    },
    {
      "cell_type": "code",
      "execution_count": 8,
      "metadata": {
        "id": "hGKeRgUemMTb",
        "vscode": {
          "languageId": "r"
        }
      },
      "outputs": [
        {
          "data": {
            "image/png": "[encoded data removed]",
            "text/plain": [
              "plot without title"
            ]
          },
          "metadata": {
            "image/png": {
              "height": 420,
              "width": 420
            }
          },
          "output_type": "display_data"
        }
      ],
      "source": [
        "# Create beeswarm plots of color and item_size\n",
        "baked_pumpkins %>% \n",
        "  mutate(color = factor(color)) %>% \n",
        "  ggplot(mapping = aes(x = color, y = item_size, color = color)) +\n",
        "  geom_quasirandom() +\n",
        "  scale_color_brewer(palette = \"Dark2\", direction = -1) +\n",
        "  theme(legend.position = \"none\")"
      ]
    },
    {
      "attachments": {},
      "cell_type": "markdown",
      "metadata": {
        "id": "_9wdZJH5mOvN"
      },
      "source": [
        "#### **Violin plot**\n",
        "\n",
        "A 'violin' type plot is useful as you can easily visualize the way that data in the two categories is distributed. [`Violin plots`](https://en.wikipedia.org/wiki/Violin_plot) are similar to box plots, except that they also show the probability density of the data at different values. Violin plots don't work so well with smaller datasets as the distribution is displayed more 'smoothly'."
      ]
    },
    {
      "cell_type": "code",
      "execution_count": 9,
      "metadata": {
        "id": "LFFFymujmTAZ",
        "vscode": {
          "languageId": "r"
        }
      },
      "outputs": [
        {
          "data": {
            "image/png": "[encoded data removed]",
            "text/plain": [
              "plot without title"
            ]
          },
          "metadata": {
            "image/png": {
              "height": 420,
              "width": 420
            }
          },
          "output_type": "display_data"
        }
      ],
      "source": [
        "# Create a violin plot of color and item_size\n",
        "baked_pumpkins %>%\n",
        "  mutate(color = factor(color)) %>% \n",
        "  ggplot(mapping = aes(x = color, y = item_size, fill = color)) +\n",
        "  geom_violin() +\n",
        "  geom_boxplot(color = \"black\", fill = \"white\", width = 0.02) +\n",
        "  scale_fill_brewer(palette = \"Dark2\", direction = -1) +\n",
        "  theme(legend.position = \"none\")"
      ]
    },
    {
      "attachments": {},
      "cell_type": "markdown",
      "metadata": {
        "id": "RA_bnMS9mVo8"
      },
      "source": [
        "Now that we have an idea of the relationship between the binary categories of color and the larger group of sizes, let's explore logistic regression to determine a given pumpkin's likely color.\n",
        "\n",
        "## 3. Build your logistic regression model\n",
        "\n",
        "<p >\n",
        "   <img src=\"../../images/logistic-linear.png\"\n",
        "   width=\"600\"/>\n",
        "   <figcaption>Infographic by Dasani Madipalli</figcaption>\n",
        "\n",
        "> **🧮 Show Me The Math**\n",
        ">\n",
        "> Remember how `linear regression` often used `ordinary least squares` to arrive at a value? `Logistic regression` relies on the concept of 'maximum likelihood' using [`sigmoid functions`](https://wikipedia.org/wiki/Sigmoid_function). A Sigmoid Function on a plot looks like an `S shape`. It takes a value and maps it to somewhere between 0 and 1. Its curve is also called a 'logistic curve'. Its formula looks like this:\n",
        ">\n",
        "> \n",
        "<p >\n",
        "   <img src=\"../../images/sigmoid.png\">\n",
        "\n",
        "\n",
        "> where the sigmoid's midpoint finds itself at x's 0 point, L is the curve's maximum value, and k is the curve's steepness. If the outcome of the function is more than 0.5, the label in question will be given the class 1 of the binary choice. If not, it will be classified as 0.\n",
        "\n",
        "Let's begin by splitting the data into `training` and `test` sets. The training set is used to train a classifier so that it finds a statistical relationship between the features and the label value.\n",
        "\n",
        "It is best practice to hold out some of your data for **testing** in order to get a better estimate of how your models will perform on new data by comparing the predicted labels with the already known labels in the test set. [rsample](https://rsample.tidymodels.org/), a package in Tidymodels, provides infrastructure for efficient data splitting and resampling:"
      ]
    },
    {
      "cell_type": "code",
      "execution_count": null,
      "metadata": {
        "id": "PQdpEYYPmdGW",
        "vscode": {
          "languageId": "r"
        }
      },
      "outputs": [],
      "source": [
        "# Split data into 80% for training and 20% for testing\n",
        "set.seed(2056)\n",
        "pumpkins_split <- pumpkins_select %>% \n",
        "  initial_split(prop = 0.8)\n",
        "\n",
        "# Extract the data in each split\n",
        "pumpkins_train <- training(pumpkins_split)\n",
        "pumpkins_test <- testing(pumpkins_split)\n",
        "\n",
        "# Print out the first 5 rows of the training set\n",
        "pumpkins_train %>% \n",
        "  slice_head(n = 5)"
      ]
    },
    {
      "attachments": {},
      "cell_type": "markdown",
      "metadata": {
        "id": "MX9LipSimhn0"
      },
      "source": [
        "🙌 We are now ready to train a model by fitting the training features to the training label (color).\n",
        "\n",
        "We'll begin by creating a recipe that specifies the preprocessing steps that should be carried out on our data to get it ready for modelling i.e: encoding categorical variables into a set of integers.\n",
        "\n",
        "There are quite a number of ways to specify a logistic regression model in Tidymodels. See `?logistic_reg()` For now, we'll specify a logistic regression model via the default `stats::glm()` engine."
      ]
    },
    {
      "cell_type": "code",
      "execution_count": null,
      "metadata": {
        "id": "0Eo5-SbSmm2-",
        "vscode": {
          "languageId": "r"
        }
      },
      "outputs": [],
      "source": [
        "# Create a recipe that specifies preprocessing steps for modelling\n",
        "pumpkins_recipe <- recipe(color ~ ., data = pumpkins_train) %>% \n",
        "  step_integer(all_predictors(), zero_based = TRUE)\n",
        "\n",
        "\n",
        "# Create a logistic model specification\n",
        "log_reg <- logistic_reg() %>% \n",
        "  set_engine(\"glm\") %>% \n",
        "  set_mode(\"classification\")\n"
      ]
    },
    {
      "attachments": {},
      "cell_type": "markdown",
      "metadata": {
        "id": "G599GKhXmqWf"
      },
      "source": [
        "Now that we have a recipe and a model specification, we need to find a way of bundling them together into an object that will first preprocess the data (prep+bake behind the scenes), fit the model on the preprocessed data and also allow for potential post-processing activities.\n",
        "\n",
        "In Tidymodels, this convenient object is called a [`workflow`](https://workflows.tidymodels.org/) and conveniently holds your modeling components."
      ]
    },
    {
      "cell_type": "code",
      "execution_count": null,
      "metadata": {
        "id": "cRoU0tpbmu1T",
        "vscode": {
          "languageId": "r"
        }
      },
      "outputs": [],
      "source": [
        "# Bundle modelling components in a workflow\n",
        "log_reg_wf <- workflow() %>% \n",
        "  add_recipe(pumpkins_recipe) %>% \n",
        "  add_model(log_reg)\n",
        "\n",
        "# Print out the workflow\n",
        "log_reg_wf\n"
      ]
    },
    {
      "attachments": {},
      "cell_type": "markdown",
      "metadata": {
        "id": "JnRXKmREnEpd"
      },
      "source": [
        "After a workflow has been *specified*, a model can be `trained` using the [`fit()`](https://tidymodels.github.io/parsnip/reference/fit.html) function. The workflow will estimate a recipe and preprocess the data before training, so we won't have to manually do that using prep and bake."
      ]
    },
    {
      "cell_type": "code",
      "execution_count": null,
      "metadata": {
        "id": "ehFwfkjWnNCb",
        "vscode": {
          "languageId": "r"
        }
      },
      "outputs": [],
      "source": [
        "# Train the model\n",
        "wf_fit <- log_reg_wf %>% \n",
        "  fit(data = pumpkins_train)\n",
        "\n",
        "# Print the trained workflow\n",
        "wf_fit"
      ]
    },
    {
      "attachments": {},
      "cell_type": "markdown",
      "metadata": {
        "id": "w01dGNZjnOJQ"
      },
      "source": [
        "The model print out shows the coefficients learned during training.\n",
        "\n",
        "Now we've trained the model using the training data, we can make predictions on the test data using [parsnip::predict()](https://parsnip.tidymodels.org/reference/predict.model_fit.html). Let's start by using the model to predict labels for our test set and the probabilities for each label. When the probability is more than 0.5, the predict class is `ORANGE` else `WHITE`."
      ]
    },
    {
      "cell_type": "code",
      "execution_count": null,
      "metadata": {
        "id": "K8PNjPfTnak2",
        "vscode": {
          "languageId": "r"
        }
      },
      "outputs": [],
      "source": [
        "# Make predictions for color and corresponding probabilities\n",
        "results <- pumpkins_test %>% select(color) %>% \n",
        "  bind_cols(wf_fit %>% \n",
        "              predict(new_data = pumpkins_test)) %>%\n",
        "  bind_cols(wf_fit %>%\n",
        "              predict(new_data = pumpkins_test, type = \"prob\"))\n",
        "\n",
        "# Compare predictions\n",
        "results %>% \n",
        "  slice_head(n = 10)"
      ]
    },
    {
      "attachments": {},
      "cell_type": "markdown",
      "metadata": {
        "id": "N3J-yW0wngKo"
      },
      "source": [
        "Very nice! This provides some more insights into how logistic regression works.\n",
        "\n",
        "Comparing each prediction with its corresponding \"ground truth\" actual value isn't a very efficient way to determine how well the model is predicting. Fortunately, Tidymodels has a few more tricks up its sleeve: [`yardstick`](https://yardstick.tidymodels.org/) - a package used to measure the effectiveness of models using performance metrics.\n",
        "\n",
        "One performance metric associated with classification problems is the [`confusion matrix`](https://wikipedia.org/wiki/Confusion_matrix). A confusion matrix describes how well a classification model performs. A confusion matrix tabulates how many examples in each class were correctly classified by a model. In our case, it will show you how many orange pumpkins were classified as orange and how many white pumpkins were classified as white; the confusion matrix also shows you how many were classified into the **wrong** categories.\n",
        "\n",
        "The [**`conf_mat()`**](https://tidymodels.github.io/yardstick/reference/conf_mat.html) function from yardstick calculates this cross-tabulation of observed and predicted classes."
      ]
    },
    {
      "cell_type": "code",
      "execution_count": null,
      "metadata": {
        "id": "0RD77Dq1nl2j",
        "vscode": {
          "languageId": "r"
        }
      },
      "outputs": [],
      "source": [
        "# Confusion matrix for prediction results\n",
        "conf_mat(data = results, truth = color, estimate = .pred_class)"
      ]
    },
    {
      "attachments": {},
      "cell_type": "markdown",
      "metadata": {
        "id": "H61sFwdOnoiO"
      },
      "source": [
        "Let's interpret the confusion matrix. Our model is asked to classify pumpkins between two binary categories, category `orange` and category `not-orange`\n",
        "\n",
        "-   If your model predicts a pumpkin as orange and it belongs to category 'orange' in reality we call it a `true positive`, shown by the top left number.\n",
        "\n",
        "-   If your model predicts a pumpkin as not orange and it belongs to category 'orange' in reality we call it a `false negative`, shown by the bottom left number.\n",
        "\n",
        "-   If your model predicts a pumpkin as orange and it belongs to category 'not-orange' in reality we call it a `false positive`, shown by the top right number.\n",
        "\n",
        "-   If your model predicts a pumpkin as not orange and it belongs to category 'not-orange' in reality we call it a `true negative`, shown by the bottom right number.\n",
        "\n",
        "\n",
        "| **Truth** |\n",
        "|:-----:|\n",
        "\n",
        "\n",
        "|               |        |       |\n",
        "|---------------|--------|-------|\n",
        "| **Predicted** | ORANGE | WHITE |\n",
        "| ORANGE        | TP     | FP    |\n",
        "| WHITE         | FN     | TN    |"
      ]
    },
    {
      "attachments": {},
      "cell_type": "markdown",
      "metadata": {
        "id": "Yc6QUie2oQUr"
      },
      "source": [
        "As you might have guessed it's preferable to have a larger number of true positives and true negatives and a lower number of false positives and false negatives, which implies that the model performs better.\n",
        "\n",
        "The confusion matrix is helpful since it gives rise to other metrics that can help us better evaluate the performance of a classification model. Let's go through some of them:\n",
        "\n",
        "🎓 Precision: `TP/(TP + FP)` defined as the proportion of predicted positives that are actually positive. Also called [positive predictive value](https://en.wikipedia.org/wiki/Positive_predictive_value \"Positive predictive value\")\n",
        "\n",
        "🎓 Recall: `TP/(TP + FN)` defined as the proportion of positive results out of the number of samples which were actually positive. Also known as `sensitivity`.\n",
        "\n",
        "🎓 Specificity: `TN/(TN + FP)` defined as the proportion of negative results out of the number of samples which were actually negative.\n",
        "\n",
        "🎓 Accuracy: `TP + TN/(TP + TN + FP + FN)` The percentage of labels predicted accurately for a sample.\n",
        "\n",
        "🎓 F Measure: A weighted average of the precision and recall, with best being 1 and worst being 0.\n",
        "\n",
        "Let's calculate these metrics!"
      ]
    },
    {
      "cell_type": "code",
      "execution_count": null,
      "metadata": {
        "id": "p6rXx_T3oVxX",
        "vscode": {
          "languageId": "r"
        }
      },
      "outputs": [],
      "source": [
        "# Combine metric functions and calculate them all at once\n",
        "eval_metrics <- metric_set(ppv, recall, spec, f_meas, accuracy)\n",
        "eval_metrics(data = results, truth = color, estimate = .pred_class)"
      ]
    },
    {
      "attachments": {},
      "cell_type": "markdown",
      "metadata": {
        "id": "JcenzZo1oaKR"
      },
      "source": [
        "#### **Visualize the ROC curve of this model**\n",
        "\n",
        "For a start, this is not a bad model; its precision, recall, F measure and accuracy are in the 80% range so ideally you could use it to predict the color of a pumpkin given a set of variables. It also seems that our model was not really able to identify the white pumpkins 🧐. Could you guess why? One reason could be because of the high prevalence of ORANGE pumpkins in our training set making our model more inclined to predict the majority class.\n",
        "\n",
        "Let's do one more visualization to see the so-called [`ROC score`](https://en.wikipedia.org/wiki/Receiver_operating_characteristic):"
      ]
    },
    {
      "cell_type": "code",
      "execution_count": null,
      "metadata": {
        "id": "BcmkHHHwogRB",
        "vscode": {
          "languageId": "r"
        }
      },
      "outputs": [],
      "source": [
        "# Make a roc_curve\n",
        "results %>% \n",
        "  roc_curve(color, .pred_ORANGE) %>% \n",
        "  autoplot()"
      ]
    },
    {
      "attachments": {},
      "cell_type": "markdown",
      "metadata": {
        "id": "P_an3vc1oqjI"
      },
      "source": [
        "ROC curves are often used to get a view of the output of a classifier in terms of its true vs. false positives. ROC curves typically feature `True Positive Rate`/Sensitivity on the Y axis, and `False Positive Rate`/1-Specificity on the X axis. Thus, the steepness of the curve and the space between the midpoint line and the curve matter: you want a curve that quickly heads up and over the line. In our case, there are false positives to start with, and then the line heads up and over properly.\n",
        "\n",
        "Finally, let's use `yardstick::roc_auc()` to calculate the actual Area Under the Curve. One way of interpreting AUC is as the probability that the model ranks a random positive example more highly than a random negative example."
      ]
    },
    {
      "cell_type": "code",
      "execution_count": null,
      "metadata": {
        "id": "SZyy5BT8ovew",
        "vscode": {
          "languageId": "r"
        }
      },
      "outputs": [],
      "source": [
        "# Calculate area under curve\n",
        "results %>% \n",
        "  roc_auc(color, .pred_ORANGE)"
      ]
    },
    {
      "attachments": {},
      "cell_type": "markdown",
      "metadata": {
        "id": "5jtVKLTVoy6u"
      },
      "source": [
        "The result is around `0.67053`. Given that the AUC ranges from 0 to 1, you want a big score, since a model that is 100% correct in its predictions will have an AUC of 1; in this case, the model is *pretty good*.\n",
        "\n",
        "In future lessons on classifications, you will learn how to improve your model's scores (such as dealing with imbalanced data in this case).\n",
        "\n",
        "But for now, congratulations 🎉🎉🎉! You've completed these regression lessons!\n",
        "\n",
        "You R awesome!\n",
        "\n",
        "<p >\n",
        "   <img src=\"../../images/r_learners_sm.jpeg\"\n",
        "   width=\"600\"/>\n",
        "   <figcaption>Artwork by @allison_horst</figcaption>\n",
        "\n",
        "<!--![Artwork by @allison_horst](../../images/r_learners_sm.jpeg)-->\n"
      ]
    }
  ],
  "metadata": {
    "colab": {
      "collapsed_sections": [],
      "name": "Untitled10.ipynb",
      "provenance": []
    },
    "kernelspec": {
      "display_name": "R",
      "language": "R",
      "name": "ir"
    },
    "language_info": {
      "codemirror_mode": "r",
      "file_extension": ".r",
      "mimetype": "text/x-r-source",
      "name": "R",
      "pygments_lexer": "r",
      "version": "4.0.4"
    }
  },
  "nbformat": 4,
  "nbformat_minor": 2
}
