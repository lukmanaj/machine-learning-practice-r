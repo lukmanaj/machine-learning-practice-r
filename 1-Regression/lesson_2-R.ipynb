{
  "cells": [
    {
      "attachments": {},
      "cell_type": "markdown",
      "metadata": {
        "id": "Pg5aexcOPqAZ"
      },
      "source": [
        "# Build a regression model: prepare and visualize data\n",
        "\n",
        "## **Linear Regression for Pumpkins - Lesson 2**\n",
        "#### Introduction\n",
        "\n",
        "Now that you are set up with the tools you need to start tackling machine learning model building with Tidymodels and the Tidyverse, you are ready to start asking questions of your data. As you work with data and apply ML solutions, it's very important to understand how to ask the right question to properly unlock the potentials of your dataset.\n",
        "\n",
        "In this lesson, you will learn:\n",
        "\n",
        "-   How to prepare your data for model-building.\n",
        "\n",
        "-   How to use `ggplot2` for data visualization.\n",
        "\n",
        "The question you need answered will determine what type of ML algorithms you will leverage. And the quality of the answer you get back will be heavily dependent on the nature of your data.\n",
        "\n",
        "Let's see this by working through a practical exercise.\n",
        "\n",
        "\n",
        "<p >\n",
        "   <img src=\"../../images/unruly_data.jpg\"\n",
        "   width=\"700\"/>\n",
        "   <figcaption>Artwork by @allison_horst</figcaption>\n",
        "\n",
        "\n",
        "<!--![Artwork by \\@allison_horst](../../images/unruly_data.jpg)<br>Artwork by \\@allison_horst-->"
      ]
    },
    {
      "attachments": {},
      "cell_type": "markdown",
      "metadata": {
        "id": "dc5WhyVdXAjR"
      },
      "source": [
        "## 1. Importing pumpkins data and summoning the Tidyverse\n",
        "\n",
        "We'll require the following packages to slice and dice this lesson:\n",
        "\n",
        "-   `tidyverse`: The [tidyverse](https://www.tidyverse.org/) is a [collection of R packages](https://www.tidyverse.org/packages) designed to makes data science faster, easier and more fun!\n",
        "\n",
        "You can have them installed as:\n",
        "\n",
        "`install.packages(c(\"tidyverse\"))`\n",
        "\n",
        "The script below checks whether you have the packages required to complete this module and installs them for you in case some are missing."
      ]
    },
    {
      "attachments": {},
      "cell_type": "markdown",
      "metadata": {
        "id": "kvjDTPDSXRr2"
      },
      "source": [
        "Now, let's fire up some packages and load the [data](https://github.com/microsoft/ML-For-Beginners/blob/main/2-Regression/data/US-pumpkins.csv) provided for this lesson!"
      ]
    },
    {
      "cell_type": "code",
      "execution_count": 1,
      "metadata": {
        "id": "VMri-t2zXqgD",
        "vscode": {
          "languageId": "r"
        }
      },
      "outputs": [
        {
          "name": "stderr",
          "output_type": "stream",
          "text": [
            "── \u001b[1mAttaching packages\u001b[22m ─────────────────────────────────────── tidyverse 1.3.2 ──\n",
            "\u001b[32m✔\u001b[39m \u001b[34mggplot2\u001b[39m 3.4.0     \u001b[32m✔\u001b[39m \u001b[34mpurrr  \u001b[39m 1.0.1\n",
            "\u001b[32m✔\u001b[39m \u001b[34mtibble \u001b[39m 3.2.1     \u001b[32m✔\u001b[39m \u001b[34mdplyr  \u001b[39m 1.1.2\n",
            "\u001b[32m✔\u001b[39m \u001b[34mtidyr  \u001b[39m 1.2.1     \u001b[32m✔\u001b[39m \u001b[34mstringr\u001b[39m 1.5.0\n",
            "\u001b[32m✔\u001b[39m \u001b[34mreadr  \u001b[39m 2.1.3     \u001b[32m✔\u001b[39m \u001b[34mforcats\u001b[39m 0.5.2\n",
            "── \u001b[1mConflicts\u001b[22m ────────────────────────────────────────── tidyverse_conflicts() ──\n",
            "\u001b[31m✖\u001b[39m \u001b[34mdplyr\u001b[39m::\u001b[32mfilter()\u001b[39m masks \u001b[34mstats\u001b[39m::filter()\n",
            "\u001b[31m✖\u001b[39m \u001b[34mdplyr\u001b[39m::\u001b[32mlag()\u001b[39m    masks \u001b[34mstats\u001b[39m::lag()\n",
            "\u001b[1m\u001b[22mNew names:\n",
            "\u001b[36m•\u001b[39m `` -> `...25`\n",
            "\u001b[36m•\u001b[39m `` -> `...26`\n",
            "\u001b[1mRows: \u001b[22m\u001b[34m1757\u001b[39m \u001b[1mColumns: \u001b[22m\u001b[34m26\u001b[39m\n",
            "\u001b[36m──\u001b[39m \u001b[1mColumn specification\u001b[22m \u001b[36m────────────────────────────────────────────────────────\u001b[39m\n",
            "\u001b[1mDelimiter:\u001b[22m \",\"\n",
            "\u001b[31mchr\u001b[39m (13): City Name, Type, Package, Variety, Sub Variety, Date, Origin, Orig...\n",
            "\u001b[32mdbl\u001b[39m  (4): Low Price, High Price, Mostly Low, Mostly High\n",
            "\u001b[33mlgl\u001b[39m  (9): Grade, Environment, Quality, Condition, Appearance, Storage, Crop,...\n",
            "\n",
            "\u001b[36mℹ\u001b[39m Use `spec()` to retrieve the full column specification for this data.\n",
            "\u001b[36mℹ\u001b[39m Specify the column types or set `show_col_types = FALSE` to quiet this message.\n"
          ]
        },
        {
          "name": "stdout",
          "output_type": "stream",
          "text": [
            "Rows: 1,757\n",
            "Columns: 26\n",
            "$ `City Name`       \u001b[3m\u001b[90m<chr>\u001b[39m\u001b[23m \"BALTIMORE\", \"BALTIMORE\", \"BALTIMORE\", \"BALTIMORE\", …\n",
            "$ Type              \u001b[3m\u001b[90m<chr>\u001b[39m\u001b[23m NA, NA, NA, NA, NA, NA, NA, NA, NA, NA, NA, NA, NA, …\n",
            "$ Package           \u001b[3m\u001b[90m<chr>\u001b[39m\u001b[23m \"24 inch bins\", \"24 inch bins\", \"24 inch bins\", \"24 …\n",
            "$ Variety           \u001b[3m\u001b[90m<chr>\u001b[39m\u001b[23m NA, NA, \"HOWDEN TYPE\", \"HOWDEN TYPE\", \"HOWDEN TYPE\",…\n",
            "$ `Sub Variety`     \u001b[3m\u001b[90m<chr>\u001b[39m\u001b[23m NA, NA, NA, NA, NA, NA, NA, NA, NA, NA, NA, NA, NA, …\n",
            "$ Grade             \u001b[3m\u001b[90m<lgl>\u001b[39m\u001b[23m NA, NA, NA, NA, NA, NA, NA, NA, NA, NA, NA, NA, NA, …\n",
            "$ Date              \u001b[3m\u001b[90m<chr>\u001b[39m\u001b[23m \"4/29/17\", \"5/6/17\", \"9/24/16\", \"9/24/16\", \"11/5/16\"…\n",
            "$ `Low Price`       \u001b[3m\u001b[90m<dbl>\u001b[39m\u001b[23m 270, 270, 160, 160, 90, 90, 160, 160, 160, 160, 160,…\n",
            "$ `High Price`      \u001b[3m\u001b[90m<dbl>\u001b[39m\u001b[23m 280, 280, 160, 160, 100, 100, 170, 160, 170, 160, 17…\n",
            "$ `Mostly Low`      \u001b[3m\u001b[90m<dbl>\u001b[39m\u001b[23m 270, 270, 160, 160, 90, 90, 160, 160, 160, 160, 160,…\n",
            "$ `Mostly High`     \u001b[3m\u001b[90m<dbl>\u001b[39m\u001b[23m 280, 280, 160, 160, 100, 100, 170, 160, 170, 160, 17…\n",
            "$ Origin            \u001b[3m\u001b[90m<chr>\u001b[39m\u001b[23m \"MARYLAND\", \"MARYLAND\", \"DELAWARE\", \"VIRGINIA\", \"MAR…\n",
            "$ `Origin District` \u001b[3m\u001b[90m<chr>\u001b[39m\u001b[23m NA, NA, NA, NA, NA, NA, NA, NA, NA, NA, NA, NA, NA, …\n",
            "$ `Item Size`       \u001b[3m\u001b[90m<chr>\u001b[39m\u001b[23m \"lge\", \"lge\", \"med\", \"med\", \"lge\", \"lge\", \"med\", \"lg…\n",
            "$ Color             \u001b[3m\u001b[90m<chr>\u001b[39m\u001b[23m NA, NA, \"ORANGE\", \"ORANGE\", \"ORANGE\", \"ORANGE\", \"ORA…\n",
            "$ Environment       \u001b[3m\u001b[90m<lgl>\u001b[39m\u001b[23m NA, NA, NA, NA, NA, NA, NA, NA, NA, NA, NA, NA, NA, …\n",
            "$ `Unit of Sale`    \u001b[3m\u001b[90m<chr>\u001b[39m\u001b[23m NA, NA, NA, NA, NA, NA, NA, NA, NA, NA, NA, NA, NA, …\n",
            "$ Quality           \u001b[3m\u001b[90m<lgl>\u001b[39m\u001b[23m NA, NA, NA, NA, NA, NA, NA, NA, NA, NA, NA, NA, NA, …\n",
            "$ Condition         \u001b[3m\u001b[90m<lgl>\u001b[39m\u001b[23m NA, NA, NA, NA, NA, NA, NA, NA, NA, NA, NA, NA, NA, …\n",
            "$ Appearance        \u001b[3m\u001b[90m<lgl>\u001b[39m\u001b[23m NA, NA, NA, NA, NA, NA, NA, NA, NA, NA, NA, NA, NA, …\n",
            "$ Storage           \u001b[3m\u001b[90m<lgl>\u001b[39m\u001b[23m NA, NA, NA, NA, NA, NA, NA, NA, NA, NA, NA, NA, NA, …\n",
            "$ Crop              \u001b[3m\u001b[90m<lgl>\u001b[39m\u001b[23m NA, NA, NA, NA, NA, NA, NA, NA, NA, NA, NA, NA, NA, …\n",
            "$ Repack            \u001b[3m\u001b[90m<chr>\u001b[39m\u001b[23m \"E\", \"E\", \"N\", \"N\", \"N\", \"N\", \"N\", \"N\", \"N\", \"N\", \"N…\n",
            "$ `Trans Mode`      \u001b[3m\u001b[90m<lgl>\u001b[39m\u001b[23m NA, NA, NA, NA, NA, NA, NA, NA, NA, NA, NA, NA, NA, …\n",
            "$ ...25             \u001b[3m\u001b[90m<lgl>\u001b[39m\u001b[23m NA, NA, NA, NA, NA, NA, NA, NA, NA, NA, NA, NA, NA, …\n",
            "$ ...26             \u001b[3m\u001b[90m<chr>\u001b[39m\u001b[23m NA, NA, NA, NA, NA, NA, NA, NA, NA, NA, NA, NA, NA, …\n"
          ]
        },
        {
          "data": {
            "text/html": [
              "<table class=\"dataframe\">\n",
              "<caption>A spec_tbl_df: 50 × 26</caption>\n",
              "<thead>\n",
              "\t<tr><th scope=col>City Name</th><th scope=col>Type</th><th scope=col>Package</th><th scope=col>Variety</th><th scope=col>Sub Variety</th><th scope=col>Grade</th><th scope=col>Date</th><th scope=col>Low Price</th><th scope=col>High Price</th><th scope=col>Mostly Low</th><th scope=col>⋯</th><th scope=col>Unit of Sale</th><th scope=col>Quality</th><th scope=col>Condition</th><th scope=col>Appearance</th><th scope=col>Storage</th><th scope=col>Crop</th><th scope=col>Repack</th><th scope=col>Trans Mode</th><th scope=col>...25</th><th scope=col>...26</th></tr>\n",
              "\t<tr><th scope=col>&lt;chr&gt;</th><th scope=col>&lt;chr&gt;</th><th scope=col>&lt;chr&gt;</th><th scope=col>&lt;chr&gt;</th><th scope=col>&lt;chr&gt;</th><th scope=col>&lt;lgl&gt;</th><th scope=col>&lt;chr&gt;</th><th scope=col>&lt;dbl&gt;</th><th scope=col>&lt;dbl&gt;</th><th scope=col>&lt;dbl&gt;</th><th scope=col>⋯</th><th scope=col>&lt;chr&gt;</th><th scope=col>&lt;lgl&gt;</th><th scope=col>&lt;lgl&gt;</th><th scope=col>&lt;lgl&gt;</th><th scope=col>&lt;lgl&gt;</th><th scope=col>&lt;lgl&gt;</th><th scope=col>&lt;chr&gt;</th><th scope=col>&lt;lgl&gt;</th><th scope=col>&lt;lgl&gt;</th><th scope=col>&lt;chr&gt;</th></tr>\n",
              "</thead>\n",
              "<tbody>\n",
              "\t<tr><td>BALTIMORE</td><td>NA</td><td>24 inch bins</td><td>NA               </td><td>NA</td><td>NA</td><td>4/29/17 </td><td>270</td><td>280</td><td>270</td><td>⋯</td><td>NA</td><td>NA</td><td>NA</td><td>NA</td><td>NA</td><td>NA</td><td>E</td><td>NA</td><td>NA</td><td>NA</td></tr>\n",
              "\t<tr><td>BALTIMORE</td><td>NA</td><td>24 inch bins</td><td>NA               </td><td>NA</td><td>NA</td><td>5/6/17  </td><td>270</td><td>280</td><td>270</td><td>⋯</td><td>NA</td><td>NA</td><td>NA</td><td>NA</td><td>NA</td><td>NA</td><td>E</td><td>NA</td><td>NA</td><td>NA</td></tr>\n",
              "\t<tr><td>BALTIMORE</td><td>NA</td><td>24 inch bins</td><td>HOWDEN TYPE      </td><td>NA</td><td>NA</td><td>9/24/16 </td><td>160</td><td>160</td><td>160</td><td>⋯</td><td>NA</td><td>NA</td><td>NA</td><td>NA</td><td>NA</td><td>NA</td><td>N</td><td>NA</td><td>NA</td><td>NA</td></tr>\n",
              "\t<tr><td>BALTIMORE</td><td>NA</td><td>24 inch bins</td><td>HOWDEN TYPE      </td><td>NA</td><td>NA</td><td>9/24/16 </td><td>160</td><td>160</td><td>160</td><td>⋯</td><td>NA</td><td>NA</td><td>NA</td><td>NA</td><td>NA</td><td>NA</td><td>N</td><td>NA</td><td>NA</td><td>NA</td></tr>\n",
              "\t<tr><td>BALTIMORE</td><td>NA</td><td>24 inch bins</td><td>HOWDEN TYPE      </td><td>NA</td><td>NA</td><td>11/5/16 </td><td> 90</td><td>100</td><td> 90</td><td>⋯</td><td>NA</td><td>NA</td><td>NA</td><td>NA</td><td>NA</td><td>NA</td><td>N</td><td>NA</td><td>NA</td><td>NA</td></tr>\n",
              "\t<tr><td>BALTIMORE</td><td>NA</td><td>24 inch bins</td><td>HOWDEN TYPE      </td><td>NA</td><td>NA</td><td>11/12/16</td><td> 90</td><td>100</td><td> 90</td><td>⋯</td><td>NA</td><td>NA</td><td>NA</td><td>NA</td><td>NA</td><td>NA</td><td>N</td><td>NA</td><td>NA</td><td>NA</td></tr>\n",
              "\t<tr><td>BALTIMORE</td><td>NA</td><td>36 inch bins</td><td>HOWDEN TYPE      </td><td>NA</td><td>NA</td><td>9/24/16 </td><td>160</td><td>170</td><td>160</td><td>⋯</td><td>NA</td><td>NA</td><td>NA</td><td>NA</td><td>NA</td><td>NA</td><td>N</td><td>NA</td><td>NA</td><td>NA</td></tr>\n",
              "\t<tr><td>BALTIMORE</td><td>NA</td><td>36 inch bins</td><td>HOWDEN TYPE      </td><td>NA</td><td>NA</td><td>9/24/16 </td><td>160</td><td>160</td><td>160</td><td>⋯</td><td>NA</td><td>NA</td><td>NA</td><td>NA</td><td>NA</td><td>NA</td><td>N</td><td>NA</td><td>NA</td><td>NA</td></tr>\n",
              "\t<tr><td>BALTIMORE</td><td>NA</td><td>36 inch bins</td><td>HOWDEN TYPE      </td><td>NA</td><td>NA</td><td>10/1/16 </td><td>160</td><td>170</td><td>160</td><td>⋯</td><td>NA</td><td>NA</td><td>NA</td><td>NA</td><td>NA</td><td>NA</td><td>N</td><td>NA</td><td>NA</td><td>NA</td></tr>\n",
              "\t<tr><td>BALTIMORE</td><td>NA</td><td>36 inch bins</td><td>HOWDEN TYPE      </td><td>NA</td><td>NA</td><td>10/1/16 </td><td>160</td><td>160</td><td>160</td><td>⋯</td><td>NA</td><td>NA</td><td>NA</td><td>NA</td><td>NA</td><td>NA</td><td>N</td><td>NA</td><td>NA</td><td>NA</td></tr>\n",
              "\t<tr><td>BALTIMORE</td><td>NA</td><td>36 inch bins</td><td>HOWDEN TYPE      </td><td>NA</td><td>NA</td><td>10/8/16 </td><td>160</td><td>170</td><td>160</td><td>⋯</td><td>NA</td><td>NA</td><td>NA</td><td>NA</td><td>NA</td><td>NA</td><td>N</td><td>NA</td><td>NA</td><td>NA</td></tr>\n",
              "\t<tr><td>BALTIMORE</td><td>NA</td><td>36 inch bins</td><td>HOWDEN TYPE      </td><td>NA</td><td>NA</td><td>10/8/16 </td><td>160</td><td>160</td><td>160</td><td>⋯</td><td>NA</td><td>NA</td><td>NA</td><td>NA</td><td>NA</td><td>NA</td><td>N</td><td>NA</td><td>NA</td><td>NA</td></tr>\n",
              "\t<tr><td>BALTIMORE</td><td>NA</td><td>36 inch bins</td><td>HOWDEN TYPE      </td><td>NA</td><td>NA</td><td>10/15/16</td><td>150</td><td>160</td><td>150</td><td>⋯</td><td>NA</td><td>NA</td><td>NA</td><td>NA</td><td>NA</td><td>NA</td><td>N</td><td>NA</td><td>NA</td><td>NA</td></tr>\n",
              "\t<tr><td>BALTIMORE</td><td>NA</td><td>36 inch bins</td><td>HOWDEN TYPE      </td><td>NA</td><td>NA</td><td>10/15/16</td><td>150</td><td>170</td><td>150</td><td>⋯</td><td>NA</td><td>NA</td><td>NA</td><td>NA</td><td>NA</td><td>NA</td><td>N</td><td>NA</td><td>NA</td><td>NA</td></tr>\n",
              "\t<tr><td>BALTIMORE</td><td>NA</td><td>36 inch bins</td><td>HOWDEN TYPE      </td><td>NA</td><td>NA</td><td>10/22/16</td><td>150</td><td>160</td><td>150</td><td>⋯</td><td>NA</td><td>NA</td><td>NA</td><td>NA</td><td>NA</td><td>NA</td><td>N</td><td>NA</td><td>NA</td><td>NA</td></tr>\n",
              "\t<tr><td>BALTIMORE</td><td>NA</td><td>36 inch bins</td><td>HOWDEN TYPE      </td><td>NA</td><td>NA</td><td>10/22/16</td><td>140</td><td>160</td><td>140</td><td>⋯</td><td>NA</td><td>NA</td><td>NA</td><td>NA</td><td>NA</td><td>NA</td><td>N</td><td>NA</td><td>NA</td><td>NA</td></tr>\n",
              "\t<tr><td>BALTIMORE</td><td>NA</td><td>36 inch bins</td><td>HOWDEN TYPE      </td><td>NA</td><td>NA</td><td>10/29/16</td><td>100</td><td>160</td><td>100</td><td>⋯</td><td>NA</td><td>NA</td><td>NA</td><td>NA</td><td>NA</td><td>NA</td><td>N</td><td>NA</td><td>NA</td><td>NA</td></tr>\n",
              "\t<tr><td>BALTIMORE</td><td>NA</td><td>36 inch bins</td><td>HOWDEN TYPE      </td><td>NA</td><td>NA</td><td>10/29/16</td><td>130</td><td>160</td><td>130</td><td>⋯</td><td>NA</td><td>NA</td><td>NA</td><td>NA</td><td>NA</td><td>NA</td><td>N</td><td>NA</td><td>NA</td><td>NA</td></tr>\n",
              "\t<tr><td>BALTIMORE</td><td>NA</td><td>36 inch bins</td><td>HOWDEN TYPE      </td><td>NA</td><td>NA</td><td>10/29/16</td><td>130</td><td>130</td><td>130</td><td>⋯</td><td>NA</td><td>NA</td><td>NA</td><td>NA</td><td>NA</td><td>NA</td><td>N</td><td>NA</td><td>NA</td><td>NA</td></tr>\n",
              "\t<tr><td>BALTIMORE</td><td>NA</td><td>36 inch bins</td><td>HOWDEN TYPE      </td><td>NA</td><td>NA</td><td>11/5/16 </td><td>120</td><td>130</td><td>120</td><td>⋯</td><td>NA</td><td>NA</td><td>NA</td><td>NA</td><td>NA</td><td>NA</td><td>N</td><td>NA</td><td>NA</td><td>NA</td></tr>\n",
              "\t<tr><td>BALTIMORE</td><td>NA</td><td>36 inch bins</td><td>HOWDEN TYPE      </td><td>NA</td><td>NA</td><td>11/5/16 </td><td>100</td><td>130</td><td>100</td><td>⋯</td><td>NA</td><td>NA</td><td>NA</td><td>NA</td><td>NA</td><td>NA</td><td>N</td><td>NA</td><td>NA</td><td>NA</td></tr>\n",
              "\t<tr><td>BALTIMORE</td><td>NA</td><td>36 inch bins</td><td>HOWDEN TYPE      </td><td>NA</td><td>NA</td><td>11/5/16 </td><td> 90</td><td>100</td><td> 90</td><td>⋯</td><td>NA</td><td>NA</td><td>NA</td><td>NA</td><td>NA</td><td>NA</td><td>N</td><td>NA</td><td>NA</td><td>NA</td></tr>\n",
              "\t<tr><td>BALTIMORE</td><td>NA</td><td>36 inch bins</td><td>HOWDEN TYPE      </td><td>NA</td><td>NA</td><td>11/12/16</td><td>100</td><td>120</td><td>100</td><td>⋯</td><td>NA</td><td>NA</td><td>NA</td><td>NA</td><td>NA</td><td>NA</td><td>N</td><td>NA</td><td>NA</td><td>NA</td></tr>\n",
              "\t<tr><td>BALTIMORE</td><td>NA</td><td>36 inch bins</td><td>HOWDEN TYPE      </td><td>NA</td><td>NA</td><td>9/16/17 </td><td>160</td><td>160</td><td>160</td><td>⋯</td><td>NA</td><td>NA</td><td>NA</td><td>NA</td><td>NA</td><td>NA</td><td>N</td><td>NA</td><td>NA</td><td>NA</td></tr>\n",
              "\t<tr><td>BALTIMORE</td><td>NA</td><td>36 inch bins</td><td>HOWDEN TYPE      </td><td>NA</td><td>NA</td><td>9/23/17 </td><td>160</td><td>160</td><td>160</td><td>⋯</td><td>NA</td><td>NA</td><td>NA</td><td>NA</td><td>NA</td><td>NA</td><td>N</td><td>NA</td><td>NA</td><td>NA</td></tr>\n",
              "\t<tr><td>BALTIMORE</td><td>NA</td><td>36 inch bins</td><td>HOWDEN TYPE      </td><td>NA</td><td>NA</td><td>9/30/17 </td><td>150</td><td>160</td><td>150</td><td>⋯</td><td>NA</td><td>NA</td><td>NA</td><td>NA</td><td>NA</td><td>NA</td><td>N</td><td>NA</td><td>NA</td><td>NA</td></tr>\n",
              "\t<tr><td>BALTIMORE</td><td>NA</td><td>36 inch bins</td><td>HOWDEN TYPE      </td><td>NA</td><td>NA</td><td>9/30/17 </td><td>150</td><td>160</td><td>150</td><td>⋯</td><td>NA</td><td>NA</td><td>NA</td><td>NA</td><td>NA</td><td>NA</td><td>N</td><td>NA</td><td>NA</td><td>NA</td></tr>\n",
              "\t<tr><td>BALTIMORE</td><td>NA</td><td>24 inch bins</td><td>HOWDEN WHITE TYPE</td><td>NA</td><td>NA</td><td>9/23/17 </td><td>160</td><td>180</td><td>160</td><td>⋯</td><td>NA</td><td>NA</td><td>NA</td><td>NA</td><td>NA</td><td>NA</td><td>N</td><td>NA</td><td>NA</td><td>NA</td></tr>\n",
              "\t<tr><td>BALTIMORE</td><td>NA</td><td>24 inch bins</td><td>HOWDEN WHITE TYPE</td><td>NA</td><td>NA</td><td>9/30/17 </td><td>180</td><td>180</td><td>180</td><td>⋯</td><td>NA</td><td>NA</td><td>NA</td><td>NA</td><td>NA</td><td>NA</td><td>N</td><td>NA</td><td>NA</td><td>NA</td></tr>\n",
              "\t<tr><td>BALTIMORE</td><td>NA</td><td>24 inch bins</td><td>CINDERELLA       </td><td>NA</td><td>NA</td><td>6/3/17  </td><td>380</td><td>380</td><td>380</td><td>⋯</td><td>NA</td><td>NA</td><td>NA</td><td>NA</td><td>NA</td><td>NA</td><td>E</td><td>NA</td><td>NA</td><td>NA</td></tr>\n",
              "\t<tr><td>BALTIMORE</td><td>NA</td><td>24 inch bins</td><td>CINDERELLA       </td><td>NA</td><td>NA</td><td>6/10/17 </td><td>380</td><td>380</td><td>380</td><td>⋯</td><td>NA</td><td>NA</td><td>NA</td><td>NA</td><td>NA</td><td>NA</td><td>E</td><td>NA</td><td>NA</td><td>NA</td></tr>\n",
              "\t<tr><td>BALTIMORE</td><td>NA</td><td>24 inch bins</td><td>CINDERELLA       </td><td>NA</td><td>NA</td><td>6/17/17 </td><td>380</td><td>380</td><td>380</td><td>⋯</td><td>NA</td><td>NA</td><td>NA</td><td>NA</td><td>NA</td><td>NA</td><td>E</td><td>NA</td><td>NA</td><td>NA</td></tr>\n",
              "\t<tr><td>BALTIMORE</td><td>NA</td><td>24 inch bins</td><td>CINDERELLA       </td><td>NA</td><td>NA</td><td>8/19/17 </td><td>200</td><td>200</td><td>200</td><td>⋯</td><td>NA</td><td>NA</td><td>NA</td><td>NA</td><td>NA</td><td>NA</td><td>N</td><td>NA</td><td>NA</td><td>NA</td></tr>\n",
              "\t<tr><td>BALTIMORE</td><td>NA</td><td>24 inch bins</td><td>CINDERELLA       </td><td>NA</td><td>NA</td><td>8/26/17 </td><td>200</td><td>350</td><td>200</td><td>⋯</td><td>NA</td><td>NA</td><td>NA</td><td>NA</td><td>NA</td><td>NA</td><td>N</td><td>NA</td><td>NA</td><td>NA</td></tr>\n",
              "\t<tr><td>BALTIMORE</td><td>NA</td><td>24 inch bins</td><td>CINDERELLA       </td><td>NA</td><td>NA</td><td>9/2/17  </td><td>350</td><td>350</td><td>350</td><td>⋯</td><td>NA</td><td>NA</td><td>NA</td><td>NA</td><td>NA</td><td>NA</td><td>N</td><td>NA</td><td>NA</td><td>NA</td></tr>\n",
              "\t<tr><td>BALTIMORE</td><td>NA</td><td>24 inch bins</td><td>CINDERELLA       </td><td>NA</td><td>NA</td><td>9/9/17  </td><td>180</td><td>180</td><td>180</td><td>⋯</td><td>NA</td><td>NA</td><td>NA</td><td>NA</td><td>NA</td><td>NA</td><td>N</td><td>NA</td><td>NA</td><td>NA</td></tr>\n",
              "\t<tr><td>BALTIMORE</td><td>NA</td><td>24 inch bins</td><td>CINDERELLA       </td><td>NA</td><td>NA</td><td>9/9/17  </td><td>200</td><td>200</td><td>200</td><td>⋯</td><td>NA</td><td>NA</td><td>NA</td><td>NA</td><td>NA</td><td>NA</td><td>N</td><td>NA</td><td>NA</td><td>NA</td></tr>\n",
              "\t<tr><td>BALTIMORE</td><td>NA</td><td>24 inch bins</td><td>CINDERELLA       </td><td>NA</td><td>NA</td><td>9/16/17 </td><td>180</td><td>200</td><td>180</td><td>⋯</td><td>NA</td><td>NA</td><td>NA</td><td>NA</td><td>NA</td><td>NA</td><td>N</td><td>NA</td><td>NA</td><td>NA</td></tr>\n",
              "\t<tr><td>BALTIMORE</td><td>NA</td><td>24 inch bins</td><td>CINDERELLA       </td><td>NA</td><td>NA</td><td>9/16/17 </td><td>180</td><td>200</td><td>180</td><td>⋯</td><td>NA</td><td>NA</td><td>NA</td><td>NA</td><td>NA</td><td>NA</td><td>N</td><td>NA</td><td>NA</td><td>NA</td></tr>\n",
              "\t<tr><td>BALTIMORE</td><td>NA</td><td>24 inch bins</td><td>CINDERELLA       </td><td>NA</td><td>NA</td><td>9/23/17 </td><td>340</td><td>340</td><td>340</td><td>⋯</td><td>NA</td><td>NA</td><td>NA</td><td>NA</td><td>NA</td><td>NA</td><td>N</td><td>NA</td><td>NA</td><td>NA</td></tr>\n",
              "\t<tr><td>BALTIMORE</td><td>NA</td><td>24 inch bins</td><td>CINDERELLA       </td><td>NA</td><td>NA</td><td>9/23/17 </td><td>240</td><td>250</td><td>240</td><td>⋯</td><td>NA</td><td>NA</td><td>NA</td><td>NA</td><td>NA</td><td>NA</td><td>N</td><td>NA</td><td>NA</td><td>NA</td></tr>\n",
              "\t<tr><td>BALTIMORE</td><td>NA</td><td>24 inch bins</td><td>CINDERELLA       </td><td>NA</td><td>NA</td><td>9/23/17 </td><td>200</td><td>200</td><td>200</td><td>⋯</td><td>NA</td><td>NA</td><td>NA</td><td>NA</td><td>NA</td><td>NA</td><td>N</td><td>NA</td><td>NA</td><td>NA</td></tr>\n",
              "\t<tr><td>BALTIMORE</td><td>NA</td><td>24 inch bins</td><td>CINDERELLA       </td><td>NA</td><td>NA</td><td>9/30/17 </td><td>340</td><td>340</td><td>340</td><td>⋯</td><td>NA</td><td>NA</td><td>NA</td><td>NA</td><td>NA</td><td>NA</td><td>N</td><td>NA</td><td>NA</td><td>NA</td></tr>\n",
              "\t<tr><td>BALTIMORE</td><td>NA</td><td>24 inch bins</td><td>CINDERELLA       </td><td>NA</td><td>NA</td><td>9/30/17 </td><td>240</td><td>250</td><td>240</td><td>⋯</td><td>NA</td><td>NA</td><td>NA</td><td>NA</td><td>NA</td><td>NA</td><td>N</td><td>NA</td><td>NA</td><td>NA</td></tr>\n",
              "\t<tr><td>BALTIMORE</td><td>NA</td><td>24 inch bins</td><td>CINDERELLA       </td><td>NA</td><td>NA</td><td>9/30/17 </td><td>180</td><td>200</td><td>180</td><td>⋯</td><td>NA</td><td>NA</td><td>NA</td><td>NA</td><td>NA</td><td>NA</td><td>N</td><td>NA</td><td>NA</td><td>NA</td></tr>\n",
              "\t<tr><td>BALTIMORE</td><td>NA</td><td>50 lb sacks </td><td>CINDERELLA       </td><td>NA</td><td>NA</td><td>8/12/17 </td><td> 29</td><td> 29</td><td> 29</td><td>⋯</td><td>NA</td><td>NA</td><td>NA</td><td>NA</td><td>NA</td><td>NA</td><td>N</td><td>NA</td><td>NA</td><td>NA</td></tr>\n",
              "\t<tr><td>BALTIMORE</td><td>NA</td><td>50 lb sacks </td><td>CINDERELLA       </td><td>NA</td><td>NA</td><td>8/12/17 </td><td> 29</td><td> 29</td><td> 29</td><td>⋯</td><td>NA</td><td>NA</td><td>NA</td><td>NA</td><td>NA</td><td>NA</td><td>N</td><td>NA</td><td>NA</td><td>NA</td></tr>\n",
              "\t<tr><td>BALTIMORE</td><td>NA</td><td>50 lb sacks </td><td>CINDERELLA       </td><td>NA</td><td>NA</td><td>8/19/17 </td><td> 28</td><td> 29</td><td> 28</td><td>⋯</td><td>NA</td><td>NA</td><td>NA</td><td>NA</td><td>NA</td><td>NA</td><td>N</td><td>NA</td><td>NA</td><td>NA</td></tr>\n",
              "\t<tr><td>BALTIMORE</td><td>NA</td><td>50 lb sacks </td><td>CINDERELLA       </td><td>NA</td><td>NA</td><td>8/26/17 </td><td> 28</td><td> 29</td><td> 28</td><td>⋯</td><td>NA</td><td>NA</td><td>NA</td><td>NA</td><td>NA</td><td>NA</td><td>N</td><td>NA</td><td>NA</td><td>NA</td></tr>\n",
              "\t<tr><td>BALTIMORE</td><td>NA</td><td>50 lb sacks </td><td>CINDERELLA       </td><td>NA</td><td>NA</td><td>8/26/17 </td><td> 29</td><td> 29</td><td> 29</td><td>⋯</td><td>NA</td><td>NA</td><td>NA</td><td>NA</td><td>NA</td><td>NA</td><td>N</td><td>NA</td><td>NA</td><td>NA</td></tr>\n",
              "</tbody>\n",
              "</table>\n"
            ],
            "text/latex": [
              "A spec\\_tbl\\_df: 50 × 26\n",
              "\\begin{tabular}{lllllllllllllllllllll}\n",
              " City Name & Type & Package & Variety & Sub Variety & Grade & Date & Low Price & High Price & Mostly Low & ⋯ & Unit of Sale & Quality & Condition & Appearance & Storage & Crop & Repack & Trans Mode & ...25 & ...26\\\\\n",
              " <chr> & <chr> & <chr> & <chr> & <chr> & <lgl> & <chr> & <dbl> & <dbl> & <dbl> & ⋯ & <chr> & <lgl> & <lgl> & <lgl> & <lgl> & <lgl> & <chr> & <lgl> & <lgl> & <chr>\\\\\n",
              "\\hline\n",
              "\t BALTIMORE & NA & 24 inch bins & NA                & NA & NA & 4/29/17  & 270 & 280 & 270 & ⋯ & NA & NA & NA & NA & NA & NA & E & NA & NA & NA\\\\\n",
              "\t BALTIMORE & NA & 24 inch bins & NA                & NA & NA & 5/6/17   & 270 & 280 & 270 & ⋯ & NA & NA & NA & NA & NA & NA & E & NA & NA & NA\\\\\n",
              "\t BALTIMORE & NA & 24 inch bins & HOWDEN TYPE       & NA & NA & 9/24/16  & 160 & 160 & 160 & ⋯ & NA & NA & NA & NA & NA & NA & N & NA & NA & NA\\\\\n",
              "\t BALTIMORE & NA & 24 inch bins & HOWDEN TYPE       & NA & NA & 9/24/16  & 160 & 160 & 160 & ⋯ & NA & NA & NA & NA & NA & NA & N & NA & NA & NA\\\\\n",
              "\t BALTIMORE & NA & 24 inch bins & HOWDEN TYPE       & NA & NA & 11/5/16  &  90 & 100 &  90 & ⋯ & NA & NA & NA & NA & NA & NA & N & NA & NA & NA\\\\\n",
              "\t BALTIMORE & NA & 24 inch bins & HOWDEN TYPE       & NA & NA & 11/12/16 &  90 & 100 &  90 & ⋯ & NA & NA & NA & NA & NA & NA & N & NA & NA & NA\\\\\n",
              "\t BALTIMORE & NA & 36 inch bins & HOWDEN TYPE       & NA & NA & 9/24/16  & 160 & 170 & 160 & ⋯ & NA & NA & NA & NA & NA & NA & N & NA & NA & NA\\\\\n",
              "\t BALTIMORE & NA & 36 inch bins & HOWDEN TYPE       & NA & NA & 9/24/16  & 160 & 160 & 160 & ⋯ & NA & NA & NA & NA & NA & NA & N & NA & NA & NA\\\\\n",
              "\t BALTIMORE & NA & 36 inch bins & HOWDEN TYPE       & NA & NA & 10/1/16  & 160 & 170 & 160 & ⋯ & NA & NA & NA & NA & NA & NA & N & NA & NA & NA\\\\\n",
              "\t BALTIMORE & NA & 36 inch bins & HOWDEN TYPE       & NA & NA & 10/1/16  & 160 & 160 & 160 & ⋯ & NA & NA & NA & NA & NA & NA & N & NA & NA & NA\\\\\n",
              "\t BALTIMORE & NA & 36 inch bins & HOWDEN TYPE       & NA & NA & 10/8/16  & 160 & 170 & 160 & ⋯ & NA & NA & NA & NA & NA & NA & N & NA & NA & NA\\\\\n",
              "\t BALTIMORE & NA & 36 inch bins & HOWDEN TYPE       & NA & NA & 10/8/16  & 160 & 160 & 160 & ⋯ & NA & NA & NA & NA & NA & NA & N & NA & NA & NA\\\\\n",
              "\t BALTIMORE & NA & 36 inch bins & HOWDEN TYPE       & NA & NA & 10/15/16 & 150 & 160 & 150 & ⋯ & NA & NA & NA & NA & NA & NA & N & NA & NA & NA\\\\\n",
              "\t BALTIMORE & NA & 36 inch bins & HOWDEN TYPE       & NA & NA & 10/15/16 & 150 & 170 & 150 & ⋯ & NA & NA & NA & NA & NA & NA & N & NA & NA & NA\\\\\n",
              "\t BALTIMORE & NA & 36 inch bins & HOWDEN TYPE       & NA & NA & 10/22/16 & 150 & 160 & 150 & ⋯ & NA & NA & NA & NA & NA & NA & N & NA & NA & NA\\\\\n",
              "\t BALTIMORE & NA & 36 inch bins & HOWDEN TYPE       & NA & NA & 10/22/16 & 140 & 160 & 140 & ⋯ & NA & NA & NA & NA & NA & NA & N & NA & NA & NA\\\\\n",
              "\t BALTIMORE & NA & 36 inch bins & HOWDEN TYPE       & NA & NA & 10/29/16 & 100 & 160 & 100 & ⋯ & NA & NA & NA & NA & NA & NA & N & NA & NA & NA\\\\\n",
              "\t BALTIMORE & NA & 36 inch bins & HOWDEN TYPE       & NA & NA & 10/29/16 & 130 & 160 & 130 & ⋯ & NA & NA & NA & NA & NA & NA & N & NA & NA & NA\\\\\n",
              "\t BALTIMORE & NA & 36 inch bins & HOWDEN TYPE       & NA & NA & 10/29/16 & 130 & 130 & 130 & ⋯ & NA & NA & NA & NA & NA & NA & N & NA & NA & NA\\\\\n",
              "\t BALTIMORE & NA & 36 inch bins & HOWDEN TYPE       & NA & NA & 11/5/16  & 120 & 130 & 120 & ⋯ & NA & NA & NA & NA & NA & NA & N & NA & NA & NA\\\\\n",
              "\t BALTIMORE & NA & 36 inch bins & HOWDEN TYPE       & NA & NA & 11/5/16  & 100 & 130 & 100 & ⋯ & NA & NA & NA & NA & NA & NA & N & NA & NA & NA\\\\\n",
              "\t BALTIMORE & NA & 36 inch bins & HOWDEN TYPE       & NA & NA & 11/5/16  &  90 & 100 &  90 & ⋯ & NA & NA & NA & NA & NA & NA & N & NA & NA & NA\\\\\n",
              "\t BALTIMORE & NA & 36 inch bins & HOWDEN TYPE       & NA & NA & 11/12/16 & 100 & 120 & 100 & ⋯ & NA & NA & NA & NA & NA & NA & N & NA & NA & NA\\\\\n",
              "\t BALTIMORE & NA & 36 inch bins & HOWDEN TYPE       & NA & NA & 9/16/17  & 160 & 160 & 160 & ⋯ & NA & NA & NA & NA & NA & NA & N & NA & NA & NA\\\\\n",
              "\t BALTIMORE & NA & 36 inch bins & HOWDEN TYPE       & NA & NA & 9/23/17  & 160 & 160 & 160 & ⋯ & NA & NA & NA & NA & NA & NA & N & NA & NA & NA\\\\\n",
              "\t BALTIMORE & NA & 36 inch bins & HOWDEN TYPE       & NA & NA & 9/30/17  & 150 & 160 & 150 & ⋯ & NA & NA & NA & NA & NA & NA & N & NA & NA & NA\\\\\n",
              "\t BALTIMORE & NA & 36 inch bins & HOWDEN TYPE       & NA & NA & 9/30/17  & 150 & 160 & 150 & ⋯ & NA & NA & NA & NA & NA & NA & N & NA & NA & NA\\\\\n",
              "\t BALTIMORE & NA & 24 inch bins & HOWDEN WHITE TYPE & NA & NA & 9/23/17  & 160 & 180 & 160 & ⋯ & NA & NA & NA & NA & NA & NA & N & NA & NA & NA\\\\\n",
              "\t BALTIMORE & NA & 24 inch bins & HOWDEN WHITE TYPE & NA & NA & 9/30/17  & 180 & 180 & 180 & ⋯ & NA & NA & NA & NA & NA & NA & N & NA & NA & NA\\\\\n",
              "\t BALTIMORE & NA & 24 inch bins & CINDERELLA        & NA & NA & 6/3/17   & 380 & 380 & 380 & ⋯ & NA & NA & NA & NA & NA & NA & E & NA & NA & NA\\\\\n",
              "\t BALTIMORE & NA & 24 inch bins & CINDERELLA        & NA & NA & 6/10/17  & 380 & 380 & 380 & ⋯ & NA & NA & NA & NA & NA & NA & E & NA & NA & NA\\\\\n",
              "\t BALTIMORE & NA & 24 inch bins & CINDERELLA        & NA & NA & 6/17/17  & 380 & 380 & 380 & ⋯ & NA & NA & NA & NA & NA & NA & E & NA & NA & NA\\\\\n",
              "\t BALTIMORE & NA & 24 inch bins & CINDERELLA        & NA & NA & 8/19/17  & 200 & 200 & 200 & ⋯ & NA & NA & NA & NA & NA & NA & N & NA & NA & NA\\\\\n",
              "\t BALTIMORE & NA & 24 inch bins & CINDERELLA        & NA & NA & 8/26/17  & 200 & 350 & 200 & ⋯ & NA & NA & NA & NA & NA & NA & N & NA & NA & NA\\\\\n",
              "\t BALTIMORE & NA & 24 inch bins & CINDERELLA        & NA & NA & 9/2/17   & 350 & 350 & 350 & ⋯ & NA & NA & NA & NA & NA & NA & N & NA & NA & NA\\\\\n",
              "\t BALTIMORE & NA & 24 inch bins & CINDERELLA        & NA & NA & 9/9/17   & 180 & 180 & 180 & ⋯ & NA & NA & NA & NA & NA & NA & N & NA & NA & NA\\\\\n",
              "\t BALTIMORE & NA & 24 inch bins & CINDERELLA        & NA & NA & 9/9/17   & 200 & 200 & 200 & ⋯ & NA & NA & NA & NA & NA & NA & N & NA & NA & NA\\\\\n",
              "\t BALTIMORE & NA & 24 inch bins & CINDERELLA        & NA & NA & 9/16/17  & 180 & 200 & 180 & ⋯ & NA & NA & NA & NA & NA & NA & N & NA & NA & NA\\\\\n",
              "\t BALTIMORE & NA & 24 inch bins & CINDERELLA        & NA & NA & 9/16/17  & 180 & 200 & 180 & ⋯ & NA & NA & NA & NA & NA & NA & N & NA & NA & NA\\\\\n",
              "\t BALTIMORE & NA & 24 inch bins & CINDERELLA        & NA & NA & 9/23/17  & 340 & 340 & 340 & ⋯ & NA & NA & NA & NA & NA & NA & N & NA & NA & NA\\\\\n",
              "\t BALTIMORE & NA & 24 inch bins & CINDERELLA        & NA & NA & 9/23/17  & 240 & 250 & 240 & ⋯ & NA & NA & NA & NA & NA & NA & N & NA & NA & NA\\\\\n",
              "\t BALTIMORE & NA & 24 inch bins & CINDERELLA        & NA & NA & 9/23/17  & 200 & 200 & 200 & ⋯ & NA & NA & NA & NA & NA & NA & N & NA & NA & NA\\\\\n",
              "\t BALTIMORE & NA & 24 inch bins & CINDERELLA        & NA & NA & 9/30/17  & 340 & 340 & 340 & ⋯ & NA & NA & NA & NA & NA & NA & N & NA & NA & NA\\\\\n",
              "\t BALTIMORE & NA & 24 inch bins & CINDERELLA        & NA & NA & 9/30/17  & 240 & 250 & 240 & ⋯ & NA & NA & NA & NA & NA & NA & N & NA & NA & NA\\\\\n",
              "\t BALTIMORE & NA & 24 inch bins & CINDERELLA        & NA & NA & 9/30/17  & 180 & 200 & 180 & ⋯ & NA & NA & NA & NA & NA & NA & N & NA & NA & NA\\\\\n",
              "\t BALTIMORE & NA & 50 lb sacks  & CINDERELLA        & NA & NA & 8/12/17  &  29 &  29 &  29 & ⋯ & NA & NA & NA & NA & NA & NA & N & NA & NA & NA\\\\\n",
              "\t BALTIMORE & NA & 50 lb sacks  & CINDERELLA        & NA & NA & 8/12/17  &  29 &  29 &  29 & ⋯ & NA & NA & NA & NA & NA & NA & N & NA & NA & NA\\\\\n",
              "\t BALTIMORE & NA & 50 lb sacks  & CINDERELLA        & NA & NA & 8/19/17  &  28 &  29 &  28 & ⋯ & NA & NA & NA & NA & NA & NA & N & NA & NA & NA\\\\\n",
              "\t BALTIMORE & NA & 50 lb sacks  & CINDERELLA        & NA & NA & 8/26/17  &  28 &  29 &  28 & ⋯ & NA & NA & NA & NA & NA & NA & N & NA & NA & NA\\\\\n",
              "\t BALTIMORE & NA & 50 lb sacks  & CINDERELLA        & NA & NA & 8/26/17  &  29 &  29 &  29 & ⋯ & NA & NA & NA & NA & NA & NA & N & NA & NA & NA\\\\\n",
              "\\end{tabular}\n"
            ],
            "text/markdown": [
              "\n",
              "A spec_tbl_df: 50 × 26\n",
              "\n",
              "| City Name &lt;chr&gt; | Type &lt;chr&gt; | Package &lt;chr&gt; | Variety &lt;chr&gt; | Sub Variety &lt;chr&gt; | Grade &lt;lgl&gt; | Date &lt;chr&gt; | Low Price &lt;dbl&gt; | High Price &lt;dbl&gt; | Mostly Low &lt;dbl&gt; | ⋯ ⋯ | Unit of Sale &lt;chr&gt; | Quality &lt;lgl&gt; | Condition &lt;lgl&gt; | Appearance &lt;lgl&gt; | Storage &lt;lgl&gt; | Crop &lt;lgl&gt; | Repack &lt;chr&gt; | Trans Mode &lt;lgl&gt; | ...25 &lt;lgl&gt; | ...26 &lt;chr&gt; |\n",
              "|---|---|---|---|---|---|---|---|---|---|---|---|---|---|---|---|---|---|---|---|---|\n",
              "| BALTIMORE | NA | 24 inch bins | NA                | NA | NA | 4/29/17  | 270 | 280 | 270 | ⋯ | NA | NA | NA | NA | NA | NA | E | NA | NA | NA |\n",
              "| BALTIMORE | NA | 24 inch bins | NA                | NA | NA | 5/6/17   | 270 | 280 | 270 | ⋯ | NA | NA | NA | NA | NA | NA | E | NA | NA | NA |\n",
              "| BALTIMORE | NA | 24 inch bins | HOWDEN TYPE       | NA | NA | 9/24/16  | 160 | 160 | 160 | ⋯ | NA | NA | NA | NA | NA | NA | N | NA | NA | NA |\n",
              "| BALTIMORE | NA | 24 inch bins | HOWDEN TYPE       | NA | NA | 9/24/16  | 160 | 160 | 160 | ⋯ | NA | NA | NA | NA | NA | NA | N | NA | NA | NA |\n",
              "| BALTIMORE | NA | 24 inch bins | HOWDEN TYPE       | NA | NA | 11/5/16  |  90 | 100 |  90 | ⋯ | NA | NA | NA | NA | NA | NA | N | NA | NA | NA |\n",
              "| BALTIMORE | NA | 24 inch bins | HOWDEN TYPE       | NA | NA | 11/12/16 |  90 | 100 |  90 | ⋯ | NA | NA | NA | NA | NA | NA | N | NA | NA | NA |\n",
              "| BALTIMORE | NA | 36 inch bins | HOWDEN TYPE       | NA | NA | 9/24/16  | 160 | 170 | 160 | ⋯ | NA | NA | NA | NA | NA | NA | N | NA | NA | NA |\n",
              "| BALTIMORE | NA | 36 inch bins | HOWDEN TYPE       | NA | NA | 9/24/16  | 160 | 160 | 160 | ⋯ | NA | NA | NA | NA | NA | NA | N | NA | NA | NA |\n",
              "| BALTIMORE | NA | 36 inch bins | HOWDEN TYPE       | NA | NA | 10/1/16  | 160 | 170 | 160 | ⋯ | NA | NA | NA | NA | NA | NA | N | NA | NA | NA |\n",
              "| BALTIMORE | NA | 36 inch bins | HOWDEN TYPE       | NA | NA | 10/1/16  | 160 | 160 | 160 | ⋯ | NA | NA | NA | NA | NA | NA | N | NA | NA | NA |\n",
              "| BALTIMORE | NA | 36 inch bins | HOWDEN TYPE       | NA | NA | 10/8/16  | 160 | 170 | 160 | ⋯ | NA | NA | NA | NA | NA | NA | N | NA | NA | NA |\n",
              "| BALTIMORE | NA | 36 inch bins | HOWDEN TYPE       | NA | NA | 10/8/16  | 160 | 160 | 160 | ⋯ | NA | NA | NA | NA | NA | NA | N | NA | NA | NA |\n",
              "| BALTIMORE | NA | 36 inch bins | HOWDEN TYPE       | NA | NA | 10/15/16 | 150 | 160 | 150 | ⋯ | NA | NA | NA | NA | NA | NA | N | NA | NA | NA |\n",
              "| BALTIMORE | NA | 36 inch bins | HOWDEN TYPE       | NA | NA | 10/15/16 | 150 | 170 | 150 | ⋯ | NA | NA | NA | NA | NA | NA | N | NA | NA | NA |\n",
              "| BALTIMORE | NA | 36 inch bins | HOWDEN TYPE       | NA | NA | 10/22/16 | 150 | 160 | 150 | ⋯ | NA | NA | NA | NA | NA | NA | N | NA | NA | NA |\n",
              "| BALTIMORE | NA | 36 inch bins | HOWDEN TYPE       | NA | NA | 10/22/16 | 140 | 160 | 140 | ⋯ | NA | NA | NA | NA | NA | NA | N | NA | NA | NA |\n",
              "| BALTIMORE | NA | 36 inch bins | HOWDEN TYPE       | NA | NA | 10/29/16 | 100 | 160 | 100 | ⋯ | NA | NA | NA | NA | NA | NA | N | NA | NA | NA |\n",
              "| BALTIMORE | NA | 36 inch bins | HOWDEN TYPE       | NA | NA | 10/29/16 | 130 | 160 | 130 | ⋯ | NA | NA | NA | NA | NA | NA | N | NA | NA | NA |\n",
              "| BALTIMORE | NA | 36 inch bins | HOWDEN TYPE       | NA | NA | 10/29/16 | 130 | 130 | 130 | ⋯ | NA | NA | NA | NA | NA | NA | N | NA | NA | NA |\n",
              "| BALTIMORE | NA | 36 inch bins | HOWDEN TYPE       | NA | NA | 11/5/16  | 120 | 130 | 120 | ⋯ | NA | NA | NA | NA | NA | NA | N | NA | NA | NA |\n",
              "| BALTIMORE | NA | 36 inch bins | HOWDEN TYPE       | NA | NA | 11/5/16  | 100 | 130 | 100 | ⋯ | NA | NA | NA | NA | NA | NA | N | NA | NA | NA |\n",
              "| BALTIMORE | NA | 36 inch bins | HOWDEN TYPE       | NA | NA | 11/5/16  |  90 | 100 |  90 | ⋯ | NA | NA | NA | NA | NA | NA | N | NA | NA | NA |\n",
              "| BALTIMORE | NA | 36 inch bins | HOWDEN TYPE       | NA | NA | 11/12/16 | 100 | 120 | 100 | ⋯ | NA | NA | NA | NA | NA | NA | N | NA | NA | NA |\n",
              "| BALTIMORE | NA | 36 inch bins | HOWDEN TYPE       | NA | NA | 9/16/17  | 160 | 160 | 160 | ⋯ | NA | NA | NA | NA | NA | NA | N | NA | NA | NA |\n",
              "| BALTIMORE | NA | 36 inch bins | HOWDEN TYPE       | NA | NA | 9/23/17  | 160 | 160 | 160 | ⋯ | NA | NA | NA | NA | NA | NA | N | NA | NA | NA |\n",
              "| BALTIMORE | NA | 36 inch bins | HOWDEN TYPE       | NA | NA | 9/30/17  | 150 | 160 | 150 | ⋯ | NA | NA | NA | NA | NA | NA | N | NA | NA | NA |\n",
              "| BALTIMORE | NA | 36 inch bins | HOWDEN TYPE       | NA | NA | 9/30/17  | 150 | 160 | 150 | ⋯ | NA | NA | NA | NA | NA | NA | N | NA | NA | NA |\n",
              "| BALTIMORE | NA | 24 inch bins | HOWDEN WHITE TYPE | NA | NA | 9/23/17  | 160 | 180 | 160 | ⋯ | NA | NA | NA | NA | NA | NA | N | NA | NA | NA |\n",
              "| BALTIMORE | NA | 24 inch bins | HOWDEN WHITE TYPE | NA | NA | 9/30/17  | 180 | 180 | 180 | ⋯ | NA | NA | NA | NA | NA | NA | N | NA | NA | NA |\n",
              "| BALTIMORE | NA | 24 inch bins | CINDERELLA        | NA | NA | 6/3/17   | 380 | 380 | 380 | ⋯ | NA | NA | NA | NA | NA | NA | E | NA | NA | NA |\n",
              "| BALTIMORE | NA | 24 inch bins | CINDERELLA        | NA | NA | 6/10/17  | 380 | 380 | 380 | ⋯ | NA | NA | NA | NA | NA | NA | E | NA | NA | NA |\n",
              "| BALTIMORE | NA | 24 inch bins | CINDERELLA        | NA | NA | 6/17/17  | 380 | 380 | 380 | ⋯ | NA | NA | NA | NA | NA | NA | E | NA | NA | NA |\n",
              "| BALTIMORE | NA | 24 inch bins | CINDERELLA        | NA | NA | 8/19/17  | 200 | 200 | 200 | ⋯ | NA | NA | NA | NA | NA | NA | N | NA | NA | NA |\n",
              "| BALTIMORE | NA | 24 inch bins | CINDERELLA        | NA | NA | 8/26/17  | 200 | 350 | 200 | ⋯ | NA | NA | NA | NA | NA | NA | N | NA | NA | NA |\n",
              "| BALTIMORE | NA | 24 inch bins | CINDERELLA        | NA | NA | 9/2/17   | 350 | 350 | 350 | ⋯ | NA | NA | NA | NA | NA | NA | N | NA | NA | NA |\n",
              "| BALTIMORE | NA | 24 inch bins | CINDERELLA        | NA | NA | 9/9/17   | 180 | 180 | 180 | ⋯ | NA | NA | NA | NA | NA | NA | N | NA | NA | NA |\n",
              "| BALTIMORE | NA | 24 inch bins | CINDERELLA        | NA | NA | 9/9/17   | 200 | 200 | 200 | ⋯ | NA | NA | NA | NA | NA | NA | N | NA | NA | NA |\n",
              "| BALTIMORE | NA | 24 inch bins | CINDERELLA        | NA | NA | 9/16/17  | 180 | 200 | 180 | ⋯ | NA | NA | NA | NA | NA | NA | N | NA | NA | NA |\n",
              "| BALTIMORE | NA | 24 inch bins | CINDERELLA        | NA | NA | 9/16/17  | 180 | 200 | 180 | ⋯ | NA | NA | NA | NA | NA | NA | N | NA | NA | NA |\n",
              "| BALTIMORE | NA | 24 inch bins | CINDERELLA        | NA | NA | 9/23/17  | 340 | 340 | 340 | ⋯ | NA | NA | NA | NA | NA | NA | N | NA | NA | NA |\n",
              "| BALTIMORE | NA | 24 inch bins | CINDERELLA        | NA | NA | 9/23/17  | 240 | 250 | 240 | ⋯ | NA | NA | NA | NA | NA | NA | N | NA | NA | NA |\n",
              "| BALTIMORE | NA | 24 inch bins | CINDERELLA        | NA | NA | 9/23/17  | 200 | 200 | 200 | ⋯ | NA | NA | NA | NA | NA | NA | N | NA | NA | NA |\n",
              "| BALTIMORE | NA | 24 inch bins | CINDERELLA        | NA | NA | 9/30/17  | 340 | 340 | 340 | ⋯ | NA | NA | NA | NA | NA | NA | N | NA | NA | NA |\n",
              "| BALTIMORE | NA | 24 inch bins | CINDERELLA        | NA | NA | 9/30/17  | 240 | 250 | 240 | ⋯ | NA | NA | NA | NA | NA | NA | N | NA | NA | NA |\n",
              "| BALTIMORE | NA | 24 inch bins | CINDERELLA        | NA | NA | 9/30/17  | 180 | 200 | 180 | ⋯ | NA | NA | NA | NA | NA | NA | N | NA | NA | NA |\n",
              "| BALTIMORE | NA | 50 lb sacks  | CINDERELLA        | NA | NA | 8/12/17  |  29 |  29 |  29 | ⋯ | NA | NA | NA | NA | NA | NA | N | NA | NA | NA |\n",
              "| BALTIMORE | NA | 50 lb sacks  | CINDERELLA        | NA | NA | 8/12/17  |  29 |  29 |  29 | ⋯ | NA | NA | NA | NA | NA | NA | N | NA | NA | NA |\n",
              "| BALTIMORE | NA | 50 lb sacks  | CINDERELLA        | NA | NA | 8/19/17  |  28 |  29 |  28 | ⋯ | NA | NA | NA | NA | NA | NA | N | NA | NA | NA |\n",
              "| BALTIMORE | NA | 50 lb sacks  | CINDERELLA        | NA | NA | 8/26/17  |  28 |  29 |  28 | ⋯ | NA | NA | NA | NA | NA | NA | N | NA | NA | NA |\n",
              "| BALTIMORE | NA | 50 lb sacks  | CINDERELLA        | NA | NA | 8/26/17  |  29 |  29 |  29 | ⋯ | NA | NA | NA | NA | NA | NA | N | NA | NA | NA |\n",
              "\n"
            ],
            "text/plain": [
              "   City Name Type Package      Variety           Sub Variety Grade Date    \n",
              "1  BALTIMORE NA   24 inch bins NA                NA          NA    4/29/17 \n",
              "2  BALTIMORE NA   24 inch bins NA                NA          NA    5/6/17  \n",
              "3  BALTIMORE NA   24 inch bins HOWDEN TYPE       NA          NA    9/24/16 \n",
              "4  BALTIMORE NA   24 inch bins HOWDEN TYPE       NA          NA    9/24/16 \n",
              "5  BALTIMORE NA   24 inch bins HOWDEN TYPE       NA          NA    11/5/16 \n",
              "6  BALTIMORE NA   24 inch bins HOWDEN TYPE       NA          NA    11/12/16\n",
              "7  BALTIMORE NA   36 inch bins HOWDEN TYPE       NA          NA    9/24/16 \n",
              "8  BALTIMORE NA   36 inch bins HOWDEN TYPE       NA          NA    9/24/16 \n",
              "9  BALTIMORE NA   36 inch bins HOWDEN TYPE       NA          NA    10/1/16 \n",
              "10 BALTIMORE NA   36 inch bins HOWDEN TYPE       NA          NA    10/1/16 \n",
              "11 BALTIMORE NA   36 inch bins HOWDEN TYPE       NA          NA    10/8/16 \n",
              "12 BALTIMORE NA   36 inch bins HOWDEN TYPE       NA          NA    10/8/16 \n",
              "13 BALTIMORE NA   36 inch bins HOWDEN TYPE       NA          NA    10/15/16\n",
              "14 BALTIMORE NA   36 inch bins HOWDEN TYPE       NA          NA    10/15/16\n",
              "15 BALTIMORE NA   36 inch bins HOWDEN TYPE       NA          NA    10/22/16\n",
              "16 BALTIMORE NA   36 inch bins HOWDEN TYPE       NA          NA    10/22/16\n",
              "17 BALTIMORE NA   36 inch bins HOWDEN TYPE       NA          NA    10/29/16\n",
              "18 BALTIMORE NA   36 inch bins HOWDEN TYPE       NA          NA    10/29/16\n",
              "19 BALTIMORE NA   36 inch bins HOWDEN TYPE       NA          NA    10/29/16\n",
              "20 BALTIMORE NA   36 inch bins HOWDEN TYPE       NA          NA    11/5/16 \n",
              "21 BALTIMORE NA   36 inch bins HOWDEN TYPE       NA          NA    11/5/16 \n",
              "22 BALTIMORE NA   36 inch bins HOWDEN TYPE       NA          NA    11/5/16 \n",
              "23 BALTIMORE NA   36 inch bins HOWDEN TYPE       NA          NA    11/12/16\n",
              "24 BALTIMORE NA   36 inch bins HOWDEN TYPE       NA          NA    9/16/17 \n",
              "25 BALTIMORE NA   36 inch bins HOWDEN TYPE       NA          NA    9/23/17 \n",
              "26 BALTIMORE NA   36 inch bins HOWDEN TYPE       NA          NA    9/30/17 \n",
              "27 BALTIMORE NA   36 inch bins HOWDEN TYPE       NA          NA    9/30/17 \n",
              "28 BALTIMORE NA   24 inch bins HOWDEN WHITE TYPE NA          NA    9/23/17 \n",
              "29 BALTIMORE NA   24 inch bins HOWDEN WHITE TYPE NA          NA    9/30/17 \n",
              "30 BALTIMORE NA   24 inch bins CINDERELLA        NA          NA    6/3/17  \n",
              "31 BALTIMORE NA   24 inch bins CINDERELLA        NA          NA    6/10/17 \n",
              "32 BALTIMORE NA   24 inch bins CINDERELLA        NA          NA    6/17/17 \n",
              "33 BALTIMORE NA   24 inch bins CINDERELLA        NA          NA    8/19/17 \n",
              "34 BALTIMORE NA   24 inch bins CINDERELLA        NA          NA    8/26/17 \n",
              "35 BALTIMORE NA   24 inch bins CINDERELLA        NA          NA    9/2/17  \n",
              "36 BALTIMORE NA   24 inch bins CINDERELLA        NA          NA    9/9/17  \n",
              "37 BALTIMORE NA   24 inch bins CINDERELLA        NA          NA    9/9/17  \n",
              "38 BALTIMORE NA   24 inch bins CINDERELLA        NA          NA    9/16/17 \n",
              "39 BALTIMORE NA   24 inch bins CINDERELLA        NA          NA    9/16/17 \n",
              "40 BALTIMORE NA   24 inch bins CINDERELLA        NA          NA    9/23/17 \n",
              "41 BALTIMORE NA   24 inch bins CINDERELLA        NA          NA    9/23/17 \n",
              "42 BALTIMORE NA   24 inch bins CINDERELLA        NA          NA    9/23/17 \n",
              "43 BALTIMORE NA   24 inch bins CINDERELLA        NA          NA    9/30/17 \n",
              "44 BALTIMORE NA   24 inch bins CINDERELLA        NA          NA    9/30/17 \n",
              "45 BALTIMORE NA   24 inch bins CINDERELLA        NA          NA    9/30/17 \n",
              "46 BALTIMORE NA   50 lb sacks  CINDERELLA        NA          NA    8/12/17 \n",
              "47 BALTIMORE NA   50 lb sacks  CINDERELLA        NA          NA    8/12/17 \n",
              "48 BALTIMORE NA   50 lb sacks  CINDERELLA        NA          NA    8/19/17 \n",
              "49 BALTIMORE NA   50 lb sacks  CINDERELLA        NA          NA    8/26/17 \n",
              "50 BALTIMORE NA   50 lb sacks  CINDERELLA        NA          NA    8/26/17 \n",
              "   Low Price High Price Mostly Low ⋯ Unit of Sale Quality Condition Appearance\n",
              "1  270       280        270        ⋯ NA           NA      NA        NA        \n",
              "2  270       280        270        ⋯ NA           NA      NA        NA        \n",
              "3  160       160        160        ⋯ NA           NA      NA        NA        \n",
              "4  160       160        160        ⋯ NA           NA      NA        NA        \n",
              "5   90       100         90        ⋯ NA           NA      NA        NA        \n",
              "6   90       100         90        ⋯ NA           NA      NA        NA        \n",
              "7  160       170        160        ⋯ NA           NA      NA        NA        \n",
              "8  160       160        160        ⋯ NA           NA      NA        NA        \n",
              "9  160       170        160        ⋯ NA           NA      NA        NA        \n",
              "10 160       160        160        ⋯ NA           NA      NA        NA        \n",
              "11 160       170        160        ⋯ NA           NA      NA        NA        \n",
              "12 160       160        160        ⋯ NA           NA      NA        NA        \n",
              "13 150       160        150        ⋯ NA           NA      NA        NA        \n",
              "14 150       170        150        ⋯ NA           NA      NA        NA        \n",
              "15 150       160        150        ⋯ NA           NA      NA        NA        \n",
              "16 140       160        140        ⋯ NA           NA      NA        NA        \n",
              "17 100       160        100        ⋯ NA           NA      NA        NA        \n",
              "18 130       160        130        ⋯ NA           NA      NA        NA        \n",
              "19 130       130        130        ⋯ NA           NA      NA        NA        \n",
              "20 120       130        120        ⋯ NA           NA      NA        NA        \n",
              "21 100       130        100        ⋯ NA           NA      NA        NA        \n",
              "22  90       100         90        ⋯ NA           NA      NA        NA        \n",
              "23 100       120        100        ⋯ NA           NA      NA        NA        \n",
              "24 160       160        160        ⋯ NA           NA      NA        NA        \n",
              "25 160       160        160        ⋯ NA           NA      NA        NA        \n",
              "26 150       160        150        ⋯ NA           NA      NA        NA        \n",
              "27 150       160        150        ⋯ NA           NA      NA        NA        \n",
              "28 160       180        160        ⋯ NA           NA      NA        NA        \n",
              "29 180       180        180        ⋯ NA           NA      NA        NA        \n",
              "30 380       380        380        ⋯ NA           NA      NA        NA        \n",
              "31 380       380        380        ⋯ NA           NA      NA        NA        \n",
              "32 380       380        380        ⋯ NA           NA      NA        NA        \n",
              "33 200       200        200        ⋯ NA           NA      NA        NA        \n",
              "34 200       350        200        ⋯ NA           NA      NA        NA        \n",
              "35 350       350        350        ⋯ NA           NA      NA        NA        \n",
              "36 180       180        180        ⋯ NA           NA      NA        NA        \n",
              "37 200       200        200        ⋯ NA           NA      NA        NA        \n",
              "38 180       200        180        ⋯ NA           NA      NA        NA        \n",
              "39 180       200        180        ⋯ NA           NA      NA        NA        \n",
              "40 340       340        340        ⋯ NA           NA      NA        NA        \n",
              "41 240       250        240        ⋯ NA           NA      NA        NA        \n",
              "42 200       200        200        ⋯ NA           NA      NA        NA        \n",
              "43 340       340        340        ⋯ NA           NA      NA        NA        \n",
              "44 240       250        240        ⋯ NA           NA      NA        NA        \n",
              "45 180       200        180        ⋯ NA           NA      NA        NA        \n",
              "46  29        29         29        ⋯ NA           NA      NA        NA        \n",
              "47  29        29         29        ⋯ NA           NA      NA        NA        \n",
              "48  28        29         28        ⋯ NA           NA      NA        NA        \n",
              "49  28        29         28        ⋯ NA           NA      NA        NA        \n",
              "50  29        29         29        ⋯ NA           NA      NA        NA        \n",
              "   Storage Crop Repack Trans Mode ...25 ...26\n",
              "1  NA      NA   E      NA         NA    NA   \n",
              "2  NA      NA   E      NA         NA    NA   \n",
              "3  NA      NA   N      NA         NA    NA   \n",
              "4  NA      NA   N      NA         NA    NA   \n",
              "5  NA      NA   N      NA         NA    NA   \n",
              "6  NA      NA   N      NA         NA    NA   \n",
              "7  NA      NA   N      NA         NA    NA   \n",
              "8  NA      NA   N      NA         NA    NA   \n",
              "9  NA      NA   N      NA         NA    NA   \n",
              "10 NA      NA   N      NA         NA    NA   \n",
              "11 NA      NA   N      NA         NA    NA   \n",
              "12 NA      NA   N      NA         NA    NA   \n",
              "13 NA      NA   N      NA         NA    NA   \n",
              "14 NA      NA   N      NA         NA    NA   \n",
              "15 NA      NA   N      NA         NA    NA   \n",
              "16 NA      NA   N      NA         NA    NA   \n",
              "17 NA      NA   N      NA         NA    NA   \n",
              "18 NA      NA   N      NA         NA    NA   \n",
              "19 NA      NA   N      NA         NA    NA   \n",
              "20 NA      NA   N      NA         NA    NA   \n",
              "21 NA      NA   N      NA         NA    NA   \n",
              "22 NA      NA   N      NA         NA    NA   \n",
              "23 NA      NA   N      NA         NA    NA   \n",
              "24 NA      NA   N      NA         NA    NA   \n",
              "25 NA      NA   N      NA         NA    NA   \n",
              "26 NA      NA   N      NA         NA    NA   \n",
              "27 NA      NA   N      NA         NA    NA   \n",
              "28 NA      NA   N      NA         NA    NA   \n",
              "29 NA      NA   N      NA         NA    NA   \n",
              "30 NA      NA   E      NA         NA    NA   \n",
              "31 NA      NA   E      NA         NA    NA   \n",
              "32 NA      NA   E      NA         NA    NA   \n",
              "33 NA      NA   N      NA         NA    NA   \n",
              "34 NA      NA   N      NA         NA    NA   \n",
              "35 NA      NA   N      NA         NA    NA   \n",
              "36 NA      NA   N      NA         NA    NA   \n",
              "37 NA      NA   N      NA         NA    NA   \n",
              "38 NA      NA   N      NA         NA    NA   \n",
              "39 NA      NA   N      NA         NA    NA   \n",
              "40 NA      NA   N      NA         NA    NA   \n",
              "41 NA      NA   N      NA         NA    NA   \n",
              "42 NA      NA   N      NA         NA    NA   \n",
              "43 NA      NA   N      NA         NA    NA   \n",
              "44 NA      NA   N      NA         NA    NA   \n",
              "45 NA      NA   N      NA         NA    NA   \n",
              "46 NA      NA   N      NA         NA    NA   \n",
              "47 NA      NA   N      NA         NA    NA   \n",
              "48 NA      NA   N      NA         NA    NA   \n",
              "49 NA      NA   N      NA         NA    NA   \n",
              "50 NA      NA   N      NA         NA    NA   "
            ]
          },
          "metadata": {},
          "output_type": "display_data"
        }
      ],
      "source": [
        "# Load the core Tidyverse packages\n",
        "library(tidyverse)\n",
        "\n",
        "# Import the pumpkins data\n",
        "pumpkins <- read_csv(file = \"https://raw.githubusercontent.com/microsoft/ML-For-Beginners/main/2-Regression/data/US-pumpkins.csv\")\n",
        "\n",
        "\n",
        "# Get a glimpse and dimensions of the data\n",
        "glimpse(pumpkins)\n",
        "\n",
        "\n",
        "# Print the first 50 rows of the data set\n",
        "pumpkins %>% \n",
        "  slice_head(n =50)"
      ]
    },
    {
      "attachments": {},
      "cell_type": "markdown",
      "metadata": {
        "id": "REWcIv9yX29v"
      },
      "source": [
        "A quick `glimpse()` immediately shows that there are blanks and a mix of strings (`chr`) and numeric data (`dbl`). The `Date` is of type character and there's also a strange column called `Package` where the data is a mix between `sacks`, `bins` and other values. The data, in fact, is a bit of a mess 😤.\n",
        "\n",
        "In fact, it is not very common to be gifted a dataset that is completely ready to use to create a ML model out of the box. But worry not, in this lesson, you will learn how to prepare a raw dataset using standard R libraries 🧑‍🔧. You will also learn various techniques to visualize the data.📈📊\n",
        "<br>\n",
        "\n",
        "> A refresher: The pipe operator (`%>%`) performs operations in logical sequence by passing an object forward into a function or call expression. You can think of the pipe operator as saying \"and then\" in your code.\n",
        "\n"
      ]
    },
    {
      "attachments": {},
      "cell_type": "markdown",
      "metadata": {
        "id": "Zxfb3AM5YbUe"
      },
      "source": [
        "## 2. Check for missing data\n",
        "\n",
        "One of the most common issues data scientists need to deal with is incomplete or missing data. R represents missing, or unknown values, with special sentinel value: `NA` (Not Available).\n",
        "\n",
        "So how would we know that the data frame contains missing values?\n",
        "<br>\n",
        "-   One straight forward way would be to use the base R function `anyNA` which returns the logical objects `TRUE` or `FALSE`"
      ]
    },
    {
      "cell_type": "code",
      "execution_count": 2,
      "metadata": {
        "id": "G--DQutAYltj",
        "vscode": {
          "languageId": "r"
        }
      },
      "outputs": [
        {
          "data": {
            "text/html": [
              "TRUE"
            ],
            "text/latex": [
              "TRUE"
            ],
            "text/markdown": [
              "TRUE"
            ],
            "text/plain": [
              "[1] TRUE"
            ]
          },
          "metadata": {},
          "output_type": "display_data"
        }
      ],
      "source": [
        "pumpkins %>% \n",
        "  anyNA()"
      ]
    },
    {
      "attachments": {},
      "cell_type": "markdown",
      "metadata": {
        "id": "mU-7-SB6YokF"
      },
      "source": [
        "Great, there seems to be some missing data! That's a good place to start.\n",
        "\n",
        "-   Another way would be to use the function `is.na()` that indicates which individual column elements are missing with a logical `TRUE`."
      ]
    },
    {
      "cell_type": "code",
      "execution_count": 3,
      "metadata": {
        "id": "W-DxDOR4YxSW",
        "vscode": {
          "languageId": "r"
        }
      },
      "outputs": [
        {
          "data": {
            "text/html": [
              "<table class=\"dataframe\">\n",
              "<caption>A matrix: 7 × 26 of type lgl</caption>\n",
              "<thead>\n",
              "\t<tr><th scope=col>City Name</th><th scope=col>Type</th><th scope=col>Package</th><th scope=col>Variety</th><th scope=col>Sub Variety</th><th scope=col>Grade</th><th scope=col>Date</th><th scope=col>Low Price</th><th scope=col>High Price</th><th scope=col>Mostly Low</th><th scope=col>⋯</th><th scope=col>Unit of Sale</th><th scope=col>Quality</th><th scope=col>Condition</th><th scope=col>Appearance</th><th scope=col>Storage</th><th scope=col>Crop</th><th scope=col>Repack</th><th scope=col>Trans Mode</th><th scope=col>...25</th><th scope=col>...26</th></tr>\n",
              "</thead>\n",
              "<tbody>\n",
              "\t<tr><td>FALSE</td><td>TRUE</td><td>FALSE</td><td> TRUE</td><td>TRUE</td><td>TRUE</td><td>FALSE</td><td>FALSE</td><td>FALSE</td><td>FALSE</td><td>⋯</td><td>TRUE</td><td>TRUE</td><td>TRUE</td><td>TRUE</td><td>TRUE</td><td>TRUE</td><td>FALSE</td><td>TRUE</td><td>TRUE</td><td>TRUE</td></tr>\n",
              "\t<tr><td>FALSE</td><td>TRUE</td><td>FALSE</td><td> TRUE</td><td>TRUE</td><td>TRUE</td><td>FALSE</td><td>FALSE</td><td>FALSE</td><td>FALSE</td><td>⋯</td><td>TRUE</td><td>TRUE</td><td>TRUE</td><td>TRUE</td><td>TRUE</td><td>TRUE</td><td>FALSE</td><td>TRUE</td><td>TRUE</td><td>TRUE</td></tr>\n",
              "\t<tr><td>FALSE</td><td>TRUE</td><td>FALSE</td><td>FALSE</td><td>TRUE</td><td>TRUE</td><td>FALSE</td><td>FALSE</td><td>FALSE</td><td>FALSE</td><td>⋯</td><td>TRUE</td><td>TRUE</td><td>TRUE</td><td>TRUE</td><td>TRUE</td><td>TRUE</td><td>FALSE</td><td>TRUE</td><td>TRUE</td><td>TRUE</td></tr>\n",
              "\t<tr><td>FALSE</td><td>TRUE</td><td>FALSE</td><td>FALSE</td><td>TRUE</td><td>TRUE</td><td>FALSE</td><td>FALSE</td><td>FALSE</td><td>FALSE</td><td>⋯</td><td>TRUE</td><td>TRUE</td><td>TRUE</td><td>TRUE</td><td>TRUE</td><td>TRUE</td><td>FALSE</td><td>TRUE</td><td>TRUE</td><td>TRUE</td></tr>\n",
              "\t<tr><td>FALSE</td><td>TRUE</td><td>FALSE</td><td>FALSE</td><td>TRUE</td><td>TRUE</td><td>FALSE</td><td>FALSE</td><td>FALSE</td><td>FALSE</td><td>⋯</td><td>TRUE</td><td>TRUE</td><td>TRUE</td><td>TRUE</td><td>TRUE</td><td>TRUE</td><td>FALSE</td><td>TRUE</td><td>TRUE</td><td>TRUE</td></tr>\n",
              "\t<tr><td>FALSE</td><td>TRUE</td><td>FALSE</td><td>FALSE</td><td>TRUE</td><td>TRUE</td><td>FALSE</td><td>FALSE</td><td>FALSE</td><td>FALSE</td><td>⋯</td><td>TRUE</td><td>TRUE</td><td>TRUE</td><td>TRUE</td><td>TRUE</td><td>TRUE</td><td>FALSE</td><td>TRUE</td><td>TRUE</td><td>TRUE</td></tr>\n",
              "\t<tr><td>FALSE</td><td>TRUE</td><td>FALSE</td><td>FALSE</td><td>TRUE</td><td>TRUE</td><td>FALSE</td><td>FALSE</td><td>FALSE</td><td>FALSE</td><td>⋯</td><td>TRUE</td><td>TRUE</td><td>TRUE</td><td>TRUE</td><td>TRUE</td><td>TRUE</td><td>FALSE</td><td>TRUE</td><td>TRUE</td><td>TRUE</td></tr>\n",
              "</tbody>\n",
              "</table>\n"
            ],
            "text/latex": [
              "A matrix: 7 × 26 of type lgl\n",
              "\\begin{tabular}{lllllllllllllllllllll}\n",
              " City Name & Type & Package & Variety & Sub Variety & Grade & Date & Low Price & High Price & Mostly Low & ⋯ & Unit of Sale & Quality & Condition & Appearance & Storage & Crop & Repack & Trans Mode & ...25 & ...26\\\\\n",
              "\\hline\n",
              "\t FALSE & TRUE & FALSE &  TRUE & TRUE & TRUE & FALSE & FALSE & FALSE & FALSE & ⋯ & TRUE & TRUE & TRUE & TRUE & TRUE & TRUE & FALSE & TRUE & TRUE & TRUE\\\\\n",
              "\t FALSE & TRUE & FALSE &  TRUE & TRUE & TRUE & FALSE & FALSE & FALSE & FALSE & ⋯ & TRUE & TRUE & TRUE & TRUE & TRUE & TRUE & FALSE & TRUE & TRUE & TRUE\\\\\n",
              "\t FALSE & TRUE & FALSE & FALSE & TRUE & TRUE & FALSE & FALSE & FALSE & FALSE & ⋯ & TRUE & TRUE & TRUE & TRUE & TRUE & TRUE & FALSE & TRUE & TRUE & TRUE\\\\\n",
              "\t FALSE & TRUE & FALSE & FALSE & TRUE & TRUE & FALSE & FALSE & FALSE & FALSE & ⋯ & TRUE & TRUE & TRUE & TRUE & TRUE & TRUE & FALSE & TRUE & TRUE & TRUE\\\\\n",
              "\t FALSE & TRUE & FALSE & FALSE & TRUE & TRUE & FALSE & FALSE & FALSE & FALSE & ⋯ & TRUE & TRUE & TRUE & TRUE & TRUE & TRUE & FALSE & TRUE & TRUE & TRUE\\\\\n",
              "\t FALSE & TRUE & FALSE & FALSE & TRUE & TRUE & FALSE & FALSE & FALSE & FALSE & ⋯ & TRUE & TRUE & TRUE & TRUE & TRUE & TRUE & FALSE & TRUE & TRUE & TRUE\\\\\n",
              "\t FALSE & TRUE & FALSE & FALSE & TRUE & TRUE & FALSE & FALSE & FALSE & FALSE & ⋯ & TRUE & TRUE & TRUE & TRUE & TRUE & TRUE & FALSE & TRUE & TRUE & TRUE\\\\\n",
              "\\end{tabular}\n"
            ],
            "text/markdown": [
              "\n",
              "A matrix: 7 × 26 of type lgl\n",
              "\n",
              "| City Name | Type | Package | Variety | Sub Variety | Grade | Date | Low Price | High Price | Mostly Low | ⋯ | Unit of Sale | Quality | Condition | Appearance | Storage | Crop | Repack | Trans Mode | ...25 | ...26 |\n",
              "|---|---|---|---|---|---|---|---|---|---|---|---|---|---|---|---|---|---|---|---|---|\n",
              "| FALSE | TRUE | FALSE |  TRUE | TRUE | TRUE | FALSE | FALSE | FALSE | FALSE | ⋯ | TRUE | TRUE | TRUE | TRUE | TRUE | TRUE | FALSE | TRUE | TRUE | TRUE |\n",
              "| FALSE | TRUE | FALSE |  TRUE | TRUE | TRUE | FALSE | FALSE | FALSE | FALSE | ⋯ | TRUE | TRUE | TRUE | TRUE | TRUE | TRUE | FALSE | TRUE | TRUE | TRUE |\n",
              "| FALSE | TRUE | FALSE | FALSE | TRUE | TRUE | FALSE | FALSE | FALSE | FALSE | ⋯ | TRUE | TRUE | TRUE | TRUE | TRUE | TRUE | FALSE | TRUE | TRUE | TRUE |\n",
              "| FALSE | TRUE | FALSE | FALSE | TRUE | TRUE | FALSE | FALSE | FALSE | FALSE | ⋯ | TRUE | TRUE | TRUE | TRUE | TRUE | TRUE | FALSE | TRUE | TRUE | TRUE |\n",
              "| FALSE | TRUE | FALSE | FALSE | TRUE | TRUE | FALSE | FALSE | FALSE | FALSE | ⋯ | TRUE | TRUE | TRUE | TRUE | TRUE | TRUE | FALSE | TRUE | TRUE | TRUE |\n",
              "| FALSE | TRUE | FALSE | FALSE | TRUE | TRUE | FALSE | FALSE | FALSE | FALSE | ⋯ | TRUE | TRUE | TRUE | TRUE | TRUE | TRUE | FALSE | TRUE | TRUE | TRUE |\n",
              "| FALSE | TRUE | FALSE | FALSE | TRUE | TRUE | FALSE | FALSE | FALSE | FALSE | ⋯ | TRUE | TRUE | TRUE | TRUE | TRUE | TRUE | FALSE | TRUE | TRUE | TRUE |\n",
              "\n"
            ],
            "text/plain": [
              "     City Name Type Package Variety Sub Variety Grade Date  Low Price\n",
              "[1,] FALSE     TRUE FALSE    TRUE   TRUE        TRUE  FALSE FALSE    \n",
              "[2,] FALSE     TRUE FALSE    TRUE   TRUE        TRUE  FALSE FALSE    \n",
              "[3,] FALSE     TRUE FALSE   FALSE   TRUE        TRUE  FALSE FALSE    \n",
              "[4,] FALSE     TRUE FALSE   FALSE   TRUE        TRUE  FALSE FALSE    \n",
              "[5,] FALSE     TRUE FALSE   FALSE   TRUE        TRUE  FALSE FALSE    \n",
              "[6,] FALSE     TRUE FALSE   FALSE   TRUE        TRUE  FALSE FALSE    \n",
              "[7,] FALSE     TRUE FALSE   FALSE   TRUE        TRUE  FALSE FALSE    \n",
              "     High Price Mostly Low ⋯ Unit of Sale Quality Condition Appearance Storage\n",
              "[1,] FALSE      FALSE      ⋯ TRUE         TRUE    TRUE      TRUE       TRUE   \n",
              "[2,] FALSE      FALSE      ⋯ TRUE         TRUE    TRUE      TRUE       TRUE   \n",
              "[3,] FALSE      FALSE      ⋯ TRUE         TRUE    TRUE      TRUE       TRUE   \n",
              "[4,] FALSE      FALSE      ⋯ TRUE         TRUE    TRUE      TRUE       TRUE   \n",
              "[5,] FALSE      FALSE      ⋯ TRUE         TRUE    TRUE      TRUE       TRUE   \n",
              "[6,] FALSE      FALSE      ⋯ TRUE         TRUE    TRUE      TRUE       TRUE   \n",
              "[7,] FALSE      FALSE      ⋯ TRUE         TRUE    TRUE      TRUE       TRUE   \n",
              "     Crop Repack Trans Mode ...25 ...26\n",
              "[1,] TRUE FALSE  TRUE       TRUE  TRUE \n",
              "[2,] TRUE FALSE  TRUE       TRUE  TRUE \n",
              "[3,] TRUE FALSE  TRUE       TRUE  TRUE \n",
              "[4,] TRUE FALSE  TRUE       TRUE  TRUE \n",
              "[5,] TRUE FALSE  TRUE       TRUE  TRUE \n",
              "[6,] TRUE FALSE  TRUE       TRUE  TRUE \n",
              "[7,] TRUE FALSE  TRUE       TRUE  TRUE "
            ]
          },
          "metadata": {},
          "output_type": "display_data"
        }
      ],
      "source": [
        "pumpkins %>% \n",
        "  is.na() %>% \n",
        "  head(n = 7)"
      ]
    },
    {
      "attachments": {},
      "cell_type": "markdown",
      "metadata": {
        "id": "xUWxipKYY0o7"
      },
      "source": [
        "Okay, got the job done but with a large data frame such as this, it would be inefficient and practically impossible to review all of the rows and columns individually😴.\n",
        "\n",
        "-   A more intuitive way would be to calculate the sum of the missing values for each column:"
      ]
    },
    {
      "cell_type": "code",
      "execution_count": 4,
      "metadata": {
        "id": "ZRBWV6P9ZArL",
        "vscode": {
          "languageId": "r"
        }
      },
      "outputs": [
        {
          "data": {
            "text/html": [
              "<style>\n",
              ".dl-inline {width: auto; margin:0; padding: 0}\n",
              ".dl-inline>dt, .dl-inline>dd {float: none; width: auto; display: inline-block}\n",
              ".dl-inline>dt::after {content: \":\\0020\"; padding-right: .5ex}\n",
              ".dl-inline>dt:not(:first-of-type) {padding-left: .5ex}\n",
              "</style><dl class=dl-inline><dt>City Name</dt><dd>0</dd><dt>Type</dt><dd>1712</dd><dt>Package</dt><dd>0</dd><dt>Variety</dt><dd>5</dd><dt>Sub Variety</dt><dd>1461</dd><dt>Grade</dt><dd>1757</dd><dt>Date</dt><dd>0</dd><dt>Low Price</dt><dd>0</dd><dt>High Price</dt><dd>0</dd><dt>Mostly Low</dt><dd>103</dd><dt>Mostly High</dt><dd>103</dd><dt>Origin</dt><dd>3</dd><dt>Origin District</dt><dd>1626</dd><dt>Item Size</dt><dd>279</dd><dt>Color</dt><dd>616</dd><dt>Environment</dt><dd>1757</dd><dt>Unit of Sale</dt><dd>1595</dd><dt>Quality</dt><dd>1757</dd><dt>Condition</dt><dd>1757</dd><dt>Appearance</dt><dd>1757</dd><dt>Storage</dt><dd>1757</dd><dt>Crop</dt><dd>1757</dd><dt>Repack</dt><dd>0</dd><dt>Trans Mode</dt><dd>1757</dd><dt>...25</dt><dd>1757</dd><dt>...26</dt><dd>1654</dd></dl>\n"
            ],
            "text/latex": [
              "\\begin{description*}\n",
              "\\item[City Name] 0\n",
              "\\item[Type] 1712\n",
              "\\item[Package] 0\n",
              "\\item[Variety] 5\n",
              "\\item[Sub Variety] 1461\n",
              "\\item[Grade] 1757\n",
              "\\item[Date] 0\n",
              "\\item[Low Price] 0\n",
              "\\item[High Price] 0\n",
              "\\item[Mostly Low] 103\n",
              "\\item[Mostly High] 103\n",
              "\\item[Origin] 3\n",
              "\\item[Origin District] 1626\n",
              "\\item[Item Size] 279\n",
              "\\item[Color] 616\n",
              "\\item[Environment] 1757\n",
              "\\item[Unit of Sale] 1595\n",
              "\\item[Quality] 1757\n",
              "\\item[Condition] 1757\n",
              "\\item[Appearance] 1757\n",
              "\\item[Storage] 1757\n",
              "\\item[Crop] 1757\n",
              "\\item[Repack] 0\n",
              "\\item[Trans Mode] 1757\n",
              "\\item[...25] 1757\n",
              "\\item[...26] 1654\n",
              "\\end{description*}\n"
            ],
            "text/markdown": [
              "City Name\n",
              ":   0Type\n",
              ":   1712Package\n",
              ":   0Variety\n",
              ":   5Sub Variety\n",
              ":   1461Grade\n",
              ":   1757Date\n",
              ":   0Low Price\n",
              ":   0High Price\n",
              ":   0Mostly Low\n",
              ":   103Mostly High\n",
              ":   103Origin\n",
              ":   3Origin District\n",
              ":   1626Item Size\n",
              ":   279Color\n",
              ":   616Environment\n",
              ":   1757Unit of Sale\n",
              ":   1595Quality\n",
              ":   1757Condition\n",
              ":   1757Appearance\n",
              ":   1757Storage\n",
              ":   1757Crop\n",
              ":   1757Repack\n",
              ":   0Trans Mode\n",
              ":   1757...25\n",
              ":   1757...26\n",
              ":   1654\n",
              "\n"
            ],
            "text/plain": [
              "      City Name            Type         Package         Variety     Sub Variety \n",
              "              0            1712               0               5            1461 \n",
              "          Grade            Date       Low Price      High Price      Mostly Low \n",
              "           1757               0               0               0             103 \n",
              "    Mostly High          Origin Origin District       Item Size           Color \n",
              "            103               3            1626             279             616 \n",
              "    Environment    Unit of Sale         Quality       Condition      Appearance \n",
              "           1757            1595            1757            1757            1757 \n",
              "        Storage            Crop          Repack      Trans Mode           ...25 \n",
              "           1757            1757               0            1757            1757 \n",
              "          ...26 \n",
              "           1654 "
            ]
          },
          "metadata": {},
          "output_type": "display_data"
        }
      ],
      "source": [
        "pumpkins %>% \n",
        "  is.na() %>% \n",
        "  colSums()"
      ]
    },
    {
      "attachments": {},
      "cell_type": "markdown",
      "metadata": {
        "id": "9gv-crB6ZD1Y"
      },
      "source": [
        "Much better! There is missing data, but maybe it won't matter for the task at hand. Let's see what further analysis brings forth.\n",
        "\n",
        "> Along with the awesome sets of packages and functions, R has a very good documentation. For instance, use `help(colSums)` or `?colSums` to find out more about the function."
      ]
    },
    {
      "attachments": {},
      "cell_type": "markdown",
      "metadata": {
        "id": "i5o33MQBZWWw"
      },
      "source": [
        "[`dplyr`](https://dplyr.tidyverse.org/), a package in the Tidyverse, is a grammar of data manipulation that provides a consistent set of verbs that help you solve the most common data manipulation challenges. In this section, we'll explore some of dplyr's verbs!\n",
        "<br>\n"
      ]
    },
    {
      "attachments": {},
      "cell_type": "markdown",
      "metadata": {
        "id": "x3VGMAGBZiUr"
      },
      "source": [
        "#### dplyr::select()\n",
        "\n",
        "`select()` is a function in the package `dplyr` which helps you pick columns to keep or exclude.\n",
        "\n",
        "To make your data frame easier to work with, drop several of its columns, using `select()`, keeping only the columns you need.\n",
        "\n",
        "For instance, in this exercise, our analysis will involve the columns `Package`, `Low Price`, `High Price` and `Date`. Let's select these columns."
      ]
    },
    {
      "cell_type": "code",
      "execution_count": 5,
      "metadata": {
        "id": "F_FgxQnVZnM0",
        "vscode": {
          "languageId": "r"
        }
      },
      "outputs": [
        {
          "data": {
            "text/html": [
              "<table class=\"dataframe\">\n",
              "<caption>A tibble: 5 × 4</caption>\n",
              "<thead>\n",
              "\t<tr><th scope=col>Package</th><th scope=col>Low Price</th><th scope=col>High Price</th><th scope=col>Date</th></tr>\n",
              "\t<tr><th scope=col>&lt;chr&gt;</th><th scope=col>&lt;dbl&gt;</th><th scope=col>&lt;dbl&gt;</th><th scope=col>&lt;chr&gt;</th></tr>\n",
              "</thead>\n",
              "<tbody>\n",
              "\t<tr><td>24 inch bins</td><td>270</td><td>280</td><td>4/29/17</td></tr>\n",
              "\t<tr><td>24 inch bins</td><td>270</td><td>280</td><td>5/6/17 </td></tr>\n",
              "\t<tr><td>24 inch bins</td><td>160</td><td>160</td><td>9/24/16</td></tr>\n",
              "\t<tr><td>24 inch bins</td><td>160</td><td>160</td><td>9/24/16</td></tr>\n",
              "\t<tr><td>24 inch bins</td><td> 90</td><td>100</td><td>11/5/16</td></tr>\n",
              "</tbody>\n",
              "</table>\n"
            ],
            "text/latex": [
              "A tibble: 5 × 4\n",
              "\\begin{tabular}{llll}\n",
              " Package & Low Price & High Price & Date\\\\\n",
              " <chr> & <dbl> & <dbl> & <chr>\\\\\n",
              "\\hline\n",
              "\t 24 inch bins & 270 & 280 & 4/29/17\\\\\n",
              "\t 24 inch bins & 270 & 280 & 5/6/17 \\\\\n",
              "\t 24 inch bins & 160 & 160 & 9/24/16\\\\\n",
              "\t 24 inch bins & 160 & 160 & 9/24/16\\\\\n",
              "\t 24 inch bins &  90 & 100 & 11/5/16\\\\\n",
              "\\end{tabular}\n"
            ],
            "text/markdown": [
              "\n",
              "A tibble: 5 × 4\n",
              "\n",
              "| Package &lt;chr&gt; | Low Price &lt;dbl&gt; | High Price &lt;dbl&gt; | Date &lt;chr&gt; |\n",
              "|---|---|---|---|\n",
              "| 24 inch bins | 270 | 280 | 4/29/17 |\n",
              "| 24 inch bins | 270 | 280 | 5/6/17  |\n",
              "| 24 inch bins | 160 | 160 | 9/24/16 |\n",
              "| 24 inch bins | 160 | 160 | 9/24/16 |\n",
              "| 24 inch bins |  90 | 100 | 11/5/16 |\n",
              "\n"
            ],
            "text/plain": [
              "  Package      Low Price High Price Date   \n",
              "1 24 inch bins 270       280        4/29/17\n",
              "2 24 inch bins 270       280        5/6/17 \n",
              "3 24 inch bins 160       160        9/24/16\n",
              "4 24 inch bins 160       160        9/24/16\n",
              "5 24 inch bins  90       100        11/5/16"
            ]
          },
          "metadata": {},
          "output_type": "display_data"
        }
      ],
      "source": [
        "# Select desired columns\n",
        "pumpkins <- pumpkins %>% \n",
        "  select(Package, `Low Price`, `High Price`, Date)\n",
        "\n",
        "\n",
        "# Print data set\n",
        "pumpkins %>% \n",
        "  slice_head(n = 5)"
      ]
    },
    {
      "attachments": {},
      "cell_type": "markdown",
      "metadata": {
        "id": "2KKo0Ed9Z1VB"
      },
      "source": [
        "#### dplyr::mutate()\n",
        "\n",
        "`mutate()` is a function in the package `dplyr` which helps you create or modify columns, while keeping the existing columns.\n",
        "\n",
        "The general structure of mutate is:\n",
        "\n",
        "`data %>%   mutate(new_column_name = what_it_contains)`\n",
        "\n",
        "Let's take `mutate` out for a spin using the `Date` column by doing the following operations:\n",
        "\n",
        "1.  Convert the dates (currently of type character) to a month format (these are US dates, so the format is `MM/DD/YYYY`).\n",
        "\n",
        "2.  Extract the month from the dates to a new column.\n",
        "\n",
        "In R, the package [lubridate](https://lubridate.tidyverse.org/) makes it easier to work with Date-time data. So, let's use `dplyr::mutate()`, `lubridate::mdy()`, `lubridate::month()` and see how to achieve the above objectives. We can drop the Date column since we won't be needing it again in subsequent operations."
      ]
    },
    {
      "cell_type": "code",
      "execution_count": 6,
      "metadata": {
        "id": "5joszIVSZ6xe",
        "vscode": {
          "languageId": "r"
        }
      },
      "outputs": [
        {
          "name": "stderr",
          "output_type": "stream",
          "text": [
            "Loading required package: timechange\n",
            "\n",
            "\n",
            "Attaching package: ‘lubridate’\n",
            "\n",
            "\n",
            "The following objects are masked from ‘package:base’:\n",
            "\n",
            "    date, intersect, setdiff, union\n",
            "\n",
            "\n"
          ]
        },
        {
          "data": {
            "text/html": [
              "<table class=\"dataframe\">\n",
              "<caption>A tibble: 7 × 4</caption>\n",
              "<thead>\n",
              "\t<tr><th scope=col>Package</th><th scope=col>Low Price</th><th scope=col>High Price</th><th scope=col>Month</th></tr>\n",
              "\t<tr><th scope=col>&lt;chr&gt;</th><th scope=col>&lt;dbl&gt;</th><th scope=col>&lt;dbl&gt;</th><th scope=col>&lt;dbl&gt;</th></tr>\n",
              "</thead>\n",
              "<tbody>\n",
              "\t<tr><td>24 inch bins</td><td>270</td><td>280</td><td> 4</td></tr>\n",
              "\t<tr><td>24 inch bins</td><td>270</td><td>280</td><td> 5</td></tr>\n",
              "\t<tr><td>24 inch bins</td><td>160</td><td>160</td><td> 9</td></tr>\n",
              "\t<tr><td>24 inch bins</td><td>160</td><td>160</td><td> 9</td></tr>\n",
              "\t<tr><td>24 inch bins</td><td> 90</td><td>100</td><td>11</td></tr>\n",
              "\t<tr><td>24 inch bins</td><td> 90</td><td>100</td><td>11</td></tr>\n",
              "\t<tr><td>36 inch bins</td><td>160</td><td>170</td><td> 9</td></tr>\n",
              "</tbody>\n",
              "</table>\n"
            ],
            "text/latex": [
              "A tibble: 7 × 4\n",
              "\\begin{tabular}{llll}\n",
              " Package & Low Price & High Price & Month\\\\\n",
              " <chr> & <dbl> & <dbl> & <dbl>\\\\\n",
              "\\hline\n",
              "\t 24 inch bins & 270 & 280 &  4\\\\\n",
              "\t 24 inch bins & 270 & 280 &  5\\\\\n",
              "\t 24 inch bins & 160 & 160 &  9\\\\\n",
              "\t 24 inch bins & 160 & 160 &  9\\\\\n",
              "\t 24 inch bins &  90 & 100 & 11\\\\\n",
              "\t 24 inch bins &  90 & 100 & 11\\\\\n",
              "\t 36 inch bins & 160 & 170 &  9\\\\\n",
              "\\end{tabular}\n"
            ],
            "text/markdown": [
              "\n",
              "A tibble: 7 × 4\n",
              "\n",
              "| Package &lt;chr&gt; | Low Price &lt;dbl&gt; | High Price &lt;dbl&gt; | Month &lt;dbl&gt; |\n",
              "|---|---|---|---|\n",
              "| 24 inch bins | 270 | 280 |  4 |\n",
              "| 24 inch bins | 270 | 280 |  5 |\n",
              "| 24 inch bins | 160 | 160 |  9 |\n",
              "| 24 inch bins | 160 | 160 |  9 |\n",
              "| 24 inch bins |  90 | 100 | 11 |\n",
              "| 24 inch bins |  90 | 100 | 11 |\n",
              "| 36 inch bins | 160 | 170 |  9 |\n",
              "\n"
            ],
            "text/plain": [
              "  Package      Low Price High Price Month\n",
              "1 24 inch bins 270       280         4   \n",
              "2 24 inch bins 270       280         5   \n",
              "3 24 inch bins 160       160         9   \n",
              "4 24 inch bins 160       160         9   \n",
              "5 24 inch bins  90       100        11   \n",
              "6 24 inch bins  90       100        11   \n",
              "7 36 inch bins 160       170         9   "
            ]
          },
          "metadata": {},
          "output_type": "display_data"
        }
      ],
      "source": [
        "# Load lubridate\n",
        "library(lubridate)\n",
        "\n",
        "pumpkins <- pumpkins %>% \n",
        "  # Convert the Date column to a date object\n",
        "  mutate(Date = mdy(Date)) %>% \n",
        "  # Extract month from Date\n",
        "  mutate(Month = month(Date)) %>% \n",
        "  # Drop Date column\n",
        "  select(-Date)\n",
        "\n",
        "# View the first few rows\n",
        "pumpkins %>% \n",
        "  slice_head(n = 7)"
      ]
    },
    {
      "attachments": {},
      "cell_type": "markdown",
      "metadata": {
        "id": "nIgLjNMCZ-6Y"
      },
      "source": [
        "Woohoo! 🤩\n",
        "\n",
        "Next, let's create a new column `Price`, which represents the average price of a pumpkin. Now, let's take the average of the `Low Price` and `High Price` columns to populate the new Price column.\n",
        "<br>"
      ]
    },
    {
      "cell_type": "code",
      "execution_count": 7,
      "metadata": {
        "id": "Zo0BsqqtaJw2",
        "vscode": {
          "languageId": "r"
        }
      },
      "outputs": [
        {
          "data": {
            "text/html": [
              "<table class=\"dataframe\">\n",
              "<caption>A tibble: 5 × 5</caption>\n",
              "<thead>\n",
              "\t<tr><th scope=col>Package</th><th scope=col>Low Price</th><th scope=col>High Price</th><th scope=col>Month</th><th scope=col>Price</th></tr>\n",
              "\t<tr><th scope=col>&lt;chr&gt;</th><th scope=col>&lt;dbl&gt;</th><th scope=col>&lt;dbl&gt;</th><th scope=col>&lt;dbl&gt;</th><th scope=col>&lt;dbl&gt;</th></tr>\n",
              "</thead>\n",
              "<tbody>\n",
              "\t<tr><td>24 inch bins</td><td>270</td><td>280</td><td> 4</td><td>275</td></tr>\n",
              "\t<tr><td>24 inch bins</td><td>270</td><td>280</td><td> 5</td><td>275</td></tr>\n",
              "\t<tr><td>24 inch bins</td><td>160</td><td>160</td><td> 9</td><td>160</td></tr>\n",
              "\t<tr><td>24 inch bins</td><td>160</td><td>160</td><td> 9</td><td>160</td></tr>\n",
              "\t<tr><td>24 inch bins</td><td> 90</td><td>100</td><td>11</td><td> 95</td></tr>\n",
              "</tbody>\n",
              "</table>\n"
            ],
            "text/latex": [
              "A tibble: 5 × 5\n",
              "\\begin{tabular}{lllll}\n",
              " Package & Low Price & High Price & Month & Price\\\\\n",
              " <chr> & <dbl> & <dbl> & <dbl> & <dbl>\\\\\n",
              "\\hline\n",
              "\t 24 inch bins & 270 & 280 &  4 & 275\\\\\n",
              "\t 24 inch bins & 270 & 280 &  5 & 275\\\\\n",
              "\t 24 inch bins & 160 & 160 &  9 & 160\\\\\n",
              "\t 24 inch bins & 160 & 160 &  9 & 160\\\\\n",
              "\t 24 inch bins &  90 & 100 & 11 &  95\\\\\n",
              "\\end{tabular}\n"
            ],
            "text/markdown": [
              "\n",
              "A tibble: 5 × 5\n",
              "\n",
              "| Package &lt;chr&gt; | Low Price &lt;dbl&gt; | High Price &lt;dbl&gt; | Month &lt;dbl&gt; | Price &lt;dbl&gt; |\n",
              "|---|---|---|---|---|\n",
              "| 24 inch bins | 270 | 280 |  4 | 275 |\n",
              "| 24 inch bins | 270 | 280 |  5 | 275 |\n",
              "| 24 inch bins | 160 | 160 |  9 | 160 |\n",
              "| 24 inch bins | 160 | 160 |  9 | 160 |\n",
              "| 24 inch bins |  90 | 100 | 11 |  95 |\n",
              "\n"
            ],
            "text/plain": [
              "  Package      Low Price High Price Month Price\n",
              "1 24 inch bins 270       280         4    275  \n",
              "2 24 inch bins 270       280         5    275  \n",
              "3 24 inch bins 160       160         9    160  \n",
              "4 24 inch bins 160       160         9    160  \n",
              "5 24 inch bins  90       100        11     95  "
            ]
          },
          "metadata": {},
          "output_type": "display_data"
        }
      ],
      "source": [
        "# Create a new column Price\n",
        "pumpkins <- pumpkins %>% \n",
        "  mutate(Price = (`Low Price` + `High Price`)/2)\n",
        "\n",
        "# View the first few rows of the data\n",
        "pumpkins %>% \n",
        "  slice_head(n = 5)"
      ]
    },
    {
      "attachments": {},
      "cell_type": "markdown",
      "metadata": {
        "id": "p77WZr-9aQAR"
      },
      "source": [
        "Yeees!💪\n",
        "\n",
        "\"But wait!\", you'll say after skimming through the whole data set with `View(pumpkins)`, \"There's something odd here!\"🤔\n",
        "\n",
        "If you look at the `Package` column, pumpkins are sold in many different configurations. Some are sold in `1 1/9 bushel` measures, and some in `1/2 bushel` measures, some per pumpkin, some per pound, and some in big boxes with varying widths.\n",
        "\n",
        "Let's verify this:"
      ]
    },
    {
      "cell_type": "code",
      "execution_count": 8,
      "metadata": {
        "id": "XISGfh0IaUy6",
        "vscode": {
          "languageId": "r"
        }
      },
      "outputs": [
        {
          "data": {
            "text/html": [
              "<table class=\"dataframe\">\n",
              "<caption>A tibble: 15 × 1</caption>\n",
              "<thead>\n",
              "\t<tr><th scope=col>Package</th></tr>\n",
              "\t<tr><th scope=col>&lt;chr&gt;</th></tr>\n",
              "</thead>\n",
              "<tbody>\n",
              "\t<tr><td>24 inch bins        </td></tr>\n",
              "\t<tr><td>36 inch bins        </td></tr>\n",
              "\t<tr><td>50 lb sacks         </td></tr>\n",
              "\t<tr><td>1 1/9 bushel cartons</td></tr>\n",
              "\t<tr><td>1/2 bushel cartons  </td></tr>\n",
              "\t<tr><td>1 1/9 bushel crates </td></tr>\n",
              "\t<tr><td>bushel cartons      </td></tr>\n",
              "\t<tr><td>bins                </td></tr>\n",
              "\t<tr><td>35 lb cartons       </td></tr>\n",
              "\t<tr><td>each                </td></tr>\n",
              "\t<tr><td>20 lb cartons       </td></tr>\n",
              "\t<tr><td>50 lb cartons       </td></tr>\n",
              "\t<tr><td>40 lb cartons       </td></tr>\n",
              "\t<tr><td>bushel baskets      </td></tr>\n",
              "\t<tr><td>22 lb cartons       </td></tr>\n",
              "</tbody>\n",
              "</table>\n"
            ],
            "text/latex": [
              "A tibble: 15 × 1\n",
              "\\begin{tabular}{l}\n",
              " Package\\\\\n",
              " <chr>\\\\\n",
              "\\hline\n",
              "\t 24 inch bins        \\\\\n",
              "\t 36 inch bins        \\\\\n",
              "\t 50 lb sacks         \\\\\n",
              "\t 1 1/9 bushel cartons\\\\\n",
              "\t 1/2 bushel cartons  \\\\\n",
              "\t 1 1/9 bushel crates \\\\\n",
              "\t bushel cartons      \\\\\n",
              "\t bins                \\\\\n",
              "\t 35 lb cartons       \\\\\n",
              "\t each                \\\\\n",
              "\t 20 lb cartons       \\\\\n",
              "\t 50 lb cartons       \\\\\n",
              "\t 40 lb cartons       \\\\\n",
              "\t bushel baskets      \\\\\n",
              "\t 22 lb cartons       \\\\\n",
              "\\end{tabular}\n"
            ],
            "text/markdown": [
              "\n",
              "A tibble: 15 × 1\n",
              "\n",
              "| Package &lt;chr&gt; |\n",
              "|---|\n",
              "| 24 inch bins         |\n",
              "| 36 inch bins         |\n",
              "| 50 lb sacks          |\n",
              "| 1 1/9 bushel cartons |\n",
              "| 1/2 bushel cartons   |\n",
              "| 1 1/9 bushel crates  |\n",
              "| bushel cartons       |\n",
              "| bins                 |\n",
              "| 35 lb cartons        |\n",
              "| each                 |\n",
              "| 20 lb cartons        |\n",
              "| 50 lb cartons        |\n",
              "| 40 lb cartons        |\n",
              "| bushel baskets       |\n",
              "| 22 lb cartons        |\n",
              "\n"
            ],
            "text/plain": [
              "   Package             \n",
              "1  24 inch bins        \n",
              "2  36 inch bins        \n",
              "3  50 lb sacks         \n",
              "4  1 1/9 bushel cartons\n",
              "5  1/2 bushel cartons  \n",
              "6  1 1/9 bushel crates \n",
              "7  bushel cartons      \n",
              "8  bins                \n",
              "9  35 lb cartons       \n",
              "10 each                \n",
              "11 20 lb cartons       \n",
              "12 50 lb cartons       \n",
              "13 40 lb cartons       \n",
              "14 bushel baskets      \n",
              "15 22 lb cartons       "
            ]
          },
          "metadata": {},
          "output_type": "display_data"
        }
      ],
      "source": [
        "# Verify the distinct observations in Package column\n",
        "pumpkins %>% \n",
        "  distinct(Package)"
      ]
    },
    {
      "attachments": {},
      "cell_type": "markdown",
      "metadata": {
        "id": "7sMjiVujaZxY"
      },
      "source": [
        "Amazing!👏\n",
        "\n",
        "Pumpkins seem to be very hard to weigh consistently, so let's filter them by selecting only pumpkins with the string *bushel* in the `Package` column and put this in a new data frame `new_pumpkins`.\n",
        "<br>"
      ]
    },
    {
      "attachments": {},
      "cell_type": "markdown",
      "metadata": {
        "id": "L8Qfcs92ageF"
      },
      "source": [
        "#### dplyr::filter() and stringr::str_detect()\n",
        "\n",
        "[`dplyr::filter()`](https://dplyr.tidyverse.org/reference/filter.html): creates a subset of the data only containing **rows** that satisfy your conditions, in this case, pumpkins with the string *bushel* in the `Package` column.\n",
        "\n",
        "[stringr::str_detect()](https://stringr.tidyverse.org/reference/str_detect.html): detects the presence or absence of a pattern in a string.\n",
        "\n",
        "The [`stringr`](https://github.com/tidyverse/stringr) package provides simple functions for common string operations."
      ]
    },
    {
      "cell_type": "code",
      "execution_count": 9,
      "metadata": {
        "id": "hy_SGYREampd",
        "vscode": {
          "languageId": "r"
        }
      },
      "outputs": [
        {
          "data": {
            "text/html": [
              "<style>\n",
              ".list-inline {list-style: none; margin:0; padding: 0}\n",
              ".list-inline>li {display: inline-block}\n",
              ".list-inline>li:not(:last-child)::after {content: \"\\00b7\"; padding: 0 .5ex}\n",
              "</style>\n",
              "<ol class=list-inline><li>415</li><li>5</li></ol>\n"
            ],
            "text/latex": [
              "\\begin{enumerate*}\n",
              "\\item 415\n",
              "\\item 5\n",
              "\\end{enumerate*}\n"
            ],
            "text/markdown": [
              "1. 415\n",
              "2. 5\n",
              "\n",
              "\n"
            ],
            "text/plain": [
              "[1] 415   5"
            ]
          },
          "metadata": {},
          "output_type": "display_data"
        },
        {
          "data": {
            "text/html": [
              "<table class=\"dataframe\">\n",
              "<caption>A tibble: 5 × 5</caption>\n",
              "<thead>\n",
              "\t<tr><th scope=col>Package</th><th scope=col>Low Price</th><th scope=col>High Price</th><th scope=col>Month</th><th scope=col>Price</th></tr>\n",
              "\t<tr><th scope=col>&lt;chr&gt;</th><th scope=col>&lt;dbl&gt;</th><th scope=col>&lt;dbl&gt;</th><th scope=col>&lt;dbl&gt;</th><th scope=col>&lt;dbl&gt;</th></tr>\n",
              "</thead>\n",
              "<tbody>\n",
              "\t<tr><td>1 1/9 bushel cartons</td><td>15</td><td>15</td><td> 9</td><td>15</td></tr>\n",
              "\t<tr><td>1 1/9 bushel cartons</td><td>18</td><td>18</td><td> 9</td><td>18</td></tr>\n",
              "\t<tr><td>1 1/9 bushel cartons</td><td>18</td><td>18</td><td>10</td><td>18</td></tr>\n",
              "\t<tr><td>1 1/9 bushel cartons</td><td>17</td><td>17</td><td>10</td><td>17</td></tr>\n",
              "\t<tr><td>1 1/9 bushel cartons</td><td>15</td><td>15</td><td>10</td><td>15</td></tr>\n",
              "</tbody>\n",
              "</table>\n"
            ],
            "text/latex": [
              "A tibble: 5 × 5\n",
              "\\begin{tabular}{lllll}\n",
              " Package & Low Price & High Price & Month & Price\\\\\n",
              " <chr> & <dbl> & <dbl> & <dbl> & <dbl>\\\\\n",
              "\\hline\n",
              "\t 1 1/9 bushel cartons & 15 & 15 &  9 & 15\\\\\n",
              "\t 1 1/9 bushel cartons & 18 & 18 &  9 & 18\\\\\n",
              "\t 1 1/9 bushel cartons & 18 & 18 & 10 & 18\\\\\n",
              "\t 1 1/9 bushel cartons & 17 & 17 & 10 & 17\\\\\n",
              "\t 1 1/9 bushel cartons & 15 & 15 & 10 & 15\\\\\n",
              "\\end{tabular}\n"
            ],
            "text/markdown": [
              "\n",
              "A tibble: 5 × 5\n",
              "\n",
              "| Package &lt;chr&gt; | Low Price &lt;dbl&gt; | High Price &lt;dbl&gt; | Month &lt;dbl&gt; | Price &lt;dbl&gt; |\n",
              "|---|---|---|---|---|\n",
              "| 1 1/9 bushel cartons | 15 | 15 |  9 | 15 |\n",
              "| 1 1/9 bushel cartons | 18 | 18 |  9 | 18 |\n",
              "| 1 1/9 bushel cartons | 18 | 18 | 10 | 18 |\n",
              "| 1 1/9 bushel cartons | 17 | 17 | 10 | 17 |\n",
              "| 1 1/9 bushel cartons | 15 | 15 | 10 | 15 |\n",
              "\n"
            ],
            "text/plain": [
              "  Package              Low Price High Price Month Price\n",
              "1 1 1/9 bushel cartons 15        15          9    15   \n",
              "2 1 1/9 bushel cartons 18        18          9    18   \n",
              "3 1 1/9 bushel cartons 18        18         10    18   \n",
              "4 1 1/9 bushel cartons 17        17         10    17   \n",
              "5 1 1/9 bushel cartons 15        15         10    15   "
            ]
          },
          "metadata": {},
          "output_type": "display_data"
        }
      ],
      "source": [
        "# Retain only pumpkins with \"bushel\"\n",
        "new_pumpkins <- pumpkins %>% \n",
        "       filter(str_detect(Package, \"bushel\"))\n",
        "\n",
        "# Get the dimensions of the new data\n",
        "dim(new_pumpkins)\n",
        "\n",
        "# View a few rows of the new data\n",
        "new_pumpkins %>% \n",
        "  slice_head(n = 5)"
      ]
    },
    {
      "attachments": {},
      "cell_type": "markdown",
      "metadata": {
        "id": "VrDwF031avlR"
      },
      "source": [
        "You can see that we have narrowed down to 415 or so rows of data containing pumpkins by the bushel.🤩\n",
        "<br>"
      ]
    },
    {
      "attachments": {},
      "cell_type": "markdown",
      "metadata": {
        "id": "mLpw2jH4a0tx"
      },
      "source": [
        "#### dplyr::case_when()\n",
        "\n",
        "**But wait! There's one more thing to do**\n",
        "\n",
        "Did you notice that the bushel amount varies per row? You need to normalize the pricing so that you show the pricing per bushel, not per 1 1/9 or 1/2 bushel. Time to do some math to standardize it.\n",
        "\n",
        "We'll use the function [`case_when()`](https://dplyr.tidyverse.org/reference/case_when.html) to *mutate* the Price column depending on some conditions. `case_when` allows you to vectorise multiple `if_else()`statements.\n"
      ]
    },
    {
      "cell_type": "code",
      "execution_count": 10,
      "metadata": {
        "id": "P68kLVQmbM6I",
        "vscode": {
          "languageId": "r"
        }
      },
      "outputs": [
        {
          "data": {
            "text/html": [
              "<table class=\"dataframe\">\n",
              "<caption>A tibble: 30 × 5</caption>\n",
              "<thead>\n",
              "\t<tr><th scope=col>Package</th><th scope=col>Low Price</th><th scope=col>High Price</th><th scope=col>Month</th><th scope=col>Price</th></tr>\n",
              "\t<tr><th scope=col>&lt;chr&gt;</th><th scope=col>&lt;dbl&gt;</th><th scope=col>&lt;dbl&gt;</th><th scope=col>&lt;dbl&gt;</th><th scope=col>&lt;dbl&gt;</th></tr>\n",
              "</thead>\n",
              "<tbody>\n",
              "\t<tr><td>1 1/9 bushel cartons</td><td>15</td><td>15.0</td><td> 9</td><td>13.500</td></tr>\n",
              "\t<tr><td>1 1/9 bushel cartons</td><td>18</td><td>18.0</td><td> 9</td><td>16.200</td></tr>\n",
              "\t<tr><td>1 1/9 bushel cartons</td><td>18</td><td>18.0</td><td>10</td><td>16.200</td></tr>\n",
              "\t<tr><td>1 1/9 bushel cartons</td><td>17</td><td>17.0</td><td>10</td><td>15.300</td></tr>\n",
              "\t<tr><td>1 1/9 bushel cartons</td><td>15</td><td>15.0</td><td>10</td><td>13.500</td></tr>\n",
              "\t<tr><td>1 1/9 bushel cartons</td><td>18</td><td>18.0</td><td>10</td><td>16.200</td></tr>\n",
              "\t<tr><td>1 1/9 bushel cartons</td><td>17</td><td>17.0</td><td>10</td><td>15.300</td></tr>\n",
              "\t<tr><td>1 1/9 bushel cartons</td><td>17</td><td>18.5</td><td>10</td><td>15.975</td></tr>\n",
              "\t<tr><td>1 1/9 bushel cartons</td><td>15</td><td>15.0</td><td>10</td><td>13.500</td></tr>\n",
              "\t<tr><td>1 1/9 bushel cartons</td><td>17</td><td>17.0</td><td>10</td><td>15.300</td></tr>\n",
              "\t<tr><td>1 1/9 bushel cartons</td><td>17</td><td>18.5</td><td>10</td><td>15.975</td></tr>\n",
              "\t<tr><td>1 1/9 bushel cartons</td><td>15</td><td>15.0</td><td>10</td><td>13.500</td></tr>\n",
              "\t<tr><td>1 1/9 bushel cartons</td><td>17</td><td>17.0</td><td>10</td><td>15.300</td></tr>\n",
              "\t<tr><td>1 1/9 bushel cartons</td><td>17</td><td>18.5</td><td>10</td><td>15.975</td></tr>\n",
              "\t<tr><td>1 1/9 bushel cartons</td><td>15</td><td>15.0</td><td>10</td><td>13.500</td></tr>\n",
              "\t<tr><td>1 1/9 bushel cartons</td><td>16</td><td>17.0</td><td>10</td><td>14.850</td></tr>\n",
              "\t<tr><td>1 1/9 bushel cartons</td><td>16</td><td>18.0</td><td>10</td><td>15.300</td></tr>\n",
              "\t<tr><td>1 1/9 bushel cartons</td><td>18</td><td>18.0</td><td> 9</td><td>16.200</td></tr>\n",
              "\t<tr><td>1 1/9 bushel cartons</td><td>16</td><td>16.0</td><td> 9</td><td>14.400</td></tr>\n",
              "\t<tr><td>1 1/9 bushel cartons</td><td>18</td><td>18.0</td><td> 9</td><td>16.200</td></tr>\n",
              "\t<tr><td>1 1/9 bushel cartons</td><td>16</td><td>16.0</td><td> 9</td><td>14.400</td></tr>\n",
              "\t<tr><td>1 1/9 bushel cartons</td><td>16</td><td>16.0</td><td> 9</td><td>14.400</td></tr>\n",
              "\t<tr><td>1 1/9 bushel cartons</td><td>16</td><td>16.0</td><td> 9</td><td>14.400</td></tr>\n",
              "\t<tr><td>1/2 bushel cartons  </td><td>18</td><td>18.0</td><td> 9</td><td>36.000</td></tr>\n",
              "\t<tr><td>1/2 bushel cartons  </td><td>15</td><td>15.0</td><td> 9</td><td>30.000</td></tr>\n",
              "\t<tr><td>1/2 bushel cartons  </td><td>18</td><td>18.0</td><td>10</td><td>36.000</td></tr>\n",
              "\t<tr><td>1/2 bushel cartons  </td><td>15</td><td>15.0</td><td>10</td><td>30.000</td></tr>\n",
              "\t<tr><td>1/2 bushel cartons  </td><td>17</td><td>17.0</td><td>10</td><td>34.000</td></tr>\n",
              "\t<tr><td>1/2 bushel cartons  </td><td>15</td><td>15.0</td><td>10</td><td>30.000</td></tr>\n",
              "\t<tr><td>1/2 bushel cartons  </td><td>15</td><td>18.0</td><td>10</td><td>33.000</td></tr>\n",
              "</tbody>\n",
              "</table>\n"
            ],
            "text/latex": [
              "A tibble: 30 × 5\n",
              "\\begin{tabular}{lllll}\n",
              " Package & Low Price & High Price & Month & Price\\\\\n",
              " <chr> & <dbl> & <dbl> & <dbl> & <dbl>\\\\\n",
              "\\hline\n",
              "\t 1 1/9 bushel cartons & 15 & 15.0 &  9 & 13.500\\\\\n",
              "\t 1 1/9 bushel cartons & 18 & 18.0 &  9 & 16.200\\\\\n",
              "\t 1 1/9 bushel cartons & 18 & 18.0 & 10 & 16.200\\\\\n",
              "\t 1 1/9 bushel cartons & 17 & 17.0 & 10 & 15.300\\\\\n",
              "\t 1 1/9 bushel cartons & 15 & 15.0 & 10 & 13.500\\\\\n",
              "\t 1 1/9 bushel cartons & 18 & 18.0 & 10 & 16.200\\\\\n",
              "\t 1 1/9 bushel cartons & 17 & 17.0 & 10 & 15.300\\\\\n",
              "\t 1 1/9 bushel cartons & 17 & 18.5 & 10 & 15.975\\\\\n",
              "\t 1 1/9 bushel cartons & 15 & 15.0 & 10 & 13.500\\\\\n",
              "\t 1 1/9 bushel cartons & 17 & 17.0 & 10 & 15.300\\\\\n",
              "\t 1 1/9 bushel cartons & 17 & 18.5 & 10 & 15.975\\\\\n",
              "\t 1 1/9 bushel cartons & 15 & 15.0 & 10 & 13.500\\\\\n",
              "\t 1 1/9 bushel cartons & 17 & 17.0 & 10 & 15.300\\\\\n",
              "\t 1 1/9 bushel cartons & 17 & 18.5 & 10 & 15.975\\\\\n",
              "\t 1 1/9 bushel cartons & 15 & 15.0 & 10 & 13.500\\\\\n",
              "\t 1 1/9 bushel cartons & 16 & 17.0 & 10 & 14.850\\\\\n",
              "\t 1 1/9 bushel cartons & 16 & 18.0 & 10 & 15.300\\\\\n",
              "\t 1 1/9 bushel cartons & 18 & 18.0 &  9 & 16.200\\\\\n",
              "\t 1 1/9 bushel cartons & 16 & 16.0 &  9 & 14.400\\\\\n",
              "\t 1 1/9 bushel cartons & 18 & 18.0 &  9 & 16.200\\\\\n",
              "\t 1 1/9 bushel cartons & 16 & 16.0 &  9 & 14.400\\\\\n",
              "\t 1 1/9 bushel cartons & 16 & 16.0 &  9 & 14.400\\\\\n",
              "\t 1 1/9 bushel cartons & 16 & 16.0 &  9 & 14.400\\\\\n",
              "\t 1/2 bushel cartons   & 18 & 18.0 &  9 & 36.000\\\\\n",
              "\t 1/2 bushel cartons   & 15 & 15.0 &  9 & 30.000\\\\\n",
              "\t 1/2 bushel cartons   & 18 & 18.0 & 10 & 36.000\\\\\n",
              "\t 1/2 bushel cartons   & 15 & 15.0 & 10 & 30.000\\\\\n",
              "\t 1/2 bushel cartons   & 17 & 17.0 & 10 & 34.000\\\\\n",
              "\t 1/2 bushel cartons   & 15 & 15.0 & 10 & 30.000\\\\\n",
              "\t 1/2 bushel cartons   & 15 & 18.0 & 10 & 33.000\\\\\n",
              "\\end{tabular}\n"
            ],
            "text/markdown": [
              "\n",
              "A tibble: 30 × 5\n",
              "\n",
              "| Package &lt;chr&gt; | Low Price &lt;dbl&gt; | High Price &lt;dbl&gt; | Month &lt;dbl&gt; | Price &lt;dbl&gt; |\n",
              "|---|---|---|---|---|\n",
              "| 1 1/9 bushel cartons | 15 | 15.0 |  9 | 13.500 |\n",
              "| 1 1/9 bushel cartons | 18 | 18.0 |  9 | 16.200 |\n",
              "| 1 1/9 bushel cartons | 18 | 18.0 | 10 | 16.200 |\n",
              "| 1 1/9 bushel cartons | 17 | 17.0 | 10 | 15.300 |\n",
              "| 1 1/9 bushel cartons | 15 | 15.0 | 10 | 13.500 |\n",
              "| 1 1/9 bushel cartons | 18 | 18.0 | 10 | 16.200 |\n",
              "| 1 1/9 bushel cartons | 17 | 17.0 | 10 | 15.300 |\n",
              "| 1 1/9 bushel cartons | 17 | 18.5 | 10 | 15.975 |\n",
              "| 1 1/9 bushel cartons | 15 | 15.0 | 10 | 13.500 |\n",
              "| 1 1/9 bushel cartons | 17 | 17.0 | 10 | 15.300 |\n",
              "| 1 1/9 bushel cartons | 17 | 18.5 | 10 | 15.975 |\n",
              "| 1 1/9 bushel cartons | 15 | 15.0 | 10 | 13.500 |\n",
              "| 1 1/9 bushel cartons | 17 | 17.0 | 10 | 15.300 |\n",
              "| 1 1/9 bushel cartons | 17 | 18.5 | 10 | 15.975 |\n",
              "| 1 1/9 bushel cartons | 15 | 15.0 | 10 | 13.500 |\n",
              "| 1 1/9 bushel cartons | 16 | 17.0 | 10 | 14.850 |\n",
              "| 1 1/9 bushel cartons | 16 | 18.0 | 10 | 15.300 |\n",
              "| 1 1/9 bushel cartons | 18 | 18.0 |  9 | 16.200 |\n",
              "| 1 1/9 bushel cartons | 16 | 16.0 |  9 | 14.400 |\n",
              "| 1 1/9 bushel cartons | 18 | 18.0 |  9 | 16.200 |\n",
              "| 1 1/9 bushel cartons | 16 | 16.0 |  9 | 14.400 |\n",
              "| 1 1/9 bushel cartons | 16 | 16.0 |  9 | 14.400 |\n",
              "| 1 1/9 bushel cartons | 16 | 16.0 |  9 | 14.400 |\n",
              "| 1/2 bushel cartons   | 18 | 18.0 |  9 | 36.000 |\n",
              "| 1/2 bushel cartons   | 15 | 15.0 |  9 | 30.000 |\n",
              "| 1/2 bushel cartons   | 18 | 18.0 | 10 | 36.000 |\n",
              "| 1/2 bushel cartons   | 15 | 15.0 | 10 | 30.000 |\n",
              "| 1/2 bushel cartons   | 17 | 17.0 | 10 | 34.000 |\n",
              "| 1/2 bushel cartons   | 15 | 15.0 | 10 | 30.000 |\n",
              "| 1/2 bushel cartons   | 15 | 18.0 | 10 | 33.000 |\n",
              "\n"
            ],
            "text/plain": [
              "   Package              Low Price High Price Month Price \n",
              "1  1 1/9 bushel cartons 15        15.0        9    13.500\n",
              "2  1 1/9 bushel cartons 18        18.0        9    16.200\n",
              "3  1 1/9 bushel cartons 18        18.0       10    16.200\n",
              "4  1 1/9 bushel cartons 17        17.0       10    15.300\n",
              "5  1 1/9 bushel cartons 15        15.0       10    13.500\n",
              "6  1 1/9 bushel cartons 18        18.0       10    16.200\n",
              "7  1 1/9 bushel cartons 17        17.0       10    15.300\n",
              "8  1 1/9 bushel cartons 17        18.5       10    15.975\n",
              "9  1 1/9 bushel cartons 15        15.0       10    13.500\n",
              "10 1 1/9 bushel cartons 17        17.0       10    15.300\n",
              "11 1 1/9 bushel cartons 17        18.5       10    15.975\n",
              "12 1 1/9 bushel cartons 15        15.0       10    13.500\n",
              "13 1 1/9 bushel cartons 17        17.0       10    15.300\n",
              "14 1 1/9 bushel cartons 17        18.5       10    15.975\n",
              "15 1 1/9 bushel cartons 15        15.0       10    13.500\n",
              "16 1 1/9 bushel cartons 16        17.0       10    14.850\n",
              "17 1 1/9 bushel cartons 16        18.0       10    15.300\n",
              "18 1 1/9 bushel cartons 18        18.0        9    16.200\n",
              "19 1 1/9 bushel cartons 16        16.0        9    14.400\n",
              "20 1 1/9 bushel cartons 18        18.0        9    16.200\n",
              "21 1 1/9 bushel cartons 16        16.0        9    14.400\n",
              "22 1 1/9 bushel cartons 16        16.0        9    14.400\n",
              "23 1 1/9 bushel cartons 16        16.0        9    14.400\n",
              "24 1/2 bushel cartons   18        18.0        9    36.000\n",
              "25 1/2 bushel cartons   15        15.0        9    30.000\n",
              "26 1/2 bushel cartons   18        18.0       10    36.000\n",
              "27 1/2 bushel cartons   15        15.0       10    30.000\n",
              "28 1/2 bushel cartons   17        17.0       10    34.000\n",
              "29 1/2 bushel cartons   15        15.0       10    30.000\n",
              "30 1/2 bushel cartons   15        18.0       10    33.000"
            ]
          },
          "metadata": {},
          "output_type": "display_data"
        }
      ],
      "source": [
        "# Convert the price if the Package contains fractional bushel values\n",
        "new_pumpkins <- new_pumpkins %>% \n",
        "  mutate(Price = case_when(\n",
        "    str_detect(Package, \"1 1/9\") ~ Price/(1 + 1/9),\n",
        "    str_detect(Package, \"1/2\") ~ Price/(1/2),\n",
        "    TRUE ~ Price))\n",
        "\n",
        "# View the first few rows of the data\n",
        "new_pumpkins %>% \n",
        "  slice_head(n = 30)"
      ]
    },
    {
      "attachments": {},
      "cell_type": "markdown",
      "metadata": {
        "id": "pS2GNPagbSdb"
      },
      "source": [
        "Now, we can analyze the pricing per unit based on their bushel measurement. All this study of bushels of pumpkins, however, goes to show how very `important` it is to `understand the nature of your data`!\n",
        "\n",
        "> ✅ According to [The Spruce Eats](https://www.thespruceeats.com/how-much-is-a-bushel-1389308), a bushel's weight depends on the type of produce, as it's a volume measurement. \"A bushel of tomatoes, for example, is supposed to weigh 56 pounds... Leaves and greens take up more space with less weight, so a bushel of spinach is only 20 pounds.\" It's all pretty complicated! Let's not bother with making a bushel-to-pound conversion, and instead price by the bushel. All this study of bushels of pumpkins, however, goes to show how very important it is to understand the nature of your data!\n",
        ">\n",
        "> ✅ Did you notice that pumpkins sold by the half-bushel are very expensive? Can you figure out why? Hint: little pumpkins are way pricier than big ones, probably because there are so many more of them per bushel, given the unused space taken by one big hollow pie pumpkin.\n",
        "<br>\n"
      ]
    },
    {
      "attachments": {},
      "cell_type": "markdown",
      "metadata": {
        "id": "qql1SowfbdnP"
      },
      "source": [
        "Now lastly, for the sheer sake of adventure 💁‍♀️, let's also move the Month column to the first position i.e `before` column `Package`.\n",
        "\n",
        "`dplyr::relocate()` is used to change column positions."
      ]
    },
    {
      "cell_type": "code",
      "execution_count": 11,
      "metadata": {
        "id": "JJ1x6kw8bixF",
        "vscode": {
          "languageId": "r"
        }
      },
      "outputs": [
        {
          "data": {
            "text/html": [
              "<table class=\"dataframe\">\n",
              "<caption>A tibble: 7 × 5</caption>\n",
              "<thead>\n",
              "\t<tr><th scope=col>Month</th><th scope=col>Package</th><th scope=col>Low Price</th><th scope=col>High Price</th><th scope=col>Price</th></tr>\n",
              "\t<tr><th scope=col>&lt;dbl&gt;</th><th scope=col>&lt;chr&gt;</th><th scope=col>&lt;dbl&gt;</th><th scope=col>&lt;dbl&gt;</th><th scope=col>&lt;dbl&gt;</th></tr>\n",
              "</thead>\n",
              "<tbody>\n",
              "\t<tr><td> 9</td><td>1 1/9 bushel cartons</td><td>15</td><td>15</td><td>13.5</td></tr>\n",
              "\t<tr><td> 9</td><td>1 1/9 bushel cartons</td><td>18</td><td>18</td><td>16.2</td></tr>\n",
              "\t<tr><td>10</td><td>1 1/9 bushel cartons</td><td>18</td><td>18</td><td>16.2</td></tr>\n",
              "\t<tr><td>10</td><td>1 1/9 bushel cartons</td><td>17</td><td>17</td><td>15.3</td></tr>\n",
              "\t<tr><td>10</td><td>1 1/9 bushel cartons</td><td>15</td><td>15</td><td>13.5</td></tr>\n",
              "\t<tr><td>10</td><td>1 1/9 bushel cartons</td><td>18</td><td>18</td><td>16.2</td></tr>\n",
              "\t<tr><td>10</td><td>1 1/9 bushel cartons</td><td>17</td><td>17</td><td>15.3</td></tr>\n",
              "</tbody>\n",
              "</table>\n"
            ],
            "text/latex": [
              "A tibble: 7 × 5\n",
              "\\begin{tabular}{lllll}\n",
              " Month & Package & Low Price & High Price & Price\\\\\n",
              " <dbl> & <chr> & <dbl> & <dbl> & <dbl>\\\\\n",
              "\\hline\n",
              "\t  9 & 1 1/9 bushel cartons & 15 & 15 & 13.5\\\\\n",
              "\t  9 & 1 1/9 bushel cartons & 18 & 18 & 16.2\\\\\n",
              "\t 10 & 1 1/9 bushel cartons & 18 & 18 & 16.2\\\\\n",
              "\t 10 & 1 1/9 bushel cartons & 17 & 17 & 15.3\\\\\n",
              "\t 10 & 1 1/9 bushel cartons & 15 & 15 & 13.5\\\\\n",
              "\t 10 & 1 1/9 bushel cartons & 18 & 18 & 16.2\\\\\n",
              "\t 10 & 1 1/9 bushel cartons & 17 & 17 & 15.3\\\\\n",
              "\\end{tabular}\n"
            ],
            "text/markdown": [
              "\n",
              "A tibble: 7 × 5\n",
              "\n",
              "| Month &lt;dbl&gt; | Package &lt;chr&gt; | Low Price &lt;dbl&gt; | High Price &lt;dbl&gt; | Price &lt;dbl&gt; |\n",
              "|---|---|---|---|---|\n",
              "|  9 | 1 1/9 bushel cartons | 15 | 15 | 13.5 |\n",
              "|  9 | 1 1/9 bushel cartons | 18 | 18 | 16.2 |\n",
              "| 10 | 1 1/9 bushel cartons | 18 | 18 | 16.2 |\n",
              "| 10 | 1 1/9 bushel cartons | 17 | 17 | 15.3 |\n",
              "| 10 | 1 1/9 bushel cartons | 15 | 15 | 13.5 |\n",
              "| 10 | 1 1/9 bushel cartons | 18 | 18 | 16.2 |\n",
              "| 10 | 1 1/9 bushel cartons | 17 | 17 | 15.3 |\n",
              "\n"
            ],
            "text/plain": [
              "  Month Package              Low Price High Price Price\n",
              "1  9    1 1/9 bushel cartons 15        15         13.5 \n",
              "2  9    1 1/9 bushel cartons 18        18         16.2 \n",
              "3 10    1 1/9 bushel cartons 18        18         16.2 \n",
              "4 10    1 1/9 bushel cartons 17        17         15.3 \n",
              "5 10    1 1/9 bushel cartons 15        15         13.5 \n",
              "6 10    1 1/9 bushel cartons 18        18         16.2 \n",
              "7 10    1 1/9 bushel cartons 17        17         15.3 "
            ]
          },
          "metadata": {},
          "output_type": "display_data"
        }
      ],
      "source": [
        "# Create a new data frame new_pumpkins\n",
        "new_pumpkins <- new_pumpkins %>% \n",
        "  relocate(Month, .before = Package)\n",
        "\n",
        "new_pumpkins %>% \n",
        "  slice_head(n = 7)"
      ]
    },
    {
      "attachments": {},
      "cell_type": "markdown",
      "metadata": {
        "id": "y8TJ0Za_bn5Y"
      },
      "source": [
        "Good job!👌 You now have a clean, tidy dataset on which you can build your new regression model!\n",
        "<br>"
      ]
    },
    {
      "attachments": {},
      "cell_type": "markdown",
      "metadata": {
        "id": "mYSH6-EtbvNa"
      },
      "source": [
        "## 4. Data visualization with ggplot2\n",
        "\n",
        "\n",
        "\n",
        "There is a *wise* saying that goes like this:\n",
        "\n",
        "> \"The simple graph has brought more information to the data analyst's mind than any other device.\" --- John Tukey\n",
        "\n",
        "Part of the data scientist's role is to demonstrate the quality and nature of the data they are working with. To do this, they often create interesting visualizations, or plots, graphs, and charts, showing different aspects of data. In this way, they are able to visually show relationships and gaps that are otherwise hard to uncover.\n",
        "\n",
        "Visualizations can also help determine the machine learning technique most appropriate for the data. A scatterplot that seems to follow a line, for example, indicates that the data is a good candidate for a linear regression exercise.\n",
        "\n",
        "R offers a number of several systems for making graphs, but [`ggplot2`](https://ggplot2.tidyverse.org/index.html) is one of the most elegant and most versatile. `ggplot2` allows you to compose graphs by **combining independent components**.\n",
        "\n",
        "Let's start with a simple scatter plot for the Price and Month columns.\n",
        "\n",
        "So in this case, we'll start with [`ggplot()`](https://ggplot2.tidyverse.org/reference/ggplot.html), supply a dataset and aesthetic mapping (with [`aes()`](https://ggplot2.tidyverse.org/reference/aes.html)) then add a layers (like [`geom_point()`](https://ggplot2.tidyverse.org/reference/geom_point.html)) for scatter plots.\n"
      ]
    },
    {
      "cell_type": "code",
      "execution_count": 12,
      "metadata": {
        "id": "g2YjnGeOcLo4",
        "vscode": {
          "languageId": "r"
        }
      },
      "outputs": [
        {
          "data": {
            "image/png": "[encoded data removed]",
            "text/plain": [
              "plot without title"
            ]
          },
          "metadata": {
            "image/png": {
              "height": 420,
              "width": 420
            }
          },
          "output_type": "display_data"
        }
      ],
      "source": [
        "# Set a theme for the plots\n",
        "theme_set(theme_light())\n",
        "\n",
        "# Create a scatter plot\n",
        "p <- ggplot(data = new_pumpkins, aes(x = Price, y = Month))\n",
        "p + geom_point()"
      ]
    },
    {
      "attachments": {},
      "cell_type": "markdown",
      "metadata": {
        "id": "Ml7SDCLQcPvE"
      },
      "source": [
        "Is this a useful plot 🤷? Does anything about it surprise you?\n",
        "\n",
        "It's not particularly useful as all it does is display in your data as a spread of points in a given month.\n",
        "<br>"
      ]
    },
    {
      "attachments": {},
      "cell_type": "markdown",
      "metadata": {
        "id": "jMakvJZIcVkh"
      },
      "source": [
        "### **How do we make it useful?**\n",
        "\n",
        "To get charts to display useful data, you usually need to group the data somehow. For instance in our case, finding the average price of pumpkins for each month would provide more insights to the underlying patterns in our data. This leads us to one more **dplyr** flyby:\n",
        "\n",
        "#### `dplyr::group_by() %>% summarize()`\n",
        "\n",
        "Grouped aggregation in R can be easily computed using\n",
        "\n",
        "`dplyr::group_by() %>% summarize()`\n",
        "\n",
        "-   `dplyr::group_by()` changes the unit of analysis from the complete dataset to individual groups such as per month.\n",
        "\n",
        "-   `dplyr::summarize()` creates a new data frame with one column for each grouping variable and one column for each of the summary statistics that you have specified.\n",
        "\n",
        "For example, we can use the `dplyr::group_by() %>% summarize()` to group the pumpkins into groups based on the **Month** columns and then find the **mean price** for each month."
      ]
    },
    {
      "cell_type": "code",
      "execution_count": null,
      "metadata": {
        "id": "6kVSUa2Bcilf",
        "vscode": {
          "languageId": "r"
        }
      },
      "outputs": [],
      "source": [
        "# Find the average price of pumpkins per month\n",
        "new_pumpkins %>%\n",
        "  group_by(Month) %>% \n",
        "  summarise(mean_price = mean(Price))"
      ]
    },
    {
      "attachments": {},
      "cell_type": "markdown",
      "metadata": {
        "id": "Kds48GUBcj3W"
      },
      "source": [
        "Succinct!✨\n",
        "\n",
        "Categorical features such as months are better represented using a bar plot 📊. The layers responsible for bar charts are `geom_bar()` and `geom_col()`. Consult `?geom_bar` to find out more.\n",
        "\n",
        "Let's whip up one!"
      ]
    },
    {
      "cell_type": "code",
      "execution_count": null,
      "metadata": {
        "id": "VNbU1S3BcrxO",
        "vscode": {
          "languageId": "r"
        }
      },
      "outputs": [],
      "source": [
        "# Find the average price of pumpkins per month then plot a bar chart\n",
        "new_pumpkins %>%\n",
        "  group_by(Month) %>% \n",
        "  summarise(mean_price = mean(Price)) %>% \n",
        "  ggplot(aes(x = Month, y = mean_price)) +\n",
        "  geom_col(fill = \"midnightblue\", alpha = 0.7) +\n",
        "  ylab(\"Pumpkin Price\")"
      ]
    },
    {
      "attachments": {},
      "cell_type": "markdown",
      "metadata": {
        "id": "zDm0VOzzcuzR"
      },
      "source": [
        "🤩🤩This is a more useful data visualization! It seems to indicate that the highest price for pumpkins occurs in September and October. Does that meet your expectation? Why or why not?\n",
        "\n",
        "Congratulations on finishing the second lesson 👏! You prepared your data for model building, then uncovered more insights using visualizations!"
      ]
    }
  ],
  "metadata": {
    "colab": {
      "collapsed_sections": [],
      "name": "lesson_2-R.ipynb",
      "provenance": [],
      "toc_visible": true
    },
    "kernelspec": {
      "display_name": "R",
      "language": "R",
      "name": "ir"
    },
    "language_info": {
      "codemirror_mode": "r",
      "file_extension": ".r",
      "mimetype": "text/x-r-source",
      "name": "R",
      "pygments_lexer": "r",
      "version": "4.0.4"
    }
  },
  "nbformat": 4,
  "nbformat_minor": 2
}
