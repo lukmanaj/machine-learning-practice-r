{
  "cells": [
    {
      "attachments": {},
      "cell_type": "markdown",
      "metadata": {
        "id": "ItETB4tSFprR"
      },
      "source": [
        "# Build a classification model: Delicious Asian and Indian Cuisines"
      ]
    },
    {
      "attachments": {},
      "cell_type": "markdown",
      "metadata": {
        "id": "ri5bQxZ-Fz_0"
      },
      "source": [
        "## Introduction to classification: Clean, prep, and visualize your data\n",
        "\n",
        "In these four lessons, you will explore a fundamental focus of classic machine learning - *classification*. We will walk through using various classification algorithms with a dataset about all the brilliant cuisines of Asia and India. Hope you're hungry!\n",
        "\n",
        "\n",
        "Classification is a form of [supervised learning](https://wikipedia.org/wiki/Supervised_learning) that bears a lot in common with regression techniques. In classification, you train a model to predict which `category` an item belongs to. If machine learning is all about predicting values or names to things by using datasets, then classification generally falls into two groups: *binary classification* and *multiclass classification*.\n",
        "\n",
        "Remember:\n",
        "\n",
        "-   **Linear regression** helped you predict relationships between variables and make accurate predictions on where a new datapoint would fall in relationship to that line. So, you could predict a numeric values such as *what price a pumpkin would be in September vs. December*, for example.\n",
        "\n",
        "-   **Logistic regression** helped you discover \"binary categories\": at this price point, *is this pumpkin orange or not-orange*?\n",
        "\n",
        "Classification uses various algorithms to determine other ways of determining a data point's label or class. Let's work with this cuisine data to see whether, by observing a group of ingredients, we can determine its cuisine of origin.\n",
        "\n",
        "### [**Pre-lecture quiz**](https://gray-sand-07a10f403.1.azurestaticapps.net/quiz/19/)\n",
        "\n",
        "### **Introduction**\n",
        "\n",
        "Classification is one of the fundamental activities of the machine learning researcher and data scientist. From basic classification of a binary value (\"is this email spam or not?\"), to complex image classification and segmentation using computer vision, it's always useful to be able to sort data into classes and ask questions of it.\n",
        "\n",
        "To state the process in a more scientific way, your classification method creates a predictive model that enables you to map the relationship between input variables to output variables.\n",
        "\n",
        "\n",
        "\n",
        "Before starting the process of cleaning our data, visualizing it, and prepping it for our ML tasks, let's learn a bit about the various ways machine learning can be leveraged to classify data.\n",
        "\n",
        "Derived from [statistics](https://wikipedia.org/wiki/Statistical_classification), classification using classic machine learning uses features, such as `smoker`, `weight`, and `age` to determine *likelihood of developing X disease*. As a supervised learning technique similar to the regression exercises you performed earlier, your data is labeled and the ML algorithms use those labels to classify and predict classes (or 'features') of a dataset and assign them to a group or outcome.\n",
        "\n",
        "✅ Take a moment to imagine a dataset about cuisines. What would a multiclass model be able to answer? What would a binary model be able to answer? What if you wanted to determine whether a given cuisine was likely to use fenugreek? What if you wanted to see if, given a present of a grocery bag full of star anise, artichokes, cauliflower, and horseradish, you could create a typical Indian dish?\n",
        "\n",
        "### **Hello 'classifier'**\n",
        "\n",
        "The question we want to ask of this cuisine dataset is actually a **multiclass question**, as we have several potential national cuisines to work with. Given a batch of ingredients, which of these many classes will the data fit?\n",
        "\n",
        "Tidymodels offers several different algorithms to use to classify data, depending on the kind of problem you want to solve. In the next two lessons, you'll learn about several of these algorithms.\n",
        "\n",
        "#### **Prerequisite**\n",
        "\n",
        "For this lesson, we'll require the following packages to clean, prep and visualize our data:\n",
        "\n",
        "-   `tidyverse`: The [tidyverse](https://www.tidyverse.org/) is a [collection of R packages](https://www.tidyverse.org/packages) designed to makes data science faster, easier and more fun!\n",
        "\n",
        "-   `tidymodels`: The [tidymodels](https://www.tidymodels.org/) framework is a [collection of packages](https://www.tidymodels.org/packages/) for modeling and machine learning.\n",
        "\n",
        "-   `DataExplorer`: The [DataExplorer package](https://cran.r-project.org/web/packages/DataExplorer/vignettes/dataexplorer-intro.html) is meant to simplify and automate EDA process and report generation.\n",
        "\n",
        "-   `themis`: The [themis package](https://themis.tidymodels.org/) provides Extra Recipes Steps for Dealing with Unbalanced Data.\n",
        "\n",
        "You can have them installed as:\n",
        "\n",
        "`install.packages(c(\"tidyverse\", \"tidymodels\", \"DataExplorer\", \"here\"))`\n",
        "\n",
        "Alternately, the script below checks whether you have the packages required to complete this module and installs them for you in case they are missing."
      ]
    },
    {
      "cell_type": "code",
      "execution_count": 1,
      "metadata": {
        "id": "KIPxa4elGAPI",
        "vscode": {
          "languageId": "r"
        }
      },
      "outputs": [
        {
          "name": "stderr",
          "output_type": "stream",
          "text": [
            "Loading required package: pacman\n",
            "\n"
          ]
        }
      ],
      "source": [
        "suppressWarnings(if (!require(\"pacman\"))install.packages(\"pacman\"))\n",
        "\n",
        "pacman::p_load(tidyverse, tidymodels, DataExplorer, themis, here)"
      ]
    },
    {
      "attachments": {},
      "cell_type": "markdown",
      "metadata": {
        "id": "YkKAxOJvGD4C"
      },
      "source": [
        "We'll later load these awesome packages and make them available in our current R session. (This is for mere illustration, `pacman::p_load()` already did that for you)"
      ]
    },
    {
      "attachments": {},
      "cell_type": "markdown",
      "metadata": {
        "id": "PFkQDlk0GN5O"
      },
      "source": [
        "## Exercise - clean and balance your data\n",
        "\n",
        "The first task at hand, before starting this project, is to clean and **balance** your data to get better results\n",
        "\n",
        "Let's meet the data!🕵️"
      ]
    },
    {
      "cell_type": "code",
      "execution_count": 2,
      "metadata": {
        "id": "Qccw7okxGT0S",
        "vscode": {
          "languageId": "r"
        }
      },
      "outputs": [
        {
          "name": "stderr",
          "output_type": "stream",
          "text": [
            "\u001b[1m\u001b[22mNew names:\n",
            "\u001b[36m•\u001b[39m `` -> `...1`\n",
            "\u001b[1mRows: \u001b[22m\u001b[34m2448\u001b[39m \u001b[1mColumns: \u001b[22m\u001b[34m385\u001b[39m\n",
            "\u001b[36m──\u001b[39m \u001b[1mColumn specification\u001b[22m \u001b[36m────────────────────────────────────────────────────────\u001b[39m\n",
            "\u001b[1mDelimiter:\u001b[22m \",\"\n",
            "\u001b[31mchr\u001b[39m   (1): cuisine\n",
            "\u001b[32mdbl\u001b[39m (384): ...1, almond, angelica, anise, anise_seed, apple, apple_brandy, a...\n",
            "\n",
            "\u001b[36mℹ\u001b[39m Use `spec()` to retrieve the full column specification for this data.\n",
            "\u001b[36mℹ\u001b[39m Specify the column types or set `show_col_types = FALSE` to quiet this message.\n"
          ]
        },
        {
          "data": {
            "text/html": [
              "<table class=\"dataframe\">\n",
              "<caption>A spec_tbl_df: 5 × 385</caption>\n",
              "<thead>\n",
              "\t<tr><th scope=col>...1</th><th scope=col>cuisine</th><th scope=col>almond</th><th scope=col>angelica</th><th scope=col>anise</th><th scope=col>anise_seed</th><th scope=col>apple</th><th scope=col>apple_brandy</th><th scope=col>apricot</th><th scope=col>armagnac</th><th scope=col>⋯</th><th scope=col>whiskey</th><th scope=col>white_bread</th><th scope=col>white_wine</th><th scope=col>whole_grain_wheat_flour</th><th scope=col>wine</th><th scope=col>wood</th><th scope=col>yam</th><th scope=col>yeast</th><th scope=col>yogurt</th><th scope=col>zucchini</th></tr>\n",
              "\t<tr><th scope=col>&lt;dbl&gt;</th><th scope=col>&lt;chr&gt;</th><th scope=col>&lt;dbl&gt;</th><th scope=col>&lt;dbl&gt;</th><th scope=col>&lt;dbl&gt;</th><th scope=col>&lt;dbl&gt;</th><th scope=col>&lt;dbl&gt;</th><th scope=col>&lt;dbl&gt;</th><th scope=col>&lt;dbl&gt;</th><th scope=col>&lt;dbl&gt;</th><th scope=col>⋯</th><th scope=col>&lt;dbl&gt;</th><th scope=col>&lt;dbl&gt;</th><th scope=col>&lt;dbl&gt;</th><th scope=col>&lt;dbl&gt;</th><th scope=col>&lt;dbl&gt;</th><th scope=col>&lt;dbl&gt;</th><th scope=col>&lt;dbl&gt;</th><th scope=col>&lt;dbl&gt;</th><th scope=col>&lt;dbl&gt;</th><th scope=col>&lt;dbl&gt;</th></tr>\n",
              "</thead>\n",
              "<tbody>\n",
              "\t<tr><td>65</td><td>indian</td><td>0</td><td>0</td><td>0</td><td>0</td><td>0</td><td>0</td><td>0</td><td>0</td><td>⋯</td><td>0</td><td>0</td><td>0</td><td>0</td><td>0</td><td>0</td><td>0</td><td>0</td><td>0</td><td>0</td></tr>\n",
              "\t<tr><td>66</td><td>indian</td><td>1</td><td>0</td><td>0</td><td>0</td><td>0</td><td>0</td><td>0</td><td>0</td><td>⋯</td><td>0</td><td>0</td><td>0</td><td>0</td><td>0</td><td>0</td><td>0</td><td>0</td><td>0</td><td>0</td></tr>\n",
              "\t<tr><td>67</td><td>indian</td><td>0</td><td>0</td><td>0</td><td>0</td><td>0</td><td>0</td><td>0</td><td>0</td><td>⋯</td><td>0</td><td>0</td><td>0</td><td>0</td><td>0</td><td>0</td><td>0</td><td>0</td><td>0</td><td>0</td></tr>\n",
              "\t<tr><td>68</td><td>indian</td><td>0</td><td>0</td><td>0</td><td>0</td><td>0</td><td>0</td><td>0</td><td>0</td><td>⋯</td><td>0</td><td>0</td><td>0</td><td>0</td><td>0</td><td>0</td><td>0</td><td>0</td><td>0</td><td>0</td></tr>\n",
              "\t<tr><td>69</td><td>indian</td><td>0</td><td>0</td><td>0</td><td>0</td><td>0</td><td>0</td><td>0</td><td>0</td><td>⋯</td><td>0</td><td>0</td><td>0</td><td>0</td><td>0</td><td>0</td><td>0</td><td>0</td><td>1</td><td>0</td></tr>\n",
              "</tbody>\n",
              "</table>\n"
            ],
            "text/latex": [
              "A spec\\_tbl\\_df: 5 × 385\n",
              "\\begin{tabular}{lllllllllllllllllllll}\n",
              " ...1 & cuisine & almond & angelica & anise & anise\\_seed & apple & apple\\_brandy & apricot & armagnac & ⋯ & whiskey & white\\_bread & white\\_wine & whole\\_grain\\_wheat\\_flour & wine & wood & yam & yeast & yogurt & zucchini\\\\\n",
              " <dbl> & <chr> & <dbl> & <dbl> & <dbl> & <dbl> & <dbl> & <dbl> & <dbl> & <dbl> & ⋯ & <dbl> & <dbl> & <dbl> & <dbl> & <dbl> & <dbl> & <dbl> & <dbl> & <dbl> & <dbl>\\\\\n",
              "\\hline\n",
              "\t 65 & indian & 0 & 0 & 0 & 0 & 0 & 0 & 0 & 0 & ⋯ & 0 & 0 & 0 & 0 & 0 & 0 & 0 & 0 & 0 & 0\\\\\n",
              "\t 66 & indian & 1 & 0 & 0 & 0 & 0 & 0 & 0 & 0 & ⋯ & 0 & 0 & 0 & 0 & 0 & 0 & 0 & 0 & 0 & 0\\\\\n",
              "\t 67 & indian & 0 & 0 & 0 & 0 & 0 & 0 & 0 & 0 & ⋯ & 0 & 0 & 0 & 0 & 0 & 0 & 0 & 0 & 0 & 0\\\\\n",
              "\t 68 & indian & 0 & 0 & 0 & 0 & 0 & 0 & 0 & 0 & ⋯ & 0 & 0 & 0 & 0 & 0 & 0 & 0 & 0 & 0 & 0\\\\\n",
              "\t 69 & indian & 0 & 0 & 0 & 0 & 0 & 0 & 0 & 0 & ⋯ & 0 & 0 & 0 & 0 & 0 & 0 & 0 & 0 & 1 & 0\\\\\n",
              "\\end{tabular}\n"
            ],
            "text/markdown": [
              "\n",
              "A spec_tbl_df: 5 × 385\n",
              "\n",
              "| ...1 &lt;dbl&gt; | cuisine &lt;chr&gt; | almond &lt;dbl&gt; | angelica &lt;dbl&gt; | anise &lt;dbl&gt; | anise_seed &lt;dbl&gt; | apple &lt;dbl&gt; | apple_brandy &lt;dbl&gt; | apricot &lt;dbl&gt; | armagnac &lt;dbl&gt; | ⋯ ⋯ | whiskey &lt;dbl&gt; | white_bread &lt;dbl&gt; | white_wine &lt;dbl&gt; | whole_grain_wheat_flour &lt;dbl&gt; | wine &lt;dbl&gt; | wood &lt;dbl&gt; | yam &lt;dbl&gt; | yeast &lt;dbl&gt; | yogurt &lt;dbl&gt; | zucchini &lt;dbl&gt; |\n",
              "|---|---|---|---|---|---|---|---|---|---|---|---|---|---|---|---|---|---|---|---|---|\n",
              "| 65 | indian | 0 | 0 | 0 | 0 | 0 | 0 | 0 | 0 | ⋯ | 0 | 0 | 0 | 0 | 0 | 0 | 0 | 0 | 0 | 0 |\n",
              "| 66 | indian | 1 | 0 | 0 | 0 | 0 | 0 | 0 | 0 | ⋯ | 0 | 0 | 0 | 0 | 0 | 0 | 0 | 0 | 0 | 0 |\n",
              "| 67 | indian | 0 | 0 | 0 | 0 | 0 | 0 | 0 | 0 | ⋯ | 0 | 0 | 0 | 0 | 0 | 0 | 0 | 0 | 0 | 0 |\n",
              "| 68 | indian | 0 | 0 | 0 | 0 | 0 | 0 | 0 | 0 | ⋯ | 0 | 0 | 0 | 0 | 0 | 0 | 0 | 0 | 0 | 0 |\n",
              "| 69 | indian | 0 | 0 | 0 | 0 | 0 | 0 | 0 | 0 | ⋯ | 0 | 0 | 0 | 0 | 0 | 0 | 0 | 0 | 1 | 0 |\n",
              "\n"
            ],
            "text/plain": [
              "  ...1 cuisine almond angelica anise anise_seed apple apple_brandy apricot\n",
              "1 65   indian  0      0        0     0          0     0            0      \n",
              "2 66   indian  1      0        0     0          0     0            0      \n",
              "3 67   indian  0      0        0     0          0     0            0      \n",
              "4 68   indian  0      0        0     0          0     0            0      \n",
              "5 69   indian  0      0        0     0          0     0            0      \n",
              "  armagnac ⋯ whiskey white_bread white_wine whole_grain_wheat_flour wine wood\n",
              "1 0        ⋯ 0       0           0          0                       0    0   \n",
              "2 0        ⋯ 0       0           0          0                       0    0   \n",
              "3 0        ⋯ 0       0           0          0                       0    0   \n",
              "4 0        ⋯ 0       0           0          0                       0    0   \n",
              "5 0        ⋯ 0       0           0          0                       0    0   \n",
              "  yam yeast yogurt zucchini\n",
              "1 0   0     0      0       \n",
              "2 0   0     0      0       \n",
              "3 0   0     0      0       \n",
              "4 0   0     0      0       \n",
              "5 0   0     1      0       "
            ]
          },
          "metadata": {},
          "output_type": "display_data"
        }
      ],
      "source": [
        "# Import data\n",
        "df <- read_csv(file = \"https://raw.githubusercontent.com/microsoft/ML-For-Beginners/main/4-Classification/data/cuisines.csv\")\n",
        "\n",
        "# View the first 5 rows\n",
        "df %>% \n",
        "  slice_head(n = 5)\n"
      ]
    },
    {
      "attachments": {},
      "cell_type": "markdown",
      "metadata": {
        "id": "XrWnlgSrGVmR"
      },
      "source": [
        "Interesting! From the looks of it, the first column is a kind of `id` column. Let's get a little more information about the data."
      ]
    },
    {
      "cell_type": "code",
      "execution_count": 3,
      "metadata": {
        "id": "4UcGmxRxGieA",
        "vscode": {
          "languageId": "r"
        }
      },
      "outputs": [
        {
          "data": {
            "text/html": [
              "<table class=\"dataframe\">\n",
              "<caption>A spec_tbl_df: 1 × 9</caption>\n",
              "<thead>\n",
              "\t<tr><th scope=col>rows</th><th scope=col>columns</th><th scope=col>discrete_columns</th><th scope=col>continuous_columns</th><th scope=col>all_missing_columns</th><th scope=col>total_missing_values</th><th scope=col>complete_rows</th><th scope=col>total_observations</th><th scope=col>memory_usage</th></tr>\n",
              "\t<tr><th scope=col>&lt;int&gt;</th><th scope=col>&lt;int&gt;</th><th scope=col>&lt;int&gt;</th><th scope=col>&lt;int&gt;</th><th scope=col>&lt;int&gt;</th><th scope=col>&lt;int&gt;</th><th scope=col>&lt;int&gt;</th><th scope=col>&lt;int&gt;</th><th scope=col>&lt;dbl&gt;</th></tr>\n",
              "</thead>\n",
              "<tbody>\n",
              "\t<tr><td>2448</td><td>385</td><td>1</td><td>384</td><td>0</td><td>0</td><td>2448</td><td>942480</td><td>7615584</td></tr>\n",
              "</tbody>\n",
              "</table>\n"
            ],
            "text/latex": [
              "A spec\\_tbl\\_df: 1 × 9\n",
              "\\begin{tabular}{lllllllll}\n",
              " rows & columns & discrete\\_columns & continuous\\_columns & all\\_missing\\_columns & total\\_missing\\_values & complete\\_rows & total\\_observations & memory\\_usage\\\\\n",
              " <int> & <int> & <int> & <int> & <int> & <int> & <int> & <int> & <dbl>\\\\\n",
              "\\hline\n",
              "\t 2448 & 385 & 1 & 384 & 0 & 0 & 2448 & 942480 & 7615584\\\\\n",
              "\\end{tabular}\n"
            ],
            "text/markdown": [
              "\n",
              "A spec_tbl_df: 1 × 9\n",
              "\n",
              "| rows &lt;int&gt; | columns &lt;int&gt; | discrete_columns &lt;int&gt; | continuous_columns &lt;int&gt; | all_missing_columns &lt;int&gt; | total_missing_values &lt;int&gt; | complete_rows &lt;int&gt; | total_observations &lt;int&gt; | memory_usage &lt;dbl&gt; |\n",
              "|---|---|---|---|---|---|---|---|---|\n",
              "| 2448 | 385 | 1 | 384 | 0 | 0 | 2448 | 942480 | 7615584 |\n",
              "\n"
            ],
            "text/plain": [
              "  rows columns discrete_columns continuous_columns all_missing_columns\n",
              "1 2448 385     1                384                0                  \n",
              "  total_missing_values complete_rows total_observations memory_usage\n",
              "1 0                    2448          942480             7615584     "
            ]
          },
          "metadata": {},
          "output_type": "display_data"
        },
        {
          "data": {
            "image/png": "[encoded data removed]",
            "text/plain": [
              "plot without title"
            ]
          },
          "metadata": {
            "image/png": {
              "height": 420,
              "width": 420
            }
          },
          "output_type": "display_data"
        }
      ],
      "source": [
        "# Basic information about the data\n",
        "df %>%\n",
        "  introduce()\n",
        "\n",
        "# Visualize basic information above\n",
        "df %>% \n",
        "  plot_intro(ggtheme = theme_light())"
      ]
    },
    {
      "attachments": {},
      "cell_type": "markdown",
      "metadata": {
        "id": "AaPubl__GmH5"
      },
      "source": [
        "From the output, we can immediately see that we have `2448` rows and `385` columns and `0` missing values. We also have 1 discrete column, *cuisine*.\n",
        "\n",
        "## Exercise - learning about cuisines\n",
        "\n",
        "Now the work starts to become more interesting. Let's discover the distribution of data, per cuisine."
      ]
    },
    {
      "cell_type": "code",
      "execution_count": 4,
      "metadata": {
        "id": "FRsBVy5eGrrv",
        "vscode": {
          "languageId": "r"
        }
      },
      "outputs": [
        {
          "data": {
            "text/html": [
              "<table class=\"dataframe\">\n",
              "<caption>A spec_tbl_df: 5 × 2</caption>\n",
              "<thead>\n",
              "\t<tr><th scope=col>cuisine</th><th scope=col>n</th></tr>\n",
              "\t<tr><th scope=col>&lt;chr&gt;</th><th scope=col>&lt;int&gt;</th></tr>\n",
              "</thead>\n",
              "<tbody>\n",
              "\t<tr><td>thai    </td><td>289</td></tr>\n",
              "\t<tr><td>japanese</td><td>320</td></tr>\n",
              "\t<tr><td>chinese </td><td>442</td></tr>\n",
              "\t<tr><td>indian  </td><td>598</td></tr>\n",
              "\t<tr><td>korean  </td><td>799</td></tr>\n",
              "</tbody>\n",
              "</table>\n"
            ],
            "text/latex": [
              "A spec\\_tbl\\_df: 5 × 2\n",
              "\\begin{tabular}{ll}\n",
              " cuisine & n\\\\\n",
              " <chr> & <int>\\\\\n",
              "\\hline\n",
              "\t thai     & 289\\\\\n",
              "\t japanese & 320\\\\\n",
              "\t chinese  & 442\\\\\n",
              "\t indian   & 598\\\\\n",
              "\t korean   & 799\\\\\n",
              "\\end{tabular}\n"
            ],
            "text/markdown": [
              "\n",
              "A spec_tbl_df: 5 × 2\n",
              "\n",
              "| cuisine &lt;chr&gt; | n &lt;int&gt; |\n",
              "|---|---|\n",
              "| thai     | 289 |\n",
              "| japanese | 320 |\n",
              "| chinese  | 442 |\n",
              "| indian   | 598 |\n",
              "| korean   | 799 |\n",
              "\n"
            ],
            "text/plain": [
              "  cuisine  n  \n",
              "1 thai     289\n",
              "2 japanese 320\n",
              "3 chinese  442\n",
              "4 indian   598\n",
              "5 korean   799"
            ]
          },
          "metadata": {},
          "output_type": "display_data"
        },
        {
          "data": {
            "image/png": "[encoded data removed]",
            "text/plain": [
              "plot without title"
            ]
          },
          "metadata": {
            "image/png": {
              "height": 420,
              "width": 420
            }
          },
          "output_type": "display_data"
        }
      ],
      "source": [
        "# Count observations per cuisine\n",
        "df %>% \n",
        "  count(cuisine) %>% \n",
        "  arrange(n)\n",
        "\n",
        "# Plot the distribution\n",
        "theme_set(theme_light())\n",
        "df %>% \n",
        "  count(cuisine) %>% \n",
        "  ggplot(mapping = aes(x = n, y = reorder(cuisine, -n))) +\n",
        "  geom_col(fill = \"midnightblue\", alpha = 0.7) +\n",
        "  ylab(\"cuisine\")"
      ]
    },
    {
      "attachments": {},
      "cell_type": "markdown",
      "metadata": {
        "id": "vVvyDb1kG2in"
      },
      "source": [
        "There are a finite number of cuisines, but the distribution of data is uneven. You can fix that! Before doing so, explore a little more.\n",
        "\n",
        "Next, let's assign each cuisine into its individual tibble and find out how much data is available (rows, columns) per cuisine.\n",
        "\n",
        "> A [tibble](https://tibble.tidyverse.org/) is a modern data frame.\n",
        "\n"
      ]
    },
    {
      "cell_type": "code",
      "execution_count": 5,
      "metadata": {
        "id": "0TvXUxD3G8Bk",
        "vscode": {
          "languageId": "r"
        }
      },
      "outputs": [
        {
          "name": "stdout",
          "output_type": "stream",
          "text": [
            " thai df: 289 385 \n",
            " japanese df: 320 385 \n",
            " chinese_df: 442 385 \n",
            " indian_df: 598 385 \n",
            " korean_df: 799 385"
          ]
        }
      ],
      "source": [
        "# Create individual tibble for the cuisines\n",
        "thai_df <- df %>% \n",
        "  filter(cuisine == \"thai\")\n",
        "japanese_df <- df %>% \n",
        "  filter(cuisine == \"japanese\")\n",
        "chinese_df <- df %>% \n",
        "  filter(cuisine == \"chinese\")\n",
        "indian_df <- df %>% \n",
        "  filter(cuisine == \"indian\")\n",
        "korean_df <- df %>% \n",
        "  filter(cuisine == \"korean\")\n",
        "\n",
        "\n",
        "# Find out how much data is available per cuisine\n",
        "cat(\" thai df:\", dim(thai_df), \"\\n\",\n",
        "    \"japanese df:\", dim(japanese_df), \"\\n\",\n",
        "    \"chinese_df:\", dim(chinese_df), \"\\n\",\n",
        "    \"indian_df:\", dim(indian_df), \"\\n\",\n",
        "    \"korean_df:\", dim(korean_df))"
      ]
    },
    {
      "attachments": {},
      "cell_type": "markdown",
      "metadata": {
        "id": "K3RF5bSCHC76"
      },
      "source": [
        "Perfect!😋\n",
        "\n",
        "## **Exercise - Discovering top ingredients by cuisine using dplyr**\n",
        "\n",
        "Now you can dig deeper into the data and learn what are the typical ingredients per cuisine. You should clean out recurrent data that creates confusion between cuisines, so let's learn about this problem.\n",
        "\n",
        "\n",
        "Create a function `create_ingredient()` in R that returns an ingredient dataframe. This function will start by dropping an unhelpful column and sort through ingredients by their count.\n",
        "\n",
        "The basic structure of a function in R is:\n",
        "\n",
        "`myFunction <- function(arglist){`\n",
        "\n",
        "**`...`**\n",
        "\n",
        "**`return`**`(value)`\n",
        "\n",
        "`}`\n",
        "\n",
        "A tidy introduction to R functions can be found [here](https://skirmer.github.io/presentations/functions_with_r.html#1).\n",
        "\n",
        "Let's get right into it! We'll make use of [dplyr verbs](https://dplyr.tidyverse.org/) which we have been learning in our previous lessons. As a recap:\n",
        "\n",
        "-   `dplyr::select()`: help you pick which **columns** to keep or exclude.\n",
        "\n",
        "-   `dplyr::pivot_longer()`: helps you to \"lengthen\" data, increasing the number of rows and decreasing the number of columns.\n",
        "\n",
        "-   `dplyr::group_by()` and `dplyr::summarise()`: helps you to find find summary statistics for different groups, and put them in a nice table.\n",
        "\n",
        "-   `dplyr::filter()`: creates a subset of the data only containing rows that satisfy your conditions.\n",
        "\n",
        "-   `dplyr::mutate()`: helps you to create or modify columns.\n",
        "\n",
        "Check out this [*art*-filled learnr tutorial](https://allisonhorst.shinyapps.io/dplyr-learnr/#section-welcome) by Allison Horst, that introduces some useful data wrangling functions in dplyr *(part of the Tidyverse)*"
      ]
    },
    {
      "cell_type": "code",
      "execution_count": 6,
      "metadata": {
        "id": "uB_0JR82HTPa",
        "vscode": {
          "languageId": "r"
        }
      },
      "outputs": [],
      "source": [
        "# Creates a functions that returns the top ingredients by class\n",
        "\n",
        "create_ingredient <- function(df){\n",
        "  \n",
        "  # Drop the id column which is the first colum\n",
        "  ingredient_df = df %>% select(-1) %>% \n",
        "  # Transpose data to a long format\n",
        "    pivot_longer(!cuisine, names_to = \"ingredients\", values_to = \"count\") %>% \n",
        "  # Find the top most ingredients for a particular cuisine\n",
        "    group_by(ingredients) %>% \n",
        "    summarise(n_instances = sum(count)) %>% \n",
        "    filter(n_instances != 0) %>% \n",
        "  # Arrange by descending order\n",
        "    arrange(desc(n_instances)) %>% \n",
        "    mutate(ingredients = factor(ingredients) %>% fct_inorder())\n",
        "  \n",
        "  \n",
        "  return(ingredient_df)\n",
        "} # End of function"
      ]
    },
    {
      "attachments": {},
      "cell_type": "markdown",
      "metadata": {
        "id": "h9794WF8HWmc"
      },
      "source": [
        "Now we can use the function to get an idea of top ten most popular ingredient by cuisine. Let's take it out for a spin with `thai_df`\n"
      ]
    },
    {
      "cell_type": "code",
      "execution_count": 7,
      "metadata": {
        "id": "agQ-1HrcHaEA",
        "vscode": {
          "languageId": "r"
        }
      },
      "outputs": [
        {
          "data": {
            "text/html": [
              "<table class=\"dataframe\">\n",
              "<caption>A tibble: 10 × 2</caption>\n",
              "<thead>\n",
              "\t<tr><th scope=col>ingredients</th><th scope=col>n_instances</th></tr>\n",
              "\t<tr><th scope=col>&lt;fct&gt;</th><th scope=col>&lt;dbl&gt;</th></tr>\n",
              "</thead>\n",
              "<tbody>\n",
              "\t<tr><td>garlic       </td><td>173</td></tr>\n",
              "\t<tr><td>fish         </td><td>153</td></tr>\n",
              "\t<tr><td>cayenne      </td><td>136</td></tr>\n",
              "\t<tr><td>cilantro     </td><td>121</td></tr>\n",
              "\t<tr><td>ginger       </td><td>114</td></tr>\n",
              "\t<tr><td>coconut      </td><td>111</td></tr>\n",
              "\t<tr><td>vegetable_oil</td><td>106</td></tr>\n",
              "\t<tr><td>coriander    </td><td>105</td></tr>\n",
              "\t<tr><td>rice         </td><td>102</td></tr>\n",
              "\t<tr><td>chicken      </td><td> 97</td></tr>\n",
              "</tbody>\n",
              "</table>\n"
            ],
            "text/latex": [
              "A tibble: 10 × 2\n",
              "\\begin{tabular}{ll}\n",
              " ingredients & n\\_instances\\\\\n",
              " <fct> & <dbl>\\\\\n",
              "\\hline\n",
              "\t garlic        & 173\\\\\n",
              "\t fish          & 153\\\\\n",
              "\t cayenne       & 136\\\\\n",
              "\t cilantro      & 121\\\\\n",
              "\t ginger        & 114\\\\\n",
              "\t coconut       & 111\\\\\n",
              "\t vegetable\\_oil & 106\\\\\n",
              "\t coriander     & 105\\\\\n",
              "\t rice          & 102\\\\\n",
              "\t chicken       &  97\\\\\n",
              "\\end{tabular}\n"
            ],
            "text/markdown": [
              "\n",
              "A tibble: 10 × 2\n",
              "\n",
              "| ingredients &lt;fct&gt; | n_instances &lt;dbl&gt; |\n",
              "|---|---|\n",
              "| garlic        | 173 |\n",
              "| fish          | 153 |\n",
              "| cayenne       | 136 |\n",
              "| cilantro      | 121 |\n",
              "| ginger        | 114 |\n",
              "| coconut       | 111 |\n",
              "| vegetable_oil | 106 |\n",
              "| coriander     | 105 |\n",
              "| rice          | 102 |\n",
              "| chicken       |  97 |\n",
              "\n"
            ],
            "text/plain": [
              "   ingredients   n_instances\n",
              "1  garlic        173        \n",
              "2  fish          153        \n",
              "3  cayenne       136        \n",
              "4  cilantro      121        \n",
              "5  ginger        114        \n",
              "6  coconut       111        \n",
              "7  vegetable_oil 106        \n",
              "8  coriander     105        \n",
              "9  rice          102        \n",
              "10 chicken        97        "
            ]
          },
          "metadata": {},
          "output_type": "display_data"
        }
      ],
      "source": [
        "# Call create_ingredient and display popular ingredients\n",
        "thai_ingredient_df <- create_ingredient(df = thai_df)\n",
        "\n",
        "thai_ingredient_df %>% \n",
        "  slice_head(n = 10)"
      ]
    },
    {
      "attachments": {},
      "cell_type": "markdown",
      "metadata": {
        "id": "kHu9ffGjHdcX"
      },
      "source": [
        "In the previous section, we used `geom_col()`, let's see how you can use `geom_bar` too, to create bar charts. Use `?geom_bar` for further reading."
      ]
    },
    {
      "cell_type": "code",
      "execution_count": 8,
      "metadata": {
        "id": "fb3Bx_3DHj6e",
        "vscode": {
          "languageId": "r"
        }
      },
      "outputs": [
        {
          "data": {
            "image/png": "[encoded data removed]",
            "text/plain": [
              "plot without title"
            ]
          },
          "metadata": {
            "image/png": {
              "height": 420,
              "width": 420
            }
          },
          "output_type": "display_data"
        }
      ],
      "source": [
        "# Make a bar chart for popular thai cuisines\n",
        "thai_ingredient_df %>% \n",
        "  slice_head(n = 10) %>% \n",
        "  ggplot(aes(x = n_instances, y = ingredients)) +\n",
        "  geom_bar(stat = \"identity\", width = 0.5, fill = \"steelblue\") +\n",
        "  xlab(\"\") + ylab(\"\")"
      ]
    },
    {
      "attachments": {},
      "cell_type": "markdown",
      "metadata": {
        "id": "RHP_xgdkHnvM"
      },
      "source": [
        "Let's do the same for the Japanese data"
      ]
    },
    {
      "cell_type": "code",
      "execution_count": 9,
      "metadata": {
        "id": "019v8F0XHrRU",
        "vscode": {
          "languageId": "r"
        }
      },
      "outputs": [
        {
          "data": {
            "image/png": "[encoded data removed]",
            "text/plain": [
              "plot without title"
            ]
          },
          "metadata": {
            "image/png": {
              "height": 420,
              "width": 420
            }
          },
          "output_type": "display_data"
        }
      ],
      "source": [
        "# Get popular ingredients for Japanese cuisines and make bar chart\n",
        "create_ingredient(df = japanese_df) %>% \n",
        "  slice_head(n = 10) %>%\n",
        "  ggplot(aes(x = n_instances, y = ingredients)) +\n",
        "  geom_bar(stat = \"identity\", width = 0.5, fill = \"darkorange\", alpha = 0.8) +\n",
        "  xlab(\"\") + ylab(\"\")\n"
      ]
    },
    {
      "attachments": {},
      "cell_type": "markdown",
      "metadata": {
        "id": "iIGM7vO8Hu3v"
      },
      "source": [
        "What about the Chinese cuisines?\n"
      ]
    },
    {
      "cell_type": "code",
      "execution_count": 10,
      "metadata": {
        "id": "lHd9_gd2HyzU",
        "vscode": {
          "languageId": "r"
        }
      },
      "outputs": [
        {
          "data": {
            "image/png": "[encoded data removed]",
            "text/plain": [
              "plot without title"
            ]
          },
          "metadata": {
            "image/png": {
              "height": 420,
              "width": 420
            }
          },
          "output_type": "display_data"
        }
      ],
      "source": [
        "# Get popular ingredients for Chinese cuisines and make bar chart\n",
        "create_ingredient(df = chinese_df) %>% \n",
        "  slice_head(n = 10) %>%\n",
        "  ggplot(aes(x = n_instances, y = ingredients)) +\n",
        "  geom_bar(stat = \"identity\", width = 0.5, fill = \"cyan4\", alpha = 0.8) +\n",
        "  xlab(\"\") + ylab(\"\")"
      ]
    },
    {
      "attachments": {},
      "cell_type": "markdown",
      "metadata": {
        "id": "ir8qyQbNH1c7"
      },
      "source": [
        "Let's take a look at the Indian cuisines 🌶️."
      ]
    },
    {
      "cell_type": "code",
      "execution_count": 11,
      "metadata": {
        "id": "ApukQtKjH5FO",
        "vscode": {
          "languageId": "r"
        }
      },
      "outputs": [
        {
          "data": {
            "image/png": "[encoded data removed]",
            "text/plain": [
              "plot without title"
            ]
          },
          "metadata": {
            "image/png": {
              "height": 420,
              "width": 420
            }
          },
          "output_type": "display_data"
        }
      ],
      "source": [
        "# Get popular ingredients for Indian cuisines and make bar chart\n",
        "create_ingredient(df = indian_df) %>% \n",
        "  slice_head(n = 10) %>%\n",
        "  ggplot(aes(x = n_instances, y = ingredients)) +\n",
        "  geom_bar(stat = \"identity\", width = 0.5, fill = \"#041E42FF\", alpha = 0.8) +\n",
        "  xlab(\"\") + ylab(\"\")"
      ]
    },
    {
      "attachments": {},
      "cell_type": "markdown",
      "metadata": {
        "id": "qv30cwY1H-FM"
      },
      "source": [
        "Finally, plot the Korean ingredients."
      ]
    },
    {
      "cell_type": "code",
      "execution_count": 12,
      "metadata": {
        "id": "lumgk9cHIBie",
        "vscode": {
          "languageId": "r"
        }
      },
      "outputs": [
        {
          "data": {
            "image/png": "[encoded data removed]",
            "text/plain": [
              "plot without title"
            ]
          },
          "metadata": {
            "image/png": {
              "height": 420,
              "width": 420
            }
          },
          "output_type": "display_data"
        }
      ],
      "source": [
        "# Get popular ingredients for Korean cuisines and make bar chart\n",
        "create_ingredient(df = korean_df) %>% \n",
        "  slice_head(n = 10) %>%\n",
        "  ggplot(aes(x = n_instances, y = ingredients)) +\n",
        "  geom_bar(stat = \"identity\", width = 0.5, fill = \"#852419FF\", alpha = 0.8) +\n",
        "  xlab(\"\") + ylab(\"\")"
      ]
    },
    {
      "attachments": {},
      "cell_type": "markdown",
      "metadata": {
        "id": "iO4veMXuIEta"
      },
      "source": [
        "From the data visualizations, we can now drop the most common ingredients that create confusion between distinct cuisines, using `dplyr::select()`.\n",
        "\n",
        "Everyone loves rice, garlic and ginger!"
      ]
    },
    {
      "cell_type": "code",
      "execution_count": 13,
      "metadata": {
        "id": "iHJPiG6rIUcK",
        "vscode": {
          "languageId": "r"
        }
      },
      "outputs": [
        {
          "data": {
            "text/html": [
              "<table class=\"dataframe\">\n",
              "<caption>A tibble: 5 × 381</caption>\n",
              "<thead>\n",
              "\t<tr><th scope=col>cuisine</th><th scope=col>almond</th><th scope=col>angelica</th><th scope=col>anise</th><th scope=col>anise_seed</th><th scope=col>apple</th><th scope=col>apple_brandy</th><th scope=col>apricot</th><th scope=col>armagnac</th><th scope=col>artemisia</th><th scope=col>⋯</th><th scope=col>whiskey</th><th scope=col>white_bread</th><th scope=col>white_wine</th><th scope=col>whole_grain_wheat_flour</th><th scope=col>wine</th><th scope=col>wood</th><th scope=col>yam</th><th scope=col>yeast</th><th scope=col>yogurt</th><th scope=col>zucchini</th></tr>\n",
              "\t<tr><th scope=col>&lt;chr&gt;</th><th scope=col>&lt;dbl&gt;</th><th scope=col>&lt;dbl&gt;</th><th scope=col>&lt;dbl&gt;</th><th scope=col>&lt;dbl&gt;</th><th scope=col>&lt;dbl&gt;</th><th scope=col>&lt;dbl&gt;</th><th scope=col>&lt;dbl&gt;</th><th scope=col>&lt;dbl&gt;</th><th scope=col>&lt;dbl&gt;</th><th scope=col>⋯</th><th scope=col>&lt;dbl&gt;</th><th scope=col>&lt;dbl&gt;</th><th scope=col>&lt;dbl&gt;</th><th scope=col>&lt;dbl&gt;</th><th scope=col>&lt;dbl&gt;</th><th scope=col>&lt;dbl&gt;</th><th scope=col>&lt;dbl&gt;</th><th scope=col>&lt;dbl&gt;</th><th scope=col>&lt;dbl&gt;</th><th scope=col>&lt;dbl&gt;</th></tr>\n",
              "</thead>\n",
              "<tbody>\n",
              "\t<tr><td>indian</td><td>0</td><td>0</td><td>0</td><td>0</td><td>0</td><td>0</td><td>0</td><td>0</td><td>0</td><td>⋯</td><td>0</td><td>0</td><td>0</td><td>0</td><td>0</td><td>0</td><td>0</td><td>0</td><td>0</td><td>0</td></tr>\n",
              "\t<tr><td>indian</td><td>1</td><td>0</td><td>0</td><td>0</td><td>0</td><td>0</td><td>0</td><td>0</td><td>0</td><td>⋯</td><td>0</td><td>0</td><td>0</td><td>0</td><td>0</td><td>0</td><td>0</td><td>0</td><td>0</td><td>0</td></tr>\n",
              "\t<tr><td>indian</td><td>0</td><td>0</td><td>0</td><td>0</td><td>0</td><td>0</td><td>0</td><td>0</td><td>0</td><td>⋯</td><td>0</td><td>0</td><td>0</td><td>0</td><td>0</td><td>0</td><td>0</td><td>0</td><td>0</td><td>0</td></tr>\n",
              "\t<tr><td>indian</td><td>0</td><td>0</td><td>0</td><td>0</td><td>0</td><td>0</td><td>0</td><td>0</td><td>0</td><td>⋯</td><td>0</td><td>0</td><td>0</td><td>0</td><td>0</td><td>0</td><td>0</td><td>0</td><td>0</td><td>0</td></tr>\n",
              "\t<tr><td>indian</td><td>0</td><td>0</td><td>0</td><td>0</td><td>0</td><td>0</td><td>0</td><td>0</td><td>0</td><td>⋯</td><td>0</td><td>0</td><td>0</td><td>0</td><td>0</td><td>0</td><td>0</td><td>0</td><td>1</td><td>0</td></tr>\n",
              "</tbody>\n",
              "</table>\n"
            ],
            "text/latex": [
              "A tibble: 5 × 381\n",
              "\\begin{tabular}{lllllllllllllllllllll}\n",
              " cuisine & almond & angelica & anise & anise\\_seed & apple & apple\\_brandy & apricot & armagnac & artemisia & ⋯ & whiskey & white\\_bread & white\\_wine & whole\\_grain\\_wheat\\_flour & wine & wood & yam & yeast & yogurt & zucchini\\\\\n",
              " <chr> & <dbl> & <dbl> & <dbl> & <dbl> & <dbl> & <dbl> & <dbl> & <dbl> & <dbl> & ⋯ & <dbl> & <dbl> & <dbl> & <dbl> & <dbl> & <dbl> & <dbl> & <dbl> & <dbl> & <dbl>\\\\\n",
              "\\hline\n",
              "\t indian & 0 & 0 & 0 & 0 & 0 & 0 & 0 & 0 & 0 & ⋯ & 0 & 0 & 0 & 0 & 0 & 0 & 0 & 0 & 0 & 0\\\\\n",
              "\t indian & 1 & 0 & 0 & 0 & 0 & 0 & 0 & 0 & 0 & ⋯ & 0 & 0 & 0 & 0 & 0 & 0 & 0 & 0 & 0 & 0\\\\\n",
              "\t indian & 0 & 0 & 0 & 0 & 0 & 0 & 0 & 0 & 0 & ⋯ & 0 & 0 & 0 & 0 & 0 & 0 & 0 & 0 & 0 & 0\\\\\n",
              "\t indian & 0 & 0 & 0 & 0 & 0 & 0 & 0 & 0 & 0 & ⋯ & 0 & 0 & 0 & 0 & 0 & 0 & 0 & 0 & 0 & 0\\\\\n",
              "\t indian & 0 & 0 & 0 & 0 & 0 & 0 & 0 & 0 & 0 & ⋯ & 0 & 0 & 0 & 0 & 0 & 0 & 0 & 0 & 1 & 0\\\\\n",
              "\\end{tabular}\n"
            ],
            "text/markdown": [
              "\n",
              "A tibble: 5 × 381\n",
              "\n",
              "| cuisine &lt;chr&gt; | almond &lt;dbl&gt; | angelica &lt;dbl&gt; | anise &lt;dbl&gt; | anise_seed &lt;dbl&gt; | apple &lt;dbl&gt; | apple_brandy &lt;dbl&gt; | apricot &lt;dbl&gt; | armagnac &lt;dbl&gt; | artemisia &lt;dbl&gt; | ⋯ ⋯ | whiskey &lt;dbl&gt; | white_bread &lt;dbl&gt; | white_wine &lt;dbl&gt; | whole_grain_wheat_flour &lt;dbl&gt; | wine &lt;dbl&gt; | wood &lt;dbl&gt; | yam &lt;dbl&gt; | yeast &lt;dbl&gt; | yogurt &lt;dbl&gt; | zucchini &lt;dbl&gt; |\n",
              "|---|---|---|---|---|---|---|---|---|---|---|---|---|---|---|---|---|---|---|---|---|\n",
              "| indian | 0 | 0 | 0 | 0 | 0 | 0 | 0 | 0 | 0 | ⋯ | 0 | 0 | 0 | 0 | 0 | 0 | 0 | 0 | 0 | 0 |\n",
              "| indian | 1 | 0 | 0 | 0 | 0 | 0 | 0 | 0 | 0 | ⋯ | 0 | 0 | 0 | 0 | 0 | 0 | 0 | 0 | 0 | 0 |\n",
              "| indian | 0 | 0 | 0 | 0 | 0 | 0 | 0 | 0 | 0 | ⋯ | 0 | 0 | 0 | 0 | 0 | 0 | 0 | 0 | 0 | 0 |\n",
              "| indian | 0 | 0 | 0 | 0 | 0 | 0 | 0 | 0 | 0 | ⋯ | 0 | 0 | 0 | 0 | 0 | 0 | 0 | 0 | 0 | 0 |\n",
              "| indian | 0 | 0 | 0 | 0 | 0 | 0 | 0 | 0 | 0 | ⋯ | 0 | 0 | 0 | 0 | 0 | 0 | 0 | 0 | 1 | 0 |\n",
              "\n"
            ],
            "text/plain": [
              "  cuisine almond angelica anise anise_seed apple apple_brandy apricot armagnac\n",
              "1 indian  0      0        0     0          0     0            0       0       \n",
              "2 indian  1      0        0     0          0     0            0       0       \n",
              "3 indian  0      0        0     0          0     0            0       0       \n",
              "4 indian  0      0        0     0          0     0            0       0       \n",
              "5 indian  0      0        0     0          0     0            0       0       \n",
              "  artemisia ⋯ whiskey white_bread white_wine whole_grain_wheat_flour wine wood\n",
              "1 0         ⋯ 0       0           0          0                       0    0   \n",
              "2 0         ⋯ 0       0           0          0                       0    0   \n",
              "3 0         ⋯ 0       0           0          0                       0    0   \n",
              "4 0         ⋯ 0       0           0          0                       0    0   \n",
              "5 0         ⋯ 0       0           0          0                       0    0   \n",
              "  yam yeast yogurt zucchini\n",
              "1 0   0     0      0       \n",
              "2 0   0     0      0       \n",
              "3 0   0     0      0       \n",
              "4 0   0     0      0       \n",
              "5 0   0     1      0       "
            ]
          },
          "metadata": {},
          "output_type": "display_data"
        }
      ],
      "source": [
        "# Drop id column, rice, garlic and ginger from our original data set\n",
        "df_select <- df %>% \n",
        "  select(-c(1, rice, garlic, ginger))\n",
        "\n",
        "# Display new data set\n",
        "df_select %>% \n",
        "  slice_head(n = 5)"
      ]
    },
    {
      "attachments": {},
      "cell_type": "markdown",
      "metadata": {
        "id": "kkFd-JxdIaL6"
      },
      "source": [
        "## Preprocessing data using recipes 👩‍🍳👨‍🍳 - Dealing with imbalanced data ⚖️\n",
        "\n",
        "<p >\n",
        "   <img src=\"../../images/recipes.png\"\n",
        "   width=\"600\"/>\n",
        "   <figcaption>Artwork by @allison_horst</figcaption>\n",
        "\n",
        "Given that this lesson is about cuisines, we have to put `recipes` into context .\n",
        "\n",
        "Tidymodels provides yet another neat package: `recipes`- a package for preprocessing data.\n"
      ]
    },
    {
      "attachments": {},
      "cell_type": "markdown",
      "metadata": {
        "id": "6l2ubtTPJAhY"
      },
      "source": [
        "Let's take a look at the distribution of our cuisines again.\n"
      ]
    },
    {
      "cell_type": "code",
      "execution_count": 14,
      "metadata": {
        "id": "1e-E9cb7JDVi",
        "vscode": {
          "languageId": "r"
        }
      },
      "outputs": [
        {
          "data": {
            "text/html": [
              "<table class=\"dataframe\">\n",
              "<caption>A tibble: 5 × 2</caption>\n",
              "<thead>\n",
              "\t<tr><th scope=col>cuisine</th><th scope=col>n</th></tr>\n",
              "\t<tr><th scope=col>&lt;chr&gt;</th><th scope=col>&lt;int&gt;</th></tr>\n",
              "</thead>\n",
              "<tbody>\n",
              "\t<tr><td>korean  </td><td>799</td></tr>\n",
              "\t<tr><td>indian  </td><td>598</td></tr>\n",
              "\t<tr><td>chinese </td><td>442</td></tr>\n",
              "\t<tr><td>japanese</td><td>320</td></tr>\n",
              "\t<tr><td>thai    </td><td>289</td></tr>\n",
              "</tbody>\n",
              "</table>\n"
            ],
            "text/latex": [
              "A tibble: 5 × 2\n",
              "\\begin{tabular}{ll}\n",
              " cuisine & n\\\\\n",
              " <chr> & <int>\\\\\n",
              "\\hline\n",
              "\t korean   & 799\\\\\n",
              "\t indian   & 598\\\\\n",
              "\t chinese  & 442\\\\\n",
              "\t japanese & 320\\\\\n",
              "\t thai     & 289\\\\\n",
              "\\end{tabular}\n"
            ],
            "text/markdown": [
              "\n",
              "A tibble: 5 × 2\n",
              "\n",
              "| cuisine &lt;chr&gt; | n &lt;int&gt; |\n",
              "|---|---|\n",
              "| korean   | 799 |\n",
              "| indian   | 598 |\n",
              "| chinese  | 442 |\n",
              "| japanese | 320 |\n",
              "| thai     | 289 |\n",
              "\n"
            ],
            "text/plain": [
              "  cuisine  n  \n",
              "1 korean   799\n",
              "2 indian   598\n",
              "3 chinese  442\n",
              "4 japanese 320\n",
              "5 thai     289"
            ]
          },
          "metadata": {},
          "output_type": "display_data"
        }
      ],
      "source": [
        "# Distribution of cuisines\n",
        "old_label_count <- df_select %>% \n",
        "  count(cuisine) %>% \n",
        "  arrange(desc(n))\n",
        "\n",
        "old_label_count"
      ]
    },
    {
      "attachments": {},
      "cell_type": "markdown",
      "metadata": {
        "id": "soAw6826JKx9"
      },
      "source": [
        "\n",
        "As you can see, there is quite an unequal distribution in the number of cuisines. Korean cuisines are almost 3 times Thai cuisines. Imbalanced data often has negative effects on the model performance. Think about a binary classification. If most of your data is one class, a ML model is going to predict that class more frequently, just because there is more data for it. Balancing the data takes any skewed data and helps remove this imbalance. Many models perform best when the number of observations is equal and, thus, tend to struggle with unbalanced data.\n",
        "\n",
        "There are majorly two ways of dealing with imbalanced data sets:\n",
        "\n",
        "-   adding observations to the minority class: `Over-sampling` e.g using a SMOTE algorithm\n",
        "\n",
        "-   removing observations from majority class: `Under-sampling`\n",
        "\n",
        "Let's now demonstrate how to deal with imbalanced data sets using a `recipe`. A recipe can be thought of as a blueprint that describes what steps should be applied to a data set in order to get it ready for data analysis."
      ]
    },
    {
      "cell_type": "code",
      "execution_count": 15,
      "metadata": {
        "id": "HS41brUIJVJy",
        "vscode": {
          "languageId": "r"
        }
      },
      "outputs": [
        {
          "data": {
            "text/plain": [
              "Recipe\n",
              "\n",
              "Inputs:\n",
              "\n",
              "      role #variables\n",
              "   outcome          1\n",
              " predictor        380\n",
              "\n",
              "Operations:\n",
              "\n",
              "SMOTE based on cuisine"
            ]
          },
          "metadata": {},
          "output_type": "display_data"
        }
      ],
      "source": [
        "# Load themis package for dealing with imbalanced data\n",
        "library(themis)\n",
        "\n",
        "# Create a recipe for preprocessing data\n",
        "cuisines_recipe <- recipe(cuisine ~ ., data = df_select) %>% \n",
        "  step_smote(cuisine)\n",
        "\n",
        "cuisines_recipe"
      ]
    },
    {
      "attachments": {},
      "cell_type": "markdown",
      "metadata": {
        "id": "Yb-7t7XcJaC8"
      },
      "source": [
        "Let's break down our preprocessing steps.\n",
        "\n",
        "-   The call to `recipe()` with a formula tells the recipe the *roles* of the variables using `df_select` data as the reference. For instance the `cuisine` column has been assigned an `outcome` role while the rest of the columns have been assigned a `predictor` role.\n",
        "\n",
        "-   [`step_smote(cuisine)`](https://themis.tidymodels.org/reference/step_smote.html) creates a *specification* of a recipe step that synthetically generates new examples of the minority class using nearest neighbors of these cases.\n",
        "\n",
        "Now, if we wanted to see the preprocessed data, we'd have to [**`prep()`**](https://recipes.tidymodels.org/reference/prep.html) and [**`bake()`**](https://recipes.tidymodels.org/reference/bake.html) our recipe.\n",
        "\n",
        "`prep()`: estimates the required parameters from a training set that can be later applied to other data sets.\n",
        "\n",
        "`bake()`: takes a prepped recipe and applies the operations to any data set.\n"
      ]
    },
    {
      "cell_type": "code",
      "execution_count": 16,
      "metadata": {
        "id": "9QhSgdpxJl44",
        "vscode": {
          "languageId": "r"
        }
      },
      "outputs": [
        {
          "data": {
            "text/html": [
              "<table class=\"dataframe\">\n",
              "<caption>A tibble: 5 × 381</caption>\n",
              "<thead>\n",
              "\t<tr><th scope=col>cuisine</th><th scope=col>almond</th><th scope=col>angelica</th><th scope=col>anise</th><th scope=col>anise_seed</th><th scope=col>apple</th><th scope=col>apple_brandy</th><th scope=col>apricot</th><th scope=col>armagnac</th><th scope=col>artemisia</th><th scope=col>⋯</th><th scope=col>whiskey</th><th scope=col>white_bread</th><th scope=col>white_wine</th><th scope=col>whole_grain_wheat_flour</th><th scope=col>wine</th><th scope=col>wood</th><th scope=col>yam</th><th scope=col>yeast</th><th scope=col>yogurt</th><th scope=col>zucchini</th></tr>\n",
              "\t<tr><th scope=col>&lt;fct&gt;</th><th scope=col>&lt;dbl&gt;</th><th scope=col>&lt;dbl&gt;</th><th scope=col>&lt;dbl&gt;</th><th scope=col>&lt;dbl&gt;</th><th scope=col>&lt;dbl&gt;</th><th scope=col>&lt;dbl&gt;</th><th scope=col>&lt;dbl&gt;</th><th scope=col>&lt;dbl&gt;</th><th scope=col>&lt;dbl&gt;</th><th scope=col>⋯</th><th scope=col>&lt;dbl&gt;</th><th scope=col>&lt;dbl&gt;</th><th scope=col>&lt;dbl&gt;</th><th scope=col>&lt;dbl&gt;</th><th scope=col>&lt;dbl&gt;</th><th scope=col>&lt;dbl&gt;</th><th scope=col>&lt;dbl&gt;</th><th scope=col>&lt;dbl&gt;</th><th scope=col>&lt;dbl&gt;</th><th scope=col>&lt;dbl&gt;</th></tr>\n",
              "</thead>\n",
              "<tbody>\n",
              "\t<tr><td>indian</td><td>0</td><td>0</td><td>0</td><td>0</td><td>0</td><td>0</td><td>0</td><td>0</td><td>0</td><td>⋯</td><td>0</td><td>0</td><td>0</td><td>0</td><td>0</td><td>0</td><td>0</td><td>0</td><td>0</td><td>0</td></tr>\n",
              "\t<tr><td>indian</td><td>1</td><td>0</td><td>0</td><td>0</td><td>0</td><td>0</td><td>0</td><td>0</td><td>0</td><td>⋯</td><td>0</td><td>0</td><td>0</td><td>0</td><td>0</td><td>0</td><td>0</td><td>0</td><td>0</td><td>0</td></tr>\n",
              "\t<tr><td>indian</td><td>0</td><td>0</td><td>0</td><td>0</td><td>0</td><td>0</td><td>0</td><td>0</td><td>0</td><td>⋯</td><td>0</td><td>0</td><td>0</td><td>0</td><td>0</td><td>0</td><td>0</td><td>0</td><td>0</td><td>0</td></tr>\n",
              "\t<tr><td>indian</td><td>0</td><td>0</td><td>0</td><td>0</td><td>0</td><td>0</td><td>0</td><td>0</td><td>0</td><td>⋯</td><td>0</td><td>0</td><td>0</td><td>0</td><td>0</td><td>0</td><td>0</td><td>0</td><td>0</td><td>0</td></tr>\n",
              "\t<tr><td>indian</td><td>0</td><td>0</td><td>0</td><td>0</td><td>0</td><td>0</td><td>0</td><td>0</td><td>0</td><td>⋯</td><td>0</td><td>0</td><td>0</td><td>0</td><td>0</td><td>0</td><td>0</td><td>0</td><td>1</td><td>0</td></tr>\n",
              "</tbody>\n",
              "</table>\n"
            ],
            "text/latex": [
              "A tibble: 5 × 381\n",
              "\\begin{tabular}{lllllllllllllllllllll}\n",
              " cuisine & almond & angelica & anise & anise\\_seed & apple & apple\\_brandy & apricot & armagnac & artemisia & ⋯ & whiskey & white\\_bread & white\\_wine & whole\\_grain\\_wheat\\_flour & wine & wood & yam & yeast & yogurt & zucchini\\\\\n",
              " <fct> & <dbl> & <dbl> & <dbl> & <dbl> & <dbl> & <dbl> & <dbl> & <dbl> & <dbl> & ⋯ & <dbl> & <dbl> & <dbl> & <dbl> & <dbl> & <dbl> & <dbl> & <dbl> & <dbl> & <dbl>\\\\\n",
              "\\hline\n",
              "\t indian & 0 & 0 & 0 & 0 & 0 & 0 & 0 & 0 & 0 & ⋯ & 0 & 0 & 0 & 0 & 0 & 0 & 0 & 0 & 0 & 0\\\\\n",
              "\t indian & 1 & 0 & 0 & 0 & 0 & 0 & 0 & 0 & 0 & ⋯ & 0 & 0 & 0 & 0 & 0 & 0 & 0 & 0 & 0 & 0\\\\\n",
              "\t indian & 0 & 0 & 0 & 0 & 0 & 0 & 0 & 0 & 0 & ⋯ & 0 & 0 & 0 & 0 & 0 & 0 & 0 & 0 & 0 & 0\\\\\n",
              "\t indian & 0 & 0 & 0 & 0 & 0 & 0 & 0 & 0 & 0 & ⋯ & 0 & 0 & 0 & 0 & 0 & 0 & 0 & 0 & 0 & 0\\\\\n",
              "\t indian & 0 & 0 & 0 & 0 & 0 & 0 & 0 & 0 & 0 & ⋯ & 0 & 0 & 0 & 0 & 0 & 0 & 0 & 0 & 1 & 0\\\\\n",
              "\\end{tabular}\n"
            ],
            "text/markdown": [
              "\n",
              "A tibble: 5 × 381\n",
              "\n",
              "| cuisine &lt;fct&gt; | almond &lt;dbl&gt; | angelica &lt;dbl&gt; | anise &lt;dbl&gt; | anise_seed &lt;dbl&gt; | apple &lt;dbl&gt; | apple_brandy &lt;dbl&gt; | apricot &lt;dbl&gt; | armagnac &lt;dbl&gt; | artemisia &lt;dbl&gt; | ⋯ ⋯ | whiskey &lt;dbl&gt; | white_bread &lt;dbl&gt; | white_wine &lt;dbl&gt; | whole_grain_wheat_flour &lt;dbl&gt; | wine &lt;dbl&gt; | wood &lt;dbl&gt; | yam &lt;dbl&gt; | yeast &lt;dbl&gt; | yogurt &lt;dbl&gt; | zucchini &lt;dbl&gt; |\n",
              "|---|---|---|---|---|---|---|---|---|---|---|---|---|---|---|---|---|---|---|---|---|\n",
              "| indian | 0 | 0 | 0 | 0 | 0 | 0 | 0 | 0 | 0 | ⋯ | 0 | 0 | 0 | 0 | 0 | 0 | 0 | 0 | 0 | 0 |\n",
              "| indian | 1 | 0 | 0 | 0 | 0 | 0 | 0 | 0 | 0 | ⋯ | 0 | 0 | 0 | 0 | 0 | 0 | 0 | 0 | 0 | 0 |\n",
              "| indian | 0 | 0 | 0 | 0 | 0 | 0 | 0 | 0 | 0 | ⋯ | 0 | 0 | 0 | 0 | 0 | 0 | 0 | 0 | 0 | 0 |\n",
              "| indian | 0 | 0 | 0 | 0 | 0 | 0 | 0 | 0 | 0 | ⋯ | 0 | 0 | 0 | 0 | 0 | 0 | 0 | 0 | 0 | 0 |\n",
              "| indian | 0 | 0 | 0 | 0 | 0 | 0 | 0 | 0 | 0 | ⋯ | 0 | 0 | 0 | 0 | 0 | 0 | 0 | 0 | 1 | 0 |\n",
              "\n"
            ],
            "text/plain": [
              "  cuisine almond angelica anise anise_seed apple apple_brandy apricot armagnac\n",
              "1 indian  0      0        0     0          0     0            0       0       \n",
              "2 indian  1      0        0     0          0     0            0       0       \n",
              "3 indian  0      0        0     0          0     0            0       0       \n",
              "4 indian  0      0        0     0          0     0            0       0       \n",
              "5 indian  0      0        0     0          0     0            0       0       \n",
              "  artemisia ⋯ whiskey white_bread white_wine whole_grain_wheat_flour wine wood\n",
              "1 0         ⋯ 0       0           0          0                       0    0   \n",
              "2 0         ⋯ 0       0           0          0                       0    0   \n",
              "3 0         ⋯ 0       0           0          0                       0    0   \n",
              "4 0         ⋯ 0       0           0          0                       0    0   \n",
              "5 0         ⋯ 0       0           0          0                       0    0   \n",
              "  yam yeast yogurt zucchini\n",
              "1 0   0     0      0       \n",
              "2 0   0     0      0       \n",
              "3 0   0     0      0       \n",
              "4 0   0     0      0       \n",
              "5 0   0     1      0       "
            ]
          },
          "metadata": {},
          "output_type": "display_data"
        },
        {
          "data": {
            "text/html": [
              "<table class=\"dataframe\">\n",
              "<caption>A tibble: 1 × 9</caption>\n",
              "<thead>\n",
              "\t<tr><th scope=col>rows</th><th scope=col>columns</th><th scope=col>discrete_columns</th><th scope=col>continuous_columns</th><th scope=col>all_missing_columns</th><th scope=col>total_missing_values</th><th scope=col>complete_rows</th><th scope=col>total_observations</th><th scope=col>memory_usage</th></tr>\n",
              "\t<tr><th scope=col>&lt;int&gt;</th><th scope=col>&lt;int&gt;</th><th scope=col>&lt;int&gt;</th><th scope=col>&lt;int&gt;</th><th scope=col>&lt;int&gt;</th><th scope=col>&lt;int&gt;</th><th scope=col>&lt;int&gt;</th><th scope=col>&lt;int&gt;</th><th scope=col>&lt;dbl&gt;</th></tr>\n",
              "</thead>\n",
              "<tbody>\n",
              "\t<tr><td>3995</td><td>381</td><td>1</td><td>380</td><td>0</td><td>0</td><td>3995</td><td>1522095</td><td>12236224</td></tr>\n",
              "</tbody>\n",
              "</table>\n"
            ],
            "text/latex": [
              "A tibble: 1 × 9\n",
              "\\begin{tabular}{lllllllll}\n",
              " rows & columns & discrete\\_columns & continuous\\_columns & all\\_missing\\_columns & total\\_missing\\_values & complete\\_rows & total\\_observations & memory\\_usage\\\\\n",
              " <int> & <int> & <int> & <int> & <int> & <int> & <int> & <int> & <dbl>\\\\\n",
              "\\hline\n",
              "\t 3995 & 381 & 1 & 380 & 0 & 0 & 3995 & 1522095 & 12236224\\\\\n",
              "\\end{tabular}\n"
            ],
            "text/markdown": [
              "\n",
              "A tibble: 1 × 9\n",
              "\n",
              "| rows &lt;int&gt; | columns &lt;int&gt; | discrete_columns &lt;int&gt; | continuous_columns &lt;int&gt; | all_missing_columns &lt;int&gt; | total_missing_values &lt;int&gt; | complete_rows &lt;int&gt; | total_observations &lt;int&gt; | memory_usage &lt;dbl&gt; |\n",
              "|---|---|---|---|---|---|---|---|---|\n",
              "| 3995 | 381 | 1 | 380 | 0 | 0 | 3995 | 1522095 | 12236224 |\n",
              "\n"
            ],
            "text/plain": [
              "  rows columns discrete_columns continuous_columns all_missing_columns\n",
              "1 3995 381     1                380                0                  \n",
              "  total_missing_values complete_rows total_observations memory_usage\n",
              "1 0                    3995          1522095            12236224    "
            ]
          },
          "metadata": {},
          "output_type": "display_data"
        }
      ],
      "source": [
        "# Prep and bake the recipe\n",
        "preprocessed_df <- cuisines_recipe %>% \n",
        "  prep() %>% \n",
        "  bake(new_data = NULL) %>% \n",
        "  relocate(cuisine)\n",
        "\n",
        "# Display data\n",
        "preprocessed_df %>% \n",
        "  slice_head(n = 5)\n",
        "\n",
        "# Quick summary stats\n",
        "preprocessed_df %>% \n",
        "  introduce()"
      ]
    },
    {
      "attachments": {},
      "cell_type": "markdown",
      "metadata": {
        "id": "dmidELh_LdV7"
      },
      "source": [
        "Let's now check the distribution of our cuisines and compare them with the imbalanced data."
      ]
    },
    {
      "cell_type": "code",
      "execution_count": 17,
      "metadata": {
        "id": "aSh23klBLwDz",
        "vscode": {
          "languageId": "r"
        }
      },
      "outputs": [
        {
          "data": {
            "text/html": [
              "<dl>\n",
              "\t<dt>$new_label_count</dt>\n",
              "\t\t<dd><table class=\"dataframe\">\n",
              "<caption>A tibble: 5 × 2</caption>\n",
              "<thead>\n",
              "\t<tr><th scope=col>cuisine</th><th scope=col>n</th></tr>\n",
              "\t<tr><th scope=col>&lt;fct&gt;</th><th scope=col>&lt;int&gt;</th></tr>\n",
              "</thead>\n",
              "<tbody>\n",
              "\t<tr><td>chinese </td><td>799</td></tr>\n",
              "\t<tr><td>indian  </td><td>799</td></tr>\n",
              "\t<tr><td>japanese</td><td>799</td></tr>\n",
              "\t<tr><td>korean  </td><td>799</td></tr>\n",
              "\t<tr><td>thai    </td><td>799</td></tr>\n",
              "</tbody>\n",
              "</table>\n",
              "</dd>\n",
              "\t<dt>$old_label_count</dt>\n",
              "\t\t<dd><table class=\"dataframe\">\n",
              "<caption>A tibble: 5 × 2</caption>\n",
              "<thead>\n",
              "\t<tr><th scope=col>cuisine</th><th scope=col>n</th></tr>\n",
              "\t<tr><th scope=col>&lt;chr&gt;</th><th scope=col>&lt;int&gt;</th></tr>\n",
              "</thead>\n",
              "<tbody>\n",
              "\t<tr><td>korean  </td><td>799</td></tr>\n",
              "\t<tr><td>indian  </td><td>598</td></tr>\n",
              "\t<tr><td>chinese </td><td>442</td></tr>\n",
              "\t<tr><td>japanese</td><td>320</td></tr>\n",
              "\t<tr><td>thai    </td><td>289</td></tr>\n",
              "</tbody>\n",
              "</table>\n",
              "</dd>\n",
              "</dl>\n"
            ],
            "text/latex": [
              "\\begin{description}\n",
              "\\item[\\$new\\_label\\_count] A tibble: 5 × 2\n",
              "\\begin{tabular}{ll}\n",
              " cuisine & n\\\\\n",
              " <fct> & <int>\\\\\n",
              "\\hline\n",
              "\t chinese  & 799\\\\\n",
              "\t indian   & 799\\\\\n",
              "\t japanese & 799\\\\\n",
              "\t korean   & 799\\\\\n",
              "\t thai     & 799\\\\\n",
              "\\end{tabular}\n",
              "\n",
              "\\item[\\$old\\_label\\_count] A tibble: 5 × 2\n",
              "\\begin{tabular}{ll}\n",
              " cuisine & n\\\\\n",
              " <chr> & <int>\\\\\n",
              "\\hline\n",
              "\t korean   & 799\\\\\n",
              "\t indian   & 598\\\\\n",
              "\t chinese  & 442\\\\\n",
              "\t japanese & 320\\\\\n",
              "\t thai     & 289\\\\\n",
              "\\end{tabular}\n",
              "\n",
              "\\end{description}\n"
            ],
            "text/markdown": [
              "$new_label_count\n",
              ":   \n",
              "A tibble: 5 × 2\n",
              "\n",
              "| cuisine &lt;fct&gt; | n &lt;int&gt; |\n",
              "|---|---|\n",
              "| chinese  | 799 |\n",
              "| indian   | 799 |\n",
              "| japanese | 799 |\n",
              "| korean   | 799 |\n",
              "| thai     | 799 |\n",
              "\n",
              "\n",
              "$old_label_count\n",
              ":   \n",
              "A tibble: 5 × 2\n",
              "\n",
              "| cuisine &lt;chr&gt; | n &lt;int&gt; |\n",
              "|---|---|\n",
              "| korean   | 799 |\n",
              "| indian   | 598 |\n",
              "| chinese  | 442 |\n",
              "| japanese | 320 |\n",
              "| thai     | 289 |\n",
              "\n",
              "\n",
              "\n",
              "\n"
            ],
            "text/plain": [
              "$new_label_count\n",
              "\u001b[90m# A tibble: 5 × 2\u001b[39m\n",
              "  cuisine      n\n",
              "  \u001b[3m\u001b[90m<fct>\u001b[39m\u001b[23m    \u001b[3m\u001b[90m<int>\u001b[39m\u001b[23m\n",
              "\u001b[90m1\u001b[39m chinese    799\n",
              "\u001b[90m2\u001b[39m indian     799\n",
              "\u001b[90m3\u001b[39m japanese   799\n",
              "\u001b[90m4\u001b[39m korean     799\n",
              "\u001b[90m5\u001b[39m thai       799\n",
              "\n",
              "$old_label_count\n",
              "\u001b[90m# A tibble: 5 × 2\u001b[39m\n",
              "  cuisine      n\n",
              "  \u001b[3m\u001b[90m<chr>\u001b[39m\u001b[23m    \u001b[3m\u001b[90m<int>\u001b[39m\u001b[23m\n",
              "\u001b[90m1\u001b[39m korean     799\n",
              "\u001b[90m2\u001b[39m indian     598\n",
              "\u001b[90m3\u001b[39m chinese    442\n",
              "\u001b[90m4\u001b[39m japanese   320\n",
              "\u001b[90m5\u001b[39m thai       289\n"
            ]
          },
          "metadata": {},
          "output_type": "display_data"
        }
      ],
      "source": [
        "# Distribution of cuisines\n",
        "new_label_count <- preprocessed_df %>% \n",
        "  count(cuisine) %>% \n",
        "  arrange(desc(n))\n",
        "\n",
        "list(new_label_count = new_label_count,\n",
        "     old_label_count = old_label_count)"
      ]
    },
    {
      "attachments": {},
      "cell_type": "markdown",
      "metadata": {
        "id": "HEu80HZ8L7ae"
      },
      "source": [
        "Yum! The data is nice and clean, balanced, and very delicious 😋!\n",
        "\n",
        "> Normally, a recipe is usually used as a preprocessor for modelling where it defines what steps should be applied to a data set in order to get it ready for modelling. In that case, a `workflow()` is typically used (as we have already seen in our previous lessons) instead of manually estimating a recipe\n",
        ">\n",
        "> As such, you don't typically need to **`prep()`** and **`bake()`** recipes when you use tidymodels, but they are helpful functions to have in your toolkit for confirming that recipes are doing what you expect like in our case.\n",
        ">\n",
        "> When you **`bake()`** a prepped recipe with **`new_data = NULL`**, you get the data that you provided when defining the recipe back, but having undergone the preprocessing steps.\n",
        "\n",
        "Let's now save a copy of this data for use in future lessons:\n"
      ]
    },
    {
      "cell_type": "code",
      "execution_count": 18,
      "metadata": {
        "id": "cBmCbIgrMOI6",
        "vscode": {
          "languageId": "r"
        }
      },
      "outputs": [],
      "source": [
        "# Save preprocessed data\n",
        "write_csv(preprocessed_df, \"cleaned_cuisines_R.csv\")"
      ]
    },
    {
      "attachments": {},
      "cell_type": "markdown",
      "metadata": {
        "id": "WQs5621pMGwf"
      },
      "source": [
        "This fresh CSV can now be found in the root data folder.\n",
        "\n",
        "**🚀Challenge**\n",
        "\n",
        "This curriculum contains several interesting datasets. Dig through the `data` folders and see if any contain datasets that would be appropriate for binary or multi-class classification? What questions would you ask of this dataset?\n",
        "\n",
        "## [**Post-lecture quiz**](https://gray-sand-07a10f403.1.azurestaticapps.net/quiz/20/)\n",
        "\n",
        "## **Review & Self Study**\n",
        "\n",
        "-   Check out [package themis](https://github.com/tidymodels/themis). What other techniques could we use to deal with imbalanced data?\n",
        "\n",
        "-   Tidy models [reference website](https://www.tidymodels.org/start/).\n",
        "\n",
        "-   H. Wickham and G. Grolemund, [*R for Data Science: Visualize, Model, Transform, Tidy, and Import Data*](https://r4ds.had.co.nz/).\n",
        "\n",
        "#### THANK YOU TO:\n",
        "\n",
        "[`Allison Horst`](https://twitter.com/allison_horst/) for creating the amazing illustrations that make R more welcoming and engaging. Find more illustrations at her [gallery](https://www.google.com/url?q=https://github.com/allisonhorst/stats-illustrations&sa=D&source=editors&ust=1626380772530000&usg=AOvVaw3zcfyCizFQZpkSLzxiiQEM).\n",
        "\n",
        "[Cassie Breviu](https://www.twitter.com/cassieview) and [Jen Looper](https://www.twitter.com/jenlooper) for creating the original Python version of this module ♥️\n",
        "\n",
        "<p >\n",
        "   <img src=\"../../images/r_learners_sm.jpeg\"\n",
        "   width=\"600\"/>\n",
        "   <figcaption>Artwork by @allison_horst</figcaption>\n"
      ]
    }
  ],
  "metadata": {
    "colab": {
      "collapsed_sections": [],
      "name": "lesson_10-R.ipynb",
      "provenance": []
    },
    "kernelspec": {
      "display_name": "R",
      "language": "R",
      "name": "ir"
    },
    "language_info": {
      "codemirror_mode": "r",
      "file_extension": ".r",
      "mimetype": "text/x-r-source",
      "name": "R",
      "pygments_lexer": "r",
      "version": "4.0.4"
    }
  },
  "nbformat": 4,
  "nbformat_minor": 2
}
